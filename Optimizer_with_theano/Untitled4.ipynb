{
 "cells": [
  {
   "cell_type": "code",
   "execution_count": 1,
   "metadata": {},
   "outputs": [
    {
     "name": "stderr",
     "output_type": "stream",
     "text": [
      "WARNING (theano.sandbox.cuda): The cuda backend is deprecated and will be removed in the next release (v0.10).  Please switch to the gpuarray backend. You can get more information about how to switch at this URL:\n",
      " https://github.com/Theano/Theano/wiki/Converting-to-the-new-gpu-back-end%28gpuarray%29\n",
      "\n",
      "Using gpu device 0: TITAN X (Pascal) (CNMeM is disabled, cuDNN 5110)\n"
     ]
    }
   ],
   "source": [
    "import theano as th\n",
    "from numpy import *"
   ]
  },
  {
   "cell_type": "code",
   "execution_count": 45,
   "metadata": {},
   "outputs": [],
   "source": [
    "x = th.tensor.dmatrix(\"x\")\n",
    "y = th.tensor.dmatrix(\"y\")\n",
    "a = array([1,1,1], dtype=th.config.floatX)\n",
    "k = th.shared(a, borrow=True)\n",
    "l = th.shared(array([1,1,1], dtype=th.config.floatX))\n",
    "m = th.shared(array([1,1,1], dtype=th.config.floatX))"
   ]
  },
  {
   "cell_type": "code",
   "execution_count": 47,
   "metadata": {},
   "outputs": [],
   "source": [
    "out = x ** 2 + k\n",
    "out += l\n",
    "out += m"
   ]
  },
  {
   "cell_type": "code",
   "execution_count": 53,
   "metadata": {},
   "outputs": [],
   "source": [
    "f = th.function(inputs=[],\n",
    "                outputs=out,\n",
    "                updates=[(k, k + 1),(l, l + 1),(m, m + 1)],\n",
    "                givens=[(x, ones((3,3)))]\n",
    "                )"
   ]
  },
  {
   "cell_type": "code",
   "execution_count": 54,
   "metadata": {},
   "outputs": [
    {
     "data": {
      "text/plain": [
       "array([[ 7.,  7.,  7.],\n",
       "       [ 7.,  7.,  7.],\n",
       "       [ 7.,  7.,  7.]])"
      ]
     },
     "execution_count": 54,
     "metadata": {},
     "output_type": "execute_result"
    }
   ],
   "source": [
    "f()"
   ]
  },
  {
   "cell_type": "code",
   "execution_count": 55,
   "metadata": {},
   "outputs": [
    {
     "name": "stdout",
     "output_type": "stream",
     "text": [
      "b'CudaNdarray([ 3.  3.  3.])'\n",
      "b'CudaNdarray([ 3.  3.  3.])'\n",
      "b'CudaNdarray([ 3.  3.  3.])'\n"
     ]
    }
   ],
   "source": [
    "print(k.eval())\n",
    "print(l.eval())\n",
    "print(m.eval())"
   ]
  },
  {
   "cell_type": "code",
   "execution_count": 51,
   "metadata": {
    "collapsed": true
   },
   "outputs": [],
   "source": [
    "a[0] = 50"
   ]
  },
  {
   "cell_type": "code",
   "execution_count": null,
   "metadata": {
    "collapsed": true
   },
   "outputs": [],
   "source": []
  }
 ],
 "metadata": {
  "kernelspec": {
   "display_name": "Python 3",
   "language": "python",
   "name": "python3"
  },
  "language_info": {
   "codemirror_mode": {
    "name": "ipython",
    "version": 3
   },
   "file_extension": ".py",
   "mimetype": "text/x-python",
   "name": "python",
   "nbconvert_exporter": "python",
   "pygments_lexer": "ipython3",
   "version": "3.5.2"
  }
 },
 "nbformat": 4,
 "nbformat_minor": 2
}
