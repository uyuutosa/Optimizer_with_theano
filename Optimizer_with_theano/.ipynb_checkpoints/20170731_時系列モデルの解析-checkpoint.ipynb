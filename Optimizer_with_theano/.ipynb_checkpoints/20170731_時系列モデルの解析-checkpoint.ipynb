{
 "cells": [
  {
   "cell_type": "markdown",
   "metadata": {},
   "source": [
    "モジュールのインポート "
   ]
  },
  {
   "cell_type": "code",
   "execution_count": 7,
   "metadata": {},
   "outputs": [
    {
     "ename": "SystemError",
     "evalue": "Parent module '' not loaded, cannot perform relative import",
     "output_type": "error",
     "traceback": [
      "\u001b[0;31m---------------------------------------------------------------------------\u001b[0m",
      "\u001b[0;31mSystemError\u001b[0m                               Traceback (most recent call last)",
      "\u001b[0;32m<ipython-input-7-f27f08b73b30>\u001b[0m in \u001b[0;36m<module>\u001b[0;34m()\u001b[0m\n\u001b[1;32m      1\u001b[0m \u001b[0;32mfrom\u001b[0m \u001b[0mnumpy\u001b[0m \u001b[0;32mimport\u001b[0m \u001b[0;34m*\u001b[0m\u001b[0;34m\u001b[0m\u001b[0m\n\u001b[1;32m      2\u001b[0m \u001b[0;32mfrom\u001b[0m \u001b[0mpylab\u001b[0m \u001b[0;32mimport\u001b[0m \u001b[0;34m*\u001b[0m\u001b[0;34m\u001b[0m\u001b[0m\n\u001b[0;32m----> 3\u001b[0;31m \u001b[0;32mimport\u001b[0m \u001b[0mOptimizer\u001b[0m \u001b[0;32mas\u001b[0m \u001b[0mop\u001b[0m\u001b[0;34m\u001b[0m\u001b[0m\n\u001b[0m\u001b[1;32m      4\u001b[0m \u001b[0mget_ipython\u001b[0m\u001b[0;34m(\u001b[0m\u001b[0;34m)\u001b[0m\u001b[0;34m.\u001b[0m\u001b[0mmagic\u001b[0m\u001b[0;34m(\u001b[0m\u001b[0;34m'matplotlib inline'\u001b[0m\u001b[0;34m)\u001b[0m\u001b[0;34m\u001b[0m\u001b[0m\n",
      "\u001b[0;32m/home/yu/jupyter/Optimizer_with_theano/Optimizer_with_theano/Optimizer.py\u001b[0m in \u001b[0;36m<module>\u001b[0;34m()\u001b[0m\n\u001b[1;32m     20\u001b[0m \u001b[0msys\u001b[0m\u001b[0;34m.\u001b[0m\u001b[0msetrecursionlimit\u001b[0m\u001b[0;34m(\u001b[0m\u001b[0;36m10000\u001b[0m\u001b[0;34m)\u001b[0m\u001b[0;34m\u001b[0m\u001b[0m\n\u001b[1;32m     21\u001b[0m \u001b[0;34m\u001b[0m\u001b[0m\n\u001b[0;32m---> 22\u001b[0;31m \u001b[0;32mfrom\u001b[0m \u001b[0;34m.\u001b[0m\u001b[0mInput\u001b[0m \u001b[0;32mimport\u001b[0m \u001b[0mInput_layer\u001b[0m\u001b[0;34m\u001b[0m\u001b[0m\n\u001b[0m\u001b[1;32m     23\u001b[0m \u001b[0;32mfrom\u001b[0m \u001b[0;34m.\u001b[0m\u001b[0mDense\u001b[0m \u001b[0;32mimport\u001b[0m \u001b[0mDense_layer\u001b[0m\u001b[0;34m\u001b[0m\u001b[0m\n\u001b[1;32m     24\u001b[0m \u001b[0;32mfrom\u001b[0m \u001b[0;34m.\u001b[0m\u001b[0mConv\u001b[0m \u001b[0;32mimport\u001b[0m \u001b[0mConv2D_layer\u001b[0m\u001b[0;34m\u001b[0m\u001b[0m\n",
      "\u001b[0;31mSystemError\u001b[0m: Parent module '' not loaded, cannot perform relative import"
     ]
    }
   ],
   "source": [
    "from numpy import *\n",
    "from pylab import *\n",
    "import Optimizer as op \n",
    "%matplotlib inline"
   ]
  },
  {
   "cell_type": "markdown",
   "metadata": {},
   "source": [
    "yの時系列データをシーケンシャルに10個から、1時刻あとのデータ予測する学習器をつくる"
   ]
  },
  {
   "cell_type": "markdown",
   "metadata": {},
   "source": [
    "# データの生成"
   ]
  },
  {
   "cell_type": "code",
   "execution_count": 4,
   "metadata": {},
   "outputs": [],
   "source": [
    "def gen_dataset(v, length):\n",
    "    v = v.flatten()\n",
    "    idx = arange(v.size)\n",
    "    idx = idx[:, None] + arange(length+1)\n",
    "    idx = idx[:-length]\n",
    "    xidx = idx[:, :-1]\n",
    "    yidx = idx[:, -1]\n",
    "    x_idx_f = xidx.flatten()\n",
    "    y_idx_f = yidx.flatten()\n",
    "    x = v[x_idx_f].reshape(-1, 1, 1, length)\n",
    "    y = v[y_idx_f][:, None]\n",
    "    return x, y, xidx, yidx\n",
    "\n",
    "#v = zeros(1000)\n",
    "#for i in range(10000):\n",
    "#    v += sin(pi * arange(1000) / randint(10, 1000) + randint(0, 1000)) * arange(1000)[::-1]\n",
    "v = sin(pi * arange(10000) / arange(1,10001)[::-1]*10) * arange(10000)[::-1]# + random(v.size) * arange(1000)[::-1] * 1\n",
    "#v = v[:-1000]\n",
    "#v = sin(pi * arange(1000) / 30) * arange(1000)# + random(v.size) * arange(1000)[::-1] * 1\n",
    "x, y, xidx, yidx = gen_dataset(v, 10)"
   ]
  },
  {
   "cell_type": "code",
   "execution_count": 5,
   "metadata": {
    "scrolled": true
   },
   "outputs": [
    {
     "data": {
      "text/plain": [
       "<matplotlib.legend.Legend at 0x7fc3a72a2b70>"
      ]
     },
     "execution_count": 5,
     "metadata": {},
     "output_type": "execute_result"
    }
   ],
   "source": [
    "#plot(xidx.flatten(),x.flatten())\n",
    "plot(arange(v.size),v)\n",
    "plot(yidx.flatten(),y.flatten())\n",
    "#xlim(0,100)\n",
    "xlabel(\"x\")\n",
    "ylabel(\"y\")\n",
    "legend([\"data\", \"labels\"])"
   ]
  },
  {
   "cell_type": "markdown",
   "metadata": {},
   "source": [
    "データ及びラベルの形は以下の通りである。"
   ]
  },
  {
   "cell_type": "code",
   "execution_count": 291,
   "metadata": {},
   "outputs": [
    {
     "name": "stdout",
     "output_type": "stream",
     "text": [
      "Shape of x = (8990, 1, 1, 10)\n",
      "Shape of y = (8990, 1)\n"
     ]
    }
   ],
   "source": [
    "print(\"Shape of x = {}\".format(x.shape))\n",
    "print(\"Shape of y = {}\".format(y.shape))"
   ]
  },
  {
   "cell_type": "markdown",
   "metadata": {},
   "source": [
    "# 学習"
   ]
  },
  {
   "cell_type": "markdown",
   "metadata": {},
   "source": [
    "## UCNNの構築"
   ]
  },
  {
   "cell_type": "markdown",
   "metadata": {},
   "source": [
    "theanoは1次元の畳込みが無いので、2次元畳込みを用いる "
   ]
  },
  {
   "cell_type": "code",
   "execution_count": 292,
   "metadata": {
    "scrolled": true
   },
   "outputs": [
    {
     "name": "stdout",
     "output_type": "stream",
     "text": [
      "(1, 1, 1)\n"
     ]
    }
   ],
   "source": [
    "\n",
    "o = op.optimizer(n_batch=100)\n",
    "o.set_data(x, y, test_size=0., is_shuffle=False)\n",
    "o.set_variables()\n",
    "o1 =  o.conv2d((1, 1, 1, 5), mode=\"same\").relu()\n",
    "o2 = o1.conv2d((1, 1, 1, 5), mode=\"same\").relu()\n",
    "o3 = o2.conv2d((1, 1, 1, 5), mode=\"same\").relu()\n",
    "o4 = o3.conv2d((1, 1, 1, 5), mode=\"same\").relu()\n",
    "o5 = o4.conv2d((1, 1, 1, 5), mode=\"same\").relu() + o2 #前段の畳込み層をマージ\n",
    "o6 = o5.conv2d((1, 1, 1, 5), mode=\"same\").relu() + o1 #前段の畳込み層をマージ\n",
    "o7 = o6.conv2d((1, 1, 1, 5), mode=\"same\").relu()\n",
    "o8 = o7.conv2d((1, 1, 1, 10), mode=\"valid\")\n",
    "o9 = o8.flatten()\n",
    "o = o9.loss_mse()\n",
    "\n"
   ]
  },
  {
   "cell_type": "code",
   "execution_count": 133,
   "metadata": {
    "scrolled": true
   },
   "outputs": [
    {
     "name": "stdout",
     "output_type": "stream",
     "text": [
      "(1, 1, 1)\n"
     ]
    }
   ],
   "source": [
    "\n",
    "o = op.optimizer(n_batch=1000)\n",
    "o.set_data(x, y, test_size=0., is_shuffle=False)\n",
    "o.set_variables()\n",
    "o1  =  o.conv2d((1, 1, 1, 5), mode=\"same\").relu()\n",
    "o2  = o1.conv2d((1, 1, 1, 5), mode=\"same\").relu()\n",
    "o3  = o2.conv2d((1, 1, 1, 5), mode=\"same\").relu()\n",
    "o4  = o3.conv2d((1, 1, 1, 5), mode=\"same\").relu()\n",
    "o5  = o4.conv2d((1, 1, 1, 5), mode=\"same\").relu() \n",
    "o6  = o5.conv2d((1, 1, 1, 5), mode=\"same\").relu() \n",
    "o7  = o6.conv2d((1, 1, 1, 5), mode=\"same\").relu() \n",
    "o8  = o7.conv2d((1, 1, 1, 5), mode=\"same\").relu()  #前段の畳込み層をマージ\n",
    "o9  = o8.conv2d((1, 1, 1, 5), mode=\"same\").relu()  #前段の畳込み層をマージ\n",
    "o10 = o9.conv2d((1, 1, 1, 5), mode=\"same\").relu() \n",
    "o11 = o10.conv2d((1, 1, 1, 5), mode=\"same\").relu() #+ o10\n",
    "o12 = o11.conv2d((1, 1, 1, 5), mode=\"same\").relu() #+ o9\n",
    "o13 = o12.conv2d((1, 1, 1, 5), mode=\"same\").relu() #+ o8\n",
    "o14 = o13.conv2d((1, 1, 1, 5), mode=\"same\").relu() #+ o7\n",
    "o15 = o14.conv2d((1, 1, 1, 5), mode=\"same\").relu() #+ o6\n",
    "o16 = o15.conv2d((1, 1, 1, 5), mode=\"same\").relu() #+ o5\n",
    "o17 = o16.conv2d((1, 1, 1, 5), mode=\"same\").relu() #+ o4\n",
    "o18 = o17.conv2d((1, 1, 1, 5), mode=\"same\").relu() + o3 #前段の畳込み層をマージ\n",
    "o19 = o18.conv2d((1, 1, 1, 5), mode=\"same\").relu() + o2 #前段の畳込み層をマージ\n",
    "o20 = o19.conv2d((1, 1, 1, 5), mode=\"same\").relu() \n",
    "o21 = o20.conv2d((1, 1, 1, 10), mode=\"valid\")\n",
    "o22 = o21.flatten()\n",
    "o   = o22.loss_mse()\n",
    "\n"
   ]
  },
  {
   "cell_type": "markdown",
   "metadata": {},
   "source": [
    "最適化手法を定義し、最適化させる。 "
   ]
  },
  {
   "cell_type": "code",
   "execution_count": 294,
   "metadata": {
    "scrolled": true
   },
   "outputs": [
    {
     "name": "stdout",
     "output_type": "stream",
     "text": [
      "Epoch. 0: loss = 6.0235e+11, acc = 0.0000e+00, valid. loss = 1.9932e+09, valid. acc. = 0.0000e+00.\n",
      "Epoch. 1: loss = 1.9403e+09, acc = 0.0000e+00, valid. loss = 1.8943e+09, valid. acc. = 0.0000e+00.\n",
      "Epoch. 2: loss = 1.8506e+09, acc = 0.0000e+00, valid. loss = 1.8013e+09, valid. acc. = 0.0000e+00.\n",
      "Epoch. 3: loss = 1.7649e+09, acc = 0.0000e+00, valid. loss = 1.7131e+09, valid. acc. = 0.0000e+00.\n",
      "Epoch. 4: loss = 1.6652e+09, acc = 0.0000e+00, valid. loss = 1.6290e+09, valid. acc. = 0.0000e+00.\n",
      "Epoch. 5: loss = 1.5826e+09, acc = 0.0000e+00, valid. loss = 1.5484e+09, valid. acc. = 0.0000e+00.\n",
      "Epoch. 6: loss = 1.5092e+09, acc = 0.0000e+00, valid. loss = 1.4703e+09, valid. acc. = 0.0000e+00.\n",
      "Epoch. 7: loss = 1.4380e+09, acc = 0.0000e+00, valid. loss = 1.3978e+09, valid. acc. = 0.0000e+00.\n",
      "Epoch. 8: loss = 1.3637e+09, acc = 0.0000e+00, valid. loss = 1.3274e+09, valid. acc. = 0.0000e+00.\n",
      "Epoch. 9: loss = 1.2923e+09, acc = 0.0000e+00, valid. loss = 1.2594e+09, valid. acc. = 0.0000e+00.\n",
      "Epoch. 10: loss = 1.2274e+09, acc = 0.0000e+00, valid. loss = 1.1951e+09, valid. acc. = 0.0000e+00.\n",
      "Epoch. 11: loss = 1.1662e+09, acc = 0.0000e+00, valid. loss = 1.1337e+09, valid. acc. = 0.0000e+00.\n",
      "Epoch. 12: loss = 1.1062e+09, acc = 0.0000e+00, valid. loss = 1.0747e+09, valid. acc. = 0.0000e+00.\n",
      "Epoch. 13: loss = 1.0483e+09, acc = 0.0000e+00, valid. loss = 1.0192e+09, valid. acc. = 0.0000e+00.\n",
      "Epoch. 14: loss = 9.9694e+08, acc = 0.0000e+00, valid. loss = 9.6636e+08, valid. acc. = 0.0000e+00.\n",
      "Epoch. 15: loss = 9.4293e+08, acc = 0.0000e+00, valid. loss = 9.1585e+08, valid. acc. = 0.0000e+00.\n",
      "Epoch. 16: loss = 8.9302e+08, acc = 0.0000e+00, valid. loss = 8.6793e+08, valid. acc. = 0.0000e+00.\n",
      "Epoch. 17: loss = 8.4714e+08, acc = 0.0000e+00, valid. loss = 8.2204e+08, valid. acc. = 0.0000e+00.\n",
      "Epoch. 18: loss = 8.0167e+08, acc = 0.0000e+00, valid. loss = 7.7889e+08, valid. acc. = 0.0000e+00.\n",
      "Epoch. 19: loss = 7.5816e+08, acc = 0.0000e+00, valid. loss = 7.3734e+08, valid. acc. = 0.0000e+00.\n",
      "Epoch. 20: loss = 7.1813e+08, acc = 0.0000e+00, valid. loss = 6.9810e+08, valid. acc. = 0.0000e+00.\n",
      "Epoch. 21: loss = 6.8143e+08, acc = 0.0000e+00, valid. loss = 6.6057e+08, valid. acc. = 0.0000e+00.\n",
      "Epoch. 22: loss = 6.4476e+08, acc = 0.0000e+00, valid. loss = 6.2469e+08, valid. acc. = 0.0000e+00.\n",
      "Epoch. 23: loss = 6.0753e+08, acc = 0.0000e+00, valid. loss = 5.9073e+08, valid. acc. = 0.0000e+00.\n",
      "Epoch. 24: loss = 5.7542e+08, acc = 0.0000e+00, valid. loss = 5.5875e+08, valid. acc. = 0.0000e+00.\n",
      "Epoch. 25: loss = 5.4336e+08, acc = 0.0000e+00, valid. loss = 5.2793e+08, valid. acc. = 0.0000e+00.\n",
      "Epoch. 26: loss = 5.1439e+08, acc = 0.0000e+00, valid. loss = 4.9854e+08, valid. acc. = 0.0000e+00.\n",
      "Epoch. 27: loss = 4.8540e+08, acc = 0.0000e+00, valid. loss = 4.7101e+08, valid. acc. = 0.0000e+00.\n",
      "Epoch. 28: loss = 4.5768e+08, acc = 0.0000e+00, valid. loss = 4.4466e+08, valid. acc. = 0.0000e+00.\n",
      "Epoch. 29: loss = 4.3221e+08, acc = 0.0000e+00, valid. loss = 4.1973e+08, valid. acc. = 0.0000e+00.\n",
      "Epoch. 30: loss = 4.0805e+08, acc = 0.0000e+00, valid. loss = 3.9623e+08, valid. acc. = 0.0000e+00.\n",
      "Epoch. 31: loss = 3.8577e+08, acc = 0.0000e+00, valid. loss = 3.7351e+08, valid. acc. = 0.0000e+00.\n",
      "Epoch. 32: loss = 3.6374e+08, acc = 0.0000e+00, valid. loss = 3.5210e+08, valid. acc. = 0.0000e+00.\n",
      "Epoch. 33: loss = 3.4279e+08, acc = 0.0000e+00, valid. loss = 3.3197e+08, valid. acc. = 0.0000e+00.\n",
      "Epoch. 34: loss = 3.2153e+08, acc = 0.0000e+00, valid. loss = 3.1301e+08, valid. acc. = 0.0000e+00.\n",
      "Epoch. 35: loss = 3.0436e+08, acc = 0.0000e+00, valid. loss = 2.9474e+08, valid. acc. = 0.0000e+00.\n",
      "Epoch. 36: loss = 2.8623e+08, acc = 0.0000e+00, valid. loss = 2.7757e+08, valid. acc. = 0.0000e+00.\n",
      "Epoch. 37: loss = 2.7014e+08, acc = 0.0000e+00, valid. loss = 2.6130e+08, valid. acc. = 0.0000e+00.\n",
      "Epoch. 38: loss = 2.5414e+08, acc = 0.0000e+00, valid. loss = 2.4580e+08, valid. acc. = 0.0000e+00.\n",
      "Epoch. 39: loss = 2.3807e+08, acc = 0.0000e+00, valid. loss = 2.3146e+08, valid. acc. = 0.0000e+00.\n",
      "Epoch. 40: loss = 2.2442e+08, acc = 0.0000e+00, valid. loss = 2.1763e+08, valid. acc. = 0.0000e+00.\n",
      "Epoch. 41: loss = 2.1108e+08, acc = 0.0000e+00, valid. loss = 2.0470e+08, valid. acc. = 0.0000e+00.\n",
      "Epoch. 42: loss = 1.9752e+08, acc = 0.0000e+00, valid. loss = 1.9232e+08, valid. acc. = 0.0000e+00.\n",
      "Epoch. 43: loss = 1.8644e+08, acc = 0.0000e+00, valid. loss = 1.8079e+08, valid. acc. = 0.0000e+00.\n",
      "Epoch. 44: loss = 1.7554e+08, acc = 0.0000e+00, valid. loss = 1.6978e+08, valid. acc. = 0.0000e+00.\n",
      "Epoch. 45: loss = 1.6469e+08, acc = 0.0000e+00, valid. loss = 1.5937e+08, valid. acc. = 0.0000e+00.\n",
      "Epoch. 46: loss = 1.5470e+08, acc = 0.0000e+00, valid. loss = 1.4964e+08, valid. acc. = 0.0000e+00.\n",
      "Epoch. 47: loss = 1.4491e+08, acc = 0.0000e+00, valid. loss = 1.4051e+08, valid. acc. = 0.0000e+00.\n",
      "Epoch. 48: loss = 1.3628e+08, acc = 0.0000e+00, valid. loss = 1.3176e+08, valid. acc. = 0.0000e+00.\n",
      "Epoch. 49: loss = 1.2791e+08, acc = 0.0000e+00, valid. loss = 1.2353e+08, valid. acc. = 0.0000e+00.\n",
      "Epoch. 50: loss = 1.1978e+08, acc = 0.0000e+00, valid. loss = 1.1586e+08, valid. acc. = 0.0000e+00.\n",
      "Epoch. 51: loss = 1.1198e+08, acc = 0.0000e+00, valid. loss = 1.0861e+08, valid. acc. = 0.0000e+00.\n",
      "Epoch. 52: loss = 1.0539e+08, acc = 0.0000e+00, valid. loss = 1.0182e+08, valid. acc. = 0.0000e+00.\n",
      "Epoch. 53: loss = 9.8517e+07, acc = 0.0000e+00, valid. loss = 9.5347e+07, valid. acc. = 0.0000e+00.\n",
      "Epoch. 54: loss = 9.1950e+07, acc = 0.0000e+00, valid. loss = 8.9328e+07, valid. acc. = 0.0000e+00.\n",
      "Epoch. 55: loss = 8.6606e+07, acc = 0.0000e+00, valid. loss = 8.3643e+07, valid. acc. = 0.0000e+00.\n",
      "Epoch. 56: loss = 8.1043e+07, acc = 0.0000e+00, valid. loss = 7.8298e+07, valid. acc. = 0.0000e+00.\n",
      "Epoch. 57: loss = 7.5821e+07, acc = 0.0000e+00, valid. loss = 7.3303e+07, valid. acc. = 0.0000e+00.\n",
      "Epoch. 58: loss = 7.1136e+07, acc = 0.0000e+00, valid. loss = 6.8608e+07, valid. acc. = 0.0000e+00.\n",
      "Epoch. 59: loss = 6.6717e+07, acc = 0.0000e+00, valid. loss = 6.4668e+07, valid. acc. = 0.0000e+00.\n",
      "Epoch. 60: loss = 6.2728e+07, acc = 0.0000e+00, valid. loss = 6.1038e+07, valid. acc. = 0.0000e+00.\n",
      "Epoch. 61: loss = 5.9290e+07, acc = 0.0000e+00, valid. loss = 5.7551e+07, valid. acc. = 0.0000e+00.\n",
      "Epoch. 62: loss = 5.5887e+07, acc = 0.0000e+00, valid. loss = 5.4311e+07, valid. acc. = 0.0000e+00.\n",
      "Epoch. 63: loss = 5.2836e+07, acc = 0.0000e+00, valid. loss = 5.1203e+07, valid. acc. = 0.0000e+00.\n",
      "Epoch. 64: loss = 4.9681e+07, acc = 0.0000e+00, valid. loss = 4.8313e+07, valid. acc. = 0.0000e+00.\n",
      "Epoch. 65: loss = 4.6873e+07, acc = 0.0000e+00, valid. loss = 4.5558e+07, valid. acc. = 0.0000e+00.\n",
      "Epoch. 66: loss = 4.4245e+07, acc = 0.0000e+00, valid. loss = 4.2955e+07, valid. acc. = 0.0000e+00.\n",
      "Epoch. 67: loss = 4.1665e+07, acc = 0.0000e+00, valid. loss = 4.0513e+07, valid. acc. = 0.0000e+00.\n",
      "Epoch. 68: loss = 3.9293e+07, acc = 0.0000e+00, valid. loss = 3.8223e+07, valid. acc. = 0.0000e+00.\n",
      "Epoch. 69: loss = 3.7155e+07, acc = 0.0000e+00, valid. loss = 3.6046e+07, valid. acc. = 0.0000e+00.\n",
      "Epoch. 70: loss = 3.4947e+07, acc = 0.0000e+00, valid. loss = 3.4027e+07, valid. acc. = 0.0000e+00.\n",
      "Epoch. 71: loss = 3.3063e+07, acc = 0.0000e+00, valid. loss = 3.2118e+07, valid. acc. = 0.0000e+00.\n",
      "Epoch. 72: loss = 3.1258e+07, acc = 0.0000e+00, valid. loss = 3.0318e+07, valid. acc. = 0.0000e+00.\n",
      "Epoch. 73: loss = 2.9500e+07, acc = 0.0000e+00, valid. loss = 2.8630e+07, valid. acc. = 0.0000e+00.\n",
      "Epoch. 74: loss = 2.7928e+07, acc = 0.0000e+00, valid. loss = 2.7060e+07, valid. acc. = 0.0000e+00.\n",
      "Epoch. 75: loss = 2.6276e+07, acc = 0.0000e+00, valid. loss = 2.5573e+07, valid. acc. = 0.0000e+00.\n",
      "Epoch. 76: loss = 2.4901e+07, acc = 0.0000e+00, valid. loss = 2.4204e+07, valid. acc. = 0.0000e+00.\n",
      "Epoch. 77: loss = 2.3554e+07, acc = 0.0000e+00, valid. loss = 2.2913e+07, valid. acc. = 0.0000e+00.\n",
      "Epoch. 78: loss = 2.2286e+07, acc = 0.0000e+00, valid. loss = 2.1700e+07, valid. acc. = 0.0000e+00.\n",
      "Epoch. 79: loss = 2.1134e+07, acc = 0.0000e+00, valid. loss = 2.0571e+07, valid. acc. = 0.0000e+00.\n",
      "Epoch. 80: loss = 2.0011e+07, acc = 0.0000e+00, valid. loss = 1.9529e+07, valid. acc. = 0.0000e+00.\n",
      "Epoch. 81: loss = 1.9009e+07, acc = 0.0000e+00, valid. loss = 1.8564e+07, valid. acc. = 0.0000e+00.\n",
      "Epoch. 82: loss = 1.8111e+07, acc = 0.0000e+00, valid. loss = 1.7647e+07, valid. acc. = 0.0000e+00.\n"
     ]
    },
    {
     "name": "stdout",
     "output_type": "stream",
     "text": [
      "Epoch. 83: loss = 1.7247e+07, acc = 0.0000e+00, valid. loss = 1.6806e+07, valid. acc. = 0.0000e+00.\n",
      "Epoch. 84: loss = 1.6435e+07, acc = 0.0000e+00, valid. loss = 1.6016e+07, valid. acc. = 0.0000e+00.\n",
      "Epoch. 85: loss = 1.5686e+07, acc = 0.0000e+00, valid. loss = 1.5301e+07, valid. acc. = 0.0000e+00.\n",
      "Epoch. 86: loss = 1.4948e+07, acc = 0.0000e+00, valid. loss = 1.4631e+07, valid. acc. = 0.0000e+00.\n",
      "Epoch. 87: loss = 1.4338e+07, acc = 0.0000e+00, valid. loss = 1.4006e+07, valid. acc. = 0.0000e+00.\n",
      "Epoch. 88: loss = 1.3694e+07, acc = 0.0000e+00, valid. loss = 1.3435e+07, valid. acc. = 0.0000e+00.\n",
      "Epoch. 89: loss = 1.3177e+07, acc = 0.0000e+00, valid. loss = 1.2905e+07, valid. acc. = 0.0000e+00.\n",
      "Epoch. 90: loss = 1.2674e+07, acc = 0.0000e+00, valid. loss = 1.2420e+07, valid. acc. = 0.0000e+00.\n",
      "Epoch. 91: loss = 1.2178e+07, acc = 0.0000e+00, valid. loss = 1.1971e+07, valid. acc. = 0.0000e+00.\n",
      "Epoch. 92: loss = 1.1767e+07, acc = 0.0000e+00, valid. loss = 1.1560e+07, valid. acc. = 0.0000e+00.\n",
      "Epoch. 93: loss = 1.1344e+07, acc = 0.0000e+00, valid. loss = 1.1183e+07, valid. acc. = 0.0000e+00.\n",
      "Epoch. 94: loss = 1.1016e+07, acc = 0.0000e+00, valid. loss = 1.0840e+07, valid. acc. = 0.0000e+00.\n",
      "Epoch. 95: loss = 1.0692e+07, acc = 0.0000e+00, valid. loss = 1.0528e+07, valid. acc. = 0.0000e+00.\n",
      "Epoch. 96: loss = 1.0395e+07, acc = 0.0000e+00, valid. loss = 1.0240e+07, valid. acc. = 0.0000e+00.\n",
      "Epoch. 97: loss = 1.0119e+07, acc = 0.0000e+00, valid. loss = 9.9783e+06, valid. acc. = 0.0000e+00.\n",
      "Epoch. 98: loss = 9.8714e+06, acc = 0.0000e+00, valid. loss = 9.7410e+06, valid. acc. = 0.0000e+00.\n",
      "Epoch. 99: loss = 9.6427e+06, acc = 0.0000e+00, valid. loss = 9.5255e+06, valid. acc. = 0.0000e+00.\n",
      "Epoch. 100: loss = 9.4349e+06, acc = 0.0000e+00, valid. loss = 9.3312e+06, valid. acc. = 0.0000e+00.\n",
      "Epoch. 101: loss = 9.1857e+06, acc = 0.0000e+00, valid. loss = 9.1564e+06, valid. acc. = 0.0000e+00.\n",
      "Epoch. 102: loss = 9.0700e+06, acc = 0.0000e+00, valid. loss = 8.9995e+06, valid. acc. = 0.0000e+00.\n",
      "Epoch. 103: loss = 8.9519e+06, acc = 0.0000e+00, valid. loss = 8.8581e+06, valid. acc. = 0.0000e+00.\n",
      "Epoch. 104: loss = 8.7991e+06, acc = 0.0000e+00, valid. loss = 8.7314e+06, valid. acc. = 0.0000e+00.\n",
      "Epoch. 105: loss = 8.6382e+06, acc = 0.0000e+00, valid. loss = 8.6196e+06, valid. acc. = 0.0000e+00.\n",
      "Epoch. 106: loss = 8.5532e+06, acc = 0.0000e+00, valid. loss = 8.5192e+06, valid. acc. = 0.0000e+00.\n",
      "Epoch. 107: loss = 8.4867e+06, acc = 0.0000e+00, valid. loss = 8.4307e+06, valid. acc. = 0.0000e+00.\n",
      "Epoch. 108: loss = 8.3966e+06, acc = 0.0000e+00, valid. loss = 8.3516e+06, valid. acc. = 0.0000e+00.\n",
      "Epoch. 109: loss = 8.3095e+06, acc = 0.0000e+00, valid. loss = 8.2827e+06, valid. acc. = 0.0000e+00.\n",
      "Epoch. 110: loss = 8.2356e+06, acc = 0.0000e+00, valid. loss = 8.2222e+06, valid. acc. = 0.0000e+00.\n",
      "Epoch. 111: loss = 8.2017e+06, acc = 0.0000e+00, valid. loss = 8.1699e+06, valid. acc. = 0.0000e+00.\n",
      "Epoch. 112: loss = 8.1587e+06, acc = 0.0000e+00, valid. loss = 8.1241e+06, valid. acc. = 0.0000e+00.\n",
      "Epoch. 113: loss = 8.1133e+06, acc = 0.0000e+00, valid. loss = 8.0839e+06, valid. acc. = 0.0000e+00.\n",
      "Epoch. 114: loss = 8.0915e+06, acc = 0.0000e+00, valid. loss = 8.0502e+06, valid. acc. = 0.0000e+00.\n",
      "Epoch. 115: loss = 8.0237e+06, acc = 0.0000e+00, valid. loss = 8.0208e+06, valid. acc. = 0.0000e+00.\n",
      "Epoch. 116: loss = 8.0183e+06, acc = 0.0000e+00, valid. loss = 7.9959e+06, valid. acc. = 0.0000e+00.\n",
      "Epoch. 117: loss = 7.9785e+06, acc = 0.0000e+00, valid. loss = 7.9745e+06, valid. acc. = 0.0000e+00.\n",
      "Epoch. 118: loss = 7.9584e+06, acc = 0.0000e+00, valid. loss = 7.9565e+06, valid. acc. = 0.0000e+00.\n",
      "Epoch. 119: loss = 7.9487e+06, acc = 0.0000e+00, valid. loss = 7.9415e+06, valid. acc. = 0.0000e+00.\n",
      "Epoch. 120: loss = 7.9512e+06, acc = 0.0000e+00, valid. loss = 7.9288e+06, valid. acc. = 0.0000e+00.\n",
      "Epoch. 121: loss = 7.8952e+06, acc = 0.0000e+00, valid. loss = 7.9183e+06, valid. acc. = 0.0000e+00.\n",
      "Epoch. 122: loss = 7.9234e+06, acc = 0.0000e+00, valid. loss = 7.9097e+06, valid. acc. = 0.0000e+00.\n",
      "Epoch. 123: loss = 7.8908e+06, acc = 0.0000e+00, valid. loss = 7.9026e+06, valid. acc. = 0.0000e+00.\n",
      "Epoch. 124: loss = 7.9097e+06, acc = 0.0000e+00, valid. loss = 7.8968e+06, valid. acc. = 0.0000e+00.\n",
      "Epoch. 125: loss = 7.9221e+06, acc = 0.0000e+00, valid. loss = 7.8920e+06, valid. acc. = 0.0000e+00.\n",
      "Epoch. 126: loss = 7.8892e+06, acc = 0.0000e+00, valid. loss = 7.8882e+06, valid. acc. = 0.0000e+00.\n",
      "Epoch. 127: loss = 7.8836e+06, acc = 0.0000e+00, valid. loss = 7.8850e+06, valid. acc. = 0.0000e+00.\n",
      "Epoch. 128: loss = 7.9071e+06, acc = 0.0000e+00, valid. loss = 7.8824e+06, valid. acc. = 0.0000e+00.\n",
      "Epoch. 129: loss = 7.8888e+06, acc = 0.0000e+00, valid. loss = 7.8802e+06, valid. acc. = 0.0000e+00.\n",
      "Epoch. 130: loss = 7.8653e+06, acc = 0.0000e+00, valid. loss = 7.8784e+06, valid. acc. = 0.0000e+00.\n",
      "Epoch. 131: loss = 7.8895e+06, acc = 0.0000e+00, valid. loss = 7.8769e+06, valid. acc. = 0.0000e+00.\n",
      "Epoch. 132: loss = 7.8528e+06, acc = 0.0000e+00, valid. loss = 7.8756e+06, valid. acc. = 0.0000e+00.\n",
      "Epoch. 133: loss = 7.8375e+06, acc = 0.0000e+00, valid. loss = 7.8744e+06, valid. acc. = 0.0000e+00.\n",
      "Epoch. 134: loss = 7.8627e+06, acc = 0.0000e+00, valid. loss = 7.8734e+06, valid. acc. = 0.0000e+00.\n",
      "Epoch. 135: loss = 7.8842e+06, acc = 0.0000e+00, valid. loss = 7.8725e+06, valid. acc. = 0.0000e+00.\n",
      "Epoch. 136: loss = 7.8615e+06, acc = 0.0000e+00, valid. loss = 7.8716e+06, valid. acc. = 0.0000e+00.\n",
      "Epoch. 137: loss = 7.8887e+06, acc = 0.0000e+00, valid. loss = 7.8707e+06, valid. acc. = 0.0000e+00.\n",
      "Epoch. 138: loss = 7.8841e+06, acc = 0.0000e+00, valid. loss = 7.8698e+06, valid. acc. = 0.0000e+00.\n",
      "Epoch. 139: loss = 7.8798e+06, acc = 0.0000e+00, valid. loss = 7.8690e+06, valid. acc. = 0.0000e+00.\n",
      "Epoch. 140: loss = 7.8876e+06, acc = 0.0000e+00, valid. loss = 7.8682e+06, valid. acc. = 0.0000e+00.\n",
      "Epoch. 141: loss = 7.8733e+06, acc = 0.0000e+00, valid. loss = 7.8673e+06, valid. acc. = 0.0000e+00.\n",
      "Epoch. 142: loss = 7.8506e+06, acc = 0.0000e+00, valid. loss = 7.8665e+06, valid. acc. = 0.0000e+00.\n",
      "Epoch. 143: loss = 7.8455e+06, acc = 0.0000e+00, valid. loss = 7.8657e+06, valid. acc. = 0.0000e+00.\n",
      "Epoch. 144: loss = 7.8692e+06, acc = 0.0000e+00, valid. loss = 7.8649e+06, valid. acc. = 0.0000e+00.\n",
      "Epoch. 145: loss = 7.8684e+06, acc = 0.0000e+00, valid. loss = 7.8640e+06, valid. acc. = 0.0000e+00.\n",
      "Epoch. 146: loss = 7.8901e+06, acc = 0.0000e+00, valid. loss = 7.8632e+06, valid. acc. = 0.0000e+00.\n",
      "Epoch. 147: loss = 7.8854e+06, acc = 0.0000e+00, valid. loss = 7.8623e+06, valid. acc. = 0.0000e+00.\n",
      "Epoch. 148: loss = 7.8734e+06, acc = 0.0000e+00, valid. loss = 7.8615e+06, valid. acc. = 0.0000e+00.\n",
      "Epoch. 149: loss = 7.8931e+06, acc = 0.0000e+00, valid. loss = 7.8606e+06, valid. acc. = 0.0000e+00.\n",
      "Epoch. 150: loss = 7.8518e+06, acc = 0.0000e+00, valid. loss = 7.8598e+06, valid. acc. = 0.0000e+00.\n",
      "Epoch. 151: loss = 7.8707e+06, acc = 0.0000e+00, valid. loss = 7.8589e+06, valid. acc. = 0.0000e+00.\n",
      "Epoch. 152: loss = 7.8584e+06, acc = 0.0000e+00, valid. loss = 7.8580e+06, valid. acc. = 0.0000e+00.\n",
      "Epoch. 153: loss = 7.8624e+06, acc = 0.0000e+00, valid. loss = 7.8572e+06, valid. acc. = 0.0000e+00.\n",
      "Epoch. 154: loss = 7.8335e+06, acc = 0.0000e+00, valid. loss = 7.8563e+06, valid. acc. = 0.0000e+00.\n",
      "Epoch. 155: loss = 7.8474e+06, acc = 0.0000e+00, valid. loss = 7.8554e+06, valid. acc. = 0.0000e+00.\n",
      "Epoch. 156: loss = 7.8362e+06, acc = 0.0000e+00, valid. loss = 7.8546e+06, valid. acc. = 0.0000e+00.\n",
      "Epoch. 157: loss = 7.8602e+06, acc = 0.0000e+00, valid. loss = 7.8537e+06, valid. acc. = 0.0000e+00.\n",
      "Epoch. 158: loss = 7.8415e+06, acc = 0.0000e+00, valid. loss = 7.8528e+06, valid. acc. = 0.0000e+00.\n",
      "Epoch. 159: loss = 7.8616e+06, acc = 0.0000e+00, valid. loss = 7.8519e+06, valid. acc. = 0.0000e+00.\n",
      "Epoch. 160: loss = 7.8441e+06, acc = 0.0000e+00, valid. loss = 7.8510e+06, valid. acc. = 0.0000e+00.\n",
      "Epoch. 161: loss = 7.8727e+06, acc = 0.0000e+00, valid. loss = 7.8501e+06, valid. acc. = 0.0000e+00.\n",
      "Epoch. 162: loss = 7.8517e+06, acc = 0.0000e+00, valid. loss = 7.8492e+06, valid. acc. = 0.0000e+00.\n",
      "Epoch. 163: loss = 7.8698e+06, acc = 0.0000e+00, valid. loss = 7.8483e+06, valid. acc. = 0.0000e+00.\n",
      "Epoch. 164: loss = 7.8389e+06, acc = 0.0000e+00, valid. loss = 7.8474e+06, valid. acc. = 0.0000e+00.\n"
     ]
    },
    {
     "name": "stdout",
     "output_type": "stream",
     "text": [
      "Epoch. 165: loss = 7.8523e+06, acc = 0.0000e+00, valid. loss = 7.8465e+06, valid. acc. = 0.0000e+00.\n",
      "Epoch. 166: loss = 7.8758e+06, acc = 0.0000e+00, valid. loss = 7.8456e+06, valid. acc. = 0.0000e+00.\n",
      "Epoch. 167: loss = 7.8334e+06, acc = 0.0000e+00, valid. loss = 7.8447e+06, valid. acc. = 0.0000e+00.\n",
      "Epoch. 168: loss = 7.8558e+06, acc = 0.0000e+00, valid. loss = 7.8437e+06, valid. acc. = 0.0000e+00.\n",
      "Epoch. 169: loss = 7.8283e+06, acc = 0.0000e+00, valid. loss = 7.8428e+06, valid. acc. = 0.0000e+00.\n",
      "Epoch. 170: loss = 7.8506e+06, acc = 0.0000e+00, valid. loss = 7.8419e+06, valid. acc. = 0.0000e+00.\n",
      "Epoch. 171: loss = 7.8221e+06, acc = 0.0000e+00, valid. loss = 7.8410e+06, valid. acc. = 0.0000e+00.\n",
      "Epoch. 172: loss = 7.8200e+06, acc = 0.0000e+00, valid. loss = 7.8400e+06, valid. acc. = 0.0000e+00.\n",
      "Epoch. 173: loss = 7.8541e+06, acc = 0.0000e+00, valid. loss = 7.8391e+06, valid. acc. = 0.0000e+00.\n",
      "Epoch. 174: loss = 7.8430e+06, acc = 0.0000e+00, valid. loss = 7.8382e+06, valid. acc. = 0.0000e+00.\n",
      "Epoch. 175: loss = 7.8379e+06, acc = 0.0000e+00, valid. loss = 7.8372e+06, valid. acc. = 0.0000e+00.\n",
      "Epoch. 176: loss = 7.8419e+06, acc = 0.0000e+00, valid. loss = 7.8363e+06, valid. acc. = 0.0000e+00.\n",
      "Epoch. 177: loss = 7.8296e+06, acc = 0.0000e+00, valid. loss = 7.8353e+06, valid. acc. = 0.0000e+00.\n",
      "Epoch. 178: loss = 7.8246e+06, acc = 0.0000e+00, valid. loss = 7.8344e+06, valid. acc. = 0.0000e+00.\n",
      "Epoch. 179: loss = 7.8234e+06, acc = 0.0000e+00, valid. loss = 7.8334e+06, valid. acc. = 0.0000e+00.\n",
      "Epoch. 180: loss = 7.8559e+06, acc = 0.0000e+00, valid. loss = 7.8324e+06, valid. acc. = 0.0000e+00.\n",
      "Epoch. 181: loss = 7.7949e+06, acc = 0.0000e+00, valid. loss = 7.8315e+06, valid. acc. = 0.0000e+00.\n",
      "Epoch. 182: loss = 7.8035e+06, acc = 0.0000e+00, valid. loss = 7.8305e+06, valid. acc. = 0.0000e+00.\n",
      "Epoch. 183: loss = 7.8256e+06, acc = 0.0000e+00, valid. loss = 7.8295e+06, valid. acc. = 0.0000e+00.\n",
      "Epoch. 184: loss = 7.8198e+06, acc = 0.0000e+00, valid. loss = 7.8285e+06, valid. acc. = 0.0000e+00.\n",
      "Epoch. 185: loss = 7.7920e+06, acc = 0.0000e+00, valid. loss = 7.8275e+06, valid. acc. = 0.0000e+00.\n",
      "Epoch. 186: loss = 7.8249e+06, acc = 0.0000e+00, valid. loss = 7.8265e+06, valid. acc. = 0.0000e+00.\n",
      "Epoch. 187: loss = 7.8090e+06, acc = 0.0000e+00, valid. loss = 7.8255e+06, valid. acc. = 0.0000e+00.\n",
      "Epoch. 188: loss = 7.8424e+06, acc = 0.0000e+00, valid. loss = 7.8245e+06, valid. acc. = 0.0000e+00.\n",
      "Epoch. 189: loss = 7.8494e+06, acc = 0.0000e+00, valid. loss = 7.8235e+06, valid. acc. = 0.0000e+00.\n",
      "Epoch. 190: loss = 7.8345e+06, acc = 0.0000e+00, valid. loss = 7.8225e+06, valid. acc. = 0.0000e+00.\n",
      "Epoch. 191: loss = 7.8459e+06, acc = 0.0000e+00, valid. loss = 7.8215e+06, valid. acc. = 0.0000e+00.\n",
      "Epoch. 192: loss = 7.8363e+06, acc = 0.0000e+00, valid. loss = 7.8204e+06, valid. acc. = 0.0000e+00.\n",
      "Epoch. 193: loss = 7.8376e+06, acc = 0.0000e+00, valid. loss = 7.8194e+06, valid. acc. = 0.0000e+00.\n",
      "Epoch. 194: loss = 7.8133e+06, acc = 0.0000e+00, valid. loss = 7.8183e+06, valid. acc. = 0.0000e+00.\n",
      "Epoch. 195: loss = 7.8300e+06, acc = 0.0000e+00, valid. loss = 7.8173e+06, valid. acc. = 0.0000e+00.\n",
      "Epoch. 196: loss = 7.8069e+06, acc = 0.0000e+00, valid. loss = 7.8162e+06, valid. acc. = 0.0000e+00.\n",
      "Epoch. 197: loss = 7.8142e+06, acc = 0.0000e+00, valid. loss = 7.8151e+06, valid. acc. = 0.0000e+00.\n",
      "Epoch. 198: loss = 7.8103e+06, acc = 0.0000e+00, valid. loss = 7.8140e+06, valid. acc. = 0.0000e+00.\n",
      "Epoch. 199: loss = 7.8065e+06, acc = 0.0000e+00, valid. loss = 7.8129e+06, valid. acc. = 0.0000e+00.\n",
      "Epoch. 200: loss = 7.8056e+06, acc = 0.0000e+00, valid. loss = 7.8118e+06, valid. acc. = 0.0000e+00.\n",
      "Epoch. 201: loss = 7.7903e+06, acc = 0.0000e+00, valid. loss = 7.8107e+06, valid. acc. = 0.0000e+00.\n",
      "Epoch. 202: loss = 7.7852e+06, acc = 0.0000e+00, valid. loss = 7.8096e+06, valid. acc. = 0.0000e+00.\n",
      "Epoch. 203: loss = 7.8074e+06, acc = 0.0000e+00, valid. loss = 7.8085e+06, valid. acc. = 0.0000e+00.\n",
      "Epoch. 204: loss = 7.8159e+06, acc = 0.0000e+00, valid. loss = 7.8073e+06, valid. acc. = 0.0000e+00.\n",
      "Epoch. 205: loss = 7.8087e+06, acc = 0.0000e+00, valid. loss = 7.8062e+06, valid. acc. = 0.0000e+00.\n",
      "Epoch. 206: loss = 7.7788e+06, acc = 0.0000e+00, valid. loss = 7.8050e+06, valid. acc. = 0.0000e+00.\n",
      "Epoch. 207: loss = 7.8005e+06, acc = 0.0000e+00, valid. loss = 7.8038e+06, valid. acc. = 0.0000e+00.\n",
      "Epoch. 208: loss = 7.8328e+06, acc = 0.0000e+00, valid. loss = 7.8026e+06, valid. acc. = 0.0000e+00.\n",
      "Epoch. 209: loss = 7.8096e+06, acc = 0.0000e+00, valid. loss = 7.8014e+06, valid. acc. = 0.0000e+00.\n",
      "Epoch. 210: loss = 7.8180e+06, acc = 0.0000e+00, valid. loss = 7.8002e+06, valid. acc. = 0.0000e+00.\n",
      "Epoch. 211: loss = 7.8167e+06, acc = 0.0000e+00, valid. loss = 7.7989e+06, valid. acc. = 0.0000e+00.\n",
      "Epoch. 212: loss = 7.7862e+06, acc = 0.0000e+00, valid. loss = 7.7977e+06, valid. acc. = 0.0000e+00.\n",
      "Epoch. 213: loss = 7.7941e+06, acc = 0.0000e+00, valid. loss = 7.7964e+06, valid. acc. = 0.0000e+00.\n",
      "Epoch. 214: loss = 7.7943e+06, acc = 0.0000e+00, valid. loss = 7.7951e+06, valid. acc. = 0.0000e+00.\n",
      "Epoch. 215: loss = 7.8004e+06, acc = 0.0000e+00, valid. loss = 7.7938e+06, valid. acc. = 0.0000e+00.\n",
      "Epoch. 216: loss = 7.7732e+06, acc = 0.0000e+00, valid. loss = 7.7925e+06, valid. acc. = 0.0000e+00.\n",
      "Epoch. 217: loss = 7.7772e+06, acc = 0.0000e+00, valid. loss = 7.7911e+06, valid. acc. = 0.0000e+00.\n",
      "Epoch. 218: loss = 7.7764e+06, acc = 0.0000e+00, valid. loss = 7.7898e+06, valid. acc. = 0.0000e+00.\n",
      "Epoch. 219: loss = 7.8056e+06, acc = 0.0000e+00, valid. loss = 7.7884e+06, valid. acc. = 0.0000e+00.\n",
      "Epoch. 220: loss = 7.8123e+06, acc = 0.0000e+00, valid. loss = 7.7870e+06, valid. acc. = 0.0000e+00.\n",
      "Epoch. 221: loss = 7.7874e+06, acc = 0.0000e+00, valid. loss = 7.7856e+06, valid. acc. = 0.0000e+00.\n",
      "Epoch. 222: loss = 7.7504e+06, acc = 0.0000e+00, valid. loss = 7.7842e+06, valid. acc. = 0.0000e+00.\n",
      "Epoch. 223: loss = 7.7704e+06, acc = 0.0000e+00, valid. loss = 7.7828e+06, valid. acc. = 0.0000e+00.\n",
      "Epoch. 224: loss = 7.7685e+06, acc = 0.0000e+00, valid. loss = 7.7813e+06, valid. acc. = 0.0000e+00.\n",
      "Epoch. 225: loss = 7.7692e+06, acc = 0.0000e+00, valid. loss = 7.7799e+06, valid. acc. = 0.0000e+00.\n",
      "Epoch. 226: loss = 7.8096e+06, acc = 0.0000e+00, valid. loss = 7.7784e+06, valid. acc. = 0.0000e+00.\n",
      "Epoch. 227: loss = 7.7533e+06, acc = 0.0000e+00, valid. loss = 7.7768e+06, valid. acc. = 0.0000e+00.\n",
      "Epoch. 228: loss = 7.7699e+06, acc = 0.0000e+00, valid. loss = 7.7753e+06, valid. acc. = 0.0000e+00.\n",
      "Epoch. 229: loss = 7.7940e+06, acc = 0.0000e+00, valid. loss = 7.7737e+06, valid. acc. = 0.0000e+00.\n",
      "Epoch. 230: loss = 7.8126e+06, acc = 0.0000e+00, valid. loss = 7.7722e+06, valid. acc. = 0.0000e+00.\n",
      "Epoch. 231: loss = 7.7963e+06, acc = 0.0000e+00, valid. loss = 7.7705e+06, valid. acc. = 0.0000e+00.\n",
      "Epoch. 232: loss = 7.7921e+06, acc = 0.0000e+00, valid. loss = 7.7689e+06, valid. acc. = 0.0000e+00.\n",
      "Epoch. 233: loss = 7.7700e+06, acc = 0.0000e+00, valid. loss = 7.7673e+06, valid. acc. = 0.0000e+00.\n",
      "Epoch. 234: loss = 7.7744e+06, acc = 0.0000e+00, valid. loss = 7.7656e+06, valid. acc. = 0.0000e+00.\n",
      "Epoch. 235: loss = 7.7736e+06, acc = 0.0000e+00, valid. loss = 7.7639e+06, valid. acc. = 0.0000e+00.\n",
      "Epoch. 236: loss = 7.7662e+06, acc = 0.0000e+00, valid. loss = 7.7621e+06, valid. acc. = 0.0000e+00.\n",
      "Epoch. 237: loss = 7.7697e+06, acc = 0.0000e+00, valid. loss = 7.7604e+06, valid. acc. = 0.0000e+00.\n",
      "Epoch. 238: loss = 7.7444e+06, acc = 0.0000e+00, valid. loss = 7.7586e+06, valid. acc. = 0.0000e+00.\n",
      "Epoch. 239: loss = 7.7347e+06, acc = 0.0000e+00, valid. loss = 7.7568e+06, valid. acc. = 0.0000e+00.\n",
      "Epoch. 240: loss = 7.7410e+06, acc = 0.0000e+00, valid. loss = 7.7550e+06, valid. acc. = 0.0000e+00.\n",
      "Epoch. 241: loss = 7.7696e+06, acc = 0.0000e+00, valid. loss = 7.7531e+06, valid. acc. = 0.0000e+00.\n",
      "Epoch. 242: loss = 7.7477e+06, acc = 0.0000e+00, valid. loss = 7.7512e+06, valid. acc. = 0.0000e+00.\n",
      "Epoch. 243: loss = 7.7585e+06, acc = 0.0000e+00, valid. loss = 7.7493e+06, valid. acc. = 0.0000e+00.\n",
      "Epoch. 244: loss = 7.7693e+06, acc = 0.0000e+00, valid. loss = 7.7474e+06, valid. acc. = 0.0000e+00.\n",
      "Epoch. 245: loss = 7.7502e+06, acc = 0.0000e+00, valid. loss = 7.7454e+06, valid. acc. = 0.0000e+00.\n",
      "Epoch. 246: loss = 7.7495e+06, acc = 0.0000e+00, valid. loss = 7.7435e+06, valid. acc. = 0.0000e+00.\n"
     ]
    },
    {
     "name": "stdout",
     "output_type": "stream",
     "text": [
      "Epoch. 247: loss = 7.7838e+06, acc = 0.0000e+00, valid. loss = 7.7414e+06, valid. acc. = 0.0000e+00.\n",
      "Epoch. 248: loss = 7.7205e+06, acc = 0.0000e+00, valid. loss = 7.7396e+06, valid. acc. = 0.0000e+00.\n",
      "Epoch. 249: loss = 7.7102e+06, acc = 0.0000e+00, valid. loss = 7.7374e+06, valid. acc. = 0.0000e+00.\n",
      "Epoch. 250: loss = 7.7343e+06, acc = 0.0000e+00, valid. loss = 7.7354e+06, valid. acc. = 0.0000e+00.\n",
      "Epoch. 251: loss = 7.7544e+06, acc = 0.0000e+00, valid. loss = 7.7333e+06, valid. acc. = 0.0000e+00.\n",
      "Epoch. 252: loss = 7.7233e+06, acc = 0.0000e+00, valid. loss = 7.7313e+06, valid. acc. = 0.0000e+00.\n",
      "Epoch. 253: loss = 7.7596e+06, acc = 0.0000e+00, valid. loss = 7.7291e+06, valid. acc. = 0.0000e+00.\n",
      "Epoch. 254: loss = 7.7171e+06, acc = 0.0000e+00, valid. loss = 7.7271e+06, valid. acc. = 0.0000e+00.\n",
      "Epoch. 255: loss = 7.6970e+06, acc = 0.0000e+00, valid. loss = 7.7250e+06, valid. acc. = 0.0000e+00.\n",
      "Epoch. 256: loss = 7.7264e+06, acc = 0.0000e+00, valid. loss = 7.7229e+06, valid. acc. = 0.0000e+00.\n",
      "Epoch. 257: loss = 7.7327e+06, acc = 0.0000e+00, valid. loss = 7.7209e+06, valid. acc. = 0.0000e+00.\n",
      "Epoch. 258: loss = 7.7096e+06, acc = 0.0000e+00, valid. loss = 7.7188e+06, valid. acc. = 0.0000e+00.\n",
      "Epoch. 259: loss = 7.7132e+06, acc = 0.0000e+00, valid. loss = 7.7168e+06, valid. acc. = 0.0000e+00.\n",
      "Epoch. 260: loss = 7.7154e+06, acc = 0.0000e+00, valid. loss = 7.7148e+06, valid. acc. = 0.0000e+00.\n",
      "Epoch. 261: loss = 7.7113e+06, acc = 0.0000e+00, valid. loss = 7.7129e+06, valid. acc. = 0.0000e+00.\n",
      "Epoch. 262: loss = 7.7215e+06, acc = 0.0000e+00, valid. loss = 7.7110e+06, valid. acc. = 0.0000e+00.\n",
      "Epoch. 263: loss = 7.7022e+06, acc = 0.0000e+00, valid. loss = 7.7091e+06, valid. acc. = 0.0000e+00.\n",
      "Epoch. 264: loss = 7.7020e+06, acc = 0.0000e+00, valid. loss = 7.7073e+06, valid. acc. = 0.0000e+00.\n",
      "Epoch. 265: loss = 7.7106e+06, acc = 0.0000e+00, valid. loss = 7.7056e+06, valid. acc. = 0.0000e+00.\n",
      "Epoch. 266: loss = 7.7050e+06, acc = 0.0000e+00, valid. loss = 7.7040e+06, valid. acc. = 0.0000e+00.\n",
      "Epoch. 267: loss = 7.7300e+06, acc = 0.0000e+00, valid. loss = 7.7026e+06, valid. acc. = 0.0000e+00.\n",
      "Epoch. 268: loss = 7.7141e+06, acc = 0.0000e+00, valid. loss = 7.7015e+06, valid. acc. = 0.0000e+00.\n",
      "Epoch. 269: loss = 7.6947e+06, acc = 0.0000e+00, valid. loss = 7.6997e+06, valid. acc. = 0.0000e+00.\n",
      "Epoch. 270: loss = 7.6871e+06, acc = 0.0000e+00, valid. loss = 7.6987e+06, valid. acc. = 0.0000e+00.\n",
      "Epoch. 271: loss = 7.7322e+06, acc = 0.0000e+00, valid. loss = 7.8924e+06, valid. acc. = 0.0000e+00.\n",
      "Epoch. 272: loss = 7.8926e+06, acc = 0.0000e+00, valid. loss = 7.8655e+06, valid. acc. = 0.0000e+00.\n",
      "Epoch. 273: loss = 7.7615e+06, acc = 0.0000e+00, valid. loss = 7.7107e+06, valid. acc. = 0.0000e+00.\n",
      "Epoch. 274: loss = 7.6818e+06, acc = 0.0000e+00, valid. loss = 7.6984e+06, valid. acc. = 0.0000e+00.\n",
      "Epoch. 275: loss = 7.6979e+06, acc = 0.0000e+00, valid. loss = 7.6959e+06, valid. acc. = 0.0000e+00.\n",
      "Epoch. 276: loss = 7.6815e+06, acc = 0.0000e+00, valid. loss = 7.6938e+06, valid. acc. = 0.0000e+00.\n",
      "Epoch. 277: loss = 7.6664e+06, acc = 0.0000e+00, valid. loss = 7.6922e+06, valid. acc. = 0.0000e+00.\n",
      "Epoch. 278: loss = 7.6968e+06, acc = 0.0000e+00, valid. loss = 7.6910e+06, valid. acc. = 0.0000e+00.\n",
      "Epoch. 279: loss = 7.6814e+06, acc = 0.0000e+00, valid. loss = 7.6898e+06, valid. acc. = 0.0000e+00.\n",
      "Epoch. 280: loss = 7.6918e+06, acc = 0.0000e+00, valid. loss = 7.6893e+06, valid. acc. = 0.0000e+00.\n",
      "Epoch. 281: loss = 7.6679e+06, acc = 0.0000e+00, valid. loss = 7.7114e+06, valid. acc. = 0.0000e+00.\n",
      "Epoch. 282: loss = 7.8037e+06, acc = 0.0000e+00, valid. loss = 7.7025e+06, valid. acc. = 0.0000e+00.\n",
      "Epoch. 283: loss = 7.7987e+06, acc = 0.0000e+00, valid. loss = 7.6932e+06, valid. acc. = 0.0000e+00.\n",
      "Epoch. 284: loss = 7.7218e+06, acc = 0.0000e+00, valid. loss = 7.6905e+06, valid. acc. = 0.0000e+00.\n",
      "Epoch. 285: loss = 7.7039e+06, acc = 0.0000e+00, valid. loss = 7.6886e+06, valid. acc. = 0.0000e+00.\n",
      "Epoch. 286: loss = 7.6599e+06, acc = 0.0000e+00, valid. loss = 7.6863e+06, valid. acc. = 0.0000e+00.\n",
      "Epoch. 287: loss = 7.6666e+06, acc = 0.0000e+00, valid. loss = 7.6849e+06, valid. acc. = 0.0000e+00.\n",
      "Epoch. 288: loss = 7.6925e+06, acc = 0.0000e+00, valid. loss = 7.6824e+06, valid. acc. = 0.0000e+00.\n",
      "Epoch. 289: loss = 7.6675e+06, acc = 0.0000e+00, valid. loss = 7.6882e+06, valid. acc. = 0.0000e+00.\n",
      "Epoch. 290: loss = 7.7119e+06, acc = 0.0000e+00, valid. loss = 7.6799e+06, valid. acc. = 0.0000e+00.\n",
      "Epoch. 291: loss = 7.7270e+06, acc = 0.0000e+00, valid. loss = 7.8791e+06, valid. acc. = 0.0000e+00.\n",
      "Epoch. 292: loss = 7.7504e+06, acc = 0.0000e+00, valid. loss = 7.7711e+06, valid. acc. = 0.0000e+00.\n",
      "Epoch. 293: loss = 7.7303e+06, acc = 0.0000e+00, valid. loss = 7.6989e+06, valid. acc. = 0.0000e+00.\n",
      "Epoch. 294: loss = 7.7056e+06, acc = 0.0000e+00, valid. loss = 7.7009e+06, valid. acc. = 0.0000e+00.\n",
      "Epoch. 295: loss = 7.6937e+06, acc = 0.0000e+00, valid. loss = 7.6805e+06, valid. acc. = 0.0000e+00.\n",
      "Epoch. 296: loss = 7.6886e+06, acc = 0.0000e+00, valid. loss = 7.6838e+06, valid. acc. = 0.0000e+00.\n",
      "Epoch. 297: loss = 7.6859e+06, acc = 0.0000e+00, valid. loss = 7.6888e+06, valid. acc. = 0.0000e+00.\n",
      "Epoch. 298: loss = 7.6906e+06, acc = 0.0000e+00, valid. loss = 7.7009e+06, valid. acc. = 0.0000e+00.\n",
      "Epoch. 299: loss = 7.6825e+06, acc = 0.0000e+00, valid. loss = 7.7092e+06, valid. acc. = 0.0000e+00.\n",
      "Epoch. 300: loss = 7.7101e+06, acc = 0.0000e+00, valid. loss = 7.6877e+06, valid. acc. = 0.0000e+00.\n",
      "Epoch. 301: loss = 7.6971e+06, acc = 0.0000e+00, valid. loss = 7.7147e+06, valid. acc. = 0.0000e+00.\n",
      "Epoch. 302: loss = 7.6987e+06, acc = 0.0000e+00, valid. loss = 7.7105e+06, valid. acc. = 0.0000e+00.\n",
      "Epoch. 303: loss = 7.6849e+06, acc = 0.0000e+00, valid. loss = 7.7376e+06, valid. acc. = 0.0000e+00.\n",
      "Epoch. 304: loss = 7.7044e+06, acc = 0.0000e+00, valid. loss = 7.7114e+06, valid. acc. = 0.0000e+00.\n",
      "Epoch. 305: loss = 7.7164e+06, acc = 0.0000e+00, valid. loss = 7.7039e+06, valid. acc. = 0.0000e+00.\n",
      "Epoch. 306: loss = 7.6724e+06, acc = 0.0000e+00, valid. loss = 7.6788e+06, valid. acc. = 0.0000e+00.\n",
      "Epoch. 307: loss = 7.7063e+06, acc = 0.0000e+00, valid. loss = 7.6778e+06, valid. acc. = 0.0000e+00.\n",
      "Epoch. 308: loss = 7.7224e+06, acc = 0.0000e+00, valid. loss = 7.6757e+06, valid. acc. = 0.0000e+00.\n",
      "Epoch. 309: loss = 7.7115e+06, acc = 0.0000e+00, valid. loss = 7.7203e+06, valid. acc. = 0.0000e+00.\n",
      "Epoch. 310: loss = 7.6831e+06, acc = 0.0000e+00, valid. loss = 7.6780e+06, valid. acc. = 0.0000e+00.\n",
      "Epoch. 311: loss = 7.7055e+06, acc = 0.0000e+00, valid. loss = 7.6644e+06, valid. acc. = 0.0000e+00.\n",
      "Epoch. 312: loss = 7.6529e+06, acc = 0.0000e+00, valid. loss = 7.6744e+06, valid. acc. = 0.0000e+00.\n",
      "Epoch. 313: loss = 7.6938e+06, acc = 0.0000e+00, valid. loss = 7.6642e+06, valid. acc. = 0.0000e+00.\n",
      "Epoch. 314: loss = 7.6726e+06, acc = 0.0000e+00, valid. loss = 7.6619e+06, valid. acc. = 0.0000e+00.\n",
      "Epoch. 315: loss = 7.7117e+06, acc = 0.0000e+00, valid. loss = 7.6945e+06, valid. acc. = 0.0000e+00.\n",
      "Epoch. 316: loss = 7.6704e+06, acc = 0.0000e+00, valid. loss = 7.7120e+06, valid. acc. = 0.0000e+00.\n",
      "Epoch. 317: loss = 7.6825e+06, acc = 0.0000e+00, valid. loss = 7.6593e+06, valid. acc. = 0.0000e+00.\n",
      "Epoch. 318: loss = 7.6574e+06, acc = 0.0000e+00, valid. loss = 7.6700e+06, valid. acc. = 0.0000e+00.\n",
      "Epoch. 319: loss = 7.6895e+06, acc = 0.0000e+00, valid. loss = 7.6786e+06, valid. acc. = 0.0000e+00.\n",
      "Epoch. 320: loss = 7.6911e+06, acc = 0.0000e+00, valid. loss = 7.6879e+06, valid. acc. = 0.0000e+00.\n",
      "Epoch. 321: loss = 7.6874e+06, acc = 0.0000e+00, valid. loss = 7.7035e+06, valid. acc. = 0.0000e+00.\n",
      "Epoch. 322: loss = 7.6915e+06, acc = 0.0000e+00, valid. loss = 7.6794e+06, valid. acc. = 0.0000e+00.\n",
      "Epoch. 323: loss = 7.6622e+06, acc = 0.0000e+00, valid. loss = 7.6637e+06, valid. acc. = 0.0000e+00.\n",
      "Epoch. 324: loss = 7.6717e+06, acc = 0.0000e+00, valid. loss = 7.6575e+06, valid. acc. = 0.0000e+00.\n",
      "Epoch. 325: loss = 7.6947e+06, acc = 0.0000e+00, valid. loss = 7.6853e+06, valid. acc. = 0.0000e+00.\n",
      "Epoch. 326: loss = 7.6545e+06, acc = 0.0000e+00, valid. loss = 7.6772e+06, valid. acc. = 0.0000e+00.\n",
      "Epoch. 327: loss = 7.6586e+06, acc = 0.0000e+00, valid. loss = 7.6606e+06, valid. acc. = 0.0000e+00.\n",
      "Epoch. 328: loss = 7.6472e+06, acc = 0.0000e+00, valid. loss = 7.7123e+06, valid. acc. = 0.0000e+00.\n"
     ]
    },
    {
     "name": "stdout",
     "output_type": "stream",
     "text": [
      "Epoch. 329: loss = 7.6429e+06, acc = 0.0000e+00, valid. loss = 7.6958e+06, valid. acc. = 0.0000e+00.\n",
      "Epoch. 330: loss = 7.6664e+06, acc = 0.0000e+00, valid. loss = 7.6543e+06, valid. acc. = 0.0000e+00.\n",
      "Epoch. 331: loss = 7.6462e+06, acc = 0.0000e+00, valid. loss = 7.6465e+06, valid. acc. = 0.0000e+00.\n",
      "Epoch. 332: loss = 7.6736e+06, acc = 0.0000e+00, valid. loss = 7.6457e+06, valid. acc. = 0.0000e+00.\n",
      "Epoch. 333: loss = 7.6620e+06, acc = 0.0000e+00, valid. loss = 7.6563e+06, valid. acc. = 0.0000e+00.\n",
      "Epoch. 334: loss = 7.6843e+06, acc = 0.0000e+00, valid. loss = 7.6649e+06, valid. acc. = 0.0000e+00.\n",
      "Epoch. 335: loss = 7.6598e+06, acc = 0.0000e+00, valid. loss = 7.6596e+06, valid. acc. = 0.0000e+00.\n",
      "Epoch. 336: loss = 7.6687e+06, acc = 0.0000e+00, valid. loss = 7.6894e+06, valid. acc. = 0.0000e+00.\n",
      "Epoch. 337: loss = 7.6924e+06, acc = 0.0000e+00, valid. loss = 7.6819e+06, valid. acc. = 0.0000e+00.\n",
      "Epoch. 338: loss = 7.6838e+06, acc = 0.0000e+00, valid. loss = 7.6899e+06, valid. acc. = 0.0000e+00.\n",
      "Epoch. 339: loss = 7.6882e+06, acc = 0.0000e+00, valid. loss = 7.6497e+06, valid. acc. = 0.0000e+00.\n",
      "Epoch. 340: loss = 7.6388e+06, acc = 0.0000e+00, valid. loss = 7.6668e+06, valid. acc. = 0.0000e+00.\n",
      "Epoch. 341: loss = 7.6442e+06, acc = 0.0000e+00, valid. loss = 7.6903e+06, valid. acc. = 0.0000e+00.\n",
      "Epoch. 342: loss = 7.6750e+06, acc = 0.0000e+00, valid. loss = 7.6749e+06, valid. acc. = 0.0000e+00.\n",
      "Epoch. 343: loss = 7.6785e+06, acc = 0.0000e+00, valid. loss = 7.6518e+06, valid. acc. = 0.0000e+00.\n",
      "Epoch. 344: loss = 7.6352e+06, acc = 0.0000e+00, valid. loss = 7.6403e+06, valid. acc. = 0.0000e+00.\n",
      "Epoch. 345: loss = 7.6455e+06, acc = 0.0000e+00, valid. loss = 7.6308e+06, valid. acc. = 0.0000e+00.\n",
      "Epoch. 346: loss = 7.6662e+06, acc = 0.0000e+00, valid. loss = 7.6299e+06, valid. acc. = 0.0000e+00.\n",
      "Epoch. 347: loss = 7.6393e+06, acc = 0.0000e+00, valid. loss = 7.6287e+06, valid. acc. = 0.0000e+00.\n",
      "Epoch. 348: loss = 7.6322e+06, acc = 0.0000e+00, valid. loss = 7.6345e+06, valid. acc. = 0.0000e+00.\n",
      "Epoch. 349: loss = 7.6639e+06, acc = 0.0000e+00, valid. loss = 7.6357e+06, valid. acc. = 0.0000e+00.\n",
      "Epoch. 350: loss = 7.6411e+06, acc = 0.0000e+00, valid. loss = 7.6325e+06, valid. acc. = 0.0000e+00.\n",
      "Epoch. 351: loss = 7.6400e+06, acc = 0.0000e+00, valid. loss = 7.6265e+06, valid. acc. = 0.0000e+00.\n",
      "Epoch. 352: loss = 7.6334e+06, acc = 0.0000e+00, valid. loss = 7.6246e+06, valid. acc. = 0.0000e+00.\n",
      "Epoch. 353: loss = 7.6394e+06, acc = 0.0000e+00, valid. loss = 7.6301e+06, valid. acc. = 0.0000e+00.\n",
      "Epoch. 354: loss = 7.6544e+06, acc = 0.0000e+00, valid. loss = 7.6256e+06, valid. acc. = 0.0000e+00.\n",
      "Epoch. 355: loss = 7.6071e+06, acc = 0.0000e+00, valid. loss = 7.6231e+06, valid. acc. = 0.0000e+00.\n",
      "Epoch. 356: loss = 7.6826e+06, acc = 0.0000e+00, valid. loss = 7.6226e+06, valid. acc. = 0.0000e+00.\n",
      "Epoch. 357: loss = 7.6221e+06, acc = 0.0000e+00, valid. loss = 7.6419e+06, valid. acc. = 0.0000e+00.\n",
      "Epoch. 358: loss = 7.6047e+06, acc = 0.0000e+00, valid. loss = 7.6446e+06, valid. acc. = 0.0000e+00.\n",
      "Epoch. 359: loss = 7.6732e+06, acc = 0.0000e+00, valid. loss = 7.6466e+06, valid. acc. = 0.0000e+00.\n",
      "Epoch. 360: loss = 7.6281e+06, acc = 0.0000e+00, valid. loss = 7.6402e+06, valid. acc. = 0.0000e+00.\n",
      "Epoch. 361: loss = 7.6231e+06, acc = 0.0000e+00, valid. loss = 7.6230e+06, valid. acc. = 0.0000e+00.\n",
      "Epoch. 362: loss = 7.6246e+06, acc = 0.0000e+00, valid. loss = 7.6159e+06, valid. acc. = 0.0000e+00.\n",
      "Epoch. 363: loss = 7.6282e+06, acc = 0.0000e+00, valid. loss = 7.6378e+06, valid. acc. = 0.0000e+00.\n",
      "Epoch. 364: loss = 7.6388e+06, acc = 0.0000e+00, valid. loss = 7.6643e+06, valid. acc. = 0.0000e+00.\n",
      "Epoch. 365: loss = 7.6723e+06, acc = 0.0000e+00, valid. loss = 7.6694e+06, valid. acc. = 0.0000e+00.\n",
      "Epoch. 366: loss = 7.6268e+06, acc = 0.0000e+00, valid. loss = 7.6707e+06, valid. acc. = 0.0000e+00.\n",
      "Epoch. 367: loss = 7.6466e+06, acc = 0.0000e+00, valid. loss = 7.6112e+06, valid. acc. = 0.0000e+00.\n",
      "Epoch. 368: loss = 7.6528e+06, acc = 0.0000e+00, valid. loss = 7.6349e+06, valid. acc. = 0.0000e+00.\n",
      "Epoch. 369: loss = 7.6267e+06, acc = 0.0000e+00, valid. loss = 7.6311e+06, valid. acc. = 0.0000e+00.\n",
      "Epoch. 370: loss = 7.6349e+06, acc = 0.0000e+00, valid. loss = 7.6287e+06, valid. acc. = 0.0000e+00.\n",
      "Epoch. 371: loss = 7.6085e+06, acc = 0.0000e+00, valid. loss = 7.6331e+06, valid. acc. = 0.0000e+00.\n",
      "Epoch. 372: loss = 7.6228e+06, acc = 0.0000e+00, valid. loss = 7.6462e+06, valid. acc. = 0.0000e+00.\n",
      "Epoch. 373: loss = 7.6431e+06, acc = 0.0000e+00, valid. loss = 7.6091e+06, valid. acc. = 0.0000e+00.\n",
      "Epoch. 374: loss = 7.6443e+06, acc = 0.0000e+00, valid. loss = 7.6227e+06, valid. acc. = 0.0000e+00.\n",
      "Epoch. 375: loss = 7.6187e+06, acc = 0.0000e+00, valid. loss = 7.6247e+06, valid. acc. = 0.0000e+00.\n",
      "Epoch. 376: loss = 7.6246e+06, acc = 0.0000e+00, valid. loss = 7.6280e+06, valid. acc. = 0.0000e+00.\n",
      "Epoch. 377: loss = 7.6101e+06, acc = 0.0000e+00, valid. loss = 7.6369e+06, valid. acc. = 0.0000e+00.\n",
      "Epoch. 378: loss = 7.6252e+06, acc = 0.0000e+00, valid. loss = 7.6363e+06, valid. acc. = 0.0000e+00.\n",
      "Epoch. 379: loss = 7.6113e+06, acc = 0.0000e+00, valid. loss = 7.6234e+06, valid. acc. = 0.0000e+00.\n",
      "Epoch. 380: loss = 7.6583e+06, acc = 0.0000e+00, valid. loss = 7.6044e+06, valid. acc. = 0.0000e+00.\n",
      "Epoch. 381: loss = 7.6163e+06, acc = 0.0000e+00, valid. loss = 7.6022e+06, valid. acc. = 0.0000e+00.\n",
      "Epoch. 382: loss = 7.6066e+06, acc = 0.0000e+00, valid. loss = 7.6039e+06, valid. acc. = 0.0000e+00.\n",
      "Epoch. 383: loss = 7.6394e+06, acc = 0.0000e+00, valid. loss = 7.6175e+06, valid. acc. = 0.0000e+00.\n",
      "Epoch. 384: loss = 7.6324e+06, acc = 0.0000e+00, valid. loss = 7.6142e+06, valid. acc. = 0.0000e+00.\n",
      "Epoch. 385: loss = 7.6151e+06, acc = 0.0000e+00, valid. loss = 7.6112e+06, valid. acc. = 0.0000e+00.\n",
      "Epoch. 386: loss = 7.5992e+06, acc = 0.0000e+00, valid. loss = 7.6145e+06, valid. acc. = 0.0000e+00.\n",
      "Epoch. 387: loss = 7.6026e+06, acc = 0.0000e+00, valid. loss = 7.6345e+06, valid. acc. = 0.0000e+00.\n",
      "Epoch. 388: loss = 7.6081e+06, acc = 0.0000e+00, valid. loss = 7.6177e+06, valid. acc. = 0.0000e+00.\n",
      "Epoch. 389: loss = 7.6076e+06, acc = 0.0000e+00, valid. loss = 7.6152e+06, valid. acc. = 0.0000e+00.\n",
      "Epoch. 390: loss = 7.6096e+06, acc = 0.0000e+00, valid. loss = 7.6237e+06, valid. acc. = 0.0000e+00.\n",
      "Epoch. 391: loss = 7.6196e+06, acc = 0.0000e+00, valid. loss = 7.6106e+06, valid. acc. = 0.0000e+00.\n",
      "Epoch. 392: loss = 7.5857e+06, acc = 0.0000e+00, valid. loss = 7.6088e+06, valid. acc. = 0.0000e+00.\n",
      "Epoch. 393: loss = 7.6090e+06, acc = 0.0000e+00, valid. loss = 7.6116e+06, valid. acc. = 0.0000e+00.\n",
      "Epoch. 394: loss = 7.6262e+06, acc = 0.0000e+00, valid. loss = 7.6070e+06, valid. acc. = 0.0000e+00.\n",
      "Epoch. 395: loss = 7.6050e+06, acc = 0.0000e+00, valid. loss = 7.6131e+06, valid. acc. = 0.0000e+00.\n",
      "Epoch. 396: loss = 7.6051e+06, acc = 0.0000e+00, valid. loss = 7.6354e+06, valid. acc. = 0.0000e+00.\n",
      "Epoch. 397: loss = 7.6267e+06, acc = 0.0000e+00, valid. loss = 7.6084e+06, valid. acc. = 0.0000e+00.\n",
      "Epoch. 398: loss = 7.5875e+06, acc = 0.0000e+00, valid. loss = 7.5903e+06, valid. acc. = 0.0000e+00.\n",
      "Epoch. 399: loss = 7.5931e+06, acc = 0.0000e+00, valid. loss = 7.5890e+06, valid. acc. = 0.0000e+00.\n",
      "Epoch. 400: loss = 7.5777e+06, acc = 0.0000e+00, valid. loss = 7.5859e+06, valid. acc. = 0.0000e+00.\n",
      "Epoch. 401: loss = 7.5892e+06, acc = 0.0000e+00, valid. loss = 7.5947e+06, valid. acc. = 0.0000e+00.\n",
      "Epoch. 402: loss = 7.5747e+06, acc = 0.0000e+00, valid. loss = 7.5908e+06, valid. acc. = 0.0000e+00.\n",
      "Epoch. 403: loss = 7.6090e+06, acc = 0.0000e+00, valid. loss = 7.5784e+06, valid. acc. = 0.0000e+00.\n",
      "Epoch. 404: loss = 7.6029e+06, acc = 0.0000e+00, valid. loss = 7.5909e+06, valid. acc. = 0.0000e+00.\n",
      "Epoch. 405: loss = 7.5941e+06, acc = 0.0000e+00, valid. loss = 7.6035e+06, valid. acc. = 0.0000e+00.\n",
      "Epoch. 406: loss = 7.5934e+06, acc = 0.0000e+00, valid. loss = 7.6005e+06, valid. acc. = 0.0000e+00.\n",
      "Epoch. 407: loss = 7.5671e+06, acc = 0.0000e+00, valid. loss = 7.5815e+06, valid. acc. = 0.0000e+00.\n",
      "Epoch. 408: loss = 7.5745e+06, acc = 0.0000e+00, valid. loss = 7.5765e+06, valid. acc. = 0.0000e+00.\n",
      "Epoch. 409: loss = 7.6022e+06, acc = 0.0000e+00, valid. loss = 7.5793e+06, valid. acc. = 0.0000e+00.\n",
      "Epoch. 410: loss = 7.5939e+06, acc = 0.0000e+00, valid. loss = 7.5710e+06, valid. acc. = 0.0000e+00.\n"
     ]
    },
    {
     "name": "stdout",
     "output_type": "stream",
     "text": [
      "Epoch. 411: loss = 7.5873e+06, acc = 0.0000e+00, valid. loss = 7.5776e+06, valid. acc. = 0.0000e+00.\n",
      "Epoch. 412: loss = 7.5957e+06, acc = 0.0000e+00, valid. loss = 7.5767e+06, valid. acc. = 0.0000e+00.\n",
      "Epoch. 413: loss = 7.5744e+06, acc = 0.0000e+00, valid. loss = 7.5827e+06, valid. acc. = 0.0000e+00.\n",
      "Epoch. 414: loss = 7.5553e+06, acc = 0.0000e+00, valid. loss = 7.5995e+06, valid. acc. = 0.0000e+00.\n",
      "Epoch. 415: loss = 7.5843e+06, acc = 0.0000e+00, valid. loss = 7.6048e+06, valid. acc. = 0.0000e+00.\n",
      "Epoch. 416: loss = 7.5853e+06, acc = 0.0000e+00, valid. loss = 7.5824e+06, valid. acc. = 0.0000e+00.\n",
      "Epoch. 417: loss = 7.5760e+06, acc = 0.0000e+00, valid. loss = 7.5681e+06, valid. acc. = 0.0000e+00.\n",
      "Epoch. 418: loss = 7.5809e+06, acc = 0.0000e+00, valid. loss = 7.5631e+06, valid. acc. = 0.0000e+00.\n",
      "Epoch. 419: loss = 7.5717e+06, acc = 0.0000e+00, valid. loss = 7.5631e+06, valid. acc. = 0.0000e+00.\n",
      "Epoch. 420: loss = 7.6020e+06, acc = 0.0000e+00, valid. loss = 7.5624e+06, valid. acc. = 0.0000e+00.\n",
      "Epoch. 421: loss = 7.5743e+06, acc = 0.0000e+00, valid. loss = 7.5599e+06, valid. acc. = 0.0000e+00.\n",
      "Epoch. 422: loss = 7.5745e+06, acc = 0.0000e+00, valid. loss = 7.5589e+06, valid. acc. = 0.0000e+00.\n",
      "Epoch. 423: loss = 7.5767e+06, acc = 0.0000e+00, valid. loss = 7.5583e+06, valid. acc. = 0.0000e+00.\n",
      "Epoch. 424: loss = 7.5581e+06, acc = 0.0000e+00, valid. loss = 7.5573e+06, valid. acc. = 0.0000e+00.\n",
      "Epoch. 425: loss = 7.5833e+06, acc = 0.0000e+00, valid. loss = 7.5594e+06, valid. acc. = 0.0000e+00.\n",
      "Epoch. 426: loss = 7.5804e+06, acc = 0.0000e+00, valid. loss = 7.5679e+06, valid. acc. = 0.0000e+00.\n",
      "Epoch. 427: loss = 7.5881e+06, acc = 0.0000e+00, valid. loss = 7.5701e+06, valid. acc. = 0.0000e+00.\n",
      "Epoch. 428: loss = 7.5743e+06, acc = 0.0000e+00, valid. loss = 7.5629e+06, valid. acc. = 0.0000e+00.\n",
      "Epoch. 429: loss = 7.5389e+06, acc = 0.0000e+00, valid. loss = 7.5674e+06, valid. acc. = 0.0000e+00.\n",
      "Epoch. 430: loss = 7.5848e+06, acc = 0.0000e+00, valid. loss = 7.5659e+06, valid. acc. = 0.0000e+00.\n",
      "Epoch. 431: loss = 7.5411e+06, acc = 0.0000e+00, valid. loss = 7.5663e+06, valid. acc. = 0.0000e+00.\n",
      "Epoch. 432: loss = 7.5356e+06, acc = 0.0000e+00, valid. loss = 7.5642e+06, valid. acc. = 0.0000e+00.\n",
      "Epoch. 433: loss = 7.5626e+06, acc = 0.0000e+00, valid. loss = 7.5590e+06, valid. acc. = 0.0000e+00.\n",
      "Epoch. 434: loss = 7.5807e+06, acc = 0.0000e+00, valid. loss = 7.5593e+06, valid. acc. = 0.0000e+00.\n",
      "Epoch. 435: loss = 7.5465e+06, acc = 0.0000e+00, valid. loss = 7.5578e+06, valid. acc. = 0.0000e+00.\n",
      "Epoch. 436: loss = 7.5876e+06, acc = 0.0000e+00, valid. loss = 7.5565e+06, valid. acc. = 0.0000e+00.\n",
      "Epoch. 437: loss = 7.5251e+06, acc = 0.0000e+00, valid. loss = 7.5614e+06, valid. acc. = 0.0000e+00.\n",
      "Epoch. 438: loss = 7.5565e+06, acc = 0.0000e+00, valid. loss = 7.5505e+06, valid. acc. = 0.0000e+00.\n",
      "Epoch. 439: loss = 7.5526e+06, acc = 0.0000e+00, valid. loss = 7.5504e+06, valid. acc. = 0.0000e+00.\n",
      "Epoch. 440: loss = 7.5670e+06, acc = 0.0000e+00, valid. loss = 7.5533e+06, valid. acc. = 0.0000e+00.\n",
      "Epoch. 441: loss = 7.5400e+06, acc = 0.0000e+00, valid. loss = 7.5524e+06, valid. acc. = 0.0000e+00.\n",
      "Epoch. 442: loss = 7.5615e+06, acc = 0.0000e+00, valid. loss = 7.5543e+06, valid. acc. = 0.0000e+00.\n",
      "Epoch. 443: loss = 7.5352e+06, acc = 0.0000e+00, valid. loss = 7.5572e+06, valid. acc. = 0.0000e+00.\n",
      "Epoch. 444: loss = 7.5381e+06, acc = 0.0000e+00, valid. loss = 7.5545e+06, valid. acc. = 0.0000e+00.\n",
      "Epoch. 445: loss = 7.5901e+06, acc = 0.0000e+00, valid. loss = 7.5436e+06, valid. acc. = 0.0000e+00.\n",
      "Epoch. 446: loss = 7.5547e+06, acc = 0.0000e+00, valid. loss = 7.5434e+06, valid. acc. = 0.0000e+00.\n",
      "Epoch. 447: loss = 7.5492e+06, acc = 0.0000e+00, valid. loss = 7.5352e+06, valid. acc. = 0.0000e+00.\n",
      "Epoch. 448: loss = 7.5359e+06, acc = 0.0000e+00, valid. loss = 7.5401e+06, valid. acc. = 0.0000e+00.\n",
      "Epoch. 449: loss = 7.5620e+06, acc = 0.0000e+00, valid. loss = 7.5514e+06, valid. acc. = 0.0000e+00.\n",
      "Epoch. 450: loss = 7.5446e+06, acc = 0.0000e+00, valid. loss = 7.5330e+06, valid. acc. = 0.0000e+00.\n",
      "Epoch. 451: loss = 7.5313e+06, acc = 0.0000e+00, valid. loss = 7.5315e+06, valid. acc. = 0.0000e+00.\n",
      "Epoch. 452: loss = 7.5403e+06, acc = 0.0000e+00, valid. loss = 7.5344e+06, valid. acc. = 0.0000e+00.\n",
      "Epoch. 453: loss = 7.5616e+06, acc = 0.0000e+00, valid. loss = 7.5455e+06, valid. acc. = 0.0000e+00.\n",
      "Epoch. 454: loss = 7.5683e+06, acc = 0.0000e+00, valid. loss = 7.5323e+06, valid. acc. = 0.0000e+00.\n",
      "Epoch. 455: loss = 7.5290e+06, acc = 0.0000e+00, valid. loss = 7.5415e+06, valid. acc. = 0.0000e+00.\n",
      "Epoch. 456: loss = 7.5518e+06, acc = 0.0000e+00, valid. loss = 7.5504e+06, valid. acc. = 0.0000e+00.\n",
      "Epoch. 457: loss = 7.5305e+06, acc = 0.0000e+00, valid. loss = 7.5284e+06, valid. acc. = 0.0000e+00.\n",
      "Epoch. 458: loss = 7.5316e+06, acc = 0.0000e+00, valid. loss = 7.5293e+06, valid. acc. = 0.0000e+00.\n",
      "Epoch. 459: loss = 7.5349e+06, acc = 0.0000e+00, valid. loss = 7.5338e+06, valid. acc. = 0.0000e+00.\n",
      "Epoch. 460: loss = 7.4873e+06, acc = 0.0000e+00, valid. loss = 7.5343e+06, valid. acc. = 0.0000e+00.\n",
      "Epoch. 461: loss = 7.5218e+06, acc = 0.0000e+00, valid. loss = 7.5212e+06, valid. acc. = 0.0000e+00.\n",
      "Epoch. 462: loss = 7.4978e+06, acc = 0.0000e+00, valid. loss = 7.5228e+06, valid. acc. = 0.0000e+00.\n",
      "Epoch. 463: loss = 7.5001e+06, acc = 0.0000e+00, valid. loss = 7.5216e+06, valid. acc. = 0.0000e+00.\n",
      "Epoch. 464: loss = 7.5489e+06, acc = 0.0000e+00, valid. loss = 7.5386e+06, valid. acc. = 0.0000e+00.\n",
      "Epoch. 465: loss = 7.5257e+06, acc = 0.0000e+00, valid. loss = 7.5367e+06, valid. acc. = 0.0000e+00.\n",
      "Epoch. 466: loss = 7.5535e+06, acc = 0.0000e+00, valid. loss = 7.5314e+06, valid. acc. = 0.0000e+00.\n",
      "Epoch. 467: loss = 7.5280e+06, acc = 0.0000e+00, valid. loss = 7.5240e+06, valid. acc. = 0.0000e+00.\n",
      "Epoch. 468: loss = 7.5143e+06, acc = 0.0000e+00, valid. loss = 7.5155e+06, valid. acc. = 0.0000e+00.\n",
      "Epoch. 469: loss = 7.5158e+06, acc = 0.0000e+00, valid. loss = 7.5158e+06, valid. acc. = 0.0000e+00.\n",
      "Epoch. 470: loss = 7.5724e+06, acc = 0.0000e+00, valid. loss = 7.5323e+06, valid. acc. = 0.0000e+00.\n",
      "Epoch. 471: loss = 7.5185e+06, acc = 0.0000e+00, valid. loss = 7.5243e+06, valid. acc. = 0.0000e+00.\n",
      "Epoch. 472: loss = 7.5232e+06, acc = 0.0000e+00, valid. loss = 7.5189e+06, valid. acc. = 0.0000e+00.\n",
      "Epoch. 473: loss = 7.5417e+06, acc = 0.0000e+00, valid. loss = 7.5281e+06, valid. acc. = 0.0000e+00.\n",
      "Epoch. 474: loss = 7.4971e+06, acc = 0.0000e+00, valid. loss = 7.5270e+06, valid. acc. = 0.0000e+00.\n",
      "Epoch. 475: loss = 7.5120e+06, acc = 0.0000e+00, valid. loss = 7.5180e+06, valid. acc. = 0.0000e+00.\n",
      "Epoch. 476: loss = 7.5389e+06, acc = 0.0000e+00, valid. loss = 7.5102e+06, valid. acc. = 0.0000e+00.\n",
      "Epoch. 477: loss = 7.4892e+06, acc = 0.0000e+00, valid. loss = 7.5068e+06, valid. acc. = 0.0000e+00.\n",
      "Epoch. 478: loss = 7.5202e+06, acc = 0.0000e+00, valid. loss = 7.5061e+06, valid. acc. = 0.0000e+00.\n",
      "Epoch. 479: loss = 7.5064e+06, acc = 0.0000e+00, valid. loss = 7.5128e+06, valid. acc. = 0.0000e+00.\n",
      "Epoch. 480: loss = 7.5123e+06, acc = 0.0000e+00, valid. loss = 7.5082e+06, valid. acc. = 0.0000e+00.\n",
      "Epoch. 481: loss = 7.4968e+06, acc = 0.0000e+00, valid. loss = 7.5104e+06, valid. acc. = 0.0000e+00.\n",
      "Epoch. 482: loss = 7.5009e+06, acc = 0.0000e+00, valid. loss = 7.5145e+06, valid. acc. = 0.0000e+00.\n",
      "Epoch. 483: loss = 7.5006e+06, acc = 0.0000e+00, valid. loss = 7.5024e+06, valid. acc. = 0.0000e+00.\n",
      "Epoch. 484: loss = 7.5252e+06, acc = 0.0000e+00, valid. loss = 7.5313e+06, valid. acc. = 0.0000e+00.\n",
      "Epoch. 485: loss = 7.5168e+06, acc = 0.0000e+00, valid. loss = 7.5023e+06, valid. acc. = 0.0000e+00.\n",
      "Epoch. 486: loss = 7.5133e+06, acc = 0.0000e+00, valid. loss = 7.5015e+06, valid. acc. = 0.0000e+00.\n",
      "Epoch. 487: loss = 7.5224e+06, acc = 0.0000e+00, valid. loss = 7.5141e+06, valid. acc. = 0.0000e+00.\n",
      "Epoch. 488: loss = 7.4926e+06, acc = 0.0000e+00, valid. loss = 7.5080e+06, valid. acc. = 0.0000e+00.\n",
      "Epoch. 489: loss = 7.4798e+06, acc = 0.0000e+00, valid. loss = 7.4996e+06, valid. acc. = 0.0000e+00.\n",
      "Epoch. 490: loss = 7.5084e+06, acc = 0.0000e+00, valid. loss = 7.4965e+06, valid. acc. = 0.0000e+00.\n",
      "Epoch. 491: loss = 7.4966e+06, acc = 0.0000e+00, valid. loss = 7.4964e+06, valid. acc. = 0.0000e+00.\n",
      "Epoch. 492: loss = 7.4868e+06, acc = 0.0000e+00, valid. loss = 7.4983e+06, valid. acc. = 0.0000e+00.\n"
     ]
    },
    {
     "name": "stdout",
     "output_type": "stream",
     "text": [
      "Epoch. 493: loss = 7.4711e+06, acc = 0.0000e+00, valid. loss = 7.5004e+06, valid. acc. = 0.0000e+00.\n",
      "Epoch. 494: loss = 7.4857e+06, acc = 0.0000e+00, valid. loss = 7.4915e+06, valid. acc. = 0.0000e+00.\n",
      "Epoch. 495: loss = 7.5085e+06, acc = 0.0000e+00, valid. loss = 7.5130e+06, valid. acc. = 0.0000e+00.\n",
      "Epoch. 496: loss = 7.4884e+06, acc = 0.0000e+00, valid. loss = 7.4905e+06, valid. acc. = 0.0000e+00.\n",
      "Epoch. 497: loss = 7.5067e+06, acc = 0.0000e+00, valid. loss = 7.5035e+06, valid. acc. = 0.0000e+00.\n",
      "Epoch. 498: loss = 7.5077e+06, acc = 0.0000e+00, valid. loss = 7.4932e+06, valid. acc. = 0.0000e+00.\n",
      "Epoch. 499: loss = 7.4982e+06, acc = 0.0000e+00, valid. loss = 7.4982e+06, valid. acc. = 0.0000e+00.\n",
      "Epoch. 500: loss = 7.5051e+06, acc = 0.0000e+00, valid. loss = 7.5039e+06, valid. acc. = 0.0000e+00.\n",
      "Epoch. 501: loss = 7.5067e+06, acc = 0.0000e+00, valid. loss = 7.4972e+06, valid. acc. = 0.0000e+00.\n",
      "Epoch. 502: loss = 7.4927e+06, acc = 0.0000e+00, valid. loss = 7.4865e+06, valid. acc. = 0.0000e+00.\n",
      "Epoch. 503: loss = 7.5038e+06, acc = 0.0000e+00, valid. loss = 7.4882e+06, valid. acc. = 0.0000e+00.\n",
      "Epoch. 504: loss = 7.4833e+06, acc = 0.0000e+00, valid. loss = 7.4851e+06, valid. acc. = 0.0000e+00.\n",
      "Epoch. 505: loss = 7.4861e+06, acc = 0.0000e+00, valid. loss = 7.4837e+06, valid. acc. = 0.0000e+00.\n",
      "Epoch. 506: loss = 7.4855e+06, acc = 0.0000e+00, valid. loss = 7.4828e+06, valid. acc. = 0.0000e+00.\n",
      "Epoch. 507: loss = 7.4931e+06, acc = 0.0000e+00, valid. loss = 7.4847e+06, valid. acc. = 0.0000e+00.\n",
      "Epoch. 508: loss = 7.4904e+06, acc = 0.0000e+00, valid. loss = 7.4802e+06, valid. acc. = 0.0000e+00.\n",
      "Epoch. 509: loss = 7.5038e+06, acc = 0.0000e+00, valid. loss = 7.4793e+06, valid. acc. = 0.0000e+00.\n",
      "Epoch. 510: loss = 7.4887e+06, acc = 0.0000e+00, valid. loss = 7.4780e+06, valid. acc. = 0.0000e+00.\n",
      "Epoch. 511: loss = 7.4879e+06, acc = 0.0000e+00, valid. loss = 7.4771e+06, valid. acc. = 0.0000e+00.\n",
      "Epoch. 512: loss = 7.5075e+06, acc = 0.0000e+00, valid. loss = 7.4787e+06, valid. acc. = 0.0000e+00.\n",
      "Epoch. 513: loss = 7.4813e+06, acc = 0.0000e+00, valid. loss = 7.4874e+06, valid. acc. = 0.0000e+00.\n",
      "Epoch. 514: loss = 7.4723e+06, acc = 0.0000e+00, valid. loss = 7.4797e+06, valid. acc. = 0.0000e+00.\n",
      "Epoch. 515: loss = 7.4753e+06, acc = 0.0000e+00, valid. loss = 7.4798e+06, valid. acc. = 0.0000e+00.\n",
      "Epoch. 516: loss = 7.4737e+06, acc = 0.0000e+00, valid. loss = 7.5128e+06, valid. acc. = 0.0000e+00.\n",
      "Epoch. 517: loss = 7.5032e+06, acc = 0.0000e+00, valid. loss = 7.4814e+06, valid. acc. = 0.0000e+00.\n",
      "Epoch. 518: loss = 7.4947e+06, acc = 0.0000e+00, valid. loss = 7.4846e+06, valid. acc. = 0.0000e+00.\n",
      "Epoch. 519: loss = 7.4964e+06, acc = 0.0000e+00, valid. loss = 7.4752e+06, valid. acc. = 0.0000e+00.\n",
      "Epoch. 520: loss = 7.4774e+06, acc = 0.0000e+00, valid. loss = 7.4778e+06, valid. acc. = 0.0000e+00.\n",
      "Epoch. 521: loss = 7.4879e+06, acc = 0.0000e+00, valid. loss = 7.4897e+06, valid. acc. = 0.0000e+00.\n",
      "Epoch. 522: loss = 7.4632e+06, acc = 0.0000e+00, valid. loss = 7.4828e+06, valid. acc. = 0.0000e+00.\n",
      "Epoch. 523: loss = 7.4615e+06, acc = 0.0000e+00, valid. loss = 7.4693e+06, valid. acc. = 0.0000e+00.\n",
      "Epoch. 524: loss = 7.4800e+06, acc = 0.0000e+00, valid. loss = 7.4787e+06, valid. acc. = 0.0000e+00.\n",
      "Epoch. 525: loss = 7.4550e+06, acc = 0.0000e+00, valid. loss = 7.4728e+06, valid. acc. = 0.0000e+00.\n",
      "Epoch. 526: loss = 7.4713e+06, acc = 0.0000e+00, valid. loss = 7.4680e+06, valid. acc. = 0.0000e+00.\n",
      "Epoch. 527: loss = 7.4769e+06, acc = 0.0000e+00, valid. loss = 7.4658e+06, valid. acc. = 0.0000e+00.\n",
      "Epoch. 528: loss = 7.4652e+06, acc = 0.0000e+00, valid. loss = 7.4757e+06, valid. acc. = 0.0000e+00.\n",
      "Epoch. 529: loss = 7.4806e+06, acc = 0.0000e+00, valid. loss = 7.4660e+06, valid. acc. = 0.0000e+00.\n",
      "Epoch. 530: loss = 7.4425e+06, acc = 0.0000e+00, valid. loss = 7.4625e+06, valid. acc. = 0.0000e+00.\n",
      "Epoch. 531: loss = 7.4425e+06, acc = 0.0000e+00, valid. loss = 7.4611e+06, valid. acc. = 0.0000e+00.\n",
      "Epoch. 532: loss = 7.4536e+06, acc = 0.0000e+00, valid. loss = 7.4682e+06, valid. acc. = 0.0000e+00.\n",
      "Epoch. 533: loss = 7.4597e+06, acc = 0.0000e+00, valid. loss = 7.4720e+06, valid. acc. = 0.0000e+00.\n",
      "Epoch. 534: loss = 7.4616e+06, acc = 0.0000e+00, valid. loss = 7.4653e+06, valid. acc. = 0.0000e+00.\n",
      "Epoch. 535: loss = 7.4606e+06, acc = 0.0000e+00, valid. loss = 7.4645e+06, valid. acc. = 0.0000e+00.\n",
      "Epoch. 536: loss = 7.4554e+06, acc = 0.0000e+00, valid. loss = 7.4676e+06, valid. acc. = 0.0000e+00.\n",
      "Epoch. 537: loss = 7.4449e+06, acc = 0.0000e+00, valid. loss = 7.4685e+06, valid. acc. = 0.0000e+00.\n",
      "Epoch. 538: loss = 7.4690e+06, acc = 0.0000e+00, valid. loss = 7.4806e+06, valid. acc. = 0.0000e+00.\n",
      "Epoch. 539: loss = 7.4719e+06, acc = 0.0000e+00, valid. loss = 7.4609e+06, valid. acc. = 0.0000e+00.\n",
      "Epoch. 540: loss = 7.4721e+06, acc = 0.0000e+00, valid. loss = 7.4593e+06, valid. acc. = 0.0000e+00.\n",
      "Epoch. 541: loss = 7.4749e+06, acc = 0.0000e+00, valid. loss = 7.4494e+06, valid. acc. = 0.0000e+00.\n",
      "Epoch. 542: loss = 7.4279e+06, acc = 0.0000e+00, valid. loss = 7.4211e+06, valid. acc. = 0.0000e+00.\n",
      "Epoch. 543: loss = 7.4273e+06, acc = 0.0000e+00, valid. loss = 7.3902e+06, valid. acc. = 0.0000e+00.\n",
      "Epoch. 544: loss = 7.3847e+06, acc = 0.0000e+00, valid. loss = 7.3603e+06, valid. acc. = 0.0000e+00.\n",
      "Epoch. 545: loss = 7.3154e+06, acc = 0.0000e+00, valid. loss = 7.3119e+06, valid. acc. = 0.0000e+00.\n",
      "Epoch. 546: loss = 7.2883e+06, acc = 0.0000e+00, valid. loss = 7.2706e+06, valid. acc. = 0.0000e+00.\n",
      "Epoch. 547: loss = 7.2671e+06, acc = 0.0000e+00, valid. loss = 7.2360e+06, valid. acc. = 0.0000e+00.\n",
      "Epoch. 548: loss = 7.2126e+06, acc = 0.0000e+00, valid. loss = 7.2024e+06, valid. acc. = 0.0000e+00.\n",
      "Epoch. 549: loss = 7.1841e+06, acc = 0.0000e+00, valid. loss = 7.1286e+06, valid. acc. = 0.0000e+00.\n",
      "Epoch. 550: loss = 7.1127e+06, acc = 0.0000e+00, valid. loss = 7.0819e+06, valid. acc. = 0.0000e+00.\n",
      "Epoch. 551: loss = 7.0389e+06, acc = 0.0000e+00, valid. loss = 7.0216e+06, valid. acc. = 0.0000e+00.\n",
      "Epoch. 552: loss = 6.9827e+06, acc = 0.0000e+00, valid. loss = 6.9743e+06, valid. acc. = 0.0000e+00.\n",
      "Epoch. 553: loss = 6.9501e+06, acc = 0.0000e+00, valid. loss = 6.9031e+06, valid. acc. = 0.0000e+00.\n",
      "Epoch. 554: loss = 6.8732e+06, acc = 0.0000e+00, valid. loss = 6.8453e+06, valid. acc. = 0.0000e+00.\n",
      "Epoch. 555: loss = 6.8141e+06, acc = 0.0000e+00, valid. loss = 6.7683e+06, valid. acc. = 0.0000e+00.\n",
      "Epoch. 556: loss = 6.7472e+06, acc = 0.0000e+00, valid. loss = 6.6876e+06, valid. acc. = 0.0000e+00.\n",
      "Epoch. 557: loss = 6.6714e+06, acc = 0.0000e+00, valid. loss = 6.6137e+06, valid. acc. = 0.0000e+00.\n",
      "Epoch. 558: loss = 6.5648e+06, acc = 0.0000e+00, valid. loss = 6.5264e+06, valid. acc. = 0.0000e+00.\n",
      "Epoch. 559: loss = 6.4741e+06, acc = 0.0000e+00, valid. loss = 6.4399e+06, valid. acc. = 0.0000e+00.\n",
      "Epoch. 560: loss = 6.4211e+06, acc = 0.0000e+00, valid. loss = 6.3502e+06, valid. acc. = 0.0000e+00.\n",
      "Epoch. 561: loss = 6.3150e+06, acc = 0.0000e+00, valid. loss = 6.2740e+06, valid. acc. = 0.0000e+00.\n",
      "Epoch. 562: loss = 6.2231e+06, acc = 0.0000e+00, valid. loss = 6.1682e+06, valid. acc. = 0.0000e+00.\n",
      "Epoch. 563: loss = 6.1276e+06, acc = 0.0000e+00, valid. loss = 6.0875e+06, valid. acc. = 0.0000e+00.\n",
      "Epoch. 564: loss = 6.0339e+06, acc = 0.0000e+00, valid. loss = 6.0178e+06, valid. acc. = 0.0000e+00.\n",
      "Epoch. 565: loss = 5.9469e+06, acc = 0.0000e+00, valid. loss = 5.8981e+06, valid. acc. = 0.0000e+00.\n",
      "Epoch. 566: loss = 5.8390e+06, acc = 0.0000e+00, valid. loss = 5.7835e+06, valid. acc. = 0.0000e+00.\n",
      "Epoch. 567: loss = 5.7347e+06, acc = 0.0000e+00, valid. loss = 5.7165e+06, valid. acc. = 0.0000e+00.\n",
      "Epoch. 568: loss = 5.6576e+06, acc = 0.0000e+00, valid. loss = 5.6368e+06, valid. acc. = 0.0000e+00.\n",
      "Epoch. 569: loss = 5.5703e+06, acc = 0.0000e+00, valid. loss = 5.4924e+06, valid. acc. = 0.0000e+00.\n",
      "Epoch. 570: loss = 5.4183e+06, acc = 0.0000e+00, valid. loss = 5.3677e+06, valid. acc. = 0.0000e+00.\n",
      "Epoch. 571: loss = 5.3025e+06, acc = 0.0000e+00, valid. loss = 5.2722e+06, valid. acc. = 0.0000e+00.\n",
      "Epoch. 572: loss = 5.2013e+06, acc = 0.0000e+00, valid. loss = 5.1375e+06, valid. acc. = 0.0000e+00.\n",
      "Epoch. 573: loss = 5.1257e+06, acc = 0.0000e+00, valid. loss = 5.0231e+06, valid. acc. = 0.0000e+00.\n",
      "Epoch. 574: loss = 4.9806e+06, acc = 0.0000e+00, valid. loss = 4.9430e+06, valid. acc. = 0.0000e+00.\n"
     ]
    },
    {
     "name": "stdout",
     "output_type": "stream",
     "text": [
      "Epoch. 575: loss = 4.9304e+06, acc = 0.0000e+00, valid. loss = 4.8378e+06, valid. acc. = 0.0000e+00.\n",
      "Epoch. 576: loss = 4.8029e+06, acc = 0.0000e+00, valid. loss = 4.7382e+06, valid. acc. = 0.0000e+00.\n",
      "Epoch. 577: loss = 4.6429e+06, acc = 0.0000e+00, valid. loss = 4.6030e+06, valid. acc. = 0.0000e+00.\n",
      "Epoch. 578: loss = 4.5531e+06, acc = 0.0000e+00, valid. loss = 4.4981e+06, valid. acc. = 0.0000e+00.\n",
      "Epoch. 579: loss = 4.4410e+06, acc = 0.0000e+00, valid. loss = 4.3465e+06, valid. acc. = 0.0000e+00.\n",
      "Epoch. 580: loss = 4.2948e+06, acc = 0.0000e+00, valid. loss = 4.2350e+06, valid. acc. = 0.0000e+00.\n",
      "Epoch. 581: loss = 4.1810e+06, acc = 0.0000e+00, valid. loss = 4.1157e+06, valid. acc. = 0.0000e+00.\n",
      "Epoch. 582: loss = 4.0757e+06, acc = 0.0000e+00, valid. loss = 4.0084e+06, valid. acc. = 0.0000e+00.\n",
      "Epoch. 583: loss = 3.9454e+06, acc = 0.0000e+00, valid. loss = 3.9158e+06, valid. acc. = 0.0000e+00.\n",
      "Epoch. 584: loss = 3.8911e+06, acc = 0.0000e+00, valid. loss = 3.8280e+06, valid. acc. = 0.0000e+00.\n",
      "Epoch. 585: loss = 3.8120e+06, acc = 0.0000e+00, valid. loss = 3.7561e+06, valid. acc. = 0.0000e+00.\n",
      "Epoch. 586: loss = 3.6865e+06, acc = 0.0000e+00, valid. loss = 3.6343e+06, valid. acc. = 0.0000e+00.\n",
      "Epoch. 587: loss = 3.5959e+06, acc = 0.0000e+00, valid. loss = 3.5076e+06, valid. acc. = 0.0000e+00.\n",
      "Epoch. 588: loss = 3.4746e+06, acc = 0.0000e+00, valid. loss = 3.3944e+06, valid. acc. = 0.0000e+00.\n",
      "Epoch. 589: loss = 3.3542e+06, acc = 0.0000e+00, valid. loss = 3.3126e+06, valid. acc. = 0.0000e+00.\n",
      "Epoch. 590: loss = 3.3071e+06, acc = 0.0000e+00, valid. loss = 3.2371e+06, valid. acc. = 0.0000e+00.\n",
      "Epoch. 591: loss = 3.1905e+06, acc = 0.0000e+00, valid. loss = 3.1130e+06, valid. acc. = 0.0000e+00.\n",
      "Epoch. 592: loss = 3.0820e+06, acc = 0.0000e+00, valid. loss = 3.0730e+06, valid. acc. = 0.0000e+00.\n",
      "Epoch. 593: loss = 3.0036e+06, acc = 0.0000e+00, valid. loss = 2.9416e+06, valid. acc. = 0.0000e+00.\n",
      "Epoch. 594: loss = 2.9175e+06, acc = 0.0000e+00, valid. loss = 2.8483e+06, valid. acc. = 0.0000e+00.\n",
      "Epoch. 595: loss = 2.8633e+06, acc = 0.0000e+00, valid. loss = 2.8757e+06, valid. acc. = 0.0000e+00.\n",
      "Epoch. 596: loss = 2.8288e+06, acc = 0.0000e+00, valid. loss = 2.7874e+06, valid. acc. = 0.0000e+00.\n",
      "Epoch. 597: loss = 2.7014e+06, acc = 0.0000e+00, valid. loss = 2.6639e+06, valid. acc. = 0.0000e+00.\n",
      "Epoch. 598: loss = 2.6759e+06, acc = 0.0000e+00, valid. loss = 2.6900e+06, valid. acc. = 0.0000e+00.\n",
      "Epoch. 599: loss = 2.6202e+06, acc = 0.0000e+00, valid. loss = 2.5850e+06, valid. acc. = 0.0000e+00.\n",
      "Epoch. 600: loss = 2.4649e+06, acc = 0.0000e+00, valid. loss = 2.4159e+06, valid. acc. = 0.0000e+00.\n",
      "Epoch. 601: loss = 2.4982e+06, acc = 0.0000e+00, valid. loss = 2.5491e+06, valid. acc. = 0.0000e+00.\n",
      "Epoch. 602: loss = 2.4489e+06, acc = 0.0000e+00, valid. loss = 2.3390e+06, valid. acc. = 0.0000e+00.\n",
      "Epoch. 603: loss = 2.2789e+06, acc = 0.0000e+00, valid. loss = 2.2312e+06, valid. acc. = 0.0000e+00.\n",
      "Epoch. 604: loss = 2.3795e+06, acc = 0.0000e+00, valid. loss = 2.4202e+06, valid. acc. = 0.0000e+00.\n",
      "Epoch. 605: loss = 2.3694e+06, acc = 0.0000e+00, valid. loss = 2.1535e+06, valid. acc. = 0.0000e+00.\n",
      "Epoch. 606: loss = 2.2266e+06, acc = 0.0000e+00, valid. loss = 2.2926e+06, valid. acc. = 0.0000e+00.\n",
      "Epoch. 607: loss = 2.1628e+06, acc = 0.0000e+00, valid. loss = 2.2999e+06, valid. acc. = 0.0000e+00.\n",
      "Epoch. 608: loss = 2.2795e+06, acc = 0.0000e+00, valid. loss = 2.1152e+06, valid. acc. = 0.0000e+00.\n",
      "Epoch. 609: loss = 2.0228e+06, acc = 0.0000e+00, valid. loss = 2.1015e+06, valid. acc. = 0.0000e+00.\n",
      "Epoch. 610: loss = 2.2022e+06, acc = 0.0000e+00, valid. loss = 2.2436e+06, valid. acc. = 0.0000e+00.\n",
      "Epoch. 611: loss = 2.1421e+06, acc = 0.0000e+00, valid. loss = 2.0287e+06, valid. acc. = 0.0000e+00.\n",
      "Epoch. 612: loss = 2.0521e+06, acc = 0.0000e+00, valid. loss = 2.1281e+06, valid. acc. = 0.0000e+00.\n",
      "Epoch. 613: loss = 1.9788e+06, acc = 0.0000e+00, valid. loss = 1.8823e+06, valid. acc. = 0.0000e+00.\n",
      "Epoch. 614: loss = 2.0950e+06, acc = 0.0000e+00, valid. loss = 2.0840e+06, valid. acc. = 0.0000e+00.\n",
      "Epoch. 615: loss = 1.9731e+06, acc = 0.0000e+00, valid. loss = 2.0580e+06, valid. acc. = 0.0000e+00.\n",
      "Epoch. 616: loss = 1.8571e+06, acc = 0.0000e+00, valid. loss = 1.8310e+06, valid. acc. = 0.0000e+00.\n",
      "Epoch. 617: loss = 1.9079e+06, acc = 0.0000e+00, valid. loss = 2.1909e+06, valid. acc. = 0.0000e+00.\n",
      "Epoch. 618: loss = 2.1684e+06, acc = 0.0000e+00, valid. loss = 2.1071e+06, valid. acc. = 0.0000e+00.\n",
      "Epoch. 619: loss = 1.8508e+06, acc = 0.0000e+00, valid. loss = 1.7115e+06, valid. acc. = 0.0000e+00.\n",
      "Epoch. 620: loss = 1.8830e+06, acc = 0.0000e+00, valid. loss = 2.2626e+06, valid. acc. = 0.0000e+00.\n",
      "Epoch. 621: loss = 2.3240e+06, acc = 0.0000e+00, valid. loss = 2.2561e+06, valid. acc. = 0.0000e+00.\n",
      "Epoch. 622: loss = 2.2918e+06, acc = 0.0000e+00, valid. loss = 2.2066e+06, valid. acc. = 0.0000e+00.\n",
      "Epoch. 623: loss = 2.2103e+06, acc = 0.0000e+00, valid. loss = 2.1780e+06, valid. acc. = 0.0000e+00.\n",
      "Epoch. 624: loss = 2.1634e+06, acc = 0.0000e+00, valid. loss = 2.1434e+06, valid. acc. = 0.0000e+00.\n",
      "Epoch. 625: loss = 2.1116e+06, acc = 0.0000e+00, valid. loss = 2.0899e+06, valid. acc. = 0.0000e+00.\n",
      "Epoch. 626: loss = 1.9451e+06, acc = 0.0000e+00, valid. loss = 1.7998e+06, valid. acc. = 0.0000e+00.\n",
      "Epoch. 627: loss = 1.6823e+06, acc = 0.0000e+00, valid. loss = 1.6167e+06, valid. acc. = 0.0000e+00.\n",
      "Epoch. 628: loss = 1.6091e+06, acc = 0.0000e+00, valid. loss = 1.5893e+06, valid. acc. = 0.0000e+00.\n",
      "Epoch. 629: loss = 1.5855e+06, acc = 0.0000e+00, valid. loss = 1.6261e+06, valid. acc. = 0.0000e+00.\n",
      "Epoch. 630: loss = 1.5896e+06, acc = 0.0000e+00, valid. loss = 1.5446e+06, valid. acc. = 0.0000e+00.\n",
      "Epoch. 631: loss = 1.5617e+06, acc = 0.0000e+00, valid. loss = 1.5830e+06, valid. acc. = 0.0000e+00.\n",
      "Epoch. 632: loss = 1.5582e+06, acc = 0.0000e+00, valid. loss = 1.5385e+06, valid. acc. = 0.0000e+00.\n",
      "Epoch. 633: loss = 1.7373e+06, acc = 0.0000e+00, valid. loss = 1.9974e+06, valid. acc. = 0.0000e+00.\n",
      "Epoch. 634: loss = 1.9510e+06, acc = 0.0000e+00, valid. loss = 1.9111e+06, valid. acc. = 0.0000e+00.\n",
      "Epoch. 635: loss = 1.9866e+06, acc = 0.0000e+00, valid. loss = 2.3213e+06, valid. acc. = 0.0000e+00.\n",
      "Epoch. 636: loss = 2.2894e+06, acc = 0.0000e+00, valid. loss = 2.2382e+06, valid. acc. = 0.0000e+00.\n",
      "Epoch. 637: loss = 2.2000e+06, acc = 0.0000e+00, valid. loss = 2.1781e+06, valid. acc. = 0.0000e+00.\n",
      "Epoch. 638: loss = 2.1490e+06, acc = 0.0000e+00, valid. loss = 2.1339e+06, valid. acc. = 0.0000e+00.\n",
      "Epoch. 639: loss = 2.1080e+06, acc = 0.0000e+00, valid. loss = 2.0835e+06, valid. acc. = 0.0000e+00.\n",
      "Epoch. 640: loss = 2.0071e+06, acc = 0.0000e+00, valid. loss = 1.9288e+06, valid. acc. = 0.0000e+00.\n",
      "Epoch. 641: loss = 1.6697e+06, acc = 0.0000e+00, valid. loss = 1.5816e+06, valid. acc. = 0.0000e+00.\n",
      "Epoch. 642: loss = 1.5989e+06, acc = 0.0000e+00, valid. loss = 1.5273e+06, valid. acc. = 0.0000e+00.\n",
      "Epoch. 643: loss = 1.5985e+06, acc = 0.0000e+00, valid. loss = 1.5084e+06, valid. acc. = 0.0000e+00.\n",
      "Epoch. 644: loss = 1.8923e+06, acc = 0.0000e+00, valid. loss = 1.6787e+06, valid. acc. = 0.0000e+00.\n",
      "Epoch. 645: loss = 1.7985e+06, acc = 0.0000e+00, valid. loss = 1.9474e+06, valid. acc. = 0.0000e+00.\n",
      "Epoch. 646: loss = 1.8038e+06, acc = 0.0000e+00, valid. loss = 1.9191e+06, valid. acc. = 0.0000e+00.\n",
      "Epoch. 647: loss = 1.6876e+06, acc = 0.0000e+00, valid. loss = 1.5478e+06, valid. acc. = 0.0000e+00.\n",
      "Epoch. 648: loss = 1.5404e+06, acc = 0.0000e+00, valid. loss = 1.5095e+06, valid. acc. = 0.0000e+00.\n",
      "Epoch. 649: loss = 1.5683e+06, acc = 0.0000e+00, valid. loss = 1.6600e+06, valid. acc. = 0.0000e+00.\n",
      "Epoch. 650: loss = 2.3738e+06, acc = 0.0000e+00, valid. loss = 2.9345e+06, valid. acc. = 0.0000e+00.\n",
      "Epoch. 651: loss = 2.4000e+06, acc = 0.0000e+00, valid. loss = 2.2409e+06, valid. acc. = 0.0000e+00.\n",
      "Epoch. 652: loss = 2.2320e+06, acc = 0.0000e+00, valid. loss = 2.2075e+06, valid. acc. = 0.0000e+00.\n",
      "Epoch. 653: loss = 2.1993e+06, acc = 0.0000e+00, valid. loss = 2.1950e+06, valid. acc. = 0.0000e+00.\n",
      "Epoch. 654: loss = 2.1871e+06, acc = 0.0000e+00, valid. loss = 2.1705e+06, valid. acc. = 0.0000e+00.\n",
      "Epoch. 655: loss = 2.1647e+06, acc = 0.0000e+00, valid. loss = 2.1501e+06, valid. acc. = 0.0000e+00.\n",
      "Epoch. 656: loss = 2.1419e+06, acc = 0.0000e+00, valid. loss = 2.1076e+06, valid. acc. = 0.0000e+00.\n"
     ]
    },
    {
     "name": "stdout",
     "output_type": "stream",
     "text": [
      "Epoch. 657: loss = 2.0998e+06, acc = 0.0000e+00, valid. loss = 2.0751e+06, valid. acc. = 0.0000e+00.\n",
      "Epoch. 658: loss = 2.0354e+06, acc = 0.0000e+00, valid. loss = 1.9434e+06, valid. acc. = 0.0000e+00.\n",
      "Epoch. 659: loss = 1.7787e+06, acc = 0.0000e+00, valid. loss = 1.5824e+06, valid. acc. = 0.0000e+00.\n",
      "Epoch. 660: loss = 1.5609e+06, acc = 0.0000e+00, valid. loss = 1.5061e+06, valid. acc. = 0.0000e+00.\n",
      "Epoch. 661: loss = 1.5331e+06, acc = 0.0000e+00, valid. loss = 1.5129e+06, valid. acc. = 0.0000e+00.\n",
      "Epoch. 662: loss = 1.5657e+06, acc = 0.0000e+00, valid. loss = 1.5551e+06, valid. acc. = 0.0000e+00.\n",
      "Epoch. 663: loss = 1.8132e+06, acc = 0.0000e+00, valid. loss = 2.0420e+06, valid. acc. = 0.0000e+00.\n",
      "Epoch. 664: loss = 1.7303e+06, acc = 0.0000e+00, valid. loss = 1.4845e+06, valid. acc. = 0.0000e+00.\n",
      "Epoch. 665: loss = 1.5301e+06, acc = 0.0000e+00, valid. loss = 1.5070e+06, valid. acc. = 0.0000e+00.\n",
      "Epoch. 666: loss = 1.6744e+06, acc = 0.0000e+00, valid. loss = 1.6036e+06, valid. acc. = 0.0000e+00.\n",
      "Epoch. 667: loss = 1.5240e+06, acc = 0.0000e+00, valid. loss = 1.5686e+06, valid. acc. = 0.0000e+00.\n",
      "Epoch. 668: loss = 1.5615e+06, acc = 0.0000e+00, valid. loss = 2.1012e+06, valid. acc. = 0.0000e+00.\n",
      "Epoch. 669: loss = 1.9235e+06, acc = 0.0000e+00, valid. loss = 1.8807e+06, valid. acc. = 0.0000e+00.\n",
      "Epoch. 670: loss = 1.6142e+06, acc = 0.0000e+00, valid. loss = 1.6907e+06, valid. acc. = 0.0000e+00.\n",
      "Epoch. 671: loss = 1.6666e+06, acc = 0.0000e+00, valid. loss = 1.6672e+06, valid. acc. = 0.0000e+00.\n",
      "Epoch. 672: loss = 1.5713e+06, acc = 0.0000e+00, valid. loss = 1.6490e+06, valid. acc. = 0.0000e+00.\n",
      "Epoch. 673: loss = 1.5402e+06, acc = 0.0000e+00, valid. loss = 1.4363e+06, valid. acc. = 0.0000e+00.\n",
      "Epoch. 674: loss = 1.5291e+06, acc = 0.0000e+00, valid. loss = 1.4531e+06, valid. acc. = 0.0000e+00.\n",
      "Epoch. 675: loss = 1.4552e+06, acc = 0.0000e+00, valid. loss = 1.4178e+06, valid. acc. = 0.0000e+00.\n",
      "Epoch. 676: loss = 1.6801e+06, acc = 0.0000e+00, valid. loss = 2.3215e+06, valid. acc. = 0.0000e+00.\n",
      "Epoch. 677: loss = 2.6496e+06, acc = 0.0000e+00, valid. loss = 2.7580e+06, valid. acc. = 0.0000e+00.\n",
      "Epoch. 678: loss = 2.2239e+06, acc = 0.0000e+00, valid. loss = 2.0528e+06, valid. acc. = 0.0000e+00.\n",
      "Epoch. 679: loss = 1.9159e+06, acc = 0.0000e+00, valid. loss = 1.6984e+06, valid. acc. = 0.0000e+00.\n",
      "Epoch. 680: loss = 1.5158e+06, acc = 0.0000e+00, valid. loss = 1.4589e+06, valid. acc. = 0.0000e+00.\n",
      "Epoch. 681: loss = 1.4417e+06, acc = 0.0000e+00, valid. loss = 1.4410e+06, valid. acc. = 0.0000e+00.\n",
      "Epoch. 682: loss = 1.5597e+06, acc = 0.0000e+00, valid. loss = 1.4966e+06, valid. acc. = 0.0000e+00.\n",
      "Epoch. 683: loss = 1.5976e+06, acc = 0.0000e+00, valid. loss = 1.6823e+06, valid. acc. = 0.0000e+00.\n",
      "Epoch. 684: loss = 1.7267e+06, acc = 0.0000e+00, valid. loss = 1.5311e+06, valid. acc. = 0.0000e+00.\n",
      "Epoch. 685: loss = 1.4476e+06, acc = 0.0000e+00, valid. loss = 1.4164e+06, valid. acc. = 0.0000e+00.\n",
      "Epoch. 686: loss = 1.6256e+06, acc = 0.0000e+00, valid. loss = 1.4562e+06, valid. acc. = 0.0000e+00.\n",
      "Epoch. 687: loss = 1.6736e+06, acc = 0.0000e+00, valid. loss = 2.2472e+06, valid. acc. = 0.0000e+00.\n",
      "Epoch. 688: loss = 2.2999e+06, acc = 0.0000e+00, valid. loss = 2.1535e+06, valid. acc. = 0.0000e+00.\n",
      "Epoch. 689: loss = 1.9954e+06, acc = 0.0000e+00, valid. loss = 1.6641e+06, valid. acc. = 0.0000e+00.\n",
      "Epoch. 690: loss = 2.2806e+06, acc = 0.0000e+00, valid. loss = 2.1354e+06, valid. acc. = 0.0000e+00.\n",
      "Epoch. 691: loss = 2.1341e+06, acc = 0.0000e+00, valid. loss = 2.0880e+06, valid. acc. = 0.0000e+00.\n",
      "Epoch. 692: loss = 2.0741e+06, acc = 0.0000e+00, valid. loss = 2.0430e+06, valid. acc. = 0.0000e+00.\n",
      "Epoch. 693: loss = 2.0042e+06, acc = 0.0000e+00, valid. loss = 1.9335e+06, valid. acc. = 0.0000e+00.\n",
      "Epoch. 694: loss = 1.7750e+06, acc = 0.0000e+00, valid. loss = 1.5567e+06, valid. acc. = 0.0000e+00.\n",
      "Epoch. 695: loss = 1.4849e+06, acc = 0.0000e+00, valid. loss = 1.4666e+06, valid. acc. = 0.0000e+00.\n",
      "Epoch. 696: loss = 1.5003e+06, acc = 0.0000e+00, valid. loss = 1.8172e+06, valid. acc. = 0.0000e+00.\n",
      "Epoch. 697: loss = 1.5278e+06, acc = 0.0000e+00, valid. loss = 1.4793e+06, valid. acc. = 0.0000e+00.\n",
      "Epoch. 698: loss = 1.4968e+06, acc = 0.0000e+00, valid. loss = 1.4903e+06, valid. acc. = 0.0000e+00.\n",
      "Epoch. 699: loss = 1.7378e+06, acc = 0.0000e+00, valid. loss = 1.5452e+06, valid. acc. = 0.0000e+00.\n",
      "Epoch. 700: loss = 1.5669e+06, acc = 0.0000e+00, valid. loss = 1.8788e+06, valid. acc. = 0.0000e+00.\n",
      "Epoch. 701: loss = 1.6392e+06, acc = 0.0000e+00, valid. loss = 1.5778e+06, valid. acc. = 0.0000e+00.\n",
      "Epoch. 702: loss = 1.5667e+06, acc = 0.0000e+00, valid. loss = 1.5301e+06, valid. acc. = 0.0000e+00.\n",
      "Epoch. 703: loss = 1.6978e+06, acc = 0.0000e+00, valid. loss = 2.2100e+06, valid. acc. = 0.0000e+00.\n",
      "Epoch. 704: loss = 2.2175e+06, acc = 0.0000e+00, valid. loss = 2.3375e+06, valid. acc. = 0.0000e+00.\n",
      "Epoch. 705: loss = 1.9891e+06, acc = 0.0000e+00, valid. loss = 1.7108e+06, valid. acc. = 0.0000e+00.\n",
      "Epoch. 706: loss = 1.5942e+06, acc = 0.0000e+00, valid. loss = 1.4519e+06, valid. acc. = 0.0000e+00.\n",
      "Epoch. 707: loss = 1.4753e+06, acc = 0.0000e+00, valid. loss = 1.4219e+06, valid. acc. = 0.0000e+00.\n",
      "Epoch. 708: loss = 1.5383e+06, acc = 0.0000e+00, valid. loss = 1.4304e+06, valid. acc. = 0.0000e+00.\n",
      "Epoch. 709: loss = 1.5055e+06, acc = 0.0000e+00, valid. loss = 2.1058e+06, valid. acc. = 0.0000e+00.\n",
      "Epoch. 710: loss = 2.3321e+06, acc = 0.0000e+00, valid. loss = 2.2162e+06, valid. acc. = 0.0000e+00.\n",
      "Epoch. 711: loss = 2.1878e+06, acc = 0.0000e+00, valid. loss = 2.0434e+06, valid. acc. = 0.0000e+00.\n",
      "Epoch. 712: loss = 1.9525e+06, acc = 0.0000e+00, valid. loss = 1.8622e+06, valid. acc. = 0.0000e+00.\n",
      "Epoch. 713: loss = 1.7062e+06, acc = 0.0000e+00, valid. loss = 1.5220e+06, valid. acc. = 0.0000e+00.\n",
      "Epoch. 714: loss = 1.5454e+06, acc = 0.0000e+00, valid. loss = 1.4231e+06, valid. acc. = 0.0000e+00.\n",
      "Epoch. 715: loss = 1.4389e+06, acc = 0.0000e+00, valid. loss = 1.4054e+06, valid. acc. = 0.0000e+00.\n",
      "Epoch. 716: loss = 1.4125e+06, acc = 0.0000e+00, valid. loss = 1.4225e+06, valid. acc. = 0.0000e+00.\n",
      "Epoch. 717: loss = 1.6493e+06, acc = 0.0000e+00, valid. loss = 1.5161e+06, valid. acc. = 0.0000e+00.\n",
      "Epoch. 718: loss = 1.5257e+06, acc = 0.0000e+00, valid. loss = 1.4775e+06, valid. acc. = 0.0000e+00.\n",
      "Epoch. 719: loss = 2.2335e+06, acc = 0.0000e+00, valid. loss = 2.4315e+06, valid. acc. = 0.0000e+00.\n",
      "Epoch. 720: loss = 2.5543e+06, acc = 0.0000e+00, valid. loss = 2.2265e+06, valid. acc. = 0.0000e+00.\n",
      "Epoch. 721: loss = 2.2237e+06, acc = 0.0000e+00, valid. loss = 2.1820e+06, valid. acc. = 0.0000e+00.\n",
      "Epoch. 722: loss = 2.1564e+06, acc = 0.0000e+00, valid. loss = 2.1450e+06, valid. acc. = 0.0000e+00.\n",
      "Epoch. 723: loss = 2.1322e+06, acc = 0.0000e+00, valid. loss = 2.1152e+06, valid. acc. = 0.0000e+00.\n",
      "Epoch. 724: loss = 2.1092e+06, acc = 0.0000e+00, valid. loss = 2.0976e+06, valid. acc. = 0.0000e+00.\n",
      "Epoch. 725: loss = 2.0903e+06, acc = 0.0000e+00, valid. loss = 2.0721e+06, valid. acc. = 0.0000e+00.\n",
      "Epoch. 726: loss = 2.0694e+06, acc = 0.0000e+00, valid. loss = 2.0264e+06, valid. acc. = 0.0000e+00.\n",
      "Epoch. 727: loss = 2.0072e+06, acc = 0.0000e+00, valid. loss = 1.9603e+06, valid. acc. = 0.0000e+00.\n",
      "Epoch. 728: loss = 1.9086e+06, acc = 0.0000e+00, valid. loss = 1.8208e+06, valid. acc. = 0.0000e+00.\n",
      "Epoch. 729: loss = 1.6909e+06, acc = 0.0000e+00, valid. loss = 1.5332e+06, valid. acc. = 0.0000e+00.\n",
      "Epoch. 730: loss = 1.4608e+06, acc = 0.0000e+00, valid. loss = 1.5593e+06, valid. acc. = 0.0000e+00.\n",
      "Epoch. 731: loss = 1.4547e+06, acc = 0.0000e+00, valid. loss = 1.3961e+06, valid. acc. = 0.0000e+00.\n",
      "Epoch. 732: loss = 1.3976e+06, acc = 0.0000e+00, valid. loss = 1.3858e+06, valid. acc. = 0.0000e+00.\n",
      "Epoch. 733: loss = 1.4266e+06, acc = 0.0000e+00, valid. loss = 1.3916e+06, valid. acc. = 0.0000e+00.\n",
      "Epoch. 734: loss = 1.4244e+06, acc = 0.0000e+00, valid. loss = 1.5697e+06, valid. acc. = 0.0000e+00.\n",
      "Epoch. 735: loss = 1.7807e+06, acc = 0.0000e+00, valid. loss = 1.7301e+06, valid. acc. = 0.0000e+00.\n",
      "Epoch. 736: loss = 1.5225e+06, acc = 0.0000e+00, valid. loss = 1.8140e+06, valid. acc. = 0.0000e+00.\n",
      "Epoch. 737: loss = 2.0553e+06, acc = 0.0000e+00, valid. loss = 2.0109e+06, valid. acc. = 0.0000e+00.\n",
      "Epoch. 738: loss = 1.5819e+06, acc = 0.0000e+00, valid. loss = 1.3972e+06, valid. acc. = 0.0000e+00.\n"
     ]
    },
    {
     "name": "stdout",
     "output_type": "stream",
     "text": [
      "Epoch. 739: loss = 1.4857e+06, acc = 0.0000e+00, valid. loss = 1.3939e+06, valid. acc. = 0.0000e+00.\n",
      "Epoch. 740: loss = 1.6156e+06, acc = 0.0000e+00, valid. loss = 2.3669e+06, valid. acc. = 0.0000e+00.\n",
      "Epoch. 741: loss = 2.4180e+06, acc = 0.0000e+00, valid. loss = 2.2225e+06, valid. acc. = 0.0000e+00.\n",
      "Epoch. 742: loss = 2.2128e+06, acc = 0.0000e+00, valid. loss = 2.1751e+06, valid. acc. = 0.0000e+00.\n",
      "Epoch. 743: loss = 2.0817e+06, acc = 0.0000e+00, valid. loss = 2.0539e+06, valid. acc. = 0.0000e+00.\n",
      "Epoch. 744: loss = 2.0219e+06, acc = 0.0000e+00, valid. loss = 1.9603e+06, valid. acc. = 0.0000e+00.\n",
      "Epoch. 745: loss = 1.9181e+06, acc = 0.0000e+00, valid. loss = 1.8822e+06, valid. acc. = 0.0000e+00.\n",
      "Epoch. 746: loss = 1.7328e+06, acc = 0.0000e+00, valid. loss = 1.9449e+06, valid. acc. = 0.0000e+00.\n",
      "Epoch. 747: loss = 2.1209e+06, acc = 0.0000e+00, valid. loss = 2.0810e+06, valid. acc. = 0.0000e+00.\n",
      "Epoch. 748: loss = 1.9430e+06, acc = 0.0000e+00, valid. loss = 1.5501e+06, valid. acc. = 0.0000e+00.\n",
      "Epoch. 749: loss = 1.9351e+06, acc = 0.0000e+00, valid. loss = 1.9324e+06, valid. acc. = 0.0000e+00.\n",
      "Epoch. 750: loss = 1.7422e+06, acc = 0.0000e+00, valid. loss = 1.5101e+06, valid. acc. = 0.0000e+00.\n",
      "Epoch. 751: loss = 1.4693e+06, acc = 0.0000e+00, valid. loss = 1.4241e+06, valid. acc. = 0.0000e+00.\n",
      "Epoch. 752: loss = 1.4051e+06, acc = 0.0000e+00, valid. loss = 1.3989e+06, valid. acc. = 0.0000e+00.\n",
      "Epoch. 753: loss = 1.4522e+06, acc = 0.0000e+00, valid. loss = 1.3784e+06, valid. acc. = 0.0000e+00.\n",
      "Epoch. 754: loss = 1.4034e+06, acc = 0.0000e+00, valid. loss = 1.3521e+06, valid. acc. = 0.0000e+00.\n",
      "Epoch. 755: loss = 1.4862e+06, acc = 0.0000e+00, valid. loss = 1.5774e+06, valid. acc. = 0.0000e+00.\n",
      "Epoch. 756: loss = 1.6718e+06, acc = 0.0000e+00, valid. loss = 1.6861e+06, valid. acc. = 0.0000e+00.\n",
      "Epoch. 757: loss = 1.5326e+06, acc = 0.0000e+00, valid. loss = 1.8516e+06, valid. acc. = 0.0000e+00.\n",
      "Epoch. 758: loss = 1.8023e+06, acc = 0.0000e+00, valid. loss = 1.6317e+06, valid. acc. = 0.0000e+00.\n",
      "Epoch. 759: loss = 1.6682e+06, acc = 0.0000e+00, valid. loss = 1.5079e+06, valid. acc. = 0.0000e+00.\n",
      "Epoch. 760: loss = 1.5484e+06, acc = 0.0000e+00, valid. loss = 1.4844e+06, valid. acc. = 0.0000e+00.\n",
      "Epoch. 761: loss = 1.8015e+06, acc = 0.0000e+00, valid. loss = 1.8247e+06, valid. acc. = 0.0000e+00.\n",
      "Epoch. 762: loss = 1.6166e+06, acc = 0.0000e+00, valid. loss = 1.4799e+06, valid. acc. = 0.0000e+00.\n",
      "Epoch. 763: loss = 1.4400e+06, acc = 0.0000e+00, valid. loss = 1.8104e+06, valid. acc. = 0.0000e+00.\n",
      "Epoch. 764: loss = 1.7688e+06, acc = 0.0000e+00, valid. loss = 1.7000e+06, valid. acc. = 0.0000e+00.\n",
      "Epoch. 765: loss = 1.6040e+06, acc = 0.0000e+00, valid. loss = 1.9701e+06, valid. acc. = 0.0000e+00.\n",
      "Epoch. 766: loss = 1.5231e+06, acc = 0.0000e+00, valid. loss = 1.3836e+06, valid. acc. = 0.0000e+00.\n",
      "Epoch. 767: loss = 1.5558e+06, acc = 0.0000e+00, valid. loss = 1.3586e+06, valid. acc. = 0.0000e+00.\n",
      "Epoch. 768: loss = 1.8967e+06, acc = 0.0000e+00, valid. loss = 2.2121e+06, valid. acc. = 0.0000e+00.\n",
      "Epoch. 769: loss = 2.2011e+06, acc = 0.0000e+00, valid. loss = 2.0493e+06, valid. acc. = 0.0000e+00.\n",
      "Epoch. 770: loss = 1.9844e+06, acc = 0.0000e+00, valid. loss = 1.8856e+06, valid. acc. = 0.0000e+00.\n",
      "Epoch. 771: loss = 1.7990e+06, acc = 0.0000e+00, valid. loss = 1.6675e+06, valid. acc. = 0.0000e+00.\n",
      "Epoch. 772: loss = 1.5834e+06, acc = 0.0000e+00, valid. loss = 1.4332e+06, valid. acc. = 0.0000e+00.\n",
      "Epoch. 773: loss = 1.5155e+06, acc = 0.0000e+00, valid. loss = 1.4094e+06, valid. acc. = 0.0000e+00.\n",
      "Epoch. 774: loss = 1.3558e+06, acc = 0.0000e+00, valid. loss = 1.3510e+06, valid. acc. = 0.0000e+00.\n",
      "Epoch. 775: loss = 1.4109e+06, acc = 0.0000e+00, valid. loss = 1.8130e+06, valid. acc. = 0.0000e+00.\n",
      "Epoch. 776: loss = 1.5168e+06, acc = 0.0000e+00, valid. loss = 1.4572e+06, valid. acc. = 0.0000e+00.\n",
      "Epoch. 777: loss = 2.3072e+06, acc = 0.0000e+00, valid. loss = 2.1404e+06, valid. acc. = 0.0000e+00.\n",
      "Epoch. 778: loss = 2.0729e+06, acc = 0.0000e+00, valid. loss = 1.9045e+06, valid. acc. = 0.0000e+00.\n",
      "Epoch. 779: loss = 1.8110e+06, acc = 0.0000e+00, valid. loss = 2.1650e+06, valid. acc. = 0.0000e+00.\n",
      "Epoch. 780: loss = 1.5390e+06, acc = 0.0000e+00, valid. loss = 1.3796e+06, valid. acc. = 0.0000e+00.\n",
      "Epoch. 781: loss = 1.5686e+06, acc = 0.0000e+00, valid. loss = 1.7469e+06, valid. acc. = 0.0000e+00.\n",
      "Epoch. 782: loss = 1.5586e+06, acc = 0.0000e+00, valid. loss = 1.6844e+06, valid. acc. = 0.0000e+00.\n",
      "Epoch. 783: loss = 1.6262e+06, acc = 0.0000e+00, valid. loss = 2.0193e+06, valid. acc. = 0.0000e+00.\n",
      "Epoch. 784: loss = 1.7491e+06, acc = 0.0000e+00, valid. loss = 1.3966e+06, valid. acc. = 0.0000e+00.\n",
      "Epoch. 785: loss = 1.4004e+06, acc = 0.0000e+00, valid. loss = 1.3989e+06, valid. acc. = 0.0000e+00.\n",
      "Epoch. 786: loss = 1.3932e+06, acc = 0.0000e+00, valid. loss = 1.5316e+06, valid. acc. = 0.0000e+00.\n",
      "Epoch. 787: loss = 1.9993e+06, acc = 0.0000e+00, valid. loss = 1.7827e+06, valid. acc. = 0.0000e+00.\n",
      "Epoch. 788: loss = 1.4746e+06, acc = 0.0000e+00, valid. loss = 1.3612e+06, valid. acc. = 0.0000e+00.\n",
      "Epoch. 789: loss = 1.4458e+06, acc = 0.0000e+00, valid. loss = 1.4990e+06, valid. acc. = 0.0000e+00.\n",
      "Epoch. 790: loss = 1.4735e+06, acc = 0.0000e+00, valid. loss = 1.6955e+06, valid. acc. = 0.0000e+00.\n",
      "Epoch. 791: loss = 1.4236e+06, acc = 0.0000e+00, valid. loss = 1.3149e+06, valid. acc. = 0.0000e+00.\n",
      "Epoch. 792: loss = 1.3752e+06, acc = 0.0000e+00, valid. loss = 1.3662e+06, valid. acc. = 0.0000e+00.\n",
      "Epoch. 793: loss = 1.4064e+06, acc = 0.0000e+00, valid. loss = 1.4523e+06, valid. acc. = 0.0000e+00.\n",
      "Epoch. 794: loss = 1.5497e+06, acc = 0.0000e+00, valid. loss = 2.5777e+06, valid. acc. = 0.0000e+00.\n",
      "Epoch. 795: loss = 1.6914e+06, acc = 0.0000e+00, valid. loss = 1.6391e+06, valid. acc. = 0.0000e+00.\n",
      "Epoch. 796: loss = 1.6738e+06, acc = 0.0000e+00, valid. loss = 1.3283e+06, valid. acc. = 0.0000e+00.\n",
      "Epoch. 797: loss = 1.4645e+06, acc = 0.0000e+00, valid. loss = 2.2587e+06, valid. acc. = 0.0000e+00.\n",
      "Epoch. 798: loss = 2.4067e+06, acc = 0.0000e+00, valid. loss = 2.1547e+06, valid. acc. = 0.0000e+00.\n",
      "Epoch. 799: loss = 2.0855e+06, acc = 0.0000e+00, valid. loss = 1.9742e+06, valid. acc. = 0.0000e+00.\n",
      "Epoch. 800: loss = 1.8365e+06, acc = 0.0000e+00, valid. loss = 1.4907e+06, valid. acc. = 0.0000e+00.\n",
      "Epoch. 801: loss = 1.9883e+06, acc = 0.0000e+00, valid. loss = 1.8540e+06, valid. acc. = 0.0000e+00.\n",
      "Epoch. 802: loss = 1.6397e+06, acc = 0.0000e+00, valid. loss = 1.5343e+06, valid. acc. = 0.0000e+00.\n",
      "Epoch. 803: loss = 2.1238e+06, acc = 0.0000e+00, valid. loss = 2.2241e+06, valid. acc. = 0.0000e+00.\n",
      "Epoch. 804: loss = 1.8084e+06, acc = 0.0000e+00, valid. loss = 1.4378e+06, valid. acc. = 0.0000e+00.\n",
      "Epoch. 805: loss = 1.3827e+06, acc = 0.0000e+00, valid. loss = 1.3363e+06, valid. acc. = 0.0000e+00.\n",
      "Epoch. 806: loss = 1.8551e+06, acc = 0.0000e+00, valid. loss = 1.9831e+06, valid. acc. = 0.0000e+00.\n",
      "Epoch. 807: loss = 1.8282e+06, acc = 0.0000e+00, valid. loss = 1.7071e+06, valid. acc. = 0.0000e+00.\n",
      "Epoch. 808: loss = 1.4690e+06, acc = 0.0000e+00, valid. loss = 1.3509e+06, valid. acc. = 0.0000e+00.\n",
      "Epoch. 809: loss = 1.3351e+06, acc = 0.0000e+00, valid. loss = 1.4716e+06, valid. acc. = 0.0000e+00.\n",
      "Epoch. 810: loss = 1.3375e+06, acc = 0.0000e+00, valid. loss = 1.3606e+06, valid. acc. = 0.0000e+00.\n",
      "Epoch. 811: loss = 1.4010e+06, acc = 0.0000e+00, valid. loss = 2.1917e+06, valid. acc. = 0.0000e+00.\n",
      "Epoch. 812: loss = 2.0529e+06, acc = 0.0000e+00, valid. loss = 1.8506e+06, valid. acc. = 0.0000e+00.\n",
      "Epoch. 813: loss = 1.6153e+06, acc = 0.0000e+00, valid. loss = 1.3230e+06, valid. acc. = 0.0000e+00.\n",
      "Epoch. 814: loss = 1.3336e+06, acc = 0.0000e+00, valid. loss = 1.2907e+06, valid. acc. = 0.0000e+00.\n",
      "Epoch. 815: loss = 1.7364e+06, acc = 0.0000e+00, valid. loss = 2.1971e+06, valid. acc. = 0.0000e+00.\n",
      "Epoch. 816: loss = 1.9241e+06, acc = 0.0000e+00, valid. loss = 1.6191e+06, valid. acc. = 0.0000e+00.\n",
      "Epoch. 817: loss = 1.4402e+06, acc = 0.0000e+00, valid. loss = 1.3151e+06, valid. acc. = 0.0000e+00.\n",
      "Epoch. 818: loss = 1.3397e+06, acc = 0.0000e+00, valid. loss = 1.2839e+06, valid. acc. = 0.0000e+00.\n",
      "Epoch. 819: loss = 2.1794e+06, acc = 0.0000e+00, valid. loss = 2.3198e+06, valid. acc. = 0.0000e+00.\n",
      "Epoch. 820: loss = 2.0904e+06, acc = 0.0000e+00, valid. loss = 1.9150e+06, valid. acc. = 0.0000e+00.\n"
     ]
    },
    {
     "name": "stdout",
     "output_type": "stream",
     "text": [
      "Epoch. 821: loss = 1.8193e+06, acc = 0.0000e+00, valid. loss = 1.6573e+06, valid. acc. = 0.0000e+00.\n",
      "Epoch. 822: loss = 1.5938e+06, acc = 0.0000e+00, valid. loss = 2.0981e+06, valid. acc. = 0.0000e+00.\n",
      "Epoch. 823: loss = 1.9328e+06, acc = 0.0000e+00, valid. loss = 1.6166e+06, valid. acc. = 0.0000e+00.\n",
      "Epoch. 824: loss = 1.4284e+06, acc = 0.0000e+00, valid. loss = 1.3613e+06, valid. acc. = 0.0000e+00.\n",
      "Epoch. 825: loss = 1.3763e+06, acc = 0.0000e+00, valid. loss = 1.6988e+06, valid. acc. = 0.0000e+00.\n",
      "Epoch. 826: loss = 1.5069e+06, acc = 0.0000e+00, valid. loss = 1.3757e+06, valid. acc. = 0.0000e+00.\n",
      "Epoch. 827: loss = 1.5723e+06, acc = 0.0000e+00, valid. loss = 1.4110e+06, valid. acc. = 0.0000e+00.\n",
      "Epoch. 828: loss = 1.3554e+06, acc = 0.0000e+00, valid. loss = 1.3147e+06, valid. acc. = 0.0000e+00.\n",
      "Epoch. 829: loss = 1.3317e+06, acc = 0.0000e+00, valid. loss = 1.2572e+06, valid. acc. = 0.0000e+00.\n",
      "Epoch. 830: loss = 1.8634e+06, acc = 0.0000e+00, valid. loss = 2.6356e+06, valid. acc. = 0.0000e+00.\n",
      "Epoch. 831: loss = 2.1004e+06, acc = 0.0000e+00, valid. loss = 1.8949e+06, valid. acc. = 0.0000e+00.\n",
      "Epoch. 832: loss = 1.5830e+06, acc = 0.0000e+00, valid. loss = 1.3968e+06, valid. acc. = 0.0000e+00.\n",
      "Epoch. 833: loss = 1.4968e+06, acc = 0.0000e+00, valid. loss = 1.3609e+06, valid. acc. = 0.0000e+00.\n",
      "Epoch. 834: loss = 1.3462e+06, acc = 0.0000e+00, valid. loss = 1.2632e+06, valid. acc. = 0.0000e+00.\n",
      "Epoch. 835: loss = 1.5450e+06, acc = 0.0000e+00, valid. loss = 2.2531e+06, valid. acc. = 0.0000e+00.\n",
      "Epoch. 836: loss = 2.0353e+06, acc = 0.0000e+00, valid. loss = 1.9389e+06, valid. acc. = 0.0000e+00.\n",
      "Epoch. 837: loss = 1.8412e+06, acc = 0.0000e+00, valid. loss = 2.1166e+06, valid. acc. = 0.0000e+00.\n",
      "Epoch. 838: loss = 2.1154e+06, acc = 0.0000e+00, valid. loss = 1.9336e+06, valid. acc. = 0.0000e+00.\n",
      "Epoch. 839: loss = 1.7395e+06, acc = 0.0000e+00, valid. loss = 1.4064e+06, valid. acc. = 0.0000e+00.\n",
      "Epoch. 840: loss = 1.4754e+06, acc = 0.0000e+00, valid. loss = 1.7906e+06, valid. acc. = 0.0000e+00.\n",
      "Epoch. 841: loss = 1.4267e+06, acc = 0.0000e+00, valid. loss = 1.2893e+06, valid. acc. = 0.0000e+00.\n",
      "Epoch. 842: loss = 1.3093e+06, acc = 0.0000e+00, valid. loss = 1.2499e+06, valid. acc. = 0.0000e+00.\n",
      "Epoch. 843: loss = 1.8355e+06, acc = 0.0000e+00, valid. loss = 2.1796e+06, valid. acc. = 0.0000e+00.\n",
      "Epoch. 844: loss = 2.0383e+06, acc = 0.0000e+00, valid. loss = 1.9260e+06, valid. acc. = 0.0000e+00.\n",
      "Epoch. 845: loss = 1.8630e+06, acc = 0.0000e+00, valid. loss = 1.7426e+06, valid. acc. = 0.0000e+00.\n",
      "Epoch. 846: loss = 1.5226e+06, acc = 0.0000e+00, valid. loss = 1.3319e+06, valid. acc. = 0.0000e+00.\n",
      "Epoch. 847: loss = 1.3285e+06, acc = 0.0000e+00, valid. loss = 1.5353e+06, valid. acc. = 0.0000e+00.\n",
      "Epoch. 848: loss = 1.4769e+06, acc = 0.0000e+00, valid. loss = 1.6593e+06, valid. acc. = 0.0000e+00.\n",
      "Epoch. 849: loss = 1.4180e+06, acc = 0.0000e+00, valid. loss = 1.3216e+06, valid. acc. = 0.0000e+00.\n",
      "Epoch. 850: loss = 1.5421e+06, acc = 0.0000e+00, valid. loss = 1.3188e+06, valid. acc. = 0.0000e+00.\n",
      "Epoch. 851: loss = 1.6055e+06, acc = 0.0000e+00, valid. loss = 2.0460e+06, valid. acc. = 0.0000e+00.\n",
      "Epoch. 852: loss = 1.5562e+06, acc = 0.0000e+00, valid. loss = 1.2710e+06, valid. acc. = 0.0000e+00.\n",
      "Epoch. 853: loss = 1.3273e+06, acc = 0.0000e+00, valid. loss = 1.3529e+06, valid. acc. = 0.0000e+00.\n",
      "Epoch. 854: loss = 1.6673e+06, acc = 0.0000e+00, valid. loss = 2.7900e+06, valid. acc. = 0.0000e+00.\n",
      "Epoch. 855: loss = 2.1500e+06, acc = 0.0000e+00, valid. loss = 1.9356e+06, valid. acc. = 0.0000e+00.\n",
      "Epoch. 856: loss = 1.8473e+06, acc = 0.0000e+00, valid. loss = 1.7093e+06, valid. acc. = 0.0000e+00.\n",
      "Epoch. 857: loss = 1.6787e+06, acc = 0.0000e+00, valid. loss = 1.8559e+06, valid. acc. = 0.0000e+00.\n",
      "Epoch. 858: loss = 1.4411e+06, acc = 0.0000e+00, valid. loss = 1.4392e+06, valid. acc. = 0.0000e+00.\n",
      "Epoch. 859: loss = 1.4949e+06, acc = 0.0000e+00, valid. loss = 1.5135e+06, valid. acc. = 0.0000e+00.\n",
      "Epoch. 860: loss = 1.6682e+06, acc = 0.0000e+00, valid. loss = 1.3478e+06, valid. acc. = 0.0000e+00.\n",
      "Epoch. 861: loss = 1.5299e+06, acc = 0.0000e+00, valid. loss = 1.3290e+06, valid. acc. = 0.0000e+00.\n",
      "Epoch. 862: loss = 1.5690e+06, acc = 0.0000e+00, valid. loss = 2.1134e+06, valid. acc. = 0.0000e+00.\n",
      "Epoch. 863: loss = 1.7223e+06, acc = 0.0000e+00, valid. loss = 1.3635e+06, valid. acc. = 0.0000e+00.\n",
      "Epoch. 864: loss = 1.4558e+06, acc = 0.0000e+00, valid. loss = 1.3758e+06, valid. acc. = 0.0000e+00.\n",
      "Epoch. 865: loss = 1.2819e+06, acc = 0.0000e+00, valid. loss = 1.2254e+06, valid. acc. = 0.0000e+00.\n",
      "Epoch. 866: loss = 1.7249e+06, acc = 0.0000e+00, valid. loss = 1.2068e+06, valid. acc. = 0.0000e+00.\n",
      "Epoch. 867: loss = 1.6099e+06, acc = 0.0000e+00, valid. loss = 1.2667e+06, valid. acc. = 0.0000e+00.\n",
      "Epoch. 868: loss = 1.3033e+06, acc = 0.0000e+00, valid. loss = 1.3476e+06, valid. acc. = 0.0000e+00.\n",
      "Epoch. 869: loss = 1.4411e+06, acc = 0.0000e+00, valid. loss = 1.7664e+06, valid. acc. = 0.0000e+00.\n",
      "Epoch. 870: loss = 1.6145e+06, acc = 0.0000e+00, valid. loss = 1.2410e+06, valid. acc. = 0.0000e+00.\n",
      "Epoch. 871: loss = 1.4745e+06, acc = 0.0000e+00, valid. loss = 1.7491e+06, valid. acc. = 0.0000e+00.\n",
      "Epoch. 872: loss = 1.4778e+06, acc = 0.0000e+00, valid. loss = 1.1508e+06, valid. acc. = 0.0000e+00.\n",
      "Epoch. 873: loss = 1.4131e+06, acc = 0.0000e+00, valid. loss = 3.0502e+06, valid. acc. = 0.0000e+00.\n",
      "Epoch. 874: loss = 2.3292e+06, acc = 0.0000e+00, valid. loss = 2.1113e+06, valid. acc. = 0.0000e+00.\n",
      "Epoch. 875: loss = 1.9403e+06, acc = 0.0000e+00, valid. loss = 1.8355e+06, valid. acc. = 0.0000e+00.\n",
      "Epoch. 876: loss = 1.7033e+06, acc = 0.0000e+00, valid. loss = 1.2716e+06, valid. acc. = 0.0000e+00.\n",
      "Epoch. 877: loss = 1.8372e+06, acc = 0.0000e+00, valid. loss = 1.8920e+06, valid. acc. = 0.0000e+00.\n",
      "Epoch. 878: loss = 1.5400e+06, acc = 0.0000e+00, valid. loss = 1.3572e+06, valid. acc. = 0.0000e+00.\n",
      "Epoch. 879: loss = 1.6875e+06, acc = 0.0000e+00, valid. loss = 2.3829e+06, valid. acc. = 0.0000e+00.\n",
      "Epoch. 880: loss = 2.1841e+06, acc = 0.0000e+00, valid. loss = 2.0377e+06, valid. acc. = 0.0000e+00.\n",
      "Epoch. 881: loss = 1.9622e+06, acc = 0.0000e+00, valid. loss = 1.8178e+06, valid. acc. = 0.0000e+00.\n",
      "Epoch. 882: loss = 1.7117e+06, acc = 0.0000e+00, valid. loss = 1.5083e+06, valid. acc. = 0.0000e+00.\n",
      "Epoch. 883: loss = 1.3146e+06, acc = 0.0000e+00, valid. loss = 1.2766e+06, valid. acc. = 0.0000e+00.\n",
      "Epoch. 884: loss = 1.3031e+06, acc = 0.0000e+00, valid. loss = 1.8195e+06, valid. acc. = 0.0000e+00.\n",
      "Epoch. 885: loss = 1.4695e+06, acc = 0.0000e+00, valid. loss = 1.2290e+06, valid. acc. = 0.0000e+00.\n",
      "Epoch. 886: loss = 1.3323e+06, acc = 0.0000e+00, valid. loss = 1.3688e+06, valid. acc. = 0.0000e+00.\n",
      "Epoch. 887: loss = 1.6961e+06, acc = 0.0000e+00, valid. loss = 1.6556e+06, valid. acc. = 0.0000e+00.\n",
      "Epoch. 888: loss = 1.3534e+06, acc = 0.0000e+00, valid. loss = 1.2386e+06, valid. acc. = 0.0000e+00.\n",
      "Epoch. 889: loss = 1.4975e+06, acc = 0.0000e+00, valid. loss = 1.4036e+06, valid. acc. = 0.0000e+00.\n",
      "Epoch. 890: loss = 1.2072e+06, acc = 0.0000e+00, valid. loss = 1.9108e+06, valid. acc. = 0.0000e+00.\n",
      "Epoch. 891: loss = 2.0086e+06, acc = 0.0000e+00, valid. loss = 1.8315e+06, valid. acc. = 0.0000e+00.\n",
      "Epoch. 892: loss = 1.6087e+06, acc = 0.0000e+00, valid. loss = 1.8308e+06, valid. acc. = 0.0000e+00.\n",
      "Epoch. 893: loss = 1.6288e+06, acc = 0.0000e+00, valid. loss = 1.6454e+06, valid. acc. = 0.0000e+00.\n",
      "Epoch. 894: loss = 1.3973e+06, acc = 0.0000e+00, valid. loss = 1.1993e+06, valid. acc. = 0.0000e+00.\n",
      "Epoch. 895: loss = 1.1794e+06, acc = 0.0000e+00, valid. loss = 1.2434e+06, valid. acc. = 0.0000e+00.\n",
      "Epoch. 896: loss = 2.3351e+06, acc = 0.0000e+00, valid. loss = 2.2554e+06, valid. acc. = 0.0000e+00.\n",
      "Epoch. 897: loss = 2.0596e+06, acc = 0.0000e+00, valid. loss = 1.8938e+06, valid. acc. = 0.0000e+00.\n",
      "Epoch. 898: loss = 1.8404e+06, acc = 0.0000e+00, valid. loss = 1.7688e+06, valid. acc. = 0.0000e+00.\n",
      "Epoch. 899: loss = 1.7403e+06, acc = 0.0000e+00, valid. loss = 1.2223e+06, valid. acc. = 0.0000e+00.\n",
      "Epoch. 900: loss = 1.6430e+06, acc = 0.0000e+00, valid. loss = 1.9472e+06, valid. acc. = 0.0000e+00.\n",
      "Epoch. 901: loss = 1.7806e+06, acc = 0.0000e+00, valid. loss = 1.4066e+06, valid. acc. = 0.0000e+00.\n",
      "Epoch. 902: loss = 2.0082e+06, acc = 0.0000e+00, valid. loss = 2.0803e+06, valid. acc. = 0.0000e+00.\n"
     ]
    },
    {
     "name": "stdout",
     "output_type": "stream",
     "text": [
      "Epoch. 903: loss = 1.9642e+06, acc = 0.0000e+00, valid. loss = 1.7669e+06, valid. acc. = 0.0000e+00.\n",
      "Epoch. 904: loss = 1.4542e+06, acc = 0.0000e+00, valid. loss = 1.2217e+06, valid. acc. = 0.0000e+00.\n",
      "Epoch. 905: loss = 1.2575e+06, acc = 0.0000e+00, valid. loss = 1.2393e+06, valid. acc. = 0.0000e+00.\n",
      "Epoch. 906: loss = 1.3656e+06, acc = 0.0000e+00, valid. loss = 2.2989e+06, valid. acc. = 0.0000e+00.\n",
      "Epoch. 907: loss = 1.9633e+06, acc = 0.0000e+00, valid. loss = 1.7049e+06, valid. acc. = 0.0000e+00.\n",
      "Epoch. 908: loss = 1.3596e+06, acc = 0.0000e+00, valid. loss = 1.2486e+06, valid. acc. = 0.0000e+00.\n",
      "KeyboardInterrupt\n",
      "\n"
     ]
    }
   ],
   "source": [
    "o = o.opt_Adam(0.01).compile()\n",
    "o = o.optimize(10000000,1)"
   ]
  },
  {
   "cell_type": "code",
   "execution_count": 176,
   "metadata": {
    "collapsed": true
   },
   "outputs": [],
   "source": [
    "#o.save(\"sucsess.pickle\")\n"
   ]
  },
  {
   "cell_type": "code",
   "execution_count": null,
   "metadata": {
    "collapsed": true
   },
   "outputs": [],
   "source": [
    "## 学習結果の評価"
   ]
  },
  {
   "cell_type": "code",
   "execution_count": 237,
   "metadata": {},
   "outputs": [
    {
     "data": {
      "image/png": "[encoded data removed]",
      "text/plain": [
       "<matplotlib.figure.Figure at 0x7f48c685b9e8>"
      ]
     },
     "metadata": {},
     "output_type": "display_data"
    }
   ],
   "source": [
    "o.view()"
   ]
  },
  {
   "cell_type": "code",
   "execution_count": 24,
   "metadata": {},
   "outputs": [
    {
     "data": {
      "text/plain": [
       "dtype('float64')"
      ]
     },
     "execution_count": 24,
     "metadata": {},
     "output_type": "execute_result"
    }
   ],
   "source": [
    "x.reshape(-1, 1, 1, 10).dtype"
   ]
  },
  {
   "cell_type": "code",
   "execution_count": 295,
   "metadata": {},
   "outputs": [
    {
     "data": {
      "text/plain": [
       "(8900, 9100)"
      ]
     },
     "execution_count": 295,
     "metadata": {},
     "output_type": "execute_result"
    },
    {
     "data": {
      "image/png": "[encoded data removed]",
      "text/plain": [
       "<matplotlib.figure.Figure at 0x7f48c6d7f400>"
      ]
     },
     "metadata": {},
     "output_type": "display_data"
    }
   ],
   "source": [
    "#plot(xidx.flatten(),x.flatten())\n",
    "plot(arange(v.size),v)\n",
    "#plot(yidx.flatten(),y.flatten())\n",
    "plot(yidx, o.pred_func(x.reshape(-1, 1, 1, 10).astype(float32)).flatten(), c=\"b\")\n",
    "#xlim(0,100)\n",
    "xlabel(\"x\")\n",
    "ylabel(\"y\")\n",
    "legend([\"data\", \"labels\"])\n",
    "xlim(8900, 9100)\n",
    "#ylim(-100, 100)"
   ]
  },
  {
   "cell_type": "code",
   "execution_count": 274,
   "metadata": {},
   "outputs": [
    {
     "data": {
      "text/plain": [
       "(-2000, 2000)"
      ]
     },
     "execution_count": 274,
     "metadata": {},
     "output_type": "execute_result"
    },
    {
     "data": {
      "image/png": "[encoded data removed]",
      "text/plain": [
       "<matplotlib.figure.Figure at 0x7f4757a55e48>"
      ]
     },
     "metadata": {},
     "output_type": "display_data"
    }
   ],
   "source": [
    "#plot(xidx.flatten(),x.flatten())\n",
    "plot(arange(v.size),v)\n",
    "plot(yidx.flatten(),y.flatten())\n",
    "#plot(yidx, o.pred_func(x.reshape(-1, 1, 1, 10).astype(float32)).flatten(), c=\"b\")\n",
    "#xlim(0,100)\n",
    "xlabel(\"x\")\n",
    "ylabel(\"y\")\n",
    "legend([\"data\", \"labels\"])\n",
    "xlim(7800, 9000)\n",
    "ylim(-2000, 2000)"
   ]
  },
  {
   "cell_type": "code",
   "execution_count": 287,
   "metadata": {},
   "outputs": [
    {
     "name": "stderr",
     "output_type": "stream",
     "text": [
      "/home/yu/anaconda3/lib/python3.5/site-packages/matplotlib/axes/_axes.py:545: UserWarning: No labelled objects found. Use label='...' kwarg on individual plots.\n",
      "  warnings.warn(\"No labelled objects found. \"\n"
     ]
    },
    {
     "data": {
      "image/png": "[encoded data removed]",
      "text/plain": [
       "<matplotlib.figure.Figure at 0x7f4824bc5710>"
      ]
     },
     "metadata": {},
     "output_type": "display_data"
    }
   ],
   "source": [
    "#figsize(10,10)\n",
    "figure(num=None, figsize=(12, 8), dpi=80, facecolor='w', edgecolor='k')\n",
    "title(\"Red is grand truth. Brue is predict.\")\n",
    "for i in range(1,10,1):\n",
    "    subplot(3, 3, i)\n",
    "    v = zeros(1000)\n",
    "    for i in range(10):\n",
    "        #v += sin(pi * arange(1000) / 10) * arange(1000)[::-1]\n",
    "        v += sin(pi * arange(1000) / rand(1) / 100 + randint(0, 1000)) * arange(1000)[::-1]\n",
    "        #v += sin(pi * arange(1000) / randint(10, 1000) + randint(0, 1000)) * arange(1000)[::-1]\n",
    "    #v2 = sin(pi * arange(1000) / 50) * arange(1000)[::-1]\n",
    "    #v3 = cos(pi * arange(1000) / 250) * arange(1000)[::-1]\n",
    "    v = v #+ random(v.size)* arange(1000)[::-1] #* 0.01\n",
    "    #v = sin(pi * arange(1000) / 100) * arange(1000)[::-1] + random(v.size) * arange(1000)[::-1] * 1\n",
    "    x, y, xidx, yidx = gen_dataset(v, 10) \n",
    "    #plot(xidx[0:100], x[0:100].reshape(-1,10), c=\"r\")\n",
    "    plot(arange(v.size),v, c=\"r\",lw=5)\n",
    "#plot(yidx.flatten(),y.flatten())\n",
    "    plot(yidx, o.pred_func(x.reshape(-1, 1, 1, 10).astype(float32)).flatten(), c=\"b\")\n",
    "    plot(yidx, abs(y.flatten() - o.pred_func(x.reshape(-1, 1, 1, 10).astype(float32)).flatten()), c=\"g\")\n",
    "    xlim(0,300)\n",
    "    \n",
    "    #scatter(yidx[0:1000], o.y_train_arr[0:1000])\n",
    "    xlabel(\"x\")\n",
    "    ylabel(\"y\")\n",
    "    legend()\n"
   ]
  },
  {
   "cell_type": "code",
   "execution_count": 166,
   "metadata": {
    "collapsed": true
   },
   "outputs": [],
   "source": [
    "line = loadtxt(\"/home/yu/Downloads/USDJPY.csv\", delimiter=\",\")"
   ]
  },
  {
   "cell_type": "markdown",
   "metadata": {},
   "source": [
    "適当な為替データ　http://www.m2j.co.jp/market/historical.php"
   ]
  },
  {
   "cell_type": "code",
   "execution_count": 170,
   "metadata": {},
   "outputs": [
    {
     "data": {
      "text/plain": [
       "(2684, 4)"
      ]
     },
     "execution_count": 170,
     "metadata": {},
     "output_type": "execute_result"
    }
   ],
   "source": [
    "line.shape"
   ]
  },
  {
   "cell_type": "code",
   "execution_count": 285,
   "metadata": {},
   "outputs": [
    {
     "name": "stdout",
     "output_type": "stream",
     "text": [
      "0\n",
      "1\n",
      "2\n",
      "3\n"
     ]
    },
    {
     "data": {
      "image/png": "[encoded data removed]",
      "text/plain": [
       "<matplotlib.figure.Figure at 0x7f48b80ff7f0>"
      ]
     },
     "metadata": {},
     "output_type": "display_data"
    }
   ],
   "source": [
    "figure(num=None, figsize=(12, 8), dpi=80, facecolor='w', edgecolor='k')\n",
    "for i,l in enumerate(line.T):\n",
    "    l *= 100\n",
    "    print(i)\n",
    "    subplot(2, 2, i+1)\n",
    "    x, y, xidx, yidx = gen_dataset(l, 10) \n",
    "    plot(yidx, o.pred_func(x.reshape(-1, 1, 1, 10).astype(float32)).flatten())\n",
    "    plot(yidx, y.astype(float32).flatten())\n",
    "    #plot(yidx, y - o.pred_func(x.reshape(-1, 1, 1, 10).astype(float32)).flatten())\n",
    "    #plot(line[:,0])\n",
    "    xlim(90,100)"
   ]
  },
  {
   "cell_type": "code",
   "execution_count": null,
   "metadata": {
    "collapsed": true
   },
   "outputs": [],
   "source": [
    "\n",
    "plot(arange(v.size),v, c=\"r\",lw=5)\n",
    "plot(yidx, o.pred_func(x.reshape(-1, 1, 1, 10).astype(float32)).flatten(), c=\"b\")"
   ]
  },
  {
   "cell_type": "code",
   "execution_count": 479,
   "metadata": {},
   "outputs": [
    {
     "data": {
      "text/plain": [
       "array([[ 117.84,  118.08,  117.46,  117.84],\n",
       "       [ 117.84,  118.98,  117.72,  118.96],\n",
       "       [ 118.92,  119.08,  118.56,  118.72],\n",
       "       ..., \n",
       "       [ 111.84,  112.14,  111.07,  111.14],\n",
       "       [ 111.14,  111.67,  110.78,  111.27],\n",
       "       [ 111.26,  111.31,  110.55,  110.66]])"
      ]
     },
     "execution_count": 479,
     "metadata": {},
     "output_type": "execute_result"
    }
   ],
   "source": [
    "line"
   ]
  },
  {
   "cell_type": "code",
   "execution_count": 478,
   "metadata": {},
   "outputs": [
    {
     "data": {
      "text/plain": [
       "array([[    0,     1,     2, ...,     7,     8,     9],\n",
       "       [    1,     2,     3, ...,     8,     9,    10],\n",
       "       [    2,     3,     4, ...,     9,    10,    11],\n",
       "       ..., \n",
       "       [10723, 10724, 10725, ..., 10730, 10731, 10732],\n",
       "       [10724, 10725, 10726, ..., 10731, 10732, 10733],\n",
       "       [10725, 10726, 10727, ..., 10732, 10733, 10734]])"
      ]
     },
     "execution_count": 478,
     "metadata": {},
     "output_type": "execute_result"
    }
   ],
   "source": [
    "xidx"
   ]
  },
  {
   "cell_type": "code",
   "execution_count": 120,
   "metadata": {},
   "outputs": [
    {
     "data": {
      "text/plain": [
       "[array([1, 2, 4]), array([1, 2, 4]), array([1, 2, 4])]"
      ]
     },
     "execution_count": 120,
     "metadata": {},
     "output_type": "execute_result"
    }
   ],
   "source": [
    "[x.shape.eval() for x in lst]"
   ]
  },
  {
   "cell_type": "code",
   "execution_count": 3,
   "metadata": {},
   "outputs": [
    {
     "data": {
      "image/png": "[encoded data removed]",
      "text/plain": [
       "<matplotlib.figure.Figure at 0x7f10b1d7e1d0>"
      ]
     },
     "metadata": {},
     "output_type": "display_data"
    }
   ],
   "source": [
    "o.view()"
   ]
  },
  {
   "cell_type": "code",
   "execution_count": 1,
   "metadata": {
    "scrolled": true
   },
   "outputs": [
    {
     "name": "stderr",
     "output_type": "stream",
     "text": [
      "WARNING (theano.sandbox.cuda): The cuda backend is deprecated and will be removed in the next release (v0.10).  Please switch to the gpuarray backend. You can get more information about how to switch at this URL:\n",
      " https://github.com/Theano/Theano/wiki/Converting-to-the-new-gpu-back-end%28gpuarray%29\n",
      "\n",
      "Using gpu device 0: TITAN X (Pascal) (CNMeM is disabled, cuDNN 5110)\n",
      "/home/yu/anaconda3/lib/python3.5/site-packages/sklearn/cross_validation.py:44: DeprecationWarning: This module was deprecated in version 0.18 in favor of the model_selection module into which all the refactored classes and functions are moved. Also note that the interface of the new CV iterators are different from that of this module. This module will be removed in 0.20.\n",
      "  \"This module will be removed in 0.20.\", DeprecationWarning)\n"
     ]
    },
    {
     "name": "stdout",
     "output_type": "stream",
     "text": [
      "784 10\n",
      "Epoch. 0: loss = 2.8763e+00, acc = 1.2275e-01, valid. loss = 2.7400e+00, valid. acc. = 1.2275e-01.\n",
      "Epoch. 1: loss = 2.7319e+00, acc = 1.2744e-01, valid. loss = 2.7036e+00, valid. acc. = 1.2744e-01.\n",
      "KeyboardInterrupt\n",
      "\n"
     ]
    }
   ],
   "source": [
    "import Optimizer as op\n",
    "o = op.optimizer(n_batch=10)\n",
    "o = o.set_datasets(\"mnist\", is_one_hot=True)\n",
    "o.x_train_arr /= 255\n",
    "#o.set_data(x, y, test_size=0., is_shuffle=False)\n",
    "o.set_variables()\n",
    "o = o.dense(10)\n",
    "o = o.softmax().loss_cross_entropy()\n",
    "o = o.opt_Adam(0.01).compile()\n",
    "o = o.optimize(10000,1)"
   ]
  },
  {
   "cell_type": "code",
   "execution_count": 4,
   "metadata": {},
   "outputs": [
    {
     "name": "stdout",
     "output_type": "stream",
     "text": [
      "Epoch. 0: loss = 1.5887e+01, acc = 5.1143e-02, valid. loss = 1.5823e+01, valid. acc. = 5.1143e-02.\n",
      "Epoch. 1: loss = 1.5810e+01, acc = 1.0957e-01, valid. loss = 1.5884e+01, valid. acc. = 1.0957e-01.\n",
      "Epoch. 2: loss = 1.5840e+01, acc = 1.1337e-01, valid. loss = 1.5900e+01, valid. acc. = 1.1337e-01.\n",
      "Epoch. 3: loss = 1.5856e+01, acc = 1.1506e-01, valid. loss = 1.5874e+01, valid. acc. = 1.1506e-01.\n",
      "Epoch. 4: loss = 1.5845e+01, acc = 1.1719e-01, valid. loss = 1.5754e+01, valid. acc. = 1.1719e-01.\n",
      "Epoch. 5: loss = 1.5818e+01, acc = 1.1659e-01, valid. loss = 1.5818e+01, valid. acc. = 1.1659e-01.\n",
      "Epoch. 6: loss = 1.5821e+01, acc = 1.1737e-01, valid. loss = 1.5833e+01, valid. acc. = 1.1737e-01.\n",
      "Epoch. 7: loss = 1.5840e+01, acc = 1.1776e-01, valid. loss = 1.5765e+01, valid. acc. = 1.1776e-01.\n",
      "Epoch. 8: loss = 1.5855e+01, acc = 1.1740e-01, valid. loss = 1.5842e+01, valid. acc. = 1.1740e-01.\n",
      "Epoch. 9: loss = 1.5825e+01, acc = 1.1960e-01, valid. loss = 1.5766e+01, valid. acc. = 1.1960e-01.\n",
      "Epoch. 10: loss = 1.5881e+01, acc = 1.1905e-01, valid. loss = 1.5804e+01, valid. acc. = 1.1905e-01.\n",
      "Epoch. 11: loss = 1.5858e+01, acc = 1.1990e-01, valid. loss = 1.5797e+01, valid. acc. = 1.1990e-01.\n",
      "Epoch. 12: loss = 1.5868e+01, acc = 1.1886e-01, valid. loss = 1.5851e+01, valid. acc. = 1.1886e-01.\n",
      "Epoch. 13: loss = 1.5860e+01, acc = 1.1657e-01, valid. loss = 1.5903e+01, valid. acc. = 1.1657e-01.\n",
      "Epoch. 14: loss = 1.5874e+01, acc = 1.2178e-01, valid. loss = 1.5762e+01, valid. acc. = 1.2178e-01.\n",
      "KeyboardInterrupt\n",
      "\n"
     ]
    }
   ],
   "source": [
    "o = o.opt_Adam(0.1).compile()\n",
    "o = o.optimize(10000,1)\n"
   ]
  },
  {
   "cell_type": "code",
   "execution_count": 5,
   "metadata": {},
   "outputs": [
    {
     "data": {
      "image/png": "[encoded data removed]",
      "text/plain": [
       "<matplotlib.figure.Figure at 0x7fd369bd17b8>"
      ]
     },
     "metadata": {},
     "output_type": "display_data"
    }
   ],
   "source": [
    "o.view()"
   ]
  },
  {
   "cell_type": "code",
   "execution_count": null,
   "metadata": {
    "scrolled": true
   },
   "outputs": [
    {
     "name": "stdout",
     "output_type": "stream",
     "text": [
      "784 10\n",
      "Epoch. 0: loss = 3.1429e+00, acc = 1.1556e-01, valid. loss = 2.7142e+00, valid. acc. = 1.1556e-01.\n",
      "Epoch. 1: loss = 2.6899e+00, acc = 1.2122e-01, valid. loss = 2.6732e+00, valid. acc. = 1.2122e-01.\n",
      "Epoch. 2: loss = 2.6645e+00, acc = 1.2395e-01, valid. loss = 2.6327e+00, valid. acc. = 1.2395e-01.\n",
      "Epoch. 3: loss = 2.6405e+00, acc = 1.2440e-01, valid. loss = 2.6472e+00, valid. acc. = 1.2440e-01.\n",
      "Epoch. 4: loss = 2.6399e+00, acc = 1.2663e-01, valid. loss = 2.6163e+00, valid. acc. = 1.2663e-01.\n",
      "Epoch. 5: loss = 2.6173e+00, acc = 1.3210e-01, valid. loss = 2.6131e+00, valid. acc. = 1.3210e-01.\n",
      "Epoch. 6: loss = 2.6092e+00, acc = 1.0997e-01, valid. loss = 2.5752e+00, valid. acc. = 1.0997e-01.\n",
      "Epoch. 7: loss = 2.6125e+00, acc = 1.3656e-01, valid. loss = 2.5740e+00, valid. acc. = 1.3656e-01.\n",
      "Epoch. 8: loss = 2.6077e+00, acc = 1.3070e-01, valid. loss = 2.6117e+00, valid. acc. = 1.3070e-01.\n",
      "Epoch. 9: loss = 2.6084e+00, acc = 1.2997e-01, valid. loss = 2.5772e+00, valid. acc. = 1.2997e-01.\n",
      "Epoch. 10: loss = 2.6046e+00, acc = 1.2613e-01, valid. loss = 2.5742e+00, valid. acc. = 1.2613e-01.\n",
      "Epoch. 11: loss = 2.5983e+00, acc = 1.3557e-01, valid. loss = 2.5995e+00, valid. acc. = 1.3557e-01.\n",
      "Epoch. 12: loss = 2.5928e+00, acc = 1.0440e-01, valid. loss = 2.5827e+00, valid. acc. = 1.0440e-01.\n",
      "Epoch. 13: loss = 2.5909e+00, acc = 1.2573e-01, valid. loss = 2.6057e+00, valid. acc. = 1.2573e-01.\n",
      "Epoch. 14: loss = 2.6015e+00, acc = 1.3716e-01, valid. loss = 2.5809e+00, valid. acc. = 1.3716e-01.\n",
      "Epoch. 15: loss = 2.5961e+00, acc = 1.2884e-01, valid. loss = 2.5958e+00, valid. acc. = 1.2884e-01.\n",
      "Epoch. 16: loss = 2.5903e+00, acc = 1.3856e-01, valid. loss = 2.6004e+00, valid. acc. = 1.3856e-01.\n",
      "Epoch. 17: loss = 2.5933e+00, acc = 1.2783e-01, valid. loss = 2.6248e+00, valid. acc. = 1.2783e-01.\n",
      "Epoch. 18: loss = 2.5948e+00, acc = 1.3767e-01, valid. loss = 2.5612e+00, valid. acc. = 1.3767e-01.\n",
      "Epoch. 19: loss = 2.5924e+00, acc = 1.3273e-01, valid. loss = 2.5815e+00, valid. acc. = 1.3273e-01.\n",
      "Epoch. 20: loss = 2.6000e+00, acc = 1.3830e-01, valid. loss = 2.5635e+00, valid. acc. = 1.3830e-01.\n",
      "Epoch. 21: loss = 2.5982e+00, acc = 1.4305e-01, valid. loss = 2.5605e+00, valid. acc. = 1.4305e-01.\n",
      "Epoch. 22: loss = 2.5842e+00, acc = 1.2194e-01, valid. loss = 2.5882e+00, valid. acc. = 1.2194e-01.\n",
      "Epoch. 23: loss = 2.5828e+00, acc = 1.3543e-01, valid. loss = 2.5924e+00, valid. acc. = 1.3543e-01.\n",
      "Epoch. 24: loss = 2.5951e+00, acc = 1.1790e-01, valid. loss = 2.5661e+00, valid. acc. = 1.1790e-01.\n",
      "Epoch. 25: loss = 2.5925e+00, acc = 1.4008e-01, valid. loss = 2.5411e+00, valid. acc. = 1.4008e-01.\n",
      "Epoch. 26: loss = 2.5907e+00, acc = 9.9794e-02, valid. loss = 2.5819e+00, valid. acc. = 9.9794e-02.\n",
      "Epoch. 27: loss = 2.5924e+00, acc = 1.1551e-01, valid. loss = 2.6116e+00, valid. acc. = 1.1551e-01.\n",
      "Epoch. 28: loss = 2.5915e+00, acc = 1.4119e-01, valid. loss = 2.5687e+00, valid. acc. = 1.4119e-01.\n",
      "Epoch. 29: loss = 2.5910e+00, acc = 1.3651e-01, valid. loss = 2.5740e+00, valid. acc. = 1.3651e-01.\n",
      "Epoch. 30: loss = 2.5875e+00, acc = 1.4571e-01, valid. loss = 2.5419e+00, valid. acc. = 1.4571e-01.\n",
      "Epoch. 31: loss = 2.5851e+00, acc = 1.3825e-01, valid. loss = 2.5612e+00, valid. acc. = 1.3825e-01.\n",
      "Epoch. 32: loss = 2.5948e+00, acc = 1.3816e-01, valid. loss = 2.5454e+00, valid. acc. = 1.3816e-01.\n",
      "Epoch. 33: loss = 2.5932e+00, acc = 1.3810e-01, valid. loss = 2.5671e+00, valid. acc. = 1.3810e-01.\n",
      "Epoch. 34: loss = 2.5846e+00, acc = 1.4049e-01, valid. loss = 2.5707e+00, valid. acc. = 1.4049e-01.\n",
      "Epoch. 35: loss = 2.5944e+00, acc = 1.2638e-01, valid. loss = 2.5593e+00, valid. acc. = 1.2638e-01.\n",
      "Epoch. 36: loss = 2.5808e+00, acc = 1.3948e-01, valid. loss = 2.5685e+00, valid. acc. = 1.3948e-01.\n",
      "Epoch. 37: loss = 2.5905e+00, acc = 1.4273e-01, valid. loss = 2.5572e+00, valid. acc. = 1.4273e-01.\n",
      "Epoch. 38: loss = 2.5907e+00, acc = 1.4475e-01, valid. loss = 2.6154e+00, valid. acc. = 1.4475e-01.\n",
      "Epoch. 39: loss = 2.5826e+00, acc = 1.2048e-01, valid. loss = 2.6080e+00, valid. acc. = 1.2048e-01.\n",
      "Epoch. 40: loss = 2.5925e+00, acc = 1.4267e-01, valid. loss = 2.5725e+00, valid. acc. = 1.4267e-01.\n",
      "Epoch. 41: loss = 2.5880e+00, acc = 1.2700e-01, valid. loss = 2.5716e+00, valid. acc. = 1.2700e-01.\n",
      "Epoch. 42: loss = 2.5902e+00, acc = 1.3435e-01, valid. loss = 2.5588e+00, valid. acc. = 1.3435e-01.\n",
      "Epoch. 43: loss = 2.5851e+00, acc = 1.4311e-01, valid. loss = 2.5723e+00, valid. acc. = 1.4311e-01.\n",
      "Epoch. 44: loss = 2.5887e+00, acc = 1.2978e-01, valid. loss = 2.5774e+00, valid. acc. = 1.2978e-01.\n",
      "Epoch. 45: loss = 2.5884e+00, acc = 1.3337e-01, valid. loss = 2.5618e+00, valid. acc. = 1.3337e-01.\n",
      "Epoch. 46: loss = 2.5864e+00, acc = 1.0754e-01, valid. loss = 2.5821e+00, valid. acc. = 1.0754e-01.\n",
      "Epoch. 47: loss = 2.5942e+00, acc = 1.1333e-01, valid. loss = 2.5896e+00, valid. acc. = 1.1333e-01.\n",
      "Epoch. 48: loss = 2.5781e+00, acc = 1.4370e-01, valid. loss = 2.5704e+00, valid. acc. = 1.4370e-01.\n",
      "Epoch. 49: loss = 2.5864e+00, acc = 1.3552e-01, valid. loss = 2.5817e+00, valid. acc. = 1.3552e-01.\n",
      "Epoch. 50: loss = 2.5885e+00, acc = 1.5081e-01, valid. loss = 2.5481e+00, valid. acc. = 1.5081e-01.\n",
      "Epoch. 51: loss = 2.5929e+00, acc = 1.4260e-01, valid. loss = 2.5800e+00, valid. acc. = 1.4260e-01.\n",
      "Epoch. 52: loss = 2.5909e+00, acc = 1.4235e-01, valid. loss = 2.5944e+00, valid. acc. = 1.4235e-01.\n",
      "Epoch. 53: loss = 2.5789e+00, acc = 1.4325e-01, valid. loss = 2.5635e+00, valid. acc. = 1.4325e-01.\n",
      "Epoch. 54: loss = 2.5950e+00, acc = 1.3960e-01, valid. loss = 2.5461e+00, valid. acc. = 1.3960e-01.\n",
      "Epoch. 55: loss = 2.5908e+00, acc = 1.1740e-01, valid. loss = 2.5755e+00, valid. acc. = 1.1740e-01.\n",
      "Epoch. 56: loss = 2.5885e+00, acc = 1.4522e-01, valid. loss = 2.5510e+00, valid. acc. = 1.4522e-01.\n",
      "Epoch. 57: loss = 2.5834e+00, acc = 1.3062e-01, valid. loss = 2.5459e+00, valid. acc. = 1.3062e-01.\n",
      "Epoch. 58: loss = 2.5961e+00, acc = 1.2552e-01, valid. loss = 2.5569e+00, valid. acc. = 1.2552e-01.\n",
      "Epoch. 59: loss = 2.5851e+00, acc = 1.2998e-01, valid. loss = 2.5753e+00, valid. acc. = 1.2998e-01.\n",
      "Epoch. 60: loss = 2.5826e+00, acc = 1.2462e-01, valid. loss = 2.5514e+00, valid. acc. = 1.2462e-01.\n",
      "Epoch. 61: loss = 2.5845e+00, acc = 1.3156e-01, valid. loss = 2.5829e+00, valid. acc. = 1.3156e-01.\n",
      "Epoch. 62: loss = 2.5938e+00, acc = 1.4694e-01, valid. loss = 2.5748e+00, valid. acc. = 1.4694e-01.\n"
     ]
    }
   ],
   "source": [
    "import Optimizer as op\n",
    "o = op.optimizer(n_batch=100)\n",
    "o = o.set_datasets(\"mnist\", is_one_hot=True)\n",
    "o.x_train_arr /= 255\n",
    "#o.set_data(x, y, test_size=0., is_shuffle=False)\n",
    "o.set_variables()\n",
    "o = o.dense(10)\n",
    "o = o.softmax().loss_cross_entropy()\n",
    "o = o.opt_Adam(0.01).compile()\n",
    "o = o.optimize(10000,1)"
   ]
  },
  {
   "cell_type": "code",
   "execution_count": 5,
   "metadata": {},
   "outputs": [
    {
     "ename": "UnusedInputError",
     "evalue": "theano.function was asked to create a function computing outputs given certain inputs, but the provided input variable at index 0 is not part of the computational graph needed to compute the outputs: InplaceDimShuffle{0,x}.0.\nTo make this error into a warning, you can pass the parameter on_unused_input='warn' to theano.function. To disable it completely, use on_unused_input='ignore'.",
     "output_type": "error",
     "traceback": [
      "\u001b[0;31m---------------------------------------------------------------------------\u001b[0m",
      "\u001b[0;31mUnusedInputError\u001b[0m                          Traceback (most recent call last)",
      "\u001b[0;32m<ipython-input-5-fb042e5c6770>\u001b[0m in \u001b[0;36m<module>\u001b[0;34m()\u001b[0m\n\u001b[0;32m----> 1\u001b[0;31m \u001b[0mo\u001b[0m\u001b[0;34m.\u001b[0m\u001b[0mloss\u001b[0m\u001b[0;34m.\u001b[0m\u001b[0meval\u001b[0m\u001b[0;34m(\u001b[0m\u001b[0;34m{\u001b[0m\u001b[0mo\u001b[0m\u001b[0;34m.\u001b[0m\u001b[0mx\u001b[0m\u001b[0;34m:\u001b[0m\u001b[0mo\u001b[0m\u001b[0;34m.\u001b[0m\u001b[0mx_train_arr\u001b[0m\u001b[0;34m,\u001b[0m \u001b[0mo\u001b[0m\u001b[0;34m.\u001b[0m\u001b[0my\u001b[0m\u001b[0;34m:\u001b[0m\u001b[0mo\u001b[0m\u001b[0;34m.\u001b[0m\u001b[0my_train_arr\u001b[0m\u001b[0;34m}\u001b[0m\u001b[0;34m)\u001b[0m\u001b[0;34m\u001b[0m\u001b[0m\n\u001b[0m",
      "\u001b[0;32m/home/yu/anaconda3/lib/python3.5/site-packages/theano/gof/graph.py\u001b[0m in \u001b[0;36meval\u001b[0;34m(self, inputs_to_values)\u001b[0m\n\u001b[1;32m    514\u001b[0m         \u001b[0minputs\u001b[0m \u001b[0;34m=\u001b[0m \u001b[0mtuple\u001b[0m\u001b[0;34m(\u001b[0m\u001b[0msorted\u001b[0m\u001b[0;34m(\u001b[0m\u001b[0minputs_to_values\u001b[0m\u001b[0;34m.\u001b[0m\u001b[0mkeys\u001b[0m\u001b[0;34m(\u001b[0m\u001b[0;34m)\u001b[0m\u001b[0;34m,\u001b[0m \u001b[0mkey\u001b[0m\u001b[0;34m=\u001b[0m\u001b[0mid\u001b[0m\u001b[0;34m)\u001b[0m\u001b[0;34m)\u001b[0m\u001b[0;34m\u001b[0m\u001b[0m\n\u001b[1;32m    515\u001b[0m         \u001b[0;32mif\u001b[0m \u001b[0minputs\u001b[0m \u001b[0;32mnot\u001b[0m \u001b[0;32min\u001b[0m \u001b[0mself\u001b[0m\u001b[0;34m.\u001b[0m\u001b[0m_fn_cache\u001b[0m\u001b[0;34m:\u001b[0m\u001b[0;34m\u001b[0m\u001b[0m\n\u001b[0;32m--> 516\u001b[0;31m             \u001b[0mself\u001b[0m\u001b[0;34m.\u001b[0m\u001b[0m_fn_cache\u001b[0m\u001b[0;34m[\u001b[0m\u001b[0minputs\u001b[0m\u001b[0;34m]\u001b[0m \u001b[0;34m=\u001b[0m \u001b[0mtheano\u001b[0m\u001b[0;34m.\u001b[0m\u001b[0mfunction\u001b[0m\u001b[0;34m(\u001b[0m\u001b[0minputs\u001b[0m\u001b[0;34m,\u001b[0m \u001b[0mself\u001b[0m\u001b[0;34m)\u001b[0m\u001b[0;34m\u001b[0m\u001b[0m\n\u001b[0m\u001b[1;32m    517\u001b[0m         \u001b[0margs\u001b[0m \u001b[0;34m=\u001b[0m \u001b[0;34m[\u001b[0m\u001b[0minputs_to_values\u001b[0m\u001b[0;34m[\u001b[0m\u001b[0mparam\u001b[0m\u001b[0;34m]\u001b[0m \u001b[0;32mfor\u001b[0m \u001b[0mparam\u001b[0m \u001b[0;32min\u001b[0m \u001b[0minputs\u001b[0m\u001b[0;34m]\u001b[0m\u001b[0;34m\u001b[0m\u001b[0m\n\u001b[1;32m    518\u001b[0m \u001b[0;34m\u001b[0m\u001b[0m\n",
      "\u001b[0;32m/home/yu/anaconda3/lib/python3.5/site-packages/theano/compile/function.py\u001b[0m in \u001b[0;36mfunction\u001b[0;34m(inputs, outputs, mode, updates, givens, no_default_updates, accept_inplace, name, rebuild_strict, allow_input_downcast, profile, on_unused_input)\u001b[0m\n\u001b[1;32m    324\u001b[0m                    \u001b[0mon_unused_input\u001b[0m\u001b[0;34m=\u001b[0m\u001b[0mon_unused_input\u001b[0m\u001b[0;34m,\u001b[0m\u001b[0;34m\u001b[0m\u001b[0m\n\u001b[1;32m    325\u001b[0m                    \u001b[0mprofile\u001b[0m\u001b[0;34m=\u001b[0m\u001b[0mprofile\u001b[0m\u001b[0;34m,\u001b[0m\u001b[0;34m\u001b[0m\u001b[0m\n\u001b[0;32m--> 326\u001b[0;31m                    output_keys=output_keys)\n\u001b[0m\u001b[1;32m    327\u001b[0m     \u001b[0;31m# We need to add the flag check_aliased inputs if we have any mutable or\u001b[0m\u001b[0;34m\u001b[0m\u001b[0;34m\u001b[0m\u001b[0m\n\u001b[1;32m    328\u001b[0m     \u001b[0;31m# borrowed used defined inputs\u001b[0m\u001b[0;34m\u001b[0m\u001b[0;34m\u001b[0m\u001b[0m\n",
      "\u001b[0;32m/home/yu/anaconda3/lib/python3.5/site-packages/theano/compile/pfunc.py\u001b[0m in \u001b[0;36mpfunc\u001b[0;34m(params, outputs, mode, updates, givens, no_default_updates, accept_inplace, name, rebuild_strict, allow_input_downcast, profile, on_unused_input, output_keys)\u001b[0m\n\u001b[1;32m    484\u001b[0m                          \u001b[0maccept_inplace\u001b[0m\u001b[0;34m=\u001b[0m\u001b[0maccept_inplace\u001b[0m\u001b[0;34m,\u001b[0m \u001b[0mname\u001b[0m\u001b[0;34m=\u001b[0m\u001b[0mname\u001b[0m\u001b[0;34m,\u001b[0m\u001b[0;34m\u001b[0m\u001b[0m\n\u001b[1;32m    485\u001b[0m                          \u001b[0mprofile\u001b[0m\u001b[0;34m=\u001b[0m\u001b[0mprofile\u001b[0m\u001b[0;34m,\u001b[0m \u001b[0mon_unused_input\u001b[0m\u001b[0;34m=\u001b[0m\u001b[0mon_unused_input\u001b[0m\u001b[0;34m,\u001b[0m\u001b[0;34m\u001b[0m\u001b[0m\n\u001b[0;32m--> 486\u001b[0;31m                          output_keys=output_keys)\n\u001b[0m\u001b[1;32m    487\u001b[0m \u001b[0;34m\u001b[0m\u001b[0m\n\u001b[1;32m    488\u001b[0m \u001b[0;34m\u001b[0m\u001b[0m\n",
      "\u001b[0;32m/home/yu/anaconda3/lib/python3.5/site-packages/theano/compile/function_module.py\u001b[0m in \u001b[0;36morig_function\u001b[0;34m(inputs, outputs, mode, accept_inplace, name, profile, on_unused_input, output_keys)\u001b[0m\n\u001b[1;32m   1792\u001b[0m                    \u001b[0mprofile\u001b[0m\u001b[0;34m=\u001b[0m\u001b[0mprofile\u001b[0m\u001b[0;34m,\u001b[0m\u001b[0;34m\u001b[0m\u001b[0m\n\u001b[1;32m   1793\u001b[0m                    \u001b[0mon_unused_input\u001b[0m\u001b[0;34m=\u001b[0m\u001b[0mon_unused_input\u001b[0m\u001b[0;34m,\u001b[0m\u001b[0;34m\u001b[0m\u001b[0m\n\u001b[0;32m-> 1794\u001b[0;31m                    \u001b[0moutput_keys\u001b[0m\u001b[0;34m=\u001b[0m\u001b[0moutput_keys\u001b[0m\u001b[0;34m)\u001b[0m\u001b[0;34m.\u001b[0m\u001b[0mcreate\u001b[0m\u001b[0;34m(\u001b[0m\u001b[0;34m\u001b[0m\u001b[0m\n\u001b[0m\u001b[1;32m   1795\u001b[0m             defaults)\n\u001b[1;32m   1796\u001b[0m \u001b[0;34m\u001b[0m\u001b[0m\n",
      "\u001b[0;32m/home/yu/anaconda3/lib/python3.5/site-packages/theano/compile/function_module.py\u001b[0m in \u001b[0;36m__init__\u001b[0;34m(self, inputs, outputs, mode, accept_inplace, function_builder, profile, on_unused_input, fgraph, output_keys)\u001b[0m\n\u001b[1;32m   1431\u001b[0m \u001b[0;34m\u001b[0m\u001b[0m\n\u001b[1;32m   1432\u001b[0m         \u001b[0;31m# Check if some input variables are unused\u001b[0m\u001b[0;34m\u001b[0m\u001b[0;34m\u001b[0m\u001b[0m\n\u001b[0;32m-> 1433\u001b[0;31m         \u001b[0mself\u001b[0m\u001b[0;34m.\u001b[0m\u001b[0m_check_unused_inputs\u001b[0m\u001b[0;34m(\u001b[0m\u001b[0minputs\u001b[0m\u001b[0;34m,\u001b[0m \u001b[0moutputs\u001b[0m\u001b[0;34m,\u001b[0m \u001b[0mon_unused_input\u001b[0m\u001b[0;34m)\u001b[0m\u001b[0;34m\u001b[0m\u001b[0m\n\u001b[0m\u001b[1;32m   1434\u001b[0m \u001b[0;34m\u001b[0m\u001b[0m\n\u001b[1;32m   1435\u001b[0m         \u001b[0;31m# Make a list of (SymbolicInput|SymblicInputKits, indices,\u001b[0m\u001b[0;34m\u001b[0m\u001b[0;34m\u001b[0m\u001b[0m\n",
      "\u001b[0;32m/home/yu/anaconda3/lib/python3.5/site-packages/theano/compile/function_module.py\u001b[0m in \u001b[0;36m_check_unused_inputs\u001b[0;34m(self, inputs, outputs, on_unused_input)\u001b[0m\n\u001b[1;32m   1571\u001b[0m                 \u001b[0;32melif\u001b[0m \u001b[0mon_unused_input\u001b[0m \u001b[0;34m==\u001b[0m \u001b[0;34m'raise'\u001b[0m\u001b[0;34m:\u001b[0m\u001b[0;34m\u001b[0m\u001b[0m\n\u001b[1;32m   1572\u001b[0m                     raise UnusedInputError(msg % (inputs.index(i),\n\u001b[0;32m-> 1573\u001b[0;31m                                                   i.variable, err_msg))\n\u001b[0m\u001b[1;32m   1574\u001b[0m                 \u001b[0;32melse\u001b[0m\u001b[0;34m:\u001b[0m\u001b[0;34m\u001b[0m\u001b[0m\n\u001b[1;32m   1575\u001b[0m                     raise ValueError(\"Invalid value for keyword \"\n",
      "\u001b[0;31mUnusedInputError\u001b[0m: theano.function was asked to create a function computing outputs given certain inputs, but the provided input variable at index 0 is not part of the computational graph needed to compute the outputs: InplaceDimShuffle{0,x}.0.\nTo make this error into a warning, you can pass the parameter on_unused_input='warn' to theano.function. To disable it completely, use on_unused_input='ignore'."
     ]
    }
   ],
   "source": [
    "import Optimizer as op\n",
    "o = op.optimizer(n_batch=100)\n",
    "o = o.set_datasets(\"mnist\", is_one_hot=True)\n",
    "o.x_train_arr /= 255\n",
    "#o.set_data(x, y, test_size=0., is_shuffle=False)\n",
    "o.set_variables()\n",
    "o = o.dense(10)\n",
    "o = o.softmax().loss_cross_entropy()\n",
    "o = o.opt_Adam(0.01).compile()\n",
    "o = o.optimize(10000,1)"
   ]
  },
  {
   "cell_type": "code",
   "execution_count": null,
   "metadata": {
    "collapsed": true
   },
   "outputs": [],
   "source": []
  },
  {
   "cell_type": "code",
   "execution_count": null,
   "metadata": {
    "collapsed": true
   },
   "outputs": [],
   "source": []
  },
  {
   "cell_type": "code",
   "execution_count": 3,
   "metadata": {},
   "outputs": [
    {
     "name": "stdout",
     "output_type": "stream",
     "text": [
      "784 10\n",
      "Epoch. 0: loss = 1.8420e+00, acc = 3.1746e-05, valid. loss = 1.8420e+00, valid. acc. = 3.1746e-05.\n",
      "Epoch. 1: loss = 1.8420e+00, acc = 3.1746e-05, valid. loss = 1.8420e+00, valid. acc. = 3.1746e-05.\n",
      "KeyboardInterrupt\n",
      "\n"
     ]
    }
   ],
   "source": [
    "import Optimizer as op\n",
    "o = op.optimizer(n_batch=10)\n",
    "o = o.set_datasets(\"mnist\", is_one_hot=True)\n",
    "#o.x_train_arr /= 255\n",
    "#o.set_data(x, y, test_size=0., is_shuffle=False)\n",
    "o = o.dense(10).rnn(0)\n",
    "o = o.softmax().loss_cross_entropy()\n",
    "o = o.opt_Adam(0.001).compile()\n",
    "o = o.optimize(10000,1)"
   ]
  },
  {
   "cell_type": "code",
   "execution_count": 2,
   "metadata": {},
   "outputs": [
    {
     "name": "stdout",
     "output_type": "stream",
     "text": [
      "784 10\n",
      "Epoch. 0: loss = 3.1475e+02, acc = 1.0306e-01, valid. loss = 1.6947e+05, valid. acc. = 1.0306e-01.\n",
      "Epoch. 1: loss = 2.7024e+02, acc = 1.2046e-01, valid. loss = 1.6682e+05, valid. acc. = 1.2046e-01.\n",
      "Epoch. 2: loss = 2.6628e+02, acc = 1.1483e-01, valid. loss = 1.6579e+05, valid. acc. = 1.1483e-01.\n",
      "Epoch. 3: loss = 2.6474e+02, acc = 1.2743e-01, valid. loss = 1.6457e+05, valid. acc. = 1.2743e-01.\n",
      "Epoch. 4: loss = 2.6408e+02, acc = 1.2879e-01, valid. loss = 1.6398e+05, valid. acc. = 1.2879e-01.\n",
      "Epoch. 5: loss = 2.6265e+02, acc = 1.2324e-01, valid. loss = 1.6289e+05, valid. acc. = 1.2324e-01.\n",
      "Epoch. 6: loss = 2.6120e+02, acc = 1.2595e-01, valid. loss = 1.6439e+05, valid. acc. = 1.2595e-01.\n",
      "Epoch. 7: loss = 2.6097e+02, acc = 1.3159e-01, valid. loss = 1.6214e+05, valid. acc. = 1.3159e-01.\n",
      "Epoch. 8: loss = 2.6074e+02, acc = 1.3429e-01, valid. loss = 1.6251e+05, valid. acc. = 1.3429e-01.\n",
      "Epoch. 9: loss = 2.6117e+02, acc = 1.2968e-01, valid. loss = 1.6294e+05, valid. acc. = 1.2968e-01.\n",
      "Epoch. 10: loss = 2.5995e+02, acc = 1.2457e-01, valid. loss = 1.6245e+05, valid. acc. = 1.2457e-01.\n",
      "Epoch. 11: loss = 2.6063e+02, acc = 1.2132e-01, valid. loss = 1.6221e+05, valid. acc. = 1.2132e-01.\n",
      "Epoch. 12: loss = 2.6026e+02, acc = 1.3352e-01, valid. loss = 1.6214e+05, valid. acc. = 1.3352e-01.\n",
      "Epoch. 13: loss = 2.5988e+02, acc = 8.6587e-02, valid. loss = 1.6441e+05, valid. acc. = 8.6587e-02.\n",
      "Epoch. 14: loss = 2.5981e+02, acc = 1.3616e-01, valid. loss = 1.6409e+05, valid. acc. = 1.3616e-01.\n",
      "Epoch. 15: loss = 2.6008e+02, acc = 1.2367e-01, valid. loss = 1.6279e+05, valid. acc. = 1.2367e-01.\n",
      "Epoch. 16: loss = 2.5965e+02, acc = 1.3727e-01, valid. loss = 1.6372e+05, valid. acc. = 1.3727e-01.\n",
      "Epoch. 17: loss = 2.5889e+02, acc = 1.4311e-01, valid. loss = 1.6344e+05, valid. acc. = 1.4311e-01.\n",
      "Epoch. 18: loss = 2.5921e+02, acc = 1.4487e-01, valid. loss = 1.6075e+05, valid. acc. = 1.4487e-01.\n",
      "Epoch. 19: loss = 2.5934e+02, acc = 1.3583e-01, valid. loss = 1.6312e+05, valid. acc. = 1.3583e-01.\n",
      "Epoch. 20: loss = 2.5940e+02, acc = 1.3981e-01, valid. loss = 1.6048e+05, valid. acc. = 1.3981e-01.\n",
      "Epoch. 21: loss = 2.5940e+02, acc = 1.1181e-01, valid. loss = 1.6557e+05, valid. acc. = 1.1181e-01.\n",
      "Epoch. 22: loss = 2.5884e+02, acc = 1.2111e-01, valid. loss = 1.6227e+05, valid. acc. = 1.2111e-01.\n",
      "Epoch. 23: loss = 2.5905e+02, acc = 1.4078e-01, valid. loss = 1.6260e+05, valid. acc. = 1.4078e-01.\n",
      "Epoch. 24: loss = 2.5916e+02, acc = 1.4240e-01, valid. loss = 1.6518e+05, valid. acc. = 1.4240e-01.\n",
      "Epoch. 25: loss = 2.5926e+02, acc = 1.2613e-01, valid. loss = 1.6176e+05, valid. acc. = 1.2613e-01.\n",
      "Epoch. 26: loss = 2.5885e+02, acc = 1.3902e-01, valid. loss = 1.6367e+05, valid. acc. = 1.3902e-01.\n",
      "KeyboardInterrupt\n",
      "\n"
     ]
    }
   ],
   "source": [
    "import Optimizer as op\n",
    "o = op.optimizer(n_batch=100)\n",
    "o = o.set_datasets(\"mnist\", is_one_hot=True)\n",
    "o.x_train_arr /= 255\n",
    "#o.set_data(x, y, test_size=0., is_shuffle=False)\n",
    "o = o.dense(10)\n",
    "o = o.softmax().loss_cross_entropy()\n",
    "\n",
    "o = o.opt_Adam(0.01).compile()\n",
    "o = o.optimize(10000,1)"
   ]
  },
  {
   "cell_type": "code",
   "execution_count": 3,
   "metadata": {},
   "outputs": [
    {
     "data": {
      "text/plain": [
       "[<CudaNdarrayType(float32, matrix)>, <CudaNdarrayType(float32, vector)>]"
      ]
     },
     "execution_count": 3,
     "metadata": {},
     "output_type": "execute_result"
    }
   ],
   "source": [
    "o.params"
   ]
  },
  {
   "cell_type": "code",
   "execution_count": 6,
   "metadata": {},
   "outputs": [
    {
     "data": {
      "text/plain": [
       "(63000,)"
      ]
     },
     "execution_count": 6,
     "metadata": {},
     "output_type": "execute_result"
    }
   ],
   "source": [
    "o.loss.eval({o.x:o.x_train_arr, o.ylst[0]:o.y_train_arr}).shape"
   ]
  },
  {
   "cell_type": "code",
   "execution_count": null,
   "metadata": {},
   "outputs": [
    {
     "name": "stdout",
     "output_type": "stream",
     "text": [
      "Epoch. 0: loss = 2.5560e+00, acc = 1.2833e-01, valid. loss = 2.5419e+00, valid. acc. = 1.2833e-01.\n",
      "Epoch. 10: loss = 2.5403e+00, acc = 1.3190e-01, valid. loss = 2.5361e+00, valid. acc. = 1.3190e-01.\n",
      "Epoch. 20: loss = 2.5371e+00, acc = 1.4356e-01, valid. loss = 2.5322e+00, valid. acc. = 1.4356e-01.\n",
      "Epoch. 30: loss = 2.5343e+00, acc = 1.4363e-01, valid. loss = 2.5308e+00, valid. acc. = 1.4363e-01.\n",
      "Epoch. 40: loss = 2.5323e+00, acc = 1.4032e-01, valid. loss = 2.5278e+00, valid. acc. = 1.4032e-01.\n",
      "Epoch. 50: loss = 2.5310e+00, acc = 1.4998e-01, valid. loss = 2.5259e+00, valid. acc. = 1.4998e-01.\n",
      "Epoch. 60: loss = 2.5290e+00, acc = 1.4594e-01, valid. loss = 2.5245e+00, valid. acc. = 1.4594e-01.\n",
      "Epoch. 70: loss = 2.5281e+00, acc = 1.4351e-01, valid. loss = 2.5237e+00, valid. acc. = 1.4351e-01.\n",
      "Epoch. 80: loss = 2.5266e+00, acc = 1.5308e-01, valid. loss = 2.5247e+00, valid. acc. = 1.5308e-01.\n",
      "Epoch. 90: loss = 2.5264e+00, acc = 1.4925e-01, valid. loss = 2.5209e+00, valid. acc. = 1.4925e-01.\n",
      "Epoch. 100: loss = 2.5256e+00, acc = 1.4978e-01, valid. loss = 2.5195e+00, valid. acc. = 1.4978e-01.\n",
      "Epoch. 110: loss = 2.5245e+00, acc = 1.5227e-01, valid. loss = 2.5194e+00, valid. acc. = 1.5227e-01.\n",
      "Epoch. 120: loss = 2.5246e+00, acc = 1.5413e-01, valid. loss = 2.5200e+00, valid. acc. = 1.5413e-01.\n",
      "Epoch. 130: loss = 2.5235e+00, acc = 1.4792e-01, valid. loss = 2.5190e+00, valid. acc. = 1.4792e-01.\n",
      "Epoch. 140: loss = 2.5231e+00, acc = 1.5303e-01, valid. loss = 2.5189e+00, valid. acc. = 1.5303e-01.\n",
      "Epoch. 150: loss = 2.5226e+00, acc = 1.4859e-01, valid. loss = 2.5191e+00, valid. acc. = 1.4859e-01.\n",
      "Epoch. 160: loss = 2.5219e+00, acc = 1.4940e-01, valid. loss = 2.5174e+00, valid. acc. = 1.4940e-01.\n",
      "Epoch. 170: loss = 2.5218e+00, acc = 1.4965e-01, valid. loss = 2.5183e+00, valid. acc. = 1.4965e-01.\n",
      "Epoch. 180: loss = 2.5214e+00, acc = 1.5502e-01, valid. loss = 2.5181e+00, valid. acc. = 1.5502e-01.\n",
      "Epoch. 190: loss = 2.5215e+00, acc = 1.5256e-01, valid. loss = 2.5175e+00, valid. acc. = 1.5256e-01.\n",
      "Epoch. 200: loss = 2.5210e+00, acc = 1.5125e-01, valid. loss = 2.5163e+00, valid. acc. = 1.5125e-01.\n",
      "Epoch. 210: loss = 2.5213e+00, acc = 1.5297e-01, valid. loss = 2.5160e+00, valid. acc. = 1.5297e-01.\n",
      "Epoch. 220: loss = 2.5203e+00, acc = 1.5451e-01, valid. loss = 2.5166e+00, valid. acc. = 1.5451e-01.\n",
      "Epoch. 230: loss = 2.5208e+00, acc = 1.5162e-01, valid. loss = 2.5161e+00, valid. acc. = 1.5162e-01.\n",
      "Epoch. 240: loss = 2.5203e+00, acc = 1.5803e-01, valid. loss = 2.5165e+00, valid. acc. = 1.5803e-01.\n",
      "Epoch. 250: loss = 2.5200e+00, acc = 1.5495e-01, valid. loss = 2.5166e+00, valid. acc. = 1.5495e-01.\n"
     ]
    }
   ],
   "source": [
    "\n",
    "o = o.opt_Adam(0.001).compile()\n",
    "o = o.optimize(10000,10)\n"
   ]
  },
  {
   "cell_type": "code",
   "execution_count": 4,
   "metadata": {},
   "outputs": [
    {
     "data": {
      "text/plain": [
       "array([9, 2, 3, 4])"
      ]
     },
     "execution_count": 4,
     "metadata": {},
     "output_type": "execute_result"
    }
   ],
   "source": [
    "concatenate([array([9]),array([2,3,4])])"
   ]
  },
  {
   "cell_type": "code",
   "execution_count": 5,
   "metadata": {},
   "outputs": [
    {
     "data": {
      "text/plain": [
       "(3, 3, 3, 1)"
      ]
     },
     "execution_count": 5,
     "metadata": {},
     "output_type": "execute_result"
    }
   ],
   "source": [
    "ones((3,3,3))[...,None].shape"
   ]
  },
  {
   "cell_type": "code",
   "execution_count": 161,
   "metadata": {
    "scrolled": true
   },
   "outputs": [
    {
     "name": "stdout",
     "output_type": "stream",
     "text": [
      "3.4998669624328613\n",
      "2.970357656478882\n",
      "2.5788233280181885\n",
      "2.3907742500305176\n",
      "2.0066370964050293\n",
      "2.117086410522461\n",
      "2.026233434677124\n",
      "2.0261969566345215\n",
      "1.9340922832489014\n",
      "1.473728895187378\n",
      "1.381466031074524\n",
      "1.4735664129257202\n",
      "1.381466031074524\n",
      "1.4735510349273682\n",
      "1.4450583457946777\n",
      "1.5514671802520752\n",
      "1.5122466087341309\n",
      "1.5107382535934448\n",
      "1.4340012073516846\n",
      "1.2350505590438843\n",
      "1.289361596107483\n"
     ]
    },
    {
     "ename": "KeyboardInterrupt",
     "evalue": "",
     "output_type": "error",
     "traceback": [
      "\u001b[0;31m---------------------------------------------------------------------------\u001b[0m",
      "\u001b[0;31mKeyboardInterrupt\u001b[0m                         Traceback (most recent call last)",
      "\u001b[0;32m<ipython-input-161-2e7cdfb568cf>\u001b[0m in \u001b[0;36m<module>\u001b[0;34m()\u001b[0m\n\u001b[1;32m     47\u001b[0m \u001b[0;32mfor\u001b[0m \u001b[0mi\u001b[0m \u001b[0;32min\u001b[0m \u001b[0mrange\u001b[0m\u001b[0;34m(\u001b[0m\u001b[0;36m100\u001b[0m\u001b[0;34m)\u001b[0m\u001b[0;34m:\u001b[0m\u001b[0;34m\u001b[0m\u001b[0m\n\u001b[1;32m     48\u001b[0m     \u001b[0;32mfor\u001b[0m \u001b[0mj\u001b[0m \u001b[0;32min\u001b[0m \u001b[0mrange\u001b[0m\u001b[0;34m(\u001b[0m\u001b[0;36m0\u001b[0m\u001b[0;34m,\u001b[0m \u001b[0msize\u001b[0m\u001b[0;34m-\u001b[0m\u001b[0;36m100\u001b[0m\u001b[0;34m,\u001b[0m \u001b[0;36m100\u001b[0m\u001b[0;34m)\u001b[0m\u001b[0;34m:\u001b[0m\u001b[0;34m\u001b[0m\u001b[0m\n\u001b[0;32m---> 49\u001b[0;31m         \u001b[0mloss\u001b[0m \u001b[0;34m=\u001b[0m \u001b[0mf\u001b[0m\u001b[0;34m(\u001b[0m\u001b[0mj\u001b[0m\u001b[0;34m)\u001b[0m\u001b[0;34m\u001b[0m\u001b[0m\n\u001b[0m\u001b[1;32m     50\u001b[0m     \u001b[0mprint\u001b[0m\u001b[0;34m(\u001b[0m\u001b[0mloss\u001b[0m\u001b[0;34m)\u001b[0m\u001b[0;34m\u001b[0m\u001b[0m\n",
      "\u001b[0;32m/home/yu/anaconda3/lib/python3.5/site-packages/theano/compile/function_module.py\u001b[0m in \u001b[0;36m__call__\u001b[0;34m(self, *args, **kwargs)\u001b[0m\n\u001b[1;32m    882\u001b[0m         \u001b[0;32mtry\u001b[0m\u001b[0;34m:\u001b[0m\u001b[0;34m\u001b[0m\u001b[0m\n\u001b[1;32m    883\u001b[0m             \u001b[0moutputs\u001b[0m \u001b[0;34m=\u001b[0m\u001b[0;31m\\\u001b[0m\u001b[0;34m\u001b[0m\u001b[0m\n\u001b[0;32m--> 884\u001b[0;31m                 \u001b[0mself\u001b[0m\u001b[0;34m.\u001b[0m\u001b[0mfn\u001b[0m\u001b[0;34m(\u001b[0m\u001b[0;34m)\u001b[0m \u001b[0;32mif\u001b[0m \u001b[0moutput_subset\u001b[0m \u001b[0;32mis\u001b[0m \u001b[0;32mNone\u001b[0m \u001b[0;32melse\u001b[0m\u001b[0;31m\\\u001b[0m\u001b[0;34m\u001b[0m\u001b[0m\n\u001b[0m\u001b[1;32m    885\u001b[0m                 \u001b[0mself\u001b[0m\u001b[0;34m.\u001b[0m\u001b[0mfn\u001b[0m\u001b[0;34m(\u001b[0m\u001b[0moutput_subset\u001b[0m\u001b[0;34m=\u001b[0m\u001b[0moutput_subset\u001b[0m\u001b[0;34m)\u001b[0m\u001b[0;34m\u001b[0m\u001b[0m\n\u001b[1;32m    886\u001b[0m         \u001b[0;32mexcept\u001b[0m \u001b[0mException\u001b[0m\u001b[0;34m:\u001b[0m\u001b[0;34m\u001b[0m\u001b[0m\n",
      "\u001b[0;32m/home/yu/anaconda3/lib/python3.5/site-packages/theano/gof/op.py\u001b[0m in \u001b[0;36mrval\u001b[0;34m(p, i, o, n)\u001b[0m\n\u001b[1;32m    869\u001b[0m         \u001b[0;32mif\u001b[0m \u001b[0mparams\u001b[0m \u001b[0;32mis\u001b[0m \u001b[0mgraph\u001b[0m\u001b[0;34m.\u001b[0m\u001b[0mNoParams\u001b[0m\u001b[0;34m:\u001b[0m\u001b[0;34m\u001b[0m\u001b[0m\n\u001b[1;32m    870\u001b[0m             \u001b[0;31m# default arguments are stored in the closure of `rval`\u001b[0m\u001b[0;34m\u001b[0m\u001b[0;34m\u001b[0m\u001b[0m\n\u001b[0;32m--> 871\u001b[0;31m             \u001b[0;32mdef\u001b[0m \u001b[0mrval\u001b[0m\u001b[0;34m(\u001b[0m\u001b[0mp\u001b[0m\u001b[0;34m=\u001b[0m\u001b[0mp\u001b[0m\u001b[0;34m,\u001b[0m \u001b[0mi\u001b[0m\u001b[0;34m=\u001b[0m\u001b[0mnode_input_storage\u001b[0m\u001b[0;34m,\u001b[0m \u001b[0mo\u001b[0m\u001b[0;34m=\u001b[0m\u001b[0mnode_output_storage\u001b[0m\u001b[0;34m,\u001b[0m \u001b[0mn\u001b[0m\u001b[0;34m=\u001b[0m\u001b[0mnode\u001b[0m\u001b[0;34m)\u001b[0m\u001b[0;34m:\u001b[0m\u001b[0;34m\u001b[0m\u001b[0m\n\u001b[0m\u001b[1;32m    872\u001b[0m                 \u001b[0mr\u001b[0m \u001b[0;34m=\u001b[0m \u001b[0mp\u001b[0m\u001b[0;34m(\u001b[0m\u001b[0mn\u001b[0m\u001b[0;34m,\u001b[0m \u001b[0;34m[\u001b[0m\u001b[0mx\u001b[0m\u001b[0;34m[\u001b[0m\u001b[0;36m0\u001b[0m\u001b[0;34m]\u001b[0m \u001b[0;32mfor\u001b[0m \u001b[0mx\u001b[0m \u001b[0;32min\u001b[0m \u001b[0mi\u001b[0m\u001b[0;34m]\u001b[0m\u001b[0;34m,\u001b[0m \u001b[0mo\u001b[0m\u001b[0;34m)\u001b[0m\u001b[0;34m\u001b[0m\u001b[0m\n\u001b[1;32m    873\u001b[0m                 \u001b[0;32mfor\u001b[0m \u001b[0mo\u001b[0m \u001b[0;32min\u001b[0m \u001b[0mnode\u001b[0m\u001b[0;34m.\u001b[0m\u001b[0moutputs\u001b[0m\u001b[0;34m:\u001b[0m\u001b[0;34m\u001b[0m\u001b[0m\n",
      "\u001b[0;31mKeyboardInterrupt\u001b[0m: "
     ]
    }
   ],
   "source": [
    "import theano as th\n",
    "from numpy import *\n",
    "import numpy as np\n",
    "from sklearn.datasets import fetch_mldata\n",
    "\n",
    "mnist = fetch_mldata('MNIST original', data_home=\"data_dir_for_optimizer\")\n",
    "\n",
    "x_arr = mnist[\"data\"]\n",
    "y_arr = mnist[\"target\"]\n",
    "\n",
    "size = x_arr.shape[0]\n",
    "\n",
    "x = th.tensor.dmatrix(\"x\").astype(th.config.floatX)\n",
    "y = th.tensor.dmatrix(\"y\").astype(\"int32\")\n",
    "\n",
    "W = th.shared(random.rand(784,10).astype(dtype=th.config.floatX), borrow=True)\n",
    "b = th.shared(random.rand(10).astype(dtype=th.config.floatX), borrow=True)\n",
    "\n",
    "out = th.tensor.nnet.softmax(x.dot(W) + b)\n",
    "#loss = -th.tensor.mean(y * th.tensor.log(out + 1e-4))\n",
    "loss = -th.tensor.mean(th.tensor.log(out + 1e-4)[th.tensor.arange(y.shape[0]), y.flatten()]).astype(th.config.floatX)\n",
    "\n",
    "idx = th.shared(0).astype(dtype=\"int32\")\n",
    "\n",
    "x_arr = th.shared(x_arr.astype(dtype=th.config.floatX))\n",
    "y_arr = th.shared(y_arr.astype(dtype=\"int32\"))\n",
    "\n",
    "f = th.function(inputs=[idx],\n",
    "                outputs=loss,\n",
    "                on_unused_input='ignore',\n",
    "                updates=[(W, W - 0.0001 * th.grad(loss, W)),\n",
    "                         (b, b - 0.0001 * th.grad(loss, b))],\n",
    "                givens=[(x, x_arr[idx:idx+100]), (y, y_arr[idx:idx+100, None])])\n",
    "\n",
    "for i in range(100):\n",
    "    for j in range(0, size-100, 100):\n",
    "        loss = f(j)\n",
    "    print(loss)\n"
   ]
  },
  {
   "cell_type": "code",
   "execution_count": 160,
   "metadata": {
    "scrolled": true
   },
   "outputs": [
    {
     "name": "stdout",
     "output_type": "stream",
     "text": [
      "0.9210340387405115\n",
      "0.9210340400696587\n",
      "0.9210340395120877\n",
      "0.9210340392042159\n",
      "0.9210340394320792\n",
      "0.9210340403567177\n",
      "0.9210340386768939\n",
      "0.9210340387548388\n",
      "0.9210340393186343\n",
      "0.9210340400540475\n",
      "0.9210340393799111\n",
      "0.9210340389116061\n",
      "0.9210340402111538\n",
      "0.9210340400905459\n",
      "0.9210340405027893\n",
      "0.9210340398349144\n",
      "0.9210340407418887\n",
      "0.9210340394700124\n",
      "0.9210340398961314\n",
      "0.9210340394202108\n",
      "0.9210340400496093\n",
      "0.9210340404426638\n",
      "0.9210340395498834\n",
      "0.9210340405687344\n",
      "0.9210340394063872\n",
      "0.9210340396210892\n",
      "0.9210340400204202\n",
      "0.9210340395907475\n",
      "0.9210340402661812\n",
      "0.9210340401911186\n",
      "0.9210340392120967\n",
      "0.9210340403328408\n",
      "0.9210340401197342\n",
      "0.9210340398219474\n",
      "0.9210340400917347\n",
      "0.9210340395345196\n",
      "0.9210340399319531\n",
      "0.9210340394835139\n",
      "0.9210340390054258\n",
      "0.9210340391962492\n",
      "0.9210340397412345\n",
      "0.9210340390687641\n",
      "0.9210340393250112\n",
      "0.9210340394406795\n",
      "0.9210340389548163\n",
      "0.9210340394425083\n",
      "0.9210340402059989\n",
      "0.9210340388663774\n",
      "0.9210340393138943\n",
      "0.9210340402732295\n",
      "0.9210340405212823\n",
      "0.9210340395522636\n",
      "0.9210340396350718\n",
      "0.9210340389791243\n",
      "0.9210340404037568\n",
      "0.9210340395335214\n",
      "0.9210340389766325\n",
      "0.9210340391240248\n",
      "0.9210340395044643\n",
      "0.9210340393362744\n",
      "0.921034039111064\n",
      "0.9210340397293842\n",
      "0.9210340392850664\n",
      "0.9210340392618075\n",
      "0.9210340403489653\n",
      "0.9210340396614226\n",
      "0.9210340396597638\n",
      "0.9210340394093676\n",
      "0.9210340398177665\n",
      "0.9210340398379578\n",
      "0.9210340407990755\n",
      "0.9210340384930424\n",
      "0.9210340405152591\n",
      "0.921034039957549\n",
      "0.9210340395942564\n",
      "0.9210340397009651\n",
      "0.9210340403869942\n",
      "0.9210340387253794\n",
      "0.92103403905638\n",
      "0.9210340392618169\n",
      "0.9210340406571896\n",
      "0.9210340393254735\n",
      "0.921034039996322\n",
      "0.9210340401549321\n",
      "0.9210340401719966\n",
      "0.921034039661385\n",
      "0.9210340394895669\n",
      "0.9210340392490701\n",
      "0.92103403915032\n",
      "0.9210340389659285\n",
      "0.921034040638611\n",
      "0.9210340391074914\n",
      "0.9210340404799489\n",
      "0.9210340398709338\n",
      "0.9210340398280575\n",
      "0.921034039828092\n",
      "0.9210340397551953\n",
      "0.921034040029632\n",
      "0.9210340398926308\n",
      "0.9210340394254789\n"
     ]
    }
   ],
   "source": [
    "import theano as th\n",
    "from numpy import *\n",
    "from sklearn.datasets import fetch_mldata\n",
    "\n",
    "mnist = fetch_mldata('MNIST original', data_home=\"data_dir_for_optimizer\")\n",
    "\n",
    "x_arr = mnist[\"data\"]\n",
    "\n",
    "idx = mnist[\"target\"]\n",
    "arr = zeros((idx.shape[0],10)).flatten()\n",
    "arr[idx.flatten().astype(int) + arange(idx.shape[0]) * int(idx.max())]  = 1\n",
    "arr = arr.reshape(idx.size, 10)\n",
    "y_arr = arr\n",
    "\n",
    "size = x_arr.shape[0]\n",
    "\n",
    "x = th.tensor.dmatrix(\"x\").astype(th.config.floatX)\n",
    "y = th.tensor.dmatrix(\"y\").astype(\"int32\")\n",
    "\n",
    "W = th.shared(random.rand(784,10).astype(dtype=th.config.floatX), borrow=True)\n",
    "b = th.shared(random.rand(10).astype(dtype=th.config.floatX), borrow=True)\n",
    "\n",
    "out = th.tensor.nnet.softmax(x.dot(W) + b)\n",
    "loss = -th.tensor.mean(out * th.tensor.log(y + 1e-4))\n",
    "\n",
    "idx = th.shared(0).astype(dtype=\"int32\")\n",
    "\n",
    "x_arr = th.shared(x_arr.astype(dtype=th.config.floatX))\n",
    "y_arr = th.shared(y_arr.astype(dtype=\"int32\"))\n",
    "\n",
    "\n",
    "f = th.function(inputs=[idx],\n",
    "                outputs=loss,\n",
    "                on_unused_input='ignore',\n",
    "                updates=[(W, W - 0.0001 * th.grad(loss, W)),\n",
    "                         (b, b - 0.0001 * th.grad(loss, b))],\n",
    "                givens=[(x, x_arr[idx:idx+100]), (y, y_arr[idx:idx+100])])\n",
    "\n",
    "for i in range(100):\n",
    "    for j in range(0, size-100, 100):\n",
    "        loss = f(j)\n",
    "    print(loss)\n"
   ]
  },
  {
   "cell_type": "code",
   "execution_count": 139,
   "metadata": {},
   "outputs": [
    {
     "data": {
      "text/plain": [
       "array([[ 1.,  0.,  0., ...,  0.,  0.,  1.],\n",
       "       [ 0.,  0.,  0., ...,  0.,  1.,  0.],\n",
       "       [ 0.,  0.,  0., ...,  1.,  0.,  0.],\n",
       "       ..., \n",
       "       [ 0.,  0.,  0., ...,  0.,  0.,  0.],\n",
       "       [ 0.,  0.,  0., ...,  0.,  0.,  0.],\n",
       "       [ 0.,  0.,  0., ...,  0.,  0.,  0.]])"
      ]
     },
     "execution_count": 139,
     "metadata": {},
     "output_type": "execute_result"
    }
   ],
   "source": [
    "arr"
   ]
  },
  {
   "cell_type": "code",
   "execution_count": 135,
   "metadata": {
    "collapsed": true
   },
   "outputs": [],
   "source": [
    "\n",
    "idx = mnist[\"target\"]\n",
    "arr = np.zeros((idx.shape[0],10)).flatten()"
   ]
  },
  {
   "cell_type": "code",
   "execution_count": 136,
   "metadata": {},
   "outputs": [
    {
     "data": {
      "text/plain": [
       "array([ 0.,  0.,  0., ...,  0.,  0.,  0.])"
      ]
     },
     "execution_count": 136,
     "metadata": {},
     "output_type": "execute_result"
    }
   ],
   "source": [
    "arr"
   ]
  },
  {
   "cell_type": "code",
   "execution_count": 113,
   "metadata": {},
   "outputs": [
    {
     "data": {
      "text/plain": [
       "array([-1222.06933594, -1691.1953125 , -2301.65234375, -2041.9921875 ,\n",
       "       -1278.26367188, -1093.96484375, -2062.72070312,  -267.88867188,\n",
       "       -1697.140625  , -1134.84179688, -1529.87304688,   -43.39648438,\n",
       "       -1202.33007812, -1201.87988281, -1426.65625   , -1001.68945312,\n",
       "       -1550.94726562,  -836.39257812, -1343.17871094, -1242.71484375,\n",
       "       -1657.64355469,  -356.46679688,  -868.3515625 ,  -876.57226562,\n",
       "       -1750.71386719,  -770.76757812, -1041.54101562, -1465.82617188,\n",
       "        -385.72558594,  -973.76367188, -1031.45214844,  -926.58007812,\n",
       "       -1352.60546875,  -428.49804688, -1483.50976562, -1331.0546875 ,\n",
       "       -1033.375     , -1653.61132812, -1459.44140625, -1223.55664062,\n",
       "        -727.69726562, -1366.359375  ,  -506.24609375, -1457.72460938,\n",
       "       -1464.46972656,  -645.3125    , -1114.484375  , -1233.140625  ,\n",
       "       -1710.96582031, -1698.69433594, -1693.796875  ,   -46.41308594,\n",
       "        -491.13085938, -1510.20507812, -1936.21875   , -1575.91796875,\n",
       "       -1249.00097656,  -593.20507812, -2113.12011719, -1218.10839844,\n",
       "       -2420.76171875, -1832.21679688, -1665.33007812, -1249.578125  ,\n",
       "        -974.47363281, -1783.90917969,  -440.85351562, -1838.36132812,\n",
       "       -1421.5546875 ,  -535.20117188, -1308.91601562, -3462.18164062,\n",
       "       -1621.578125  , -1421.61914062, -1416.734375  , -2320.05078125,\n",
       "       -1587.3984375 , -1823.36914062,  -255.4140625 , -1162.70605469,\n",
       "       -1627.578125  , -2051.40429688, -1835.33398438, -1049.98828125,\n",
       "       -1424.77148438,  -262.61914062,  -970.97070312, -1731.24414062,\n",
       "       -1794.59179688, -1845.45214844, -2311.171875  , -1698.93652344,\n",
       "       -1802.46191406,  -943.57421875, -2351.76855469,  -824.87402344,\n",
       "       -2280.453125  , -2441.18261719,  -471.16992188, -1540.4609375 ], dtype=float32)"
      ]
     },
     "execution_count": 113,
     "metadata": {},
     "output_type": "execute_result"
    }
   ],
   "source": [
    "th.tensor.log(out).eval({x:x_arr[0:100].eval()})[arange(100),ones(100).astype(\"int32\")]\n",
    "#loss.eval({x:x_arr[0:100].eval(),y:y_arr[0:100].eval()})"
   ]
  },
  {
   "cell_type": "code",
   "execution_count": 120,
   "metadata": {},
   "outputs": [
    {
     "data": {
      "text/plain": [
       "Elemwise{Cast{int32}}.0"
      ]
     },
     "execution_count": 120,
     "metadata": {},
     "output_type": "execute_result"
    }
   ],
   "source": [
    "y.sha"
   ]
  },
  {
   "cell_type": "code",
   "execution_count": 115,
   "metadata": {},
   "outputs": [
    {
     "data": {
      "text/plain": [
       "dtype('float64')"
      ]
     },
     "execution_count": 115,
     "metadata": {},
     "output_type": "execute_result"
    }
   ],
   "source": [
    "ones(10).dtype"
   ]
  },
  {
   "cell_type": "code",
   "execution_count": 67,
   "metadata": {},
   "outputs": [
    {
     "data": {
      "text/plain": [
       "(70000, 10)"
      ]
     },
     "execution_count": 67,
     "metadata": {},
     "output_type": "execute_result"
    }
   ],
   "source": [
    "th.tensor.log(y + 1e-4).eval({y:y_arr.eval()}).shape"
   ]
  },
  {
   "cell_type": "code",
   "execution_count": 77,
   "metadata": {},
   "outputs": [
    {
     "ename": "IndexError",
     "evalue": "shape mismatch: indexing arrays could not be broadcast together with shapes (100,) (70000,) \nApply node that caused the error: AdvancedSubtensor(HostFromGpu.0, TensorConstant{[ 0  1  2 .. 97 98 99]}, argmax)\nToposort index: 9\nInputs types: [TensorType(float32, matrix), TensorType(int64, vector), TensorType(int64, vector)]\nInputs shapes: [(70000, 10), (100,), (70000,)]\nInputs strides: [(40, 4), (8,), (8,)]\nInputs values: ['not shown', 'not shown', 'not shown']\nInputs type_num: [11, 7, 7]\nOutputs clients: [[Sum{acc_dtype=float64}(AdvancedSubtensor.0)]]\n\nBacktrace when the node is created(use Theano flag traceback.limit=N to make it longer):\n  File \"/home/yu/anaconda3/lib/python3.5/site-packages/ipykernel/kernelbase.py\", line 235, in dispatch_shell\n    handler(stream, idents, msg)\n  File \"/home/yu/anaconda3/lib/python3.5/site-packages/ipykernel/kernelbase.py\", line 399, in execute_request\n    user_expressions, allow_stdin)\n  File \"/home/yu/anaconda3/lib/python3.5/site-packages/ipykernel/ipkernel.py\", line 196, in do_execute\n    res = shell.run_cell(code, store_history=store_history, silent=silent)\n  File \"/home/yu/anaconda3/lib/python3.5/site-packages/ipykernel/zmqshell.py\", line 533, in run_cell\n    return super(ZMQInteractiveShell, self).run_cell(*args, **kwargs)\n  File \"/home/yu/anaconda3/lib/python3.5/site-packages/IPython/core/interactiveshell.py\", line 2683, in run_cell\n    interactivity=interactivity, compiler=compiler, result=result)\n  File \"/home/yu/anaconda3/lib/python3.5/site-packages/IPython/core/interactiveshell.py\", line 2787, in run_ast_nodes\n    if self.run_code(code, result):\n  File \"/home/yu/anaconda3/lib/python3.5/site-packages/IPython/core/interactiveshell.py\", line 2847, in run_code\n    exec(code_obj, self.user_global_ns, self.user_ns)\n  File \"<ipython-input-75-4509fea945d3>\", line 27, in <module>\n    loss = -th.tensor.mean(th.tensor.log(y + 1e-4)[th.tensor.arange(100), out.argmax(axis=1)]).astype(th.config.floatX)\n\nDebugprint of the apply node: \nAdvancedSubtensor [id A] <TensorType(float32, vector)> ''   \n |HostFromGpu [id B] <TensorType(float32, matrix)> ''   \n | |GpuElemwise{Composite{log((i0 + i1))}}[(0, 1)] [id C] <CudaNdarrayType(float32, matrix)> ''   \n |   |CudaNdarrayConstant{[[  9.99999975e-05]]} [id D] <CudaNdarrayType(float32, (True, True))>\n |   |GpuFromHost [id E] <CudaNdarrayType(float32, matrix)> ''   \n |     |<TensorType(float32, matrix)> [id F] <TensorType(float32, matrix)>\n |TensorConstant{[ 0  1  2 .. 97 98 99]} [id G] <TensorType(int64, vector)>\n |Argmax [id H] <TensorType(int64, vector)> 'argmax'   \n\nStorage map footprint:\n - <TensorType(float32, matrix)>, Input, Shape: (70000, 784), ElemSize: 4 Byte(s), TotalSize: 219520000 Byte(s)\n - GpuFromHost.0, Shape: (70000, 784), ElemSize: 4 Byte(s), TotalSize: 219520000 Byte(s)\n - HostFromGpu.0, Shape: (70000, 10), ElemSize: 4 Byte(s), TotalSize: 2800000 Byte(s)\n - GpuFromHost.0, Shape: (70000, 10), ElemSize: 4 Byte(s), TotalSize: 2800000 Byte(s)\n - GpuDot22.0, Shape: (70000, 10), ElemSize: 4 Byte(s), TotalSize: 2800000 Byte(s)\n - GpuElemwise{Add}[(0, 0)].0, Shape: (70000, 10), ElemSize: 4 Byte(s), TotalSize: 2800000 Byte(s)\n - <TensorType(float32, matrix)>, Input, Shape: (70000, 10), ElemSize: 4 Byte(s), TotalSize: 2800000 Byte(s)\n - GpuElemwise{Composite{log((i0 + i1))}}[(0, 1)].0, Shape: (70000, 10), ElemSize: 4 Byte(s), TotalSize: 2800000 Byte(s)\n - HostFromGpu.0, Shape: (70000, 10), ElemSize: 4 Byte(s), TotalSize: 2800000 Byte(s)\n - argmax, Shape: (70000,), ElemSize: 8 Byte(s), TotalSize: 560000 Byte(s)\n - <CudaNdarrayType(float32, matrix)>, Shared Input, Shape: (784, 10), ElemSize: 4 Byte(s), TotalSize: 31360 Byte(s)\n - TensorConstant{[ 0  1  2 .. 97 98 99]}, Shape: (100,), ElemSize: 8 Byte(s), TotalSize: 800 Byte(s)\n - AdvancedSubtensor.0, Shape: (100,), ElemSize: 4 Byte(s), TotalSize: 400 Byte(s)\n - <CudaNdarrayType(float32, vector)>, Shared Input, Shape: (10,), ElemSize: 4 Byte(s), TotalSize: 40 Byte(s)\n - GpuDimShuffle{x,0}.0, Shape: (1, 10), ElemSize: 4 Byte(s), TotalSize: 40 Byte(s)\n - TensorConstant{(1,) of 1}, Shape: (1,), ElemSize: 8 Byte(s), TotalSize: 8 Byte(s)\n - TensorConstant{-0.0099999..9776482582}, Shape: (), ElemSize: 4 Byte(s), TotalSize: 4.0 Byte(s)\n - CudaNdarrayConstant{[[  9.99999975e-05]]}, Shape: (1, 1), ElemSize: 4 Byte(s), TotalSize: 4 Byte(s)\n TotalSize: 453632616.0 Byte(s) 0.422 GB\n TotalSize inputs: 222352216.0 Byte(s) 0.207 GB\n\n",
     "output_type": "error",
     "traceback": [
      "\u001b[0;31m---------------------------------------------------------------------------\u001b[0m",
      "\u001b[0;31mIndexError\u001b[0m                                Traceback (most recent call last)",
      "\u001b[0;32m/home/yu/anaconda3/lib/python3.5/site-packages/theano/compile/function_module.py\u001b[0m in \u001b[0;36m__call__\u001b[0;34m(self, *args, **kwargs)\u001b[0m\n\u001b[1;32m    883\u001b[0m             \u001b[0moutputs\u001b[0m \u001b[0;34m=\u001b[0m\u001b[0;31m\\\u001b[0m\u001b[0;34m\u001b[0m\u001b[0m\n\u001b[0;32m--> 884\u001b[0;31m                 \u001b[0mself\u001b[0m\u001b[0;34m.\u001b[0m\u001b[0mfn\u001b[0m\u001b[0;34m(\u001b[0m\u001b[0;34m)\u001b[0m \u001b[0;32mif\u001b[0m \u001b[0moutput_subset\u001b[0m \u001b[0;32mis\u001b[0m \u001b[0;32mNone\u001b[0m \u001b[0;32melse\u001b[0m\u001b[0;31m\\\u001b[0m\u001b[0;34m\u001b[0m\u001b[0m\n\u001b[0m\u001b[1;32m    885\u001b[0m                 \u001b[0mself\u001b[0m\u001b[0;34m.\u001b[0m\u001b[0mfn\u001b[0m\u001b[0;34m(\u001b[0m\u001b[0moutput_subset\u001b[0m\u001b[0;34m=\u001b[0m\u001b[0moutput_subset\u001b[0m\u001b[0;34m)\u001b[0m\u001b[0;34m\u001b[0m\u001b[0m\n",
      "\u001b[0;32m/home/yu/anaconda3/lib/python3.5/site-packages/theano/gof/op.py\u001b[0m in \u001b[0;36mrval\u001b[0;34m(p, i, o, n)\u001b[0m\n\u001b[1;32m    871\u001b[0m             \u001b[0;32mdef\u001b[0m \u001b[0mrval\u001b[0m\u001b[0;34m(\u001b[0m\u001b[0mp\u001b[0m\u001b[0;34m=\u001b[0m\u001b[0mp\u001b[0m\u001b[0;34m,\u001b[0m \u001b[0mi\u001b[0m\u001b[0;34m=\u001b[0m\u001b[0mnode_input_storage\u001b[0m\u001b[0;34m,\u001b[0m \u001b[0mo\u001b[0m\u001b[0;34m=\u001b[0m\u001b[0mnode_output_storage\u001b[0m\u001b[0;34m,\u001b[0m \u001b[0mn\u001b[0m\u001b[0;34m=\u001b[0m\u001b[0mnode\u001b[0m\u001b[0;34m)\u001b[0m\u001b[0;34m:\u001b[0m\u001b[0;34m\u001b[0m\u001b[0m\n\u001b[0;32m--> 872\u001b[0;31m                 \u001b[0mr\u001b[0m \u001b[0;34m=\u001b[0m \u001b[0mp\u001b[0m\u001b[0;34m(\u001b[0m\u001b[0mn\u001b[0m\u001b[0;34m,\u001b[0m \u001b[0;34m[\u001b[0m\u001b[0mx\u001b[0m\u001b[0;34m[\u001b[0m\u001b[0;36m0\u001b[0m\u001b[0;34m]\u001b[0m \u001b[0;32mfor\u001b[0m \u001b[0mx\u001b[0m \u001b[0;32min\u001b[0m \u001b[0mi\u001b[0m\u001b[0;34m]\u001b[0m\u001b[0;34m,\u001b[0m \u001b[0mo\u001b[0m\u001b[0;34m)\u001b[0m\u001b[0;34m\u001b[0m\u001b[0m\n\u001b[0m\u001b[1;32m    873\u001b[0m                 \u001b[0;32mfor\u001b[0m \u001b[0mo\u001b[0m \u001b[0;32min\u001b[0m \u001b[0mnode\u001b[0m\u001b[0;34m.\u001b[0m\u001b[0moutputs\u001b[0m\u001b[0;34m:\u001b[0m\u001b[0;34m\u001b[0m\u001b[0m\n",
      "\u001b[0;32m/home/yu/anaconda3/lib/python3.5/site-packages/theano/tensor/subtensor.py\u001b[0m in \u001b[0;36mperform\u001b[0;34m(self, node, inputs, out_)\u001b[0m\n\u001b[1;32m   2172\u001b[0m         \u001b[0;31m# index, just like subtensor\u001b[0m\u001b[0;34m\u001b[0m\u001b[0;34m\u001b[0m\u001b[0m\n\u001b[0;32m-> 2173\u001b[0;31m         \u001b[0mout\u001b[0m\u001b[0;34m[\u001b[0m\u001b[0;36m0\u001b[0m\u001b[0;34m]\u001b[0m \u001b[0;34m=\u001b[0m \u001b[0minputs\u001b[0m\u001b[0;34m[\u001b[0m\u001b[0;36m0\u001b[0m\u001b[0;34m]\u001b[0m\u001b[0;34m.\u001b[0m\u001b[0m__getitem__\u001b[0m\u001b[0;34m(\u001b[0m\u001b[0minputs\u001b[0m\u001b[0;34m[\u001b[0m\u001b[0;36m1\u001b[0m\u001b[0;34m:\u001b[0m\u001b[0;34m]\u001b[0m\u001b[0;34m)\u001b[0m\u001b[0;34m\u001b[0m\u001b[0m\n\u001b[0m\u001b[1;32m   2174\u001b[0m \u001b[0;34m\u001b[0m\u001b[0m\n",
      "\u001b[0;31mIndexError\u001b[0m: shape mismatch: indexing arrays could not be broadcast together with shapes (100,) (70000,) ",
      "\nDuring handling of the above exception, another exception occurred:\n",
      "\u001b[0;31mIndexError\u001b[0m                                Traceback (most recent call last)",
      "\u001b[0;32m<ipython-input-77-48d582ae902e>\u001b[0m in \u001b[0;36m<module>\u001b[0;34m()\u001b[0m\n\u001b[0;32m----> 1\u001b[0;31m \u001b[0mloss\u001b[0m\u001b[0;34m.\u001b[0m\u001b[0meval\u001b[0m\u001b[0;34m(\u001b[0m\u001b[0;34m{\u001b[0m\u001b[0mx\u001b[0m\u001b[0;34m:\u001b[0m\u001b[0mx_arr\u001b[0m\u001b[0;34m.\u001b[0m\u001b[0meval\u001b[0m\u001b[0;34m(\u001b[0m\u001b[0;34m)\u001b[0m\u001b[0;34m,\u001b[0m\u001b[0my\u001b[0m\u001b[0;34m:\u001b[0m\u001b[0my_arr\u001b[0m\u001b[0;34m.\u001b[0m\u001b[0meval\u001b[0m\u001b[0;34m(\u001b[0m\u001b[0;34m)\u001b[0m\u001b[0;34m}\u001b[0m\u001b[0;34m)\u001b[0m\u001b[0;34m\u001b[0m\u001b[0m\n\u001b[0m",
      "\u001b[0;32m/home/yu/anaconda3/lib/python3.5/site-packages/theano/gof/graph.py\u001b[0m in \u001b[0;36meval\u001b[0;34m(self, inputs_to_values)\u001b[0m\n\u001b[1;32m    517\u001b[0m         \u001b[0margs\u001b[0m \u001b[0;34m=\u001b[0m \u001b[0;34m[\u001b[0m\u001b[0minputs_to_values\u001b[0m\u001b[0;34m[\u001b[0m\u001b[0mparam\u001b[0m\u001b[0;34m]\u001b[0m \u001b[0;32mfor\u001b[0m \u001b[0mparam\u001b[0m \u001b[0;32min\u001b[0m \u001b[0minputs\u001b[0m\u001b[0;34m]\u001b[0m\u001b[0;34m\u001b[0m\u001b[0m\n\u001b[1;32m    518\u001b[0m \u001b[0;34m\u001b[0m\u001b[0m\n\u001b[0;32m--> 519\u001b[0;31m         \u001b[0mrval\u001b[0m \u001b[0;34m=\u001b[0m \u001b[0mself\u001b[0m\u001b[0;34m.\u001b[0m\u001b[0m_fn_cache\u001b[0m\u001b[0;34m[\u001b[0m\u001b[0minputs\u001b[0m\u001b[0;34m]\u001b[0m\u001b[0;34m(\u001b[0m\u001b[0;34m*\u001b[0m\u001b[0margs\u001b[0m\u001b[0;34m)\u001b[0m\u001b[0;34m\u001b[0m\u001b[0m\n\u001b[0m\u001b[1;32m    520\u001b[0m \u001b[0;34m\u001b[0m\u001b[0m\n\u001b[1;32m    521\u001b[0m         \u001b[0;32mreturn\u001b[0m \u001b[0mrval\u001b[0m\u001b[0;34m\u001b[0m\u001b[0m\n",
      "\u001b[0;32m/home/yu/anaconda3/lib/python3.5/site-packages/theano/compile/function_module.py\u001b[0m in \u001b[0;36m__call__\u001b[0;34m(self, *args, **kwargs)\u001b[0m\n\u001b[1;32m    896\u001b[0m                     \u001b[0mnode\u001b[0m\u001b[0;34m=\u001b[0m\u001b[0mself\u001b[0m\u001b[0;34m.\u001b[0m\u001b[0mfn\u001b[0m\u001b[0;34m.\u001b[0m\u001b[0mnodes\u001b[0m\u001b[0;34m[\u001b[0m\u001b[0mself\u001b[0m\u001b[0;34m.\u001b[0m\u001b[0mfn\u001b[0m\u001b[0;34m.\u001b[0m\u001b[0mposition_of_error\u001b[0m\u001b[0;34m]\u001b[0m\u001b[0;34m,\u001b[0m\u001b[0;34m\u001b[0m\u001b[0m\n\u001b[1;32m    897\u001b[0m                     \u001b[0mthunk\u001b[0m\u001b[0;34m=\u001b[0m\u001b[0mthunk\u001b[0m\u001b[0;34m,\u001b[0m\u001b[0;34m\u001b[0m\u001b[0m\n\u001b[0;32m--> 898\u001b[0;31m                     storage_map=getattr(self.fn, 'storage_map', None))\n\u001b[0m\u001b[1;32m    899\u001b[0m             \u001b[0;32melse\u001b[0m\u001b[0;34m:\u001b[0m\u001b[0;34m\u001b[0m\u001b[0m\n\u001b[1;32m    900\u001b[0m                 \u001b[0;31m# old-style linkers raise their own exceptions\u001b[0m\u001b[0;34m\u001b[0m\u001b[0;34m\u001b[0m\u001b[0m\n",
      "\u001b[0;32m/home/yu/anaconda3/lib/python3.5/site-packages/theano/gof/link.py\u001b[0m in \u001b[0;36mraise_with_op\u001b[0;34m(node, thunk, exc_info, storage_map)\u001b[0m\n\u001b[1;32m    323\u001b[0m         \u001b[0;31m# extra long error message in that case.\u001b[0m\u001b[0;34m\u001b[0m\u001b[0;34m\u001b[0m\u001b[0m\n\u001b[1;32m    324\u001b[0m         \u001b[0;32mpass\u001b[0m\u001b[0;34m\u001b[0m\u001b[0m\n\u001b[0;32m--> 325\u001b[0;31m     \u001b[0mreraise\u001b[0m\u001b[0;34m(\u001b[0m\u001b[0mexc_type\u001b[0m\u001b[0;34m,\u001b[0m \u001b[0mexc_value\u001b[0m\u001b[0;34m,\u001b[0m \u001b[0mexc_trace\u001b[0m\u001b[0;34m)\u001b[0m\u001b[0;34m\u001b[0m\u001b[0m\n\u001b[0m\u001b[1;32m    326\u001b[0m \u001b[0;34m\u001b[0m\u001b[0m\n\u001b[1;32m    327\u001b[0m \u001b[0;34m\u001b[0m\u001b[0m\n",
      "\u001b[0;32m/home/yu/anaconda3/lib/python3.5/site-packages/six.py\u001b[0m in \u001b[0;36mreraise\u001b[0;34m(tp, value, tb)\u001b[0m\n\u001b[1;32m    683\u001b[0m             \u001b[0mvalue\u001b[0m \u001b[0;34m=\u001b[0m \u001b[0mtp\u001b[0m\u001b[0;34m(\u001b[0m\u001b[0;34m)\u001b[0m\u001b[0;34m\u001b[0m\u001b[0m\n\u001b[1;32m    684\u001b[0m         \u001b[0;32mif\u001b[0m \u001b[0mvalue\u001b[0m\u001b[0;34m.\u001b[0m\u001b[0m__traceback__\u001b[0m \u001b[0;32mis\u001b[0m \u001b[0;32mnot\u001b[0m \u001b[0mtb\u001b[0m\u001b[0;34m:\u001b[0m\u001b[0;34m\u001b[0m\u001b[0m\n\u001b[0;32m--> 685\u001b[0;31m             \u001b[0;32mraise\u001b[0m \u001b[0mvalue\u001b[0m\u001b[0;34m.\u001b[0m\u001b[0mwith_traceback\u001b[0m\u001b[0;34m(\u001b[0m\u001b[0mtb\u001b[0m\u001b[0;34m)\u001b[0m\u001b[0;34m\u001b[0m\u001b[0m\n\u001b[0m\u001b[1;32m    686\u001b[0m         \u001b[0;32mraise\u001b[0m \u001b[0mvalue\u001b[0m\u001b[0;34m\u001b[0m\u001b[0m\n\u001b[1;32m    687\u001b[0m \u001b[0;34m\u001b[0m\u001b[0m\n",
      "\u001b[0;32m/home/yu/anaconda3/lib/python3.5/site-packages/theano/compile/function_module.py\u001b[0m in \u001b[0;36m__call__\u001b[0;34m(self, *args, **kwargs)\u001b[0m\n\u001b[1;32m    882\u001b[0m         \u001b[0;32mtry\u001b[0m\u001b[0;34m:\u001b[0m\u001b[0;34m\u001b[0m\u001b[0m\n\u001b[1;32m    883\u001b[0m             \u001b[0moutputs\u001b[0m \u001b[0;34m=\u001b[0m\u001b[0;31m\\\u001b[0m\u001b[0;34m\u001b[0m\u001b[0m\n\u001b[0;32m--> 884\u001b[0;31m                 \u001b[0mself\u001b[0m\u001b[0;34m.\u001b[0m\u001b[0mfn\u001b[0m\u001b[0;34m(\u001b[0m\u001b[0;34m)\u001b[0m \u001b[0;32mif\u001b[0m \u001b[0moutput_subset\u001b[0m \u001b[0;32mis\u001b[0m \u001b[0;32mNone\u001b[0m \u001b[0;32melse\u001b[0m\u001b[0;31m\\\u001b[0m\u001b[0;34m\u001b[0m\u001b[0m\n\u001b[0m\u001b[1;32m    885\u001b[0m                 \u001b[0mself\u001b[0m\u001b[0;34m.\u001b[0m\u001b[0mfn\u001b[0m\u001b[0;34m(\u001b[0m\u001b[0moutput_subset\u001b[0m\u001b[0;34m=\u001b[0m\u001b[0moutput_subset\u001b[0m\u001b[0;34m)\u001b[0m\u001b[0;34m\u001b[0m\u001b[0m\n\u001b[1;32m    886\u001b[0m         \u001b[0;32mexcept\u001b[0m \u001b[0mException\u001b[0m\u001b[0;34m:\u001b[0m\u001b[0;34m\u001b[0m\u001b[0m\n",
      "\u001b[0;32m/home/yu/anaconda3/lib/python3.5/site-packages/theano/gof/op.py\u001b[0m in \u001b[0;36mrval\u001b[0;34m(p, i, o, n)\u001b[0m\n\u001b[1;32m    870\u001b[0m             \u001b[0;31m# default arguments are stored in the closure of `rval`\u001b[0m\u001b[0;34m\u001b[0m\u001b[0;34m\u001b[0m\u001b[0m\n\u001b[1;32m    871\u001b[0m             \u001b[0;32mdef\u001b[0m \u001b[0mrval\u001b[0m\u001b[0;34m(\u001b[0m\u001b[0mp\u001b[0m\u001b[0;34m=\u001b[0m\u001b[0mp\u001b[0m\u001b[0;34m,\u001b[0m \u001b[0mi\u001b[0m\u001b[0;34m=\u001b[0m\u001b[0mnode_input_storage\u001b[0m\u001b[0;34m,\u001b[0m \u001b[0mo\u001b[0m\u001b[0;34m=\u001b[0m\u001b[0mnode_output_storage\u001b[0m\u001b[0;34m,\u001b[0m \u001b[0mn\u001b[0m\u001b[0;34m=\u001b[0m\u001b[0mnode\u001b[0m\u001b[0;34m)\u001b[0m\u001b[0;34m:\u001b[0m\u001b[0;34m\u001b[0m\u001b[0m\n\u001b[0;32m--> 872\u001b[0;31m                 \u001b[0mr\u001b[0m \u001b[0;34m=\u001b[0m \u001b[0mp\u001b[0m\u001b[0;34m(\u001b[0m\u001b[0mn\u001b[0m\u001b[0;34m,\u001b[0m \u001b[0;34m[\u001b[0m\u001b[0mx\u001b[0m\u001b[0;34m[\u001b[0m\u001b[0;36m0\u001b[0m\u001b[0;34m]\u001b[0m \u001b[0;32mfor\u001b[0m \u001b[0mx\u001b[0m \u001b[0;32min\u001b[0m \u001b[0mi\u001b[0m\u001b[0;34m]\u001b[0m\u001b[0;34m,\u001b[0m \u001b[0mo\u001b[0m\u001b[0;34m)\u001b[0m\u001b[0;34m\u001b[0m\u001b[0m\n\u001b[0m\u001b[1;32m    873\u001b[0m                 \u001b[0;32mfor\u001b[0m \u001b[0mo\u001b[0m \u001b[0;32min\u001b[0m \u001b[0mnode\u001b[0m\u001b[0;34m.\u001b[0m\u001b[0moutputs\u001b[0m\u001b[0;34m:\u001b[0m\u001b[0;34m\u001b[0m\u001b[0m\n\u001b[1;32m    874\u001b[0m                     \u001b[0mcompute_map\u001b[0m\u001b[0;34m[\u001b[0m\u001b[0mo\u001b[0m\u001b[0;34m]\u001b[0m\u001b[0;34m[\u001b[0m\u001b[0;36m0\u001b[0m\u001b[0;34m]\u001b[0m \u001b[0;34m=\u001b[0m \u001b[0;32mTrue\u001b[0m\u001b[0;34m\u001b[0m\u001b[0m\n",
      "\u001b[0;32m/home/yu/anaconda3/lib/python3.5/site-packages/theano/tensor/subtensor.py\u001b[0m in \u001b[0;36mperform\u001b[0;34m(self, node, inputs, out_)\u001b[0m\n\u001b[1;32m   2171\u001b[0m         \u001b[0;31m# TODO: in general, we need to re-pack the inputs into a valid\u001b[0m\u001b[0;34m\u001b[0m\u001b[0;34m\u001b[0m\u001b[0m\n\u001b[1;32m   2172\u001b[0m         \u001b[0;31m# index, just like subtensor\u001b[0m\u001b[0;34m\u001b[0m\u001b[0;34m\u001b[0m\u001b[0m\n\u001b[0;32m-> 2173\u001b[0;31m         \u001b[0mout\u001b[0m\u001b[0;34m[\u001b[0m\u001b[0;36m0\u001b[0m\u001b[0;34m]\u001b[0m \u001b[0;34m=\u001b[0m \u001b[0minputs\u001b[0m\u001b[0;34m[\u001b[0m\u001b[0;36m0\u001b[0m\u001b[0;34m]\u001b[0m\u001b[0;34m.\u001b[0m\u001b[0m__getitem__\u001b[0m\u001b[0;34m(\u001b[0m\u001b[0minputs\u001b[0m\u001b[0;34m[\u001b[0m\u001b[0;36m1\u001b[0m\u001b[0;34m:\u001b[0m\u001b[0;34m]\u001b[0m\u001b[0;34m)\u001b[0m\u001b[0;34m\u001b[0m\u001b[0m\n\u001b[0m\u001b[1;32m   2174\u001b[0m \u001b[0;34m\u001b[0m\u001b[0m\n\u001b[1;32m   2175\u001b[0m     \u001b[0;32mdef\u001b[0m \u001b[0mconnection_pattern\u001b[0m\u001b[0;34m(\u001b[0m\u001b[0mself\u001b[0m\u001b[0;34m,\u001b[0m \u001b[0mnode\u001b[0m\u001b[0;34m)\u001b[0m\u001b[0;34m:\u001b[0m\u001b[0;34m\u001b[0m\u001b[0m\n",
      "\u001b[0;31mIndexError\u001b[0m: shape mismatch: indexing arrays could not be broadcast together with shapes (100,) (70000,) \nApply node that caused the error: AdvancedSubtensor(HostFromGpu.0, TensorConstant{[ 0  1  2 .. 97 98 99]}, argmax)\nToposort index: 9\nInputs types: [TensorType(float32, matrix), TensorType(int64, vector), TensorType(int64, vector)]\nInputs shapes: [(70000, 10), (100,), (70000,)]\nInputs strides: [(40, 4), (8,), (8,)]\nInputs values: ['not shown', 'not shown', 'not shown']\nInputs type_num: [11, 7, 7]\nOutputs clients: [[Sum{acc_dtype=float64}(AdvancedSubtensor.0)]]\n\nBacktrace when the node is created(use Theano flag traceback.limit=N to make it longer):\n  File \"/home/yu/anaconda3/lib/python3.5/site-packages/ipykernel/kernelbase.py\", line 235, in dispatch_shell\n    handler(stream, idents, msg)\n  File \"/home/yu/anaconda3/lib/python3.5/site-packages/ipykernel/kernelbase.py\", line 399, in execute_request\n    user_expressions, allow_stdin)\n  File \"/home/yu/anaconda3/lib/python3.5/site-packages/ipykernel/ipkernel.py\", line 196, in do_execute\n    res = shell.run_cell(code, store_history=store_history, silent=silent)\n  File \"/home/yu/anaconda3/lib/python3.5/site-packages/ipykernel/zmqshell.py\", line 533, in run_cell\n    return super(ZMQInteractiveShell, self).run_cell(*args, **kwargs)\n  File \"/home/yu/anaconda3/lib/python3.5/site-packages/IPython/core/interactiveshell.py\", line 2683, in run_cell\n    interactivity=interactivity, compiler=compiler, result=result)\n  File \"/home/yu/anaconda3/lib/python3.5/site-packages/IPython/core/interactiveshell.py\", line 2787, in run_ast_nodes\n    if self.run_code(code, result):\n  File \"/home/yu/anaconda3/lib/python3.5/site-packages/IPython/core/interactiveshell.py\", line 2847, in run_code\n    exec(code_obj, self.user_global_ns, self.user_ns)\n  File \"<ipython-input-75-4509fea945d3>\", line 27, in <module>\n    loss = -th.tensor.mean(th.tensor.log(y + 1e-4)[th.tensor.arange(100), out.argmax(axis=1)]).astype(th.config.floatX)\n\nDebugprint of the apply node: \nAdvancedSubtensor [id A] <TensorType(float32, vector)> ''   \n |HostFromGpu [id B] <TensorType(float32, matrix)> ''   \n | |GpuElemwise{Composite{log((i0 + i1))}}[(0, 1)] [id C] <CudaNdarrayType(float32, matrix)> ''   \n |   |CudaNdarrayConstant{[[  9.99999975e-05]]} [id D] <CudaNdarrayType(float32, (True, True))>\n |   |GpuFromHost [id E] <CudaNdarrayType(float32, matrix)> ''   \n |     |<TensorType(float32, matrix)> [id F] <TensorType(float32, matrix)>\n |TensorConstant{[ 0  1  2 .. 97 98 99]} [id G] <TensorType(int64, vector)>\n |Argmax [id H] <TensorType(int64, vector)> 'argmax'   \n\nStorage map footprint:\n - <TensorType(float32, matrix)>, Input, Shape: (70000, 784), ElemSize: 4 Byte(s), TotalSize: 219520000 Byte(s)\n - GpuFromHost.0, Shape: (70000, 784), ElemSize: 4 Byte(s), TotalSize: 219520000 Byte(s)\n - HostFromGpu.0, Shape: (70000, 10), ElemSize: 4 Byte(s), TotalSize: 2800000 Byte(s)\n - GpuFromHost.0, Shape: (70000, 10), ElemSize: 4 Byte(s), TotalSize: 2800000 Byte(s)\n - GpuDot22.0, Shape: (70000, 10), ElemSize: 4 Byte(s), TotalSize: 2800000 Byte(s)\n - GpuElemwise{Add}[(0, 0)].0, Shape: (70000, 10), ElemSize: 4 Byte(s), TotalSize: 2800000 Byte(s)\n - <TensorType(float32, matrix)>, Input, Shape: (70000, 10), ElemSize: 4 Byte(s), TotalSize: 2800000 Byte(s)\n - GpuElemwise{Composite{log((i0 + i1))}}[(0, 1)].0, Shape: (70000, 10), ElemSize: 4 Byte(s), TotalSize: 2800000 Byte(s)\n - HostFromGpu.0, Shape: (70000, 10), ElemSize: 4 Byte(s), TotalSize: 2800000 Byte(s)\n - argmax, Shape: (70000,), ElemSize: 8 Byte(s), TotalSize: 560000 Byte(s)\n - <CudaNdarrayType(float32, matrix)>, Shared Input, Shape: (784, 10), ElemSize: 4 Byte(s), TotalSize: 31360 Byte(s)\n - TensorConstant{[ 0  1  2 .. 97 98 99]}, Shape: (100,), ElemSize: 8 Byte(s), TotalSize: 800 Byte(s)\n - AdvancedSubtensor.0, Shape: (100,), ElemSize: 4 Byte(s), TotalSize: 400 Byte(s)\n - <CudaNdarrayType(float32, vector)>, Shared Input, Shape: (10,), ElemSize: 4 Byte(s), TotalSize: 40 Byte(s)\n - GpuDimShuffle{x,0}.0, Shape: (1, 10), ElemSize: 4 Byte(s), TotalSize: 40 Byte(s)\n - TensorConstant{(1,) of 1}, Shape: (1,), ElemSize: 8 Byte(s), TotalSize: 8 Byte(s)\n - TensorConstant{-0.0099999..9776482582}, Shape: (), ElemSize: 4 Byte(s), TotalSize: 4.0 Byte(s)\n - CudaNdarrayConstant{[[  9.99999975e-05]]}, Shape: (1, 1), ElemSize: 4 Byte(s), TotalSize: 4 Byte(s)\n TotalSize: 453632616.0 Byte(s) 0.422 GB\n TotalSize inputs: 222352216.0 Byte(s) 0.207 GB\n\n"
     ]
    }
   ],
   "source": [
    "loss.eval({x:x_arr.eval(),y:y_arr.eval()})"
   ]
  },
  {
   "cell_type": "code",
   "execution_count": 94,
   "metadata": {},
   "outputs": [
    {
     "data": {
      "text/plain": [
       "dtype('int64')"
      ]
     },
     "execution_count": 94,
     "metadata": {},
     "output_type": "execute_result"
    }
   ],
   "source": [
    "arange(3).dtype"
   ]
  },
  {
   "cell_type": "code",
   "execution_count": 97,
   "metadata": {},
   "outputs": [
    {
     "data": {
      "text/plain": [
       "array([[0],\n",
       "       [1],\n",
       "       [2],\n",
       "       [3],\n",
       "       [4],\n",
       "       [5],\n",
       "       [6],\n",
       "       [7],\n",
       "       [8],\n",
       "       [9]], dtype=int32)"
      ]
     },
     "execution_count": 97,
     "metadata": {},
     "output_type": "execute_result"
    }
   ],
   "source": [
    "y.eval({y:arange(10).astype(\"int32\")[:,None]})"
   ]
  },
  {
   "cell_type": "code",
   "execution_count": 92,
   "metadata": {},
   "outputs": [
    {
     "ename": "TypeError",
     "evalue": "Bad input argument to theano function with name \"<ipython-input-90-e1fcf0a87b4f>:1\" at index 0 (0-based).  \nBacktrace when that variable is created:\n\n  File \"/home/yu/anaconda3/lib/python3.5/site-packages/ipykernel/kernelbase.py\", line 235, in dispatch_shell\n    handler(stream, idents, msg)\n  File \"/home/yu/anaconda3/lib/python3.5/site-packages/ipykernel/kernelbase.py\", line 399, in execute_request\n    user_expressions, allow_stdin)\n  File \"/home/yu/anaconda3/lib/python3.5/site-packages/ipykernel/ipkernel.py\", line 196, in do_execute\n    res = shell.run_cell(code, store_history=store_history, silent=silent)\n  File \"/home/yu/anaconda3/lib/python3.5/site-packages/ipykernel/zmqshell.py\", line 533, in run_cell\n    return super(ZMQInteractiveShell, self).run_cell(*args, **kwargs)\n  File \"/home/yu/anaconda3/lib/python3.5/site-packages/IPython/core/interactiveshell.py\", line 2683, in run_cell\n    interactivity=interactivity, compiler=compiler, result=result)\n  File \"/home/yu/anaconda3/lib/python3.5/site-packages/IPython/core/interactiveshell.py\", line 2787, in run_ast_nodes\n    if self.run_code(code, result):\n  File \"/home/yu/anaconda3/lib/python3.5/site-packages/IPython/core/interactiveshell.py\", line 2847, in run_code\n    exec(code_obj, self.user_global_ns, self.user_ns)\n  File \"<ipython-input-89-72a403c26aaf>\", line 19, in <module>\n    y = th.tensor.dmatrix(\"y\").astype(\"int32\")\nTensorType(int32, matrix) cannot store a value of dtype int64 without risking loss of precision. If you do not mind this loss, you can: 1) explicitly cast your data to int32, or 2) set \"allow_input_downcast=True\" when calling \"function\". Value: \"array([0, 1, 2, 3, 4, 5, 6, 7, 8, 9])\"",
     "output_type": "error",
     "traceback": [
      "\u001b[0;31m---------------------------------------------------------------------------\u001b[0m",
      "\u001b[0;31mTypeError\u001b[0m                                 Traceback (most recent call last)",
      "\u001b[0;32m<ipython-input-92-d4d3cbd7473a>\u001b[0m in \u001b[0;36m<module>\u001b[0;34m()\u001b[0m\n\u001b[0;32m----> 1\u001b[0;31m \u001b[0my\u001b[0m\u001b[0;34m.\u001b[0m\u001b[0meval\u001b[0m\u001b[0;34m(\u001b[0m\u001b[0;34m{\u001b[0m\u001b[0my\u001b[0m\u001b[0;34m:\u001b[0m\u001b[0marange\u001b[0m\u001b[0;34m(\u001b[0m\u001b[0;36m10\u001b[0m\u001b[0;34m)\u001b[0m\u001b[0;34m}\u001b[0m\u001b[0;34m)\u001b[0m\u001b[0;34m\u001b[0m\u001b[0m\n\u001b[0m",
      "\u001b[0;32m/home/yu/anaconda3/lib/python3.5/site-packages/theano/gof/graph.py\u001b[0m in \u001b[0;36meval\u001b[0;34m(self, inputs_to_values)\u001b[0m\n\u001b[1;32m    517\u001b[0m         \u001b[0margs\u001b[0m \u001b[0;34m=\u001b[0m \u001b[0;34m[\u001b[0m\u001b[0minputs_to_values\u001b[0m\u001b[0;34m[\u001b[0m\u001b[0mparam\u001b[0m\u001b[0;34m]\u001b[0m \u001b[0;32mfor\u001b[0m \u001b[0mparam\u001b[0m \u001b[0;32min\u001b[0m \u001b[0minputs\u001b[0m\u001b[0;34m]\u001b[0m\u001b[0;34m\u001b[0m\u001b[0m\n\u001b[1;32m    518\u001b[0m \u001b[0;34m\u001b[0m\u001b[0m\n\u001b[0;32m--> 519\u001b[0;31m         \u001b[0mrval\u001b[0m \u001b[0;34m=\u001b[0m \u001b[0mself\u001b[0m\u001b[0;34m.\u001b[0m\u001b[0m_fn_cache\u001b[0m\u001b[0;34m[\u001b[0m\u001b[0minputs\u001b[0m\u001b[0;34m]\u001b[0m\u001b[0;34m(\u001b[0m\u001b[0;34m*\u001b[0m\u001b[0margs\u001b[0m\u001b[0;34m)\u001b[0m\u001b[0;34m\u001b[0m\u001b[0m\n\u001b[0m\u001b[1;32m    520\u001b[0m \u001b[0;34m\u001b[0m\u001b[0m\n\u001b[1;32m    521\u001b[0m         \u001b[0;32mreturn\u001b[0m \u001b[0mrval\u001b[0m\u001b[0;34m\u001b[0m\u001b[0m\n",
      "\u001b[0;32m/home/yu/anaconda3/lib/python3.5/site-packages/theano/compile/function_module.py\u001b[0m in \u001b[0;36m__call__\u001b[0;34m(self, *args, **kwargs)\u001b[0m\n\u001b[1;32m    793\u001b[0m                         s.storage[0] = s.type.filter(\n\u001b[1;32m    794\u001b[0m                             \u001b[0marg\u001b[0m\u001b[0;34m,\u001b[0m \u001b[0mstrict\u001b[0m\u001b[0;34m=\u001b[0m\u001b[0ms\u001b[0m\u001b[0;34m.\u001b[0m\u001b[0mstrict\u001b[0m\u001b[0;34m,\u001b[0m\u001b[0;34m\u001b[0m\u001b[0m\n\u001b[0;32m--> 795\u001b[0;31m                             allow_downcast=s.allow_downcast)\n\u001b[0m\u001b[1;32m    796\u001b[0m \u001b[0;34m\u001b[0m\u001b[0m\n\u001b[1;32m    797\u001b[0m                     \u001b[0;32mexcept\u001b[0m \u001b[0mException\u001b[0m \u001b[0;32mas\u001b[0m \u001b[0me\u001b[0m\u001b[0;34m:\u001b[0m\u001b[0;34m\u001b[0m\u001b[0m\n",
      "\u001b[0;32m/home/yu/anaconda3/lib/python3.5/site-packages/theano/tensor/type.py\u001b[0m in \u001b[0;36mfilter\u001b[0;34m(self, data, strict, allow_downcast)\u001b[0m\n\u001b[1;32m    138\u001b[0m                             \u001b[0;34m'\"function\". Value: \"%s\"'\u001b[0m\u001b[0;34m\u001b[0m\u001b[0m\n\u001b[1;32m    139\u001b[0m                             % (self, data.dtype, self.dtype, repr(data)))\n\u001b[0;32m--> 140\u001b[0;31m                         \u001b[0;32mraise\u001b[0m \u001b[0mTypeError\u001b[0m\u001b[0;34m(\u001b[0m\u001b[0merr_msg\u001b[0m\u001b[0;34m)\u001b[0m\u001b[0;34m\u001b[0m\u001b[0m\n\u001b[0m\u001b[1;32m    141\u001b[0m                 elif (allow_downcast is None and\n\u001b[1;32m    142\u001b[0m                         \u001b[0mtype\u001b[0m\u001b[0;34m(\u001b[0m\u001b[0mdata\u001b[0m\u001b[0;34m)\u001b[0m \u001b[0;32mis\u001b[0m \u001b[0mfloat\u001b[0m \u001b[0;32mand\u001b[0m\u001b[0;34m\u001b[0m\u001b[0m\n",
      "\u001b[0;31mTypeError\u001b[0m: Bad input argument to theano function with name \"<ipython-input-90-e1fcf0a87b4f>:1\" at index 0 (0-based).  \nBacktrace when that variable is created:\n\n  File \"/home/yu/anaconda3/lib/python3.5/site-packages/ipykernel/kernelbase.py\", line 235, in dispatch_shell\n    handler(stream, idents, msg)\n  File \"/home/yu/anaconda3/lib/python3.5/site-packages/ipykernel/kernelbase.py\", line 399, in execute_request\n    user_expressions, allow_stdin)\n  File \"/home/yu/anaconda3/lib/python3.5/site-packages/ipykernel/ipkernel.py\", line 196, in do_execute\n    res = shell.run_cell(code, store_history=store_history, silent=silent)\n  File \"/home/yu/anaconda3/lib/python3.5/site-packages/ipykernel/zmqshell.py\", line 533, in run_cell\n    return super(ZMQInteractiveShell, self).run_cell(*args, **kwargs)\n  File \"/home/yu/anaconda3/lib/python3.5/site-packages/IPython/core/interactiveshell.py\", line 2683, in run_cell\n    interactivity=interactivity, compiler=compiler, result=result)\n  File \"/home/yu/anaconda3/lib/python3.5/site-packages/IPython/core/interactiveshell.py\", line 2787, in run_ast_nodes\n    if self.run_code(code, result):\n  File \"/home/yu/anaconda3/lib/python3.5/site-packages/IPython/core/interactiveshell.py\", line 2847, in run_code\n    exec(code_obj, self.user_global_ns, self.user_ns)\n  File \"<ipython-input-89-72a403c26aaf>\", line 19, in <module>\n    y = th.tensor.dmatrix(\"y\").astype(\"int32\")\nTensorType(int32, matrix) cannot store a value of dtype int64 without risking loss of precision. If you do not mind this loss, you can: 1) explicitly cast your data to int32, or 2) set \"allow_input_downcast=True\" when calling \"function\". Value: \"array([0, 1, 2, 3, 4, 5, 6, 7, 8, 9])\""
     ]
    }
   ],
   "source": [
    "y.eval({y:arange(10)})"
   ]
  },
  {
   "cell_type": "code",
   "execution_count": 90,
   "metadata": {},
   "outputs": [
    {
     "ename": "TypeError",
     "evalue": "Bad input argument to theano function with name \"<ipython-input-90-e1fcf0a87b4f>:1\" at index 0 (0-based).  \nBacktrace when that variable is created:\n\n  File \"/home/yu/anaconda3/lib/python3.5/site-packages/ipykernel/kernelbase.py\", line 235, in dispatch_shell\n    handler(stream, idents, msg)\n  File \"/home/yu/anaconda3/lib/python3.5/site-packages/ipykernel/kernelbase.py\", line 399, in execute_request\n    user_expressions, allow_stdin)\n  File \"/home/yu/anaconda3/lib/python3.5/site-packages/ipykernel/ipkernel.py\", line 196, in do_execute\n    res = shell.run_cell(code, store_history=store_history, silent=silent)\n  File \"/home/yu/anaconda3/lib/python3.5/site-packages/ipykernel/zmqshell.py\", line 533, in run_cell\n    return super(ZMQInteractiveShell, self).run_cell(*args, **kwargs)\n  File \"/home/yu/anaconda3/lib/python3.5/site-packages/IPython/core/interactiveshell.py\", line 2683, in run_cell\n    interactivity=interactivity, compiler=compiler, result=result)\n  File \"/home/yu/anaconda3/lib/python3.5/site-packages/IPython/core/interactiveshell.py\", line 2787, in run_ast_nodes\n    if self.run_code(code, result):\n  File \"/home/yu/anaconda3/lib/python3.5/site-packages/IPython/core/interactiveshell.py\", line 2847, in run_code\n    exec(code_obj, self.user_global_ns, self.user_ns)\n  File \"<ipython-input-89-72a403c26aaf>\", line 19, in <module>\n    y = th.tensor.dmatrix(\"y\").astype(\"int32\")\nCudaNdarray support only support float32 dtype, provided: 5",
     "output_type": "error",
     "traceback": [
      "\u001b[0;31m---------------------------------------------------------------------------\u001b[0m",
      "\u001b[0;31mTypeError\u001b[0m                                 Traceback (most recent call last)",
      "\u001b[0;32m<ipython-input-90-e1fcf0a87b4f>\u001b[0m in \u001b[0;36m<module>\u001b[0;34m()\u001b[0m\n\u001b[0;32m----> 1\u001b[0;31m \u001b[0my\u001b[0m\u001b[0;34m.\u001b[0m\u001b[0meval\u001b[0m\u001b[0;34m(\u001b[0m\u001b[0;34m{\u001b[0m\u001b[0my\u001b[0m\u001b[0;34m:\u001b[0m\u001b[0my_arr\u001b[0m\u001b[0;34m.\u001b[0m\u001b[0meval\u001b[0m\u001b[0;34m(\u001b[0m\u001b[0;34m)\u001b[0m\u001b[0;34m}\u001b[0m\u001b[0;34m)\u001b[0m\u001b[0;34m\u001b[0m\u001b[0m\n\u001b[0m",
      "\u001b[0;32m/home/yu/anaconda3/lib/python3.5/site-packages/theano/gof/graph.py\u001b[0m in \u001b[0;36meval\u001b[0;34m(self, inputs_to_values)\u001b[0m\n\u001b[1;32m    517\u001b[0m         \u001b[0margs\u001b[0m \u001b[0;34m=\u001b[0m \u001b[0;34m[\u001b[0m\u001b[0minputs_to_values\u001b[0m\u001b[0;34m[\u001b[0m\u001b[0mparam\u001b[0m\u001b[0;34m]\u001b[0m \u001b[0;32mfor\u001b[0m \u001b[0mparam\u001b[0m \u001b[0;32min\u001b[0m \u001b[0minputs\u001b[0m\u001b[0;34m]\u001b[0m\u001b[0;34m\u001b[0m\u001b[0m\n\u001b[1;32m    518\u001b[0m \u001b[0;34m\u001b[0m\u001b[0m\n\u001b[0;32m--> 519\u001b[0;31m         \u001b[0mrval\u001b[0m \u001b[0;34m=\u001b[0m \u001b[0mself\u001b[0m\u001b[0;34m.\u001b[0m\u001b[0m_fn_cache\u001b[0m\u001b[0;34m[\u001b[0m\u001b[0minputs\u001b[0m\u001b[0;34m]\u001b[0m\u001b[0;34m(\u001b[0m\u001b[0;34m*\u001b[0m\u001b[0margs\u001b[0m\u001b[0;34m)\u001b[0m\u001b[0;34m\u001b[0m\u001b[0m\n\u001b[0m\u001b[1;32m    520\u001b[0m \u001b[0;34m\u001b[0m\u001b[0m\n\u001b[1;32m    521\u001b[0m         \u001b[0;32mreturn\u001b[0m \u001b[0mrval\u001b[0m\u001b[0;34m\u001b[0m\u001b[0m\n",
      "\u001b[0;32m/home/yu/anaconda3/lib/python3.5/site-packages/theano/compile/function_module.py\u001b[0m in \u001b[0;36m__call__\u001b[0;34m(self, *args, **kwargs)\u001b[0m\n\u001b[1;32m    793\u001b[0m                         s.storage[0] = s.type.filter(\n\u001b[1;32m    794\u001b[0m                             \u001b[0marg\u001b[0m\u001b[0;34m,\u001b[0m \u001b[0mstrict\u001b[0m\u001b[0;34m=\u001b[0m\u001b[0ms\u001b[0m\u001b[0;34m.\u001b[0m\u001b[0mstrict\u001b[0m\u001b[0;34m,\u001b[0m\u001b[0;34m\u001b[0m\u001b[0m\n\u001b[0;32m--> 795\u001b[0;31m                             allow_downcast=s.allow_downcast)\n\u001b[0m\u001b[1;32m    796\u001b[0m \u001b[0;34m\u001b[0m\u001b[0m\n\u001b[1;32m    797\u001b[0m                     \u001b[0;32mexcept\u001b[0m \u001b[0mException\u001b[0m \u001b[0;32mas\u001b[0m \u001b[0me\u001b[0m\u001b[0;34m:\u001b[0m\u001b[0;34m\u001b[0m\u001b[0m\n",
      "\u001b[0;32m/home/yu/anaconda3/lib/python3.5/site-packages/theano/tensor/type.py\u001b[0m in \u001b[0;36mfilter\u001b[0;34m(self, data, strict, allow_downcast)\u001b[0m\n\u001b[1;32m    148\u001b[0m                     \u001b[0;31m# data has to be converted.\u001b[0m\u001b[0;34m\u001b[0m\u001b[0;34m\u001b[0m\u001b[0m\n\u001b[1;32m    149\u001b[0m                     \u001b[0;31m# Check that this conversion is lossless\u001b[0m\u001b[0;34m\u001b[0m\u001b[0;34m\u001b[0m\u001b[0m\n\u001b[0;32m--> 150\u001b[0;31m                     \u001b[0mconverted_data\u001b[0m \u001b[0;34m=\u001b[0m \u001b[0mtheano\u001b[0m\u001b[0;34m.\u001b[0m\u001b[0m_asarray\u001b[0m\u001b[0;34m(\u001b[0m\u001b[0mdata\u001b[0m\u001b[0;34m,\u001b[0m \u001b[0mself\u001b[0m\u001b[0;34m.\u001b[0m\u001b[0mdtype\u001b[0m\u001b[0;34m)\u001b[0m\u001b[0;34m\u001b[0m\u001b[0m\n\u001b[0m\u001b[1;32m    151\u001b[0m                     \u001b[0;31m# We use the `values_eq` static function from TensorType\u001b[0m\u001b[0;34m\u001b[0m\u001b[0;34m\u001b[0m\u001b[0m\n\u001b[1;32m    152\u001b[0m                     \u001b[0;31m# to handle NaN values.\u001b[0m\u001b[0;34m\u001b[0m\u001b[0;34m\u001b[0m\u001b[0m\n",
      "\u001b[0;32m/home/yu/anaconda3/lib/python3.5/site-packages/theano/misc/safe_asarray.py\u001b[0m in \u001b[0;36m_asarray\u001b[0;34m(a, dtype, order)\u001b[0m\n\u001b[1;32m     32\u001b[0m         \u001b[0mdtype\u001b[0m \u001b[0;34m=\u001b[0m \u001b[0mtheano\u001b[0m\u001b[0;34m.\u001b[0m\u001b[0mconfig\u001b[0m\u001b[0;34m.\u001b[0m\u001b[0mfloatX\u001b[0m\u001b[0;34m\u001b[0m\u001b[0m\n\u001b[1;32m     33\u001b[0m     \u001b[0mdtype\u001b[0m \u001b[0;34m=\u001b[0m \u001b[0mnp\u001b[0m\u001b[0;34m.\u001b[0m\u001b[0mdtype\u001b[0m\u001b[0;34m(\u001b[0m\u001b[0mdtype\u001b[0m\u001b[0;34m)\u001b[0m  \u001b[0;31m# Convert into dtype object.\u001b[0m\u001b[0;34m\u001b[0m\u001b[0m\n\u001b[0;32m---> 34\u001b[0;31m     \u001b[0mrval\u001b[0m \u001b[0;34m=\u001b[0m \u001b[0mnp\u001b[0m\u001b[0;34m.\u001b[0m\u001b[0masarray\u001b[0m\u001b[0;34m(\u001b[0m\u001b[0ma\u001b[0m\u001b[0;34m,\u001b[0m \u001b[0mdtype\u001b[0m\u001b[0;34m=\u001b[0m\u001b[0mdtype\u001b[0m\u001b[0;34m,\u001b[0m \u001b[0morder\u001b[0m\u001b[0;34m=\u001b[0m\u001b[0morder\u001b[0m\u001b[0;34m)\u001b[0m\u001b[0;34m\u001b[0m\u001b[0m\n\u001b[0m\u001b[1;32m     35\u001b[0m     \u001b[0;31m# Note that dtype comparison must be done by comparing their `num`\u001b[0m\u001b[0;34m\u001b[0m\u001b[0;34m\u001b[0m\u001b[0m\n\u001b[1;32m     36\u001b[0m     \u001b[0;31m# attribute. One cannot assume that two identical data types are pointers\u001b[0m\u001b[0;34m\u001b[0m\u001b[0;34m\u001b[0m\u001b[0m\n",
      "\u001b[0;32m/home/yu/anaconda3/lib/python3.5/site-packages/numpy/core/numeric.py\u001b[0m in \u001b[0;36masarray\u001b[0;34m(a, dtype, order)\u001b[0m\n\u001b[1;32m    529\u001b[0m \u001b[0;34m\u001b[0m\u001b[0m\n\u001b[1;32m    530\u001b[0m     \"\"\"\n\u001b[0;32m--> 531\u001b[0;31m     \u001b[0;32mreturn\u001b[0m \u001b[0marray\u001b[0m\u001b[0;34m(\u001b[0m\u001b[0ma\u001b[0m\u001b[0;34m,\u001b[0m \u001b[0mdtype\u001b[0m\u001b[0;34m,\u001b[0m \u001b[0mcopy\u001b[0m\u001b[0;34m=\u001b[0m\u001b[0;32mFalse\u001b[0m\u001b[0;34m,\u001b[0m \u001b[0morder\u001b[0m\u001b[0;34m=\u001b[0m\u001b[0morder\u001b[0m\u001b[0;34m)\u001b[0m\u001b[0;34m\u001b[0m\u001b[0m\n\u001b[0m\u001b[1;32m    532\u001b[0m \u001b[0;34m\u001b[0m\u001b[0m\n\u001b[1;32m    533\u001b[0m \u001b[0;34m\u001b[0m\u001b[0m\n",
      "\u001b[0;31mTypeError\u001b[0m: Bad input argument to theano function with name \"<ipython-input-90-e1fcf0a87b4f>:1\" at index 0 (0-based).  \nBacktrace when that variable is created:\n\n  File \"/home/yu/anaconda3/lib/python3.5/site-packages/ipykernel/kernelbase.py\", line 235, in dispatch_shell\n    handler(stream, idents, msg)\n  File \"/home/yu/anaconda3/lib/python3.5/site-packages/ipykernel/kernelbase.py\", line 399, in execute_request\n    user_expressions, allow_stdin)\n  File \"/home/yu/anaconda3/lib/python3.5/site-packages/ipykernel/ipkernel.py\", line 196, in do_execute\n    res = shell.run_cell(code, store_history=store_history, silent=silent)\n  File \"/home/yu/anaconda3/lib/python3.5/site-packages/ipykernel/zmqshell.py\", line 533, in run_cell\n    return super(ZMQInteractiveShell, self).run_cell(*args, **kwargs)\n  File \"/home/yu/anaconda3/lib/python3.5/site-packages/IPython/core/interactiveshell.py\", line 2683, in run_cell\n    interactivity=interactivity, compiler=compiler, result=result)\n  File \"/home/yu/anaconda3/lib/python3.5/site-packages/IPython/core/interactiveshell.py\", line 2787, in run_ast_nodes\n    if self.run_code(code, result):\n  File \"/home/yu/anaconda3/lib/python3.5/site-packages/IPython/core/interactiveshell.py\", line 2847, in run_code\n    exec(code_obj, self.user_global_ns, self.user_ns)\n  File \"<ipython-input-89-72a403c26aaf>\", line 19, in <module>\n    y = th.tensor.dmatrix(\"y\").astype(\"int32\")\nCudaNdarray support only support float32 dtype, provided: 5"
     ]
    }
   ],
   "source": [
    "y.eval({y:y_arr.eval()})"
   ]
  },
  {
   "cell_type": "code",
   "execution_count": 78,
   "metadata": {},
   "outputs": [
    {
     "data": {
      "text/plain": [
       "array(8.012983322143555, dtype=float32)"
      ]
     },
     "execution_count": 78,
     "metadata": {},
     "output_type": "execute_result"
    }
   ],
   "source": [
    "loss.eval({x:x_arr[0:100].eval(),y:y_arr.eval()})"
   ]
  },
  {
   "cell_type": "code",
   "execution_count": 79,
   "metadata": {},
   "outputs": [
    {
     "data": {
      "text/plain": [
       "array(8.012983322143555, dtype=float32)"
      ]
     },
     "execution_count": 79,
     "metadata": {},
     "output_type": "execute_result"
    }
   ],
   "source": [
    "loss.eval({x:x_arr[0:100].eval(),y:y_arr[0:100].eval()})"
   ]
  },
  {
   "cell_type": "code",
   "execution_count": 68,
   "metadata": {},
   "outputs": [
    {
     "data": {
      "text/plain": [
       "array([3, 3, 1, ..., 7, 3, 1])"
      ]
     },
     "execution_count": 68,
     "metadata": {},
     "output_type": "execute_result"
    }
   ],
   "source": [
    "out.argmax(axis=1).eval({x:x_arr.eval()}).tpp"
   ]
  },
  {
   "cell_type": "code",
   "execution_count": 69,
   "metadata": {},
   "outputs": [
    {
     "data": {
      "text/plain": [
       "dtype('int64')"
      ]
     },
     "execution_count": 69,
     "metadata": {},
     "output_type": "execute_result"
    }
   ],
   "source": [
    "out.argmax(axis=1).eval({x:x_arr.eval()}).dtype"
   ]
  },
  {
   "cell_type": "code",
   "execution_count": 62,
   "metadata": {},
   "outputs": [
    {
     "data": {
      "text/plain": [
       "(70000,)"
      ]
     },
     "execution_count": 62,
     "metadata": {},
     "output_type": "execute_result"
    }
   ],
   "source": [
    "out.argmax(axis=1).eval({x:x_arr.eval()}).shape"
   ]
  },
  {
   "cell_type": "code",
   "execution_count": 57,
   "metadata": {},
   "outputs": [
    {
     "data": {
      "text/plain": [
       "Softmax.0"
      ]
     },
     "execution_count": 57,
     "metadata": {},
     "output_type": "execute_result"
    }
   ],
   "source": [
    "out."
   ]
  },
  {
   "cell_type": "code",
   "execution_count": 80,
   "metadata": {},
   "outputs": [
    {
     "ename": "IndexError",
     "evalue": "shape mismatch: indexing arrays could not be broadcast together with shapes (10,) (9,) ",
     "output_type": "error",
     "traceback": [
      "\u001b[0;31m---------------------------------------------------------------------------\u001b[0m",
      "\u001b[0;31mIndexError\u001b[0m                                Traceback (most recent call last)",
      "\u001b[0;32m<ipython-input-80-add2a618ca38>\u001b[0m in \u001b[0;36m<module>\u001b[0;34m()\u001b[0m\n\u001b[0;32m----> 1\u001b[0;31m \u001b[0meye\u001b[0m\u001b[0;34m(\u001b[0m\u001b[0;36m10\u001b[0m\u001b[0;34m)\u001b[0m\u001b[0;34m[\u001b[0m\u001b[0marange\u001b[0m\u001b[0;34m(\u001b[0m\u001b[0;36m10\u001b[0m\u001b[0;34m)\u001b[0m\u001b[0;34m,\u001b[0m\u001b[0marray\u001b[0m\u001b[0;34m(\u001b[0m\u001b[0;34m[\u001b[0m\u001b[0;36m0\u001b[0m\u001b[0;34m,\u001b[0m\u001b[0;36m1\u001b[0m\u001b[0;34m,\u001b[0m\u001b[0;36m2\u001b[0m\u001b[0;34m,\u001b[0m\u001b[0;36m3\u001b[0m\u001b[0;34m,\u001b[0m\u001b[0;36m4\u001b[0m\u001b[0;34m,\u001b[0m\u001b[0;36m5\u001b[0m\u001b[0;34m,\u001b[0m\u001b[0;36m6\u001b[0m\u001b[0;34m,\u001b[0m\u001b[0;36m7\u001b[0m\u001b[0;34m,\u001b[0m\u001b[0;36m8\u001b[0m\u001b[0;34m]\u001b[0m\u001b[0;34m)\u001b[0m\u001b[0;34m]\u001b[0m\u001b[0;34m\u001b[0m\u001b[0m\n\u001b[0m",
      "\u001b[0;31mIndexError\u001b[0m: shape mismatch: indexing arrays could not be broadcast together with shapes (10,) (9,) "
     ]
    }
   ],
   "source": [
    "eye(10)[arange(10),array([0,1,2,3,4,5,6,7,8])]"
   ]
  },
  {
   "cell_type": "code",
   "execution_count": 63,
   "metadata": {},
   "outputs": [
    {
     "data": {
      "text/plain": [
       "array([[ 1.,  0.,  0.,  0.,  0.,  0.,  0.,  0.,  0.,  0.],\n",
       "       [ 0.,  1.,  0.,  0.,  0.,  0.,  0.,  0.,  0.,  0.],\n",
       "       [ 0.,  0.,  1.,  0.,  0.,  0.,  0.,  0.,  0.,  0.],\n",
       "       [ 0.,  0.,  0.,  1.,  0.,  0.,  0.,  0.,  0.,  0.],\n",
       "       [ 0.,  0.,  0.,  0.,  1.,  0.,  0.,  0.,  0.,  0.],\n",
       "       [ 0.,  0.,  0.,  0.,  0.,  1.,  0.,  0.,  0.,  0.],\n",
       "       [ 0.,  0.,  0.,  0.,  0.,  0.,  1.,  0.,  0.,  0.],\n",
       "       [ 0.,  0.,  0.,  0.,  0.,  0.,  0.,  1.,  0.,  0.],\n",
       "       [ 0.,  0.,  0.,  0.,  0.,  0.,  0.,  0.,  1.,  0.],\n",
       "       [ 0.,  0.,  0.,  0.,  0.,  0.,  0.,  0.,  0.,  1.]])"
      ]
     },
     "execution_count": 63,
     "metadata": {},
     "output_type": "execute_result"
    }
   ],
   "source": [
    "eye(10)"
   ]
  },
  {
   "cell_type": "code",
   "execution_count": 49,
   "metadata": {},
   "outputs": [
    {
     "data": {
      "text/plain": [
       "array(0.9584113359451294, dtype=float32)"
      ]
     },
     "execution_count": 49,
     "metadata": {},
     "output_type": "execute_result"
    }
   ],
   "source": [
    "f(0)\n"
   ]
  },
  {
   "cell_type": "code",
   "execution_count": 46,
   "metadata": {},
   "outputs": [
    {
     "data": {
      "text/plain": [
       "(70000, 10)"
      ]
     },
     "execution_count": 46,
     "metadata": {},
     "output_type": "execute_result"
    }
   ],
   "source": [
    "array(y_arr.eval()).shape\n",
    "\n"
   ]
  },
  {
   "cell_type": "code",
   "execution_count": 41,
   "metadata": {
    "collapsed": true
   },
   "outputs": [],
   "source": [
    "mnist = fetch_mldata('MNIST original', data_home=\"data_dir_for_optimizer\")\n",
    "\n",
    "idx = mnist[\"target\"]\n",
    "arr = np.zeros((idx.shape[0],10)).flatten()\n",
    "arr[idx.flatten().astype(int) + np.arange(idx.shape[0]) * int(idx.max())]  = 1\n",
    "mnist[\"target\"] = arr.reshape(idx.shape[0], 10)\n",
    "\n",
    "x_arr = mnist[\"data\"]\n",
    "y_arr = mnist[\"target\"]\n",
    "size = x_arr.shape[0]"
   ]
  },
  {
   "cell_type": "code",
   "execution_count": 43,
   "metadata": {},
   "outputs": [
    {
     "data": {
      "text/plain": [
       "(70000, 784)"
      ]
     },
     "execution_count": 43,
     "metadata": {},
     "output_type": "execute_result"
    }
   ],
   "source": [
    "x_arr.shape"
   ]
  },
  {
   "cell_type": "code",
   "execution_count": 2,
   "metadata": {
    "collapsed": true
   },
   "outputs": [],
   "source": [
    "x_\n",
    "from sklearn.datasets import fetch_mldata\n",
    "\n",
    "mnist = fetch_mldata('MNIST original', data_home=\"data_dir_for_optimizer\")"
   ]
  },
  {
   "cell_type": "code",
   "execution_count": 3,
   "metadata": {
    "collapsed": true
   },
   "outputs": [],
   "source": [
    "x_arr = mnist[\"data\"]\n",
    "y_arr = mnist[\"target\"]"
   ]
  },
  {
   "cell_type": "code",
   "execution_count": 106,
   "metadata": {},
   "outputs": [
    {
     "name": "stdout",
     "output_type": "stream",
     "text": [
      "0.9394537210464478\n"
     ]
    }
   ],
   "source": [
    "print(f(o.x_train_arr[j:j+100], o.y_train_arr[j:j+100]))"
   ]
  },
  {
   "cell_type": "code",
   "execution_count": 23,
   "metadata": {},
   "outputs": [
    {
     "data": {
      "text/plain": [
       "70000"
      ]
     },
     "execution_count": 23,
     "metadata": {},
     "output_type": "execute_result"
    }
   ],
   "source": [
    "size"
   ]
  },
  {
   "cell_type": "code",
   "execution_count": 83,
   "metadata": {},
   "outputs": [
    {
     "data": {
      "text/plain": [
       "array([[ 0.,  0.,  0., ...,  0.,  0.,  0.],\n",
       "       [ 0.,  0.,  0., ...,  0.,  0.,  0.],\n",
       "       [ 0.,  0.,  0., ...,  0.,  0.,  0.],\n",
       "       ..., \n",
       "       [ 0.,  0.,  0., ...,  0.,  0.,  0.],\n",
       "       [ 0.,  0.,  0., ...,  0.,  0.,  0.],\n",
       "       [ 0.,  0.,  0., ...,  0.,  0.,  0.]], dtype=float32)"
      ]
     },
     "execution_count": 83,
     "metadata": {},
     "output_type": "execute_result"
    }
   ],
   "source": [
    "array(x_arr.eval())"
   ]
  },
  {
   "cell_type": "code",
   "execution_count": 101,
   "metadata": {},
   "outputs": [
    {
     "data": {
      "text/plain": [
       "array([[ 1.,  0.,  0., ...,  0.,  0.,  1.],\n",
       "       [ 0.,  0.,  0., ...,  0.,  1.,  0.],\n",
       "       [ 0.,  0.,  0., ...,  1.,  0.,  0.],\n",
       "       ..., \n",
       "       [ 0.,  0.,  0., ...,  0.,  0.,  0.],\n",
       "       [ 0.,  0.,  1., ...,  0.,  0.,  0.],\n",
       "       [ 0.,  1.,  0., ...,  0.,  0.,  0.]], dtype=float32)"
      ]
     },
     "execution_count": 101,
     "metadata": {},
     "output_type": "execute_result"
    }
   ],
   "source": [
    "o.y_train_arr"
   ]
  },
  {
   "cell_type": "code",
   "execution_count": 102,
   "metadata": {
    "collapsed": true
   },
   "outputs": [],
   "source": [
    "x = th.tensor.scalar()\n",
    "dx = th.grad(x**2, x)"
   ]
  },
  {
   "cell_type": "code",
   "execution_count": 103,
   "metadata": {},
   "outputs": [
    {
     "data": {
      "text/plain": [
       "array(6.0, dtype=float32)"
      ]
     },
     "execution_count": 103,
     "metadata": {},
     "output_type": "execute_result"
    }
   ],
   "source": [
    "dx.eval({x:3})"
   ]
  },
  {
   "cell_type": "code",
   "execution_count": 104,
   "metadata": {},
   "outputs": [
    {
     "ename": "NameError",
     "evalue": "name 'w' is not defined",
     "output_type": "error",
     "traceback": [
      "\u001b[0;31m---------------------------------------------------------------------------\u001b[0m",
      "\u001b[0;31mNameError\u001b[0m                                 Traceback (most recent call last)",
      "\u001b[0;32m<ipython-input-104-cf9dc48d5a32>\u001b[0m in \u001b[0;36m<module>\u001b[0;34m()\u001b[0m\n\u001b[1;32m      1\u001b[0m th.function(inputs=[],\n\u001b[0;32m----> 2\u001b[0;31m             \u001b[0moutputs\u001b[0m\u001b[0;34m=\u001b[0m\u001b[0mw\u001b[0m\u001b[0;34m,\u001b[0m\u001b[0;34m\u001b[0m\u001b[0m\n\u001b[0m\u001b[1;32m      3\u001b[0m            )\n",
      "\u001b[0;31mNameError\u001b[0m: name 'w' is not defined"
     ]
    }
   ],
   "source": [
    "th.function(inputs=[],\n",
    "            outputs=w,\n",
    "           )"
   ]
  },
  {
   "cell_type": "code",
   "execution_count": null,
   "metadata": {
    "collapsed": true
   },
   "outputs": [],
   "source": []
  },
  {
   "cell_type": "code",
   "execution_count": 12,
   "metadata": {},
   "outputs": [
    {
     "data": {
      "text/plain": [
       "array([[ 1.,  0.,  0., ...,  0.,  0.,  1.],\n",
       "       [ 0.,  0.,  0., ...,  0.,  1.,  0.],\n",
       "       [ 0.,  0.,  0., ...,  1.,  0.,  0.],\n",
       "       ..., \n",
       "       [ 0.,  0.,  0., ...,  0.,  0.,  0.],\n",
       "       [ 0.,  0.,  1., ...,  0.,  0.,  0.],\n",
       "       [ 0.,  1.,  0., ...,  0.,  0.,  0.]], dtype=float32)"
      ]
     },
     "execution_count": 12,
     "metadata": {},
     "output_type": "execute_result"
    }
   ],
   "source": [
    "array(y_arr.eval())"
   ]
  },
  {
   "cell_type": "code",
   "execution_count": null,
   "metadata": {
    "collapsed": true
   },
   "outputs": [],
   "source": []
  },
  {
   "cell_type": "code",
   "execution_count": null,
   "metadata": {
    "collapsed": true
   },
   "outputs": [],
   "source": []
  },
  {
   "cell_type": "code",
   "execution_count": 8,
   "metadata": {},
   "outputs": [
    {
     "ename": "TypeError",
     "evalue": "Shared variable constructor needs numeric values and not symbolic variables.",
     "output_type": "error",
     "traceback": [
      "\u001b[0;31m---------------------------------------------------------------------------\u001b[0m",
      "\u001b[0;31mTypeError\u001b[0m                                 Traceback (most recent call last)",
      "\u001b[0;32m<ipython-input-8-bf55621490c2>\u001b[0m in \u001b[0;36m<module>\u001b[0;34m()\u001b[0m\n\u001b[1;32m     28\u001b[0m \u001b[0;34m\u001b[0m\u001b[0m\n\u001b[1;32m     29\u001b[0m \u001b[0mx_arr\u001b[0m \u001b[0;34m=\u001b[0m \u001b[0mth\u001b[0m\u001b[0;34m.\u001b[0m\u001b[0mshared\u001b[0m\u001b[0;34m(\u001b[0m\u001b[0mx_arr\u001b[0m\u001b[0;34m.\u001b[0m\u001b[0mastype\u001b[0m\u001b[0;34m(\u001b[0m\u001b[0mdtype\u001b[0m\u001b[0;34m=\u001b[0m\u001b[0mth\u001b[0m\u001b[0;34m.\u001b[0m\u001b[0mconfig\u001b[0m\u001b[0;34m.\u001b[0m\u001b[0mfloatX\u001b[0m\u001b[0;34m)\u001b[0m\u001b[0;34m)\u001b[0m\u001b[0;34m\u001b[0m\u001b[0m\n\u001b[0;32m---> 30\u001b[0;31m \u001b[0my_arr\u001b[0m \u001b[0;34m=\u001b[0m \u001b[0mth\u001b[0m\u001b[0;34m.\u001b[0m\u001b[0mshared\u001b[0m\u001b[0;34m(\u001b[0m\u001b[0my_arr\u001b[0m\u001b[0;34m.\u001b[0m\u001b[0mastype\u001b[0m\u001b[0;34m(\u001b[0m\u001b[0mdtype\u001b[0m\u001b[0;34m=\u001b[0m\u001b[0;34m\"int32\"\u001b[0m\u001b[0;34m)\u001b[0m\u001b[0;34m)\u001b[0m\u001b[0;34m\u001b[0m\u001b[0m\n\u001b[0m\u001b[1;32m     31\u001b[0m \u001b[0;34m\u001b[0m\u001b[0m\n\u001b[1;32m     32\u001b[0m \u001b[0;34m\u001b[0m\u001b[0m\n",
      "\u001b[0;32m/home/yu/anaconda3/lib/python3.5/site-packages/theano/compile/sharedvalue.py\u001b[0m in \u001b[0;36mshared\u001b[0;34m(value, name, strict, allow_downcast, **kwargs)\u001b[0m\n\u001b[1;32m    260\u001b[0m     \u001b[0;32mtry\u001b[0m\u001b[0;34m:\u001b[0m\u001b[0;34m\u001b[0m\u001b[0m\n\u001b[1;32m    261\u001b[0m         \u001b[0;32mif\u001b[0m \u001b[0misinstance\u001b[0m\u001b[0;34m(\u001b[0m\u001b[0mvalue\u001b[0m\u001b[0;34m,\u001b[0m \u001b[0mVariable\u001b[0m\u001b[0;34m)\u001b[0m\u001b[0;34m:\u001b[0m\u001b[0;34m\u001b[0m\u001b[0m\n\u001b[0;32m--> 262\u001b[0;31m             raise TypeError(\"Shared variable constructor needs numeric \"\n\u001b[0m\u001b[1;32m    263\u001b[0m                             \"values and not symbolic variables.\")\n\u001b[1;32m    264\u001b[0m \u001b[0;34m\u001b[0m\u001b[0m\n",
      "\u001b[0;31mTypeError\u001b[0m: Shared variable constructor needs numeric values and not symbolic variables."
     ]
    }
   ],
   "source": [
    "import theano as th\n",
    "from numpy import *\n",
    "from sklearn.datasets import fetch_mldata\n",
    "\n",
    "mnist = fetch_mldata('MNIST original', data_home=\"data_dir_for_optimizer\")\n",
    "\n",
    "x_arr = mnist[\"data\"]\n",
    "x_arr = x_arr / 255 \n",
    "#idx = mnist[\"target\"]\n",
    "#arr = zeros((idx.shape[0],10)).flatten()\n",
    "#arr[idx.flatten().astype(int) + arange(idx.shape[0]) * int(idx.max())]  = 1\n",
    "#arr = arr.reshape(idx.size, 10)\n",
    "#y_arr = arr\n",
    "\n",
    "size = x_arr.shape[0]\n",
    "\n",
    "x = th.tensor.dmatrix(\"x\").astype(th.config.floatX)\n",
    "y = th.tensor.dmatrix(\"y\").astype(\"int32\")\n",
    "\n",
    "W = th.shared(random.rand(784,10).astype(dtype=th.config.floatX), borrow=True)\n",
    "b = th.shared(random.rand(10).astype(dtype=th.config.floatX), borrow=True)\n",
    "\n",
    "out = th.tensor.nnet.softmax(x.dot(W) + b)\n",
    "loss = th.tensor.nnet.categorical_crossentropy(y, out)\n",
    "#loss = (-y * th.tensor.log(out + 1e-8) - (1-y) * th.tensor.log(1-out + 1e-8)).mean()\n",
    "\n",
    "idx = th.shared(0).astype(dtype=\"int32\")\n",
    "\n",
    "x_arr = th.shared(x_arr.astype(dtype=th.config.floatX))\n",
    "y_arr = th.shared(y_arr.astype(dtype=\"int32\"))\n",
    "\n",
    "\n",
    "f = th.function(inputs=[idx],\n",
    "                outputs=loss,\n",
    "                on_unused_input='ignore',\n",
    "                updates=[(W, W - 0.01 * th.grad(loss, W)),\n",
    "                         (b, b - 0.01 * th.grad(loss, b))],\n",
    "                givens=[(x, x_arr[idx:idx+100]), (y, y_arr[idx:idx+100])])\n",
    "\n",
    "for i in range(100):\n",
    "    for j in range(0, size-100, 100):\n",
    "        loss = f(j)\n",
    "    print(loss)"
   ]
  },
  {
   "cell_type": "code",
   "execution_count": 9,
   "metadata": {},
   "outputs": [
    {
     "ename": "TypeError",
     "evalue": "cost must be a scalar.",
     "output_type": "error",
     "traceback": [
      "\u001b[0;31m---------------------------------------------------------------------------\u001b[0m",
      "\u001b[0;31mTypeError\u001b[0m                                 Traceback (most recent call last)",
      "\u001b[0;32m<ipython-input-9-10c7c330065a>\u001b[0m in \u001b[0;36m<module>\u001b[0;34m()\u001b[0m\n\u001b[1;32m     34\u001b[0m                 \u001b[0moutputs\u001b[0m\u001b[0;34m=\u001b[0m\u001b[0mloss\u001b[0m\u001b[0;34m,\u001b[0m\u001b[0;34m\u001b[0m\u001b[0m\n\u001b[1;32m     35\u001b[0m                 \u001b[0mon_unused_input\u001b[0m\u001b[0;34m=\u001b[0m\u001b[0;34m'ignore'\u001b[0m\u001b[0;34m,\u001b[0m\u001b[0;34m\u001b[0m\u001b[0m\n\u001b[0;32m---> 36\u001b[0;31m                 updates=[(W, W - 0.01 * th.grad(loss, W)),\n\u001b[0m\u001b[1;32m     37\u001b[0m                          (b, b - 0.01 * th.grad(loss, b))],\n\u001b[1;32m     38\u001b[0m                 givens=[(x, x_arr[idx:idx+100]), (y, y_arr[idx:idx+100])])\n",
      "\u001b[0;32m/home/yu/anaconda3/lib/python3.5/site-packages/theano/gradient.py\u001b[0m in \u001b[0;36mgrad\u001b[0;34m(cost, wrt, consider_constant, disconnected_inputs, add_names, known_grads, return_disconnected, null_gradients)\u001b[0m\n\u001b[1;32m    435\u001b[0m \u001b[0;34m\u001b[0m\u001b[0m\n\u001b[1;32m    436\u001b[0m     \u001b[0;32mif\u001b[0m \u001b[0mcost\u001b[0m \u001b[0;32mis\u001b[0m \u001b[0;32mnot\u001b[0m \u001b[0;32mNone\u001b[0m \u001b[0;32mand\u001b[0m \u001b[0mcost\u001b[0m\u001b[0;34m.\u001b[0m\u001b[0mndim\u001b[0m \u001b[0;34m!=\u001b[0m \u001b[0;36m0\u001b[0m\u001b[0;34m:\u001b[0m\u001b[0;34m\u001b[0m\u001b[0m\n\u001b[0;32m--> 437\u001b[0;31m         \u001b[0;32mraise\u001b[0m \u001b[0mTypeError\u001b[0m\u001b[0;34m(\u001b[0m\u001b[0;34m\"cost must be a scalar.\"\u001b[0m\u001b[0;34m)\u001b[0m\u001b[0;34m\u001b[0m\u001b[0m\n\u001b[0m\u001b[1;32m    438\u001b[0m \u001b[0;34m\u001b[0m\u001b[0m\n\u001b[1;32m    439\u001b[0m     \u001b[0;32mif\u001b[0m \u001b[0misinstance\u001b[0m\u001b[0;34m(\u001b[0m\u001b[0mwrt\u001b[0m\u001b[0;34m,\u001b[0m \u001b[0mset\u001b[0m\u001b[0;34m)\u001b[0m\u001b[0;34m:\u001b[0m\u001b[0;34m\u001b[0m\u001b[0m\n",
      "\u001b[0;31mTypeError\u001b[0m: cost must be a scalar."
     ]
    }
   ],
   "source": [
    "import theano as th\n",
    "from numpy import *\n",
    "from sklearn.datasets import fetch_mldata\n",
    "\n",
    "mnist = fetch_mldata('MNIST original', data_home=\"data_dir_for_optimizer\")\n",
    "\n",
    "x_arr = mnist[\"data\"]\n",
    "x_arr = x_arr / 255 \n",
    "idx = mnist[\"target\"]\n",
    "arr = zeros((idx.shape[0],10)).flatten()\n",
    "arr[idx.flatten().astype(int) + arange(idx.shape[0]) * int(idx.max())]  = 1\n",
    "arr = arr.reshape(idx.size, 10)\n",
    "y_arr = idx#arr\n",
    "\n",
    "size = x_arr.shape[0]\n",
    "\n",
    "x = th.tensor.dmatrix(\"x\").astype(th.config.floatX)\n",
    "y = th.tensor.dmatrix(\"y\").astype(\"int32\")\n",
    "\n",
    "W = th.shared(random.rand(784,10).astype(dtype=th.config.floatX), borrow=True)\n",
    "b = th.shared(random.rand(10).astype(dtype=th.config.floatX), borrow=True)\n",
    "\n",
    "out = th.tensor.nnet.softmax(x.dot(W) + b)\n",
    "loss = th.tensor.nnet.categorical_crossentropy(y, out)\n",
    "#loss = (-y * th.tensor.log(out + 1e-8) - (1-y) * th.tensor.log(1-out + 1e-8)).mean()\n",
    "\n",
    "idx = th.shared(0).astype(dtype=\"int32\")\n",
    "\n",
    "x_arr = th.shared(x_arr.astype(dtype=th.config.floatX))\n",
    "y_arr = th.shared(y_arr.astype(dtype=\"int32\"))\n",
    "\n",
    "\n",
    "f = th.function(inputs=[idx],\n",
    "                outputs=loss,\n",
    "                on_unused_input='ignore',\n",
    "                updates=[(W, W - 0.01 * th.grad(loss, W)),\n",
    "                         (b, b - 0.01 * th.grad(loss, b))],\n",
    "                givens=[(x, x_arr[idx:idx+100]), (y, y_arr[idx:idx+100])])\n",
    "\n",
    "for i in range(100):\n",
    "    for j in range(0, size-100, 100):\n",
    "        loss = f(j)\n",
    "    print(loss)"
   ]
  },
  {
   "cell_type": "code",
   "execution_count": 8,
   "metadata": {},
   "outputs": [
    {
     "name": "stdout",
     "output_type": "stream",
     "text": [
      "0.12822733005185183\n",
      "0.12186372572274377\n",
      "0.11945047728813733\n",
      "0.11781217726631439\n",
      "0.11660541573507362\n",
      "0.11566734696965433\n",
      "0.11490267964196392\n",
      "0.1142573617491871\n",
      "0.11370045371251762\n",
      "0.11321338798565557\n",
      "0.11278396649408387\n",
      "0.11240326546272264\n",
      "0.11206410836422583\n",
      "0.11176066865620668\n",
      "0.11148793298739475\n",
      "0.11124174909119029\n",
      "0.11101839708094485\n",
      "0.11081489039794541\n",
      "0.11062863568391186\n",
      "0.11045745615079068\n",
      "0.1102994851503754\n",
      "0.11015315378410742\n",
      "0.11001717745477799\n",
      "0.10989042962703388\n",
      "0.10977189748780802\n",
      "0.10966081324429251\n",
      "0.10955647020973265\n",
      "0.1094582046419382\n",
      "0.10936555432807653\n",
      "0.10927796979225242\n",
      "0.10919505381654018\n",
      "0.10911649837740697\n",
      "0.10904190804529934\n",
      "0.10897100041341037\n",
      "0.1089035117723979\n",
      "0.10883919760445133\n",
      "0.10877784112840891\n",
      "0.10871923867799342\n",
      "0.10866321252565832\n",
      "0.10860958642605692\n",
      "0.10855821187468247\n",
      "0.10850894547672943\n",
      "0.10846166498539969\n",
      "0.108416220725514\n",
      "0.10837253485806286\n",
      "0.10833047263836489\n",
      "0.10828996251476927\n",
      "0.10825091450056061\n",
      "0.10821321226330474\n",
      "0.10817682135291398\n",
      "0.10814164746226743\n",
      "0.10810764469811693\n",
      "0.10807473156088962\n",
      "0.10804283672710882\n",
      "0.10801193854631856\n",
      "0.10798196723498403\n",
      "0.10795290119992569\n",
      "0.1079246785300784\n",
      "0.10789723862661049\n",
      "0.10787059037759901\n",
      "0.1078446536809206\n",
      "0.10781941247265785\n",
      "0.10779483827203513\n"
     ]
    },
    {
     "ename": "KeyboardInterrupt",
     "evalue": "",
     "output_type": "error",
     "traceback": [
      "\u001b[0;31m---------------------------------------------------------------------------\u001b[0m",
      "\u001b[0;31mKeyboardInterrupt\u001b[0m                         Traceback (most recent call last)",
      "\u001b[0;32m<ipython-input-8-f06fdc367dc9>\u001b[0m in \u001b[0;36m<module>\u001b[0;34m()\u001b[0m\n\u001b[1;32m     40\u001b[0m \u001b[0;32mfor\u001b[0m \u001b[0mi\u001b[0m \u001b[0;32min\u001b[0m \u001b[0mrange\u001b[0m\u001b[0;34m(\u001b[0m\u001b[0;36m100\u001b[0m\u001b[0;34m)\u001b[0m\u001b[0;34m:\u001b[0m\u001b[0;34m\u001b[0m\u001b[0m\n\u001b[1;32m     41\u001b[0m     \u001b[0;32mfor\u001b[0m \u001b[0mj\u001b[0m \u001b[0;32min\u001b[0m \u001b[0mrange\u001b[0m\u001b[0;34m(\u001b[0m\u001b[0;36m0\u001b[0m\u001b[0;34m,\u001b[0m \u001b[0msize\u001b[0m\u001b[0;34m-\u001b[0m\u001b[0;36m100\u001b[0m\u001b[0;34m,\u001b[0m \u001b[0;36m100\u001b[0m\u001b[0;34m)\u001b[0m\u001b[0;34m:\u001b[0m\u001b[0;34m\u001b[0m\u001b[0m\n\u001b[0;32m---> 42\u001b[0;31m         \u001b[0mloss\u001b[0m \u001b[0;34m=\u001b[0m \u001b[0mf\u001b[0m\u001b[0;34m(\u001b[0m\u001b[0mj\u001b[0m\u001b[0;34m)\u001b[0m\u001b[0;34m\u001b[0m\u001b[0m\n\u001b[0m\u001b[1;32m     43\u001b[0m     \u001b[0mprint\u001b[0m\u001b[0;34m(\u001b[0m\u001b[0mloss\u001b[0m\u001b[0;34m)\u001b[0m\u001b[0;34m\u001b[0m\u001b[0m\n",
      "\u001b[0;32m/home/yu/anaconda3/lib/python3.5/site-packages/theano/compile/function_module.py\u001b[0m in \u001b[0;36m__call__\u001b[0;34m(self, *args, **kwargs)\u001b[0m\n\u001b[1;32m    882\u001b[0m         \u001b[0;32mtry\u001b[0m\u001b[0;34m:\u001b[0m\u001b[0;34m\u001b[0m\u001b[0m\n\u001b[1;32m    883\u001b[0m             \u001b[0moutputs\u001b[0m \u001b[0;34m=\u001b[0m\u001b[0;31m\\\u001b[0m\u001b[0;34m\u001b[0m\u001b[0m\n\u001b[0;32m--> 884\u001b[0;31m                 \u001b[0mself\u001b[0m\u001b[0;34m.\u001b[0m\u001b[0mfn\u001b[0m\u001b[0;34m(\u001b[0m\u001b[0;34m)\u001b[0m \u001b[0;32mif\u001b[0m \u001b[0moutput_subset\u001b[0m \u001b[0;32mis\u001b[0m \u001b[0;32mNone\u001b[0m \u001b[0;32melse\u001b[0m\u001b[0;31m\\\u001b[0m\u001b[0;34m\u001b[0m\u001b[0m\n\u001b[0m\u001b[1;32m    885\u001b[0m                 \u001b[0mself\u001b[0m\u001b[0;34m.\u001b[0m\u001b[0mfn\u001b[0m\u001b[0;34m(\u001b[0m\u001b[0moutput_subset\u001b[0m\u001b[0;34m=\u001b[0m\u001b[0moutput_subset\u001b[0m\u001b[0;34m)\u001b[0m\u001b[0;34m\u001b[0m\u001b[0m\n\u001b[1;32m    886\u001b[0m         \u001b[0;32mexcept\u001b[0m \u001b[0mException\u001b[0m\u001b[0;34m:\u001b[0m\u001b[0;34m\u001b[0m\u001b[0m\n",
      "\u001b[0;31mKeyboardInterrupt\u001b[0m: "
     ]
    }
   ],
   "source": [
    "import theano as th\n",
    "from numpy import *\n",
    "from sklearn.datasets import fetch_mldata\n",
    "\n",
    "mnist = fetch_mldata('MNIST original', data_home=\"data_dir_for_optimizer\")\n",
    "\n",
    "x_arr = mnist[\"data\"]\n",
    "x_arr = x_arr / 255 \n",
    "idx = mnist[\"target\"]\n",
    "arr = zeros((idx.shape[0],10)).flatten()\n",
    "arr[idx.flatten().astype(int) + arange(idx.shape[0]) * int(idx.max())]  = 1\n",
    "arr = arr.reshape(idx.size, 10)\n",
    "y_arr = arr\n",
    "\n",
    "size = x_arr.shape[0]\n",
    "\n",
    "x = th.tensor.dmatrix(\"x\").astype(th.config.floatX)\n",
    "y = th.tensor.dmatrix(\"y\").astype(\"int32\")\n",
    "\n",
    "W = th.shared(random.rand(784,10).astype(dtype=th.config.floatX), borrow=True)\n",
    "b = th.shared(random.rand(10).astype(dtype=th.config.floatX), borrow=True)\n",
    "\n",
    "out = th.tensor.nnet.softmax(x.dot(W) + b)\n",
    "#loss = (-out * th.tensor.log(y + 1e-8)).mean()\n",
    "loss = (-y * th.tensor.log(out + 1e-8) - (1-y) * th.tensor.log(1-out + 1e-8)).mean()\n",
    "\n",
    "idx = th.shared(0).astype(dtype=\"int32\")\n",
    "\n",
    "x_arr = th.shared(x_arr.astype(dtype=th.config.floatX))\n",
    "y_arr = th.shared(y_arr.astype(dtype=\"int32\"))\n",
    "\n",
    "\n",
    "f = th.function(inputs=[idx],\n",
    "                outputs=loss,\n",
    "                on_unused_input='ignore',\n",
    "                updates=[(W, W - 0.01 * th.grad(loss, W)),\n",
    "                         (b, b - 0.01 * th.grad(loss, b))],\n",
    "                givens=[(x, x_arr[idx:idx+100]), (y, y_arr[idx:idx+100])])\n",
    "\n",
    "for i in range(100):\n",
    "    for j in range(0, size-100, 100):\n",
    "        loss = f(j)\n",
    "    print(loss)"
   ]
  },
  {
   "cell_type": "code",
   "execution_count": null,
   "metadata": {
    "collapsed": true
   },
   "outputs": [],
   "source": []
  },
  {
   "cell_type": "code",
   "execution_count": 5,
   "metadata": {},
   "outputs": [
    {
     "name": "stdout",
     "output_type": "stream",
     "text": [
      "-0.0\n",
      "-0.0\n",
      "-0.0\n",
      "-0.0\n",
      "-0.0\n",
      "-0.0\n",
      "-0.0\n",
      "-0.0\n",
      "-0.0\n",
      "-0.0\n",
      "-0.0\n",
      "-0.0\n",
      "-0.0\n",
      "-0.0\n",
      "-0.0\n",
      "-0.0\n",
      "-0.0\n",
      "-0.0\n",
      "-0.0\n",
      "-0.0\n",
      "-0.0\n"
     ]
    },
    {
     "ename": "KeyboardInterrupt",
     "evalue": "",
     "output_type": "error",
     "traceback": [
      "\u001b[0;31m---------------------------------------------------------------------------\u001b[0m",
      "\u001b[0;31mKeyboardInterrupt\u001b[0m                         Traceback (most recent call last)",
      "\u001b[0;32m<ipython-input-5-5c2416366d02>\u001b[0m in \u001b[0;36m<module>\u001b[0;34m()\u001b[0m\n\u001b[1;32m     40\u001b[0m \u001b[0;32mfor\u001b[0m \u001b[0mi\u001b[0m \u001b[0;32min\u001b[0m \u001b[0mrange\u001b[0m\u001b[0;34m(\u001b[0m\u001b[0;36m100\u001b[0m\u001b[0;34m)\u001b[0m\u001b[0;34m:\u001b[0m\u001b[0;34m\u001b[0m\u001b[0m\n\u001b[1;32m     41\u001b[0m     \u001b[0;32mfor\u001b[0m \u001b[0mj\u001b[0m \u001b[0;32min\u001b[0m \u001b[0mrange\u001b[0m\u001b[0;34m(\u001b[0m\u001b[0;36m0\u001b[0m\u001b[0;34m,\u001b[0m \u001b[0msize\u001b[0m\u001b[0;34m-\u001b[0m\u001b[0;36m100\u001b[0m\u001b[0;34m,\u001b[0m \u001b[0;36m100\u001b[0m\u001b[0;34m)\u001b[0m\u001b[0;34m:\u001b[0m\u001b[0;34m\u001b[0m\u001b[0m\n\u001b[0;32m---> 42\u001b[0;31m         \u001b[0mloss\u001b[0m \u001b[0;34m=\u001b[0m \u001b[0mf\u001b[0m\u001b[0;34m(\u001b[0m\u001b[0mj\u001b[0m\u001b[0;34m)\u001b[0m\u001b[0;34m\u001b[0m\u001b[0m\n\u001b[0m\u001b[1;32m     43\u001b[0m     \u001b[0mprint\u001b[0m\u001b[0;34m(\u001b[0m\u001b[0mloss\u001b[0m\u001b[0;34m)\u001b[0m\u001b[0;34m\u001b[0m\u001b[0m\n",
      "\u001b[0;32m/home/yu/anaconda3/lib/python3.5/site-packages/theano/compile/function_module.py\u001b[0m in \u001b[0;36m__call__\u001b[0;34m(self, *args, **kwargs)\u001b[0m\n\u001b[1;32m    882\u001b[0m         \u001b[0;32mtry\u001b[0m\u001b[0;34m:\u001b[0m\u001b[0;34m\u001b[0m\u001b[0m\n\u001b[1;32m    883\u001b[0m             \u001b[0moutputs\u001b[0m \u001b[0;34m=\u001b[0m\u001b[0;31m\\\u001b[0m\u001b[0;34m\u001b[0m\u001b[0m\n\u001b[0;32m--> 884\u001b[0;31m                 \u001b[0mself\u001b[0m\u001b[0;34m.\u001b[0m\u001b[0mfn\u001b[0m\u001b[0;34m(\u001b[0m\u001b[0;34m)\u001b[0m \u001b[0;32mif\u001b[0m \u001b[0moutput_subset\u001b[0m \u001b[0;32mis\u001b[0m \u001b[0;32mNone\u001b[0m \u001b[0;32melse\u001b[0m\u001b[0;31m\\\u001b[0m\u001b[0;34m\u001b[0m\u001b[0m\n\u001b[0m\u001b[1;32m    885\u001b[0m                 \u001b[0mself\u001b[0m\u001b[0;34m.\u001b[0m\u001b[0mfn\u001b[0m\u001b[0;34m(\u001b[0m\u001b[0moutput_subset\u001b[0m\u001b[0;34m=\u001b[0m\u001b[0moutput_subset\u001b[0m\u001b[0;34m)\u001b[0m\u001b[0;34m\u001b[0m\u001b[0m\n\u001b[1;32m    886\u001b[0m         \u001b[0;32mexcept\u001b[0m \u001b[0mException\u001b[0m\u001b[0;34m:\u001b[0m\u001b[0;34m\u001b[0m\u001b[0m\n",
      "\u001b[0;31mKeyboardInterrupt\u001b[0m: "
     ]
    }
   ],
   "source": [
    "import theano as th\n",
    "from numpy import *\n",
    "from sklearn.datasets import fetch_mldata\n",
    "\n",
    "mnist = fetch_mldata('MNIST original', data_home=\"data_dir_for_optimizer\")\n",
    "\n",
    "x_arr = mnist[\"data\"]\n",
    "x_arr = x_arr / 255 \n",
    "idx = mnist[\"target\"]\n",
    "arr = zeros((idx.shape[0],10)).flatten()\n",
    "arr[idx.flatten().astype(int) + arange(idx.shape[0]) * int(idx.max())]  = 1\n",
    "arr = arr.reshape(idx.size, 10)\n",
    "y_arr = arr\n",
    "\n",
    "size = x_arr.shape[0]\n",
    "\n",
    "x = th.tensor.dmatrix(\"x\").astype(th.config.floatX)\n",
    "y = th.tensor.dmatrix(\"y\").astype(\"int32\")\n",
    "\n",
    "W = th.shared(random.rand(784,10).astype(dtype=th.config.floatX), borrow=True)\n",
    "b = th.shared(random.rand(10).astype(dtype=th.config.floatX), borrow=True)\n",
    "\n",
    "out = th.tensor.nnet.softmax(x.dot(W) + b)\n",
    "loss = (- * th.tensor.log(out + 1e-8)).mean()\n",
    "#loss = (-y * th.tensor.log(out + 1e-8) - (1-y) * th.tensor.log(1-out + 1e-8)).mean()\n",
    "\n",
    "idx = th.shared(0).astype(dtype=\"int32\")\n",
    "\n",
    "x_arr = th.shared(x_arr.astype(dtype=th.config.floatX))\n",
    "y_arr = th.shared(y_arr.astype(dtype=\"int32\"))\n",
    "\n",
    "\n",
    "f = th.function(inputs=[idx],\n",
    "                outputs=loss,\n",
    "                on_unused_input='ignore',\n",
    "                updates=[(W, W - 0.01 * th.grad(loss, W)),\n",
    "                         (b, b - 0.01 * th.grad(loss, b))],\n",
    "                givens=[(x, x_arr[idx:idx+100]), (y, y_arr[idx:idx+100])])\n",
    "\n",
    "for i in range(100):\n",
    "    for j in range(0, size-100, 100):\n",
    "        loss = f(j)\n",
    "    print(loss)"
   ]
  },
  {
   "cell_type": "code",
   "execution_count": null,
   "metadata": {
    "collapsed": true
   },
   "outputs": [],
   "source": []
  },
  {
   "cell_type": "code",
   "execution_count": 8,
   "metadata": {},
   "outputs": [
    {
     "name": "stdout",
     "output_type": "stream",
     "text": [
      "0.12822733005185183\n",
      "0.12186372572274377\n",
      "0.11945047728813733\n",
      "0.11781217726631439\n",
      "0.11660541573507362\n",
      "0.11566734696965433\n",
      "0.11490267964196392\n",
      "0.1142573617491871\n",
      "0.11370045371251762\n",
      "0.11321338798565557\n",
      "0.11278396649408387\n",
      "0.11240326546272264\n",
      "0.11206410836422583\n",
      "0.11176066865620668\n",
      "0.11148793298739475\n",
      "0.11124174909119029\n",
      "0.11101839708094485\n",
      "0.11081489039794541\n",
      "0.11062863568391186\n",
      "0.11045745615079068\n",
      "0.1102994851503754\n",
      "0.11015315378410742\n",
      "0.11001717745477799\n",
      "0.10989042962703388\n",
      "0.10977189748780802\n",
      "0.10966081324429251\n",
      "0.10955647020973265\n",
      "0.1094582046419382\n",
      "0.10936555432807653\n",
      "0.10927796979225242\n",
      "0.10919505381654018\n",
      "0.10911649837740697\n",
      "0.10904190804529934\n",
      "0.10897100041341037\n",
      "0.1089035117723979\n",
      "0.10883919760445133\n",
      "0.10877784112840891\n",
      "0.10871923867799342\n",
      "0.10866321252565832\n",
      "0.10860958642605692\n",
      "0.10855821187468247\n",
      "0.10850894547672943\n",
      "0.10846166498539969\n",
      "0.108416220725514\n",
      "0.10837253485806286\n",
      "0.10833047263836489\n",
      "0.10828996251476927\n",
      "0.10825091450056061\n",
      "0.10821321226330474\n",
      "0.10817682135291398\n",
      "0.10814164746226743\n",
      "0.10810764469811693\n",
      "0.10807473156088962\n",
      "0.10804283672710882\n",
      "0.10801193854631856\n",
      "0.10798196723498403\n",
      "0.10795290119992569\n",
      "0.1079246785300784\n",
      "0.10789723862661049\n",
      "0.10787059037759901\n",
      "0.1078446536809206\n",
      "0.10781941247265785\n",
      "0.10779483827203513\n"
     ]
    },
    {
     "ename": "KeyboardInterrupt",
     "evalue": "",
     "output_type": "error",
     "traceback": [
      "\u001b[0;31m---------------------------------------------------------------------------\u001b[0m",
      "\u001b[0;31mKeyboardInterrupt\u001b[0m                         Traceback (most recent call last)",
      "\u001b[0;32m<ipython-input-8-f06fdc367dc9>\u001b[0m in \u001b[0;36m<module>\u001b[0;34m()\u001b[0m\n\u001b[1;32m     40\u001b[0m \u001b[0;32mfor\u001b[0m \u001b[0mi\u001b[0m \u001b[0;32min\u001b[0m \u001b[0mrange\u001b[0m\u001b[0;34m(\u001b[0m\u001b[0;36m100\u001b[0m\u001b[0;34m)\u001b[0m\u001b[0;34m:\u001b[0m\u001b[0;34m\u001b[0m\u001b[0m\n\u001b[1;32m     41\u001b[0m     \u001b[0;32mfor\u001b[0m \u001b[0mj\u001b[0m \u001b[0;32min\u001b[0m \u001b[0mrange\u001b[0m\u001b[0;34m(\u001b[0m\u001b[0;36m0\u001b[0m\u001b[0;34m,\u001b[0m \u001b[0msize\u001b[0m\u001b[0;34m-\u001b[0m\u001b[0;36m100\u001b[0m\u001b[0;34m,\u001b[0m \u001b[0;36m100\u001b[0m\u001b[0;34m)\u001b[0m\u001b[0;34m:\u001b[0m\u001b[0;34m\u001b[0m\u001b[0m\n\u001b[0;32m---> 42\u001b[0;31m         \u001b[0mloss\u001b[0m \u001b[0;34m=\u001b[0m \u001b[0mf\u001b[0m\u001b[0;34m(\u001b[0m\u001b[0mj\u001b[0m\u001b[0;34m)\u001b[0m\u001b[0;34m\u001b[0m\u001b[0m\n\u001b[0m\u001b[1;32m     43\u001b[0m     \u001b[0mprint\u001b[0m\u001b[0;34m(\u001b[0m\u001b[0mloss\u001b[0m\u001b[0;34m)\u001b[0m\u001b[0;34m\u001b[0m\u001b[0m\n",
      "\u001b[0;32m/home/yu/anaconda3/lib/python3.5/site-packages/theano/compile/function_module.py\u001b[0m in \u001b[0;36m__call__\u001b[0;34m(self, *args, **kwargs)\u001b[0m\n\u001b[1;32m    882\u001b[0m         \u001b[0;32mtry\u001b[0m\u001b[0;34m:\u001b[0m\u001b[0;34m\u001b[0m\u001b[0m\n\u001b[1;32m    883\u001b[0m             \u001b[0moutputs\u001b[0m \u001b[0;34m=\u001b[0m\u001b[0;31m\\\u001b[0m\u001b[0;34m\u001b[0m\u001b[0m\n\u001b[0;32m--> 884\u001b[0;31m                 \u001b[0mself\u001b[0m\u001b[0;34m.\u001b[0m\u001b[0mfn\u001b[0m\u001b[0;34m(\u001b[0m\u001b[0;34m)\u001b[0m \u001b[0;32mif\u001b[0m \u001b[0moutput_subset\u001b[0m \u001b[0;32mis\u001b[0m \u001b[0;32mNone\u001b[0m \u001b[0;32melse\u001b[0m\u001b[0;31m\\\u001b[0m\u001b[0;34m\u001b[0m\u001b[0m\n\u001b[0m\u001b[1;32m    885\u001b[0m                 \u001b[0mself\u001b[0m\u001b[0;34m.\u001b[0m\u001b[0mfn\u001b[0m\u001b[0;34m(\u001b[0m\u001b[0moutput_subset\u001b[0m\u001b[0;34m=\u001b[0m\u001b[0moutput_subset\u001b[0m\u001b[0;34m)\u001b[0m\u001b[0;34m\u001b[0m\u001b[0m\n\u001b[1;32m    886\u001b[0m         \u001b[0;32mexcept\u001b[0m \u001b[0mException\u001b[0m\u001b[0;34m:\u001b[0m\u001b[0;34m\u001b[0m\u001b[0m\n",
      "\u001b[0;31mKeyboardInterrupt\u001b[0m: "
     ]
    }
   ],
   "source": [
    "import theano as th\n",
    "from numpy import *\n",
    "from sklearn.datasets import fetch_mldata\n",
    "\n",
    "mnist = fetch_mldata('MNIST original', data_home=\"data_dir_for_optimizer\")\n",
    "\n",
    "x_arr = mnist[\"data\"]\n",
    "x_arr = x_arr / 255 \n",
    "idx = mnist[\"target\"]\n",
    "arr = zeros((idx.shape[0],10)).flatten()\n",
    "arr[idx.flatten().astype(int) + arange(idx.shape[0]) * int(idx.max())]  = 1\n",
    "arr = arr.reshape(idx.size, 10)\n",
    "y_arr = arr\n",
    "\n",
    "size = x_arr.shape[0]\n",
    "\n",
    "x = th.tensor.dmatrix(\"x\").astype(th.config.floatX)\n",
    "y = th.tensor.dmatrix(\"y\").astype(\"int32\")\n",
    "\n",
    "W = th.shared(random.rand(784,10).astype(dtype=th.config.floatX), borrow=True)\n",
    "b = th.shared(random.rand(10).astype(dtype=th.config.floatX), borrow=True)\n",
    "\n",
    "out = th.tensor.nnet.softmax(x.dot(W) + b)\n",
    "#loss = (-out * th.tensor.log(y + 1e-8)).mean()\n",
    "loss = (-y * th.tensor.log(out + 1e-8) - (1-y) * th.tensor.log(1-out + 1e-8)).mean()\n",
    "\n",
    "idx = th.shared(0).astype(dtype=\"int32\")\n",
    "\n",
    "x_arr = th.shared(x_arr.astype(dtype=th.config.floatX))\n",
    "y_arr = th.shared(y_arr.astype(dtype=\"int32\"))\n",
    "\n",
    "\n",
    "f = th.function(inputs=[idx],\n",
    "                outputs=loss,\n",
    "                on_unused_input='ignore',\n",
    "                updates=[(W, W - 0.01 * th.grad(loss, W)),\n",
    "                         (b, b - 0.01 * th.grad(loss, b))],\n",
    "                givens=[(x, x_arr[idx:idx+100]), (y, y_arr[idx:idx+100])])\n",
    "\n",
    "for i in range(100):\n",
    "    for j in range(0, size-100, 100):\n",
    "        loss = f(j)\n",
    "    print(loss)"
   ]
  },
  {
   "cell_type": "code",
   "execution_count": null,
   "metadata": {
    "collapsed": true
   },
   "outputs": [],
   "source": []
  },
  {
   "cell_type": "code",
   "execution_count": 7,
   "metadata": {},
   "outputs": [
    {
     "name": "stdout",
     "output_type": "stream",
     "text": [
      "0.11724109345754549\n",
      "0.1131586138975108\n",
      "0.11108565299015027\n",
      "0.10989836091315375\n",
      "0.10913635332835839\n",
      "0.10860756851872429\n",
      "0.10822017087228597\n",
      "0.10792414414929226\n",
      "0.10769013129686937\n",
      "0.10749996048072352\n",
      "0.107341811446473\n",
      "0.10720777696650474\n",
      "0.10709233841206878\n",
      "0.10699157908745109\n",
      "0.10690268668159844\n",
      "0.10682348296791315\n",
      "0.10675237360503524\n",
      "0.10668811766710133\n",
      "0.10662972579244526\n",
      "0.1065763883451\n",
      "0.10652748719323427\n",
      "0.10648247709404676\n",
      "0.10644093869719655\n"
     ]
    },
    {
     "ename": "KeyboardInterrupt",
     "evalue": "",
     "output_type": "error",
     "traceback": [
      "\u001b[0;31m---------------------------------------------------------------------------\u001b[0m",
      "\u001b[0;31mKeyboardInterrupt\u001b[0m                         Traceback (most recent call last)",
      "\u001b[0;32m<ipython-input-7-97044fb84119>\u001b[0m in \u001b[0;36m<module>\u001b[0;34m()\u001b[0m\n\u001b[1;32m     40\u001b[0m \u001b[0;32mfor\u001b[0m \u001b[0mi\u001b[0m \u001b[0;32min\u001b[0m \u001b[0mrange\u001b[0m\u001b[0;34m(\u001b[0m\u001b[0;36m100\u001b[0m\u001b[0;34m)\u001b[0m\u001b[0;34m:\u001b[0m\u001b[0;34m\u001b[0m\u001b[0m\n\u001b[1;32m     41\u001b[0m     \u001b[0;32mfor\u001b[0m \u001b[0mj\u001b[0m \u001b[0;32min\u001b[0m \u001b[0mrange\u001b[0m\u001b[0;34m(\u001b[0m\u001b[0;36m0\u001b[0m\u001b[0;34m,\u001b[0m \u001b[0msize\u001b[0m\u001b[0;34m-\u001b[0m\u001b[0;36m100\u001b[0m\u001b[0;34m,\u001b[0m \u001b[0;36m100\u001b[0m\u001b[0;34m)\u001b[0m\u001b[0;34m:\u001b[0m\u001b[0;34m\u001b[0m\u001b[0m\n\u001b[0;32m---> 42\u001b[0;31m         \u001b[0mloss\u001b[0m \u001b[0;34m=\u001b[0m \u001b[0mf\u001b[0m\u001b[0;34m(\u001b[0m\u001b[0mj\u001b[0m\u001b[0;34m)\u001b[0m\u001b[0;34m\u001b[0m\u001b[0m\n\u001b[0m\u001b[1;32m     43\u001b[0m     \u001b[0mprint\u001b[0m\u001b[0;34m(\u001b[0m\u001b[0mloss\u001b[0m\u001b[0;34m)\u001b[0m\u001b[0;34m\u001b[0m\u001b[0m\n",
      "\u001b[0;32m/home/yu/anaconda3/lib/python3.5/site-packages/theano/compile/function_module.py\u001b[0m in \u001b[0;36m__call__\u001b[0;34m(self, *args, **kwargs)\u001b[0m\n\u001b[1;32m    882\u001b[0m         \u001b[0;32mtry\u001b[0m\u001b[0;34m:\u001b[0m\u001b[0;34m\u001b[0m\u001b[0m\n\u001b[1;32m    883\u001b[0m             \u001b[0moutputs\u001b[0m \u001b[0;34m=\u001b[0m\u001b[0;31m\\\u001b[0m\u001b[0;34m\u001b[0m\u001b[0m\n\u001b[0;32m--> 884\u001b[0;31m                 \u001b[0mself\u001b[0m\u001b[0;34m.\u001b[0m\u001b[0mfn\u001b[0m\u001b[0;34m(\u001b[0m\u001b[0;34m)\u001b[0m \u001b[0;32mif\u001b[0m \u001b[0moutput_subset\u001b[0m \u001b[0;32mis\u001b[0m \u001b[0;32mNone\u001b[0m \u001b[0;32melse\u001b[0m\u001b[0;31m\\\u001b[0m\u001b[0;34m\u001b[0m\u001b[0m\n\u001b[0m\u001b[1;32m    885\u001b[0m                 \u001b[0mself\u001b[0m\u001b[0;34m.\u001b[0m\u001b[0mfn\u001b[0m\u001b[0;34m(\u001b[0m\u001b[0moutput_subset\u001b[0m\u001b[0;34m=\u001b[0m\u001b[0moutput_subset\u001b[0m\u001b[0;34m)\u001b[0m\u001b[0;34m\u001b[0m\u001b[0m\n\u001b[1;32m    886\u001b[0m         \u001b[0;32mexcept\u001b[0m \u001b[0mException\u001b[0m\u001b[0;34m:\u001b[0m\u001b[0;34m\u001b[0m\u001b[0m\n",
      "\u001b[0;31mKeyboardInterrupt\u001b[0m: "
     ]
    }
   ],
   "source": [
    "import theano as th\n",
    "from numpy import *\n",
    "from sklearn.datasets import fetch_mldata\n",
    "\n",
    "mnist = fetch_mldata('MNIST original', data_home=\"data_dir_for_optimizer\")\n",
    "\n",
    "x_arr = mnist[\"data\"]\n",
    "x_arr = x_arr / 255 \n",
    "idx = mnist[\"target\"]\n",
    "arr = zeros((idx.shape[0],10)).flatten()\n",
    "arr[idx.flatten().astype(int) + arange(idx.shape[0]) * int(idx.max())]  = 1\n",
    "arr = arr.reshape(idx.size, 10)\n",
    "y_arr = arr\n",
    "\n",
    "size = x_arr.shape[0]\n",
    "\n",
    "x = th.tensor.dmatrix(\"x\").astype(th.config.floatX)\n",
    "y = th.tensor.dmatrix(\"y\").astype(\"int32\")\n",
    "\n",
    "W = th.shared(random.rand(784,10).astype(dtype=th.config.floatX), borrow=True)\n",
    "b = th.shared(random.rand(10).astype(dtype=th.config.floatX), borrow=True)\n",
    "\n",
    "out = th.tensor.nnet.softmax(x.dot(W) + b)\n",
    "#loss = (-out * th.tensor.log(y + 1e-8)).mean()\n",
    "loss = (-y * th.tensor.log(out + 1e-8) - (1-y) * th.tensor.log(1-out + 1e-8)).mean()\n",
    "\n",
    "idx = th.shared(0).astype(dtype=\"int32\")\n",
    "\n",
    "x_arr = th.shared(x_arr.astype(dtype=th.config.floatX))\n",
    "y_arr = th.shared(y_arr.astype(dtype=\"int32\"))\n",
    "\n",
    "\n",
    "f = th.function(inputs=[idx],\n",
    "                outputs=loss,\n",
    "                on_unused_input='ignore',\n",
    "                updates=[(W, W - 0.1 * th.grad(loss, W)),\n",
    "                         (b, b - 0.1 * th.grad(loss, b))],\n",
    "                givens=[(x, x_arr[idx:idx+100]), (y, y_arr[idx:idx+100])])\n",
    "\n",
    "for i in range(100):\n",
    "    for j in range(0, size-100, 100):\n",
    "        loss = f(j)\n",
    "    print(loss)"
   ]
  },
  {
   "cell_type": "code",
   "execution_count": 6,
   "metadata": {},
   "outputs": [
    {
     "ename": "TypeError",
     "evalue": "Cannot convert Type TensorType(float32, matrix) (of Variable Subtensor{int32:int32:}.0) into Type TensorType(float64, matrix). You can try to manually convert Subtensor{int32:int32:}.0 into a TensorType(float64, matrix).",
     "output_type": "error",
     "traceback": [
      "\u001b[0;31m---------------------------------------------------------------------------\u001b[0m",
      "\u001b[0;31mTypeError\u001b[0m                                 Traceback (most recent call last)",
      "\u001b[0;32m<ipython-input-6-e53124251ff8>\u001b[0m in \u001b[0;36m<module>\u001b[0;34m()\u001b[0m\n\u001b[1;32m     45\u001b[0m                 updates=[(W, W - 0.01 * th.grad(loss, W)),\n\u001b[1;32m     46\u001b[0m                          (b, b - 0.01 * th.grad(loss, b))],\n\u001b[0;32m---> 47\u001b[0;31m                 givens=[(x, x_arr[idx:idx+100]), (y, y_arr[idx:idx+100])])\n\u001b[0m\u001b[1;32m     48\u001b[0m \u001b[0;34m\u001b[0m\u001b[0m\n\u001b[1;32m     49\u001b[0m \u001b[0;32mfor\u001b[0m \u001b[0mi\u001b[0m \u001b[0;32min\u001b[0m \u001b[0mrange\u001b[0m\u001b[0;34m(\u001b[0m\u001b[0;36m100\u001b[0m\u001b[0;34m)\u001b[0m\u001b[0;34m:\u001b[0m\u001b[0;34m\u001b[0m\u001b[0m\n",
      "\u001b[0;32m/home/yu/anaconda3/lib/python3.5/site-packages/theano/compile/function.py\u001b[0m in \u001b[0;36mfunction\u001b[0;34m(inputs, outputs, mode, updates, givens, no_default_updates, accept_inplace, name, rebuild_strict, allow_input_downcast, profile, on_unused_input)\u001b[0m\n\u001b[1;32m    324\u001b[0m                    \u001b[0mon_unused_input\u001b[0m\u001b[0;34m=\u001b[0m\u001b[0mon_unused_input\u001b[0m\u001b[0;34m,\u001b[0m\u001b[0;34m\u001b[0m\u001b[0m\n\u001b[1;32m    325\u001b[0m                    \u001b[0mprofile\u001b[0m\u001b[0;34m=\u001b[0m\u001b[0mprofile\u001b[0m\u001b[0;34m,\u001b[0m\u001b[0;34m\u001b[0m\u001b[0m\n\u001b[0;32m--> 326\u001b[0;31m                    output_keys=output_keys)\n\u001b[0m\u001b[1;32m    327\u001b[0m     \u001b[0;31m# We need to add the flag check_aliased inputs if we have any mutable or\u001b[0m\u001b[0;34m\u001b[0m\u001b[0;34m\u001b[0m\u001b[0m\n\u001b[1;32m    328\u001b[0m     \u001b[0;31m# borrowed used defined inputs\u001b[0m\u001b[0;34m\u001b[0m\u001b[0;34m\u001b[0m\u001b[0m\n",
      "\u001b[0;32m/home/yu/anaconda3/lib/python3.5/site-packages/theano/compile/pfunc.py\u001b[0m in \u001b[0;36mpfunc\u001b[0;34m(params, outputs, mode, updates, givens, no_default_updates, accept_inplace, name, rebuild_strict, allow_input_downcast, profile, on_unused_input, output_keys)\u001b[0m\n\u001b[1;32m    447\u001b[0m                                          \u001b[0mrebuild_strict\u001b[0m\u001b[0;34m=\u001b[0m\u001b[0mrebuild_strict\u001b[0m\u001b[0;34m,\u001b[0m\u001b[0;34m\u001b[0m\u001b[0m\n\u001b[1;32m    448\u001b[0m                                          \u001b[0mcopy_inputs_over\u001b[0m\u001b[0;34m=\u001b[0m\u001b[0;32mTrue\u001b[0m\u001b[0;34m,\u001b[0m\u001b[0;34m\u001b[0m\u001b[0m\n\u001b[0;32m--> 449\u001b[0;31m                                          no_default_updates=no_default_updates)\n\u001b[0m\u001b[1;32m    450\u001b[0m     \u001b[0;31m# extracting the arguments\u001b[0m\u001b[0;34m\u001b[0m\u001b[0;34m\u001b[0m\u001b[0m\n\u001b[1;32m    451\u001b[0m     \u001b[0minput_variables\u001b[0m\u001b[0;34m,\u001b[0m \u001b[0mcloned_extended_outputs\u001b[0m\u001b[0;34m,\u001b[0m \u001b[0mother_stuff\u001b[0m \u001b[0;34m=\u001b[0m \u001b[0moutput_vars\u001b[0m\u001b[0;34m\u001b[0m\u001b[0m\n",
      "\u001b[0;32m/home/yu/anaconda3/lib/python3.5/site-packages/theano/compile/pfunc.py\u001b[0m in \u001b[0;36mrebuild_collect_shared\u001b[0;34m(outputs, inputs, replace, updates, rebuild_strict, copy_inputs_over, no_default_updates)\u001b[0m\n\u001b[1;32m    217\u001b[0m         \u001b[0;32mfor\u001b[0m \u001b[0mv\u001b[0m \u001b[0;32min\u001b[0m \u001b[0moutputs\u001b[0m\u001b[0;34m:\u001b[0m\u001b[0;34m\u001b[0m\u001b[0m\n\u001b[1;32m    218\u001b[0m             \u001b[0;32mif\u001b[0m \u001b[0misinstance\u001b[0m\u001b[0;34m(\u001b[0m\u001b[0mv\u001b[0m\u001b[0;34m,\u001b[0m \u001b[0mVariable\u001b[0m\u001b[0;34m)\u001b[0m\u001b[0;34m:\u001b[0m\u001b[0;34m\u001b[0m\u001b[0m\n\u001b[0;32m--> 219\u001b[0;31m                 \u001b[0mcloned_v\u001b[0m \u001b[0;34m=\u001b[0m \u001b[0mclone_v_get_shared_updates\u001b[0m\u001b[0;34m(\u001b[0m\u001b[0mv\u001b[0m\u001b[0;34m,\u001b[0m \u001b[0mcopy_inputs_over\u001b[0m\u001b[0;34m)\u001b[0m\u001b[0;34m\u001b[0m\u001b[0m\n\u001b[0m\u001b[1;32m    220\u001b[0m                 \u001b[0mcloned_outputs\u001b[0m\u001b[0;34m.\u001b[0m\u001b[0mappend\u001b[0m\u001b[0;34m(\u001b[0m\u001b[0mcloned_v\u001b[0m\u001b[0;34m)\u001b[0m\u001b[0;34m\u001b[0m\u001b[0m\n\u001b[1;32m    221\u001b[0m             \u001b[0;32melif\u001b[0m \u001b[0misinstance\u001b[0m\u001b[0;34m(\u001b[0m\u001b[0mv\u001b[0m\u001b[0;34m,\u001b[0m \u001b[0mOut\u001b[0m\u001b[0;34m)\u001b[0m\u001b[0;34m:\u001b[0m\u001b[0;34m\u001b[0m\u001b[0m\n",
      "\u001b[0;32m/home/yu/anaconda3/lib/python3.5/site-packages/theano/compile/pfunc.py\u001b[0m in \u001b[0;36mclone_v_get_shared_updates\u001b[0;34m(v, copy_inputs_over)\u001b[0m\n\u001b[1;32m     91\u001b[0m             \u001b[0;32mif\u001b[0m \u001b[0mowner\u001b[0m \u001b[0;32mnot\u001b[0m \u001b[0;32min\u001b[0m \u001b[0mclone_d\u001b[0m\u001b[0;34m:\u001b[0m\u001b[0;34m\u001b[0m\u001b[0m\n\u001b[1;32m     92\u001b[0m                 \u001b[0;32mfor\u001b[0m \u001b[0mi\u001b[0m \u001b[0;32min\u001b[0m \u001b[0mowner\u001b[0m\u001b[0;34m.\u001b[0m\u001b[0minputs\u001b[0m\u001b[0;34m:\u001b[0m\u001b[0;34m\u001b[0m\u001b[0m\n\u001b[0;32m---> 93\u001b[0;31m                     \u001b[0mclone_v_get_shared_updates\u001b[0m\u001b[0;34m(\u001b[0m\u001b[0mi\u001b[0m\u001b[0;34m,\u001b[0m \u001b[0mcopy_inputs_over\u001b[0m\u001b[0;34m)\u001b[0m\u001b[0;34m\u001b[0m\u001b[0m\n\u001b[0m\u001b[1;32m     94\u001b[0m \u001b[0;34m\u001b[0m\u001b[0m\n\u001b[1;32m     95\u001b[0m                 clone_d[owner] = owner.clone_with_new_inputs(\n",
      "\u001b[0;32m/home/yu/anaconda3/lib/python3.5/site-packages/theano/compile/pfunc.py\u001b[0m in \u001b[0;36mclone_v_get_shared_updates\u001b[0;34m(v, copy_inputs_over)\u001b[0m\n\u001b[1;32m     91\u001b[0m             \u001b[0;32mif\u001b[0m \u001b[0mowner\u001b[0m \u001b[0;32mnot\u001b[0m \u001b[0;32min\u001b[0m \u001b[0mclone_d\u001b[0m\u001b[0;34m:\u001b[0m\u001b[0;34m\u001b[0m\u001b[0m\n\u001b[1;32m     92\u001b[0m                 \u001b[0;32mfor\u001b[0m \u001b[0mi\u001b[0m \u001b[0;32min\u001b[0m \u001b[0mowner\u001b[0m\u001b[0;34m.\u001b[0m\u001b[0minputs\u001b[0m\u001b[0;34m:\u001b[0m\u001b[0;34m\u001b[0m\u001b[0m\n\u001b[0;32m---> 93\u001b[0;31m                     \u001b[0mclone_v_get_shared_updates\u001b[0m\u001b[0;34m(\u001b[0m\u001b[0mi\u001b[0m\u001b[0;34m,\u001b[0m \u001b[0mcopy_inputs_over\u001b[0m\u001b[0;34m)\u001b[0m\u001b[0;34m\u001b[0m\u001b[0m\n\u001b[0m\u001b[1;32m     94\u001b[0m \u001b[0;34m\u001b[0m\u001b[0m\n\u001b[1;32m     95\u001b[0m                 clone_d[owner] = owner.clone_with_new_inputs(\n",
      "\u001b[0;32m/home/yu/anaconda3/lib/python3.5/site-packages/theano/compile/pfunc.py\u001b[0m in \u001b[0;36mclone_v_get_shared_updates\u001b[0;34m(v, copy_inputs_over)\u001b[0m\n\u001b[1;32m     91\u001b[0m             \u001b[0;32mif\u001b[0m \u001b[0mowner\u001b[0m \u001b[0;32mnot\u001b[0m \u001b[0;32min\u001b[0m \u001b[0mclone_d\u001b[0m\u001b[0;34m:\u001b[0m\u001b[0;34m\u001b[0m\u001b[0m\n\u001b[1;32m     92\u001b[0m                 \u001b[0;32mfor\u001b[0m \u001b[0mi\u001b[0m \u001b[0;32min\u001b[0m \u001b[0mowner\u001b[0m\u001b[0;34m.\u001b[0m\u001b[0minputs\u001b[0m\u001b[0;34m:\u001b[0m\u001b[0;34m\u001b[0m\u001b[0m\n\u001b[0;32m---> 93\u001b[0;31m                     \u001b[0mclone_v_get_shared_updates\u001b[0m\u001b[0;34m(\u001b[0m\u001b[0mi\u001b[0m\u001b[0;34m,\u001b[0m \u001b[0mcopy_inputs_over\u001b[0m\u001b[0;34m)\u001b[0m\u001b[0;34m\u001b[0m\u001b[0m\n\u001b[0m\u001b[1;32m     94\u001b[0m \u001b[0;34m\u001b[0m\u001b[0m\n\u001b[1;32m     95\u001b[0m                 clone_d[owner] = owner.clone_with_new_inputs(\n",
      "\u001b[0;32m/home/yu/anaconda3/lib/python3.5/site-packages/theano/compile/pfunc.py\u001b[0m in \u001b[0;36mclone_v_get_shared_updates\u001b[0;34m(v, copy_inputs_over)\u001b[0m\n\u001b[1;32m     91\u001b[0m             \u001b[0;32mif\u001b[0m \u001b[0mowner\u001b[0m \u001b[0;32mnot\u001b[0m \u001b[0;32min\u001b[0m \u001b[0mclone_d\u001b[0m\u001b[0;34m:\u001b[0m\u001b[0;34m\u001b[0m\u001b[0m\n\u001b[1;32m     92\u001b[0m                 \u001b[0;32mfor\u001b[0m \u001b[0mi\u001b[0m \u001b[0;32min\u001b[0m \u001b[0mowner\u001b[0m\u001b[0;34m.\u001b[0m\u001b[0minputs\u001b[0m\u001b[0;34m:\u001b[0m\u001b[0;34m\u001b[0m\u001b[0m\n\u001b[0;32m---> 93\u001b[0;31m                     \u001b[0mclone_v_get_shared_updates\u001b[0m\u001b[0;34m(\u001b[0m\u001b[0mi\u001b[0m\u001b[0;34m,\u001b[0m \u001b[0mcopy_inputs_over\u001b[0m\u001b[0;34m)\u001b[0m\u001b[0;34m\u001b[0m\u001b[0m\n\u001b[0m\u001b[1;32m     94\u001b[0m \u001b[0;34m\u001b[0m\u001b[0m\n\u001b[1;32m     95\u001b[0m                 clone_d[owner] = owner.clone_with_new_inputs(\n",
      "\u001b[0;32m/home/yu/anaconda3/lib/python3.5/site-packages/theano/compile/pfunc.py\u001b[0m in \u001b[0;36mclone_v_get_shared_updates\u001b[0;34m(v, copy_inputs_over)\u001b[0m\n\u001b[1;32m     94\u001b[0m \u001b[0;34m\u001b[0m\u001b[0m\n\u001b[1;32m     95\u001b[0m                 clone_d[owner] = owner.clone_with_new_inputs(\n\u001b[0;32m---> 96\u001b[0;31m                     [clone_d[i] for i in owner.inputs], strict=rebuild_strict)\n\u001b[0m\u001b[1;32m     97\u001b[0m                 \u001b[0;32mfor\u001b[0m \u001b[0mold_o\u001b[0m\u001b[0;34m,\u001b[0m \u001b[0mnew_o\u001b[0m \u001b[0;32min\u001b[0m \u001b[0mzip\u001b[0m\u001b[0;34m(\u001b[0m\u001b[0mowner\u001b[0m\u001b[0;34m.\u001b[0m\u001b[0moutputs\u001b[0m\u001b[0;34m,\u001b[0m \u001b[0mclone_d\u001b[0m\u001b[0;34m[\u001b[0m\u001b[0mowner\u001b[0m\u001b[0;34m]\u001b[0m\u001b[0;34m.\u001b[0m\u001b[0moutputs\u001b[0m\u001b[0;34m)\u001b[0m\u001b[0;34m:\u001b[0m\u001b[0;34m\u001b[0m\u001b[0m\n\u001b[1;32m     98\u001b[0m                     \u001b[0mclone_d\u001b[0m\u001b[0;34m.\u001b[0m\u001b[0msetdefault\u001b[0m\u001b[0;34m(\u001b[0m\u001b[0mold_o\u001b[0m\u001b[0;34m,\u001b[0m \u001b[0mnew_o\u001b[0m\u001b[0;34m)\u001b[0m\u001b[0;34m\u001b[0m\u001b[0m\n",
      "\u001b[0;32m/home/yu/anaconda3/lib/python3.5/site-packages/theano/gof/graph.py\u001b[0m in \u001b[0;36mclone_with_new_inputs\u001b[0;34m(self, inputs, strict)\u001b[0m\n\u001b[1;32m    236\u001b[0m                 \u001b[0;32mif\u001b[0m \u001b[0mstrict\u001b[0m\u001b[0;34m:\u001b[0m\u001b[0;34m\u001b[0m\u001b[0m\n\u001b[1;32m    237\u001b[0m                     \u001b[0;31m# If compatible, casts new into curr.type\u001b[0m\u001b[0;34m\u001b[0m\u001b[0;34m\u001b[0m\u001b[0m\n\u001b[0;32m--> 238\u001b[0;31m                     \u001b[0mnew_inputs\u001b[0m\u001b[0;34m[\u001b[0m\u001b[0mi\u001b[0m\u001b[0;34m]\u001b[0m \u001b[0;34m=\u001b[0m \u001b[0mcurr\u001b[0m\u001b[0;34m.\u001b[0m\u001b[0mtype\u001b[0m\u001b[0;34m.\u001b[0m\u001b[0mfilter_variable\u001b[0m\u001b[0;34m(\u001b[0m\u001b[0mnew\u001b[0m\u001b[0;34m)\u001b[0m\u001b[0;34m\u001b[0m\u001b[0m\n\u001b[0m\u001b[1;32m    239\u001b[0m                 \u001b[0;32melse\u001b[0m\u001b[0;34m:\u001b[0m\u001b[0;34m\u001b[0m\u001b[0m\n\u001b[1;32m    240\u001b[0m                     \u001b[0mremake_node\u001b[0m \u001b[0;34m=\u001b[0m \u001b[0;32mTrue\u001b[0m\u001b[0;34m\u001b[0m\u001b[0m\n",
      "\u001b[0;32m/home/yu/anaconda3/lib/python3.5/site-packages/theano/tensor/type.py\u001b[0m in \u001b[0;36mfilter_variable\u001b[0;34m(self, other, allow_convert)\u001b[0m\n\u001b[1;32m    233\u001b[0m             dict(othertype=other.type,\n\u001b[1;32m    234\u001b[0m                  \u001b[0mother\u001b[0m\u001b[0;34m=\u001b[0m\u001b[0mother\u001b[0m\u001b[0;34m,\u001b[0m\u001b[0;34m\u001b[0m\u001b[0m\n\u001b[0;32m--> 235\u001b[0;31m                  self=self))\n\u001b[0m\u001b[1;32m    236\u001b[0m \u001b[0;34m\u001b[0m\u001b[0m\n\u001b[1;32m    237\u001b[0m     \u001b[0;32mdef\u001b[0m \u001b[0mvalue_validity_msg\u001b[0m\u001b[0;34m(\u001b[0m\u001b[0mself\u001b[0m\u001b[0;34m,\u001b[0m \u001b[0ma\u001b[0m\u001b[0;34m)\u001b[0m\u001b[0;34m:\u001b[0m\u001b[0;34m\u001b[0m\u001b[0m\n",
      "\u001b[0;31mTypeError\u001b[0m: Cannot convert Type TensorType(float32, matrix) (of Variable Subtensor{int32:int32:}.0) into Type TensorType(float64, matrix). You can try to manually convert Subtensor{int32:int32:}.0 into a TensorType(float64, matrix)."
     ]
    }
   ],
   "source": [
    "import theano as th\n",
    "from numpy import *\n",
    "from sklearn.datasets import fetch_mldata\n",
    "\n",
    "mnist = fetch_mldata('MNIST original', data_home=\"data_dir_for_optimizer\")\n",
    "\n",
    "x_arr = mnist[\"data\"]\n",
    "x_arr = x_arr / 255 \n",
    "import theano as th\n",
    "from numpy import *\n",
    "from sklearn.datasets import fetch_mldata\n",
    "\n",
    "mnist = fetch_mldata('MNIST original', data_home=\"data_dir_for_optimizer\")\n",
    "\n",
    "x_arr = mnist[\"data\"]\n",
    "x_arr = x_arr / 255 \n",
    "y_arr = mnist[\"target\"]\n",
    "idx = mnist[\"target\"]\n",
    "arr = zeros((idx.shape[0],10)).flatten()\n",
    "arr[idx.flatten().astype(int) + arange(idx.shape[0]) * int(idx.max())]  = 1\n",
    "arr = arr.reshape(idx.size, 10)\n",
    "y_arr = arr\n",
    "\n",
    "size = x_arr.shape[0]\n",
    "\n",
    "x = th.tensor.dmatrix(\"x\").astype(th.config.floatX)\n",
    "y = th.tensor.dmatrix(\"y\")#.astype(\"int32\")\n",
    "\n",
    "W = th.shared(random.rand(784,10).astype(dtype=th.config.floatX), borrow=True)\n",
    "b = th.shared(random.rand(10).astype(dtype=th.config.floatX), borrow=True)\n",
    "\n",
    "out = th.tensor.nnet.softmax(x.dot(W) + b)\n",
    "loss = th.tensor.nnet.categorical_crossentropy(out, y).mean()\n",
    "#loss = (-y * th.tensor.log(out + 1e-8) - (1-y) * th.tensor.log(1-out + 1e-8)).mean()\n",
    "\n",
    "idx = th.shared(0).astype(dtype=\"int32\")\n",
    "\n",
    "x_arr = th.shared(x_arr.astype(dtype=th.config.floatX))\n",
    "y_arr = th.shared(y_arr.astype(dtype=th.config.floatX))\n",
    "\n",
    "\n",
    "f = th.function(inputs=[idx],\n",
    "                outputs=loss,\n",
    "                on_unused_input='ignore',\n",
    "                updates=[(W, W - 0.01 * th.grad(loss, W)),\n",
    "                         (b, b - 0.01 * th.grad(loss, b))],\n",
    "                givens=[(x, x_arr[idx:idx+100]), (y, y_arr[idx:idx+100])])\n",
    "\n",
    "for i in range(100):\n",
    "    for j in range(0, size-100, 100):\n",
    "        loss = f(j)\n",
    "    print(loss)\n"
   ]
  },
  {
   "cell_type": "code",
   "execution_count": null,
   "metadata": {
    "collapsed": true
   },
   "outputs": [],
   "source": []
  },
  {
   "cell_type": "code",
   "execution_count": 17,
   "metadata": {},
   "outputs": [
    {
     "ename": "MissingInputError",
     "evalue": "Input 0 of the graph (indices start from 0), used to compute Elemwise{mul,no_inplace}(y, Elemwise{log,no_inplace}.0), was not provided and not given a value. Use the Theano flag exception_verbosity='high', for more information on this error. \nBacktrace when that variable is created:\n\n  File \"/home/yu/anaconda3/lib/python3.5/site-packages/ipykernel/kernelbase.py\", line 399, in execute_request\n    user_expressions, allow_stdin)\n  File \"/home/yu/anaconda3/lib/python3.5/site-packages/ipykernel/ipkernel.py\", line 196, in do_execute\n    res = shell.run_cell(code, store_history=store_history, silent=silent)\n  File \"/home/yu/anaconda3/lib/python3.5/site-packages/ipykernel/zmqshell.py\", line 533, in run_cell\n    return super(ZMQInteractiveShell, self).run_cell(*args, **kwargs)\n  File \"/home/yu/anaconda3/lib/python3.5/site-packages/IPython/core/interactiveshell.py\", line 2683, in run_cell\n    interactivity=interactivity, compiler=compiler, result=result)\n  File \"/home/yu/anaconda3/lib/python3.5/site-packages/IPython/core/interactiveshell.py\", line 2787, in run_ast_nodes\n    if self.run_code(code, result):\n  File \"/home/yu/anaconda3/lib/python3.5/site-packages/IPython/core/interactiveshell.py\", line 2847, in run_code\n    exec(code_obj, self.user_global_ns, self.user_ns)\n  File \"<ipython-input-2-2293143216a8>\", line 6, in <module>\n    o.set_variables()\n  File \"/home/yu/jupyter/Optimizer_with_theano/src/Optimizer.py\", line 112, in set_variables\n    self.y = T.matrix(\"y\")\n\n\nBacktrace when the variable is created:\n  File \"/home/yu/anaconda3/lib/python3.5/site-packages/ipykernel/kernelbase.py\", line 399, in execute_request\n    user_expressions, allow_stdin)\n  File \"/home/yu/anaconda3/lib/python3.5/site-packages/ipykernel/ipkernel.py\", line 196, in do_execute\n    res = shell.run_cell(code, store_history=store_history, silent=silent)\n  File \"/home/yu/anaconda3/lib/python3.5/site-packages/ipykernel/zmqshell.py\", line 533, in run_cell\n    return super(ZMQInteractiveShell, self).run_cell(*args, **kwargs)\n  File \"/home/yu/anaconda3/lib/python3.5/site-packages/IPython/core/interactiveshell.py\", line 2683, in run_cell\n    interactivity=interactivity, compiler=compiler, result=result)\n  File \"/home/yu/anaconda3/lib/python3.5/site-packages/IPython/core/interactiveshell.py\", line 2787, in run_ast_nodes\n    if self.run_code(code, result):\n  File \"/home/yu/anaconda3/lib/python3.5/site-packages/IPython/core/interactiveshell.py\", line 2847, in run_code\n    exec(code_obj, self.user_global_ns, self.user_ns)\n  File \"<ipython-input-2-2293143216a8>\", line 6, in <module>\n    o.set_variables()\n  File \"/home/yu/jupyter/Optimizer_with_theano/src/Optimizer.py\", line 112, in set_variables\n    self.y = T.matrix(\"y\")\n",
     "output_type": "error",
     "traceback": [
      "\u001b[0;31m---------------------------------------------------------------------------\u001b[0m",
      "\u001b[0;31mMissingInputError\u001b[0m                         Traceback (most recent call last)",
      "\u001b[0;32m<ipython-input-17-4f027c888113>\u001b[0m in \u001b[0;36m<module>\u001b[0;34m()\u001b[0m\n\u001b[0;32m----> 1\u001b[0;31m \u001b[0mo\u001b[0m\u001b[0;34m.\u001b[0m\u001b[0mloss\u001b[0m\u001b[0;34m.\u001b[0m\u001b[0meval\u001b[0m\u001b[0;34m(\u001b[0m\u001b[0;34m{\u001b[0m\u001b[0mo\u001b[0m\u001b[0;34m.\u001b[0m\u001b[0mx\u001b[0m\u001b[0;34m:\u001b[0m\u001b[0mo\u001b[0m\u001b[0;34m.\u001b[0m\u001b[0mx_train_arr\u001b[0m\u001b[0;34m}\u001b[0m\u001b[0;34m)\u001b[0m\u001b[0;34m\u001b[0m\u001b[0m\n\u001b[0m",
      "\u001b[0;32m/home/yu/anaconda3/lib/python3.5/site-packages/theano/gof/graph.py\u001b[0m in \u001b[0;36meval\u001b[0;34m(self, inputs_to_values)\u001b[0m\n\u001b[1;32m    514\u001b[0m         \u001b[0minputs\u001b[0m \u001b[0;34m=\u001b[0m \u001b[0mtuple\u001b[0m\u001b[0;34m(\u001b[0m\u001b[0msorted\u001b[0m\u001b[0;34m(\u001b[0m\u001b[0minputs_to_values\u001b[0m\u001b[0;34m.\u001b[0m\u001b[0mkeys\u001b[0m\u001b[0;34m(\u001b[0m\u001b[0;34m)\u001b[0m\u001b[0;34m,\u001b[0m \u001b[0mkey\u001b[0m\u001b[0;34m=\u001b[0m\u001b[0mid\u001b[0m\u001b[0;34m)\u001b[0m\u001b[0;34m)\u001b[0m\u001b[0;34m\u001b[0m\u001b[0m\n\u001b[1;32m    515\u001b[0m         \u001b[0;32mif\u001b[0m \u001b[0minputs\u001b[0m \u001b[0;32mnot\u001b[0m \u001b[0;32min\u001b[0m \u001b[0mself\u001b[0m\u001b[0;34m.\u001b[0m\u001b[0m_fn_cache\u001b[0m\u001b[0;34m:\u001b[0m\u001b[0;34m\u001b[0m\u001b[0m\n\u001b[0;32m--> 516\u001b[0;31m             \u001b[0mself\u001b[0m\u001b[0;34m.\u001b[0m\u001b[0m_fn_cache\u001b[0m\u001b[0;34m[\u001b[0m\u001b[0minputs\u001b[0m\u001b[0;34m]\u001b[0m \u001b[0;34m=\u001b[0m \u001b[0mtheano\u001b[0m\u001b[0;34m.\u001b[0m\u001b[0mfunction\u001b[0m\u001b[0;34m(\u001b[0m\u001b[0minputs\u001b[0m\u001b[0;34m,\u001b[0m \u001b[0mself\u001b[0m\u001b[0;34m)\u001b[0m\u001b[0;34m\u001b[0m\u001b[0m\n\u001b[0m\u001b[1;32m    517\u001b[0m         \u001b[0margs\u001b[0m \u001b[0;34m=\u001b[0m \u001b[0;34m[\u001b[0m\u001b[0minputs_to_values\u001b[0m\u001b[0;34m[\u001b[0m\u001b[0mparam\u001b[0m\u001b[0;34m]\u001b[0m \u001b[0;32mfor\u001b[0m \u001b[0mparam\u001b[0m \u001b[0;32min\u001b[0m \u001b[0minputs\u001b[0m\u001b[0;34m]\u001b[0m\u001b[0;34m\u001b[0m\u001b[0m\n\u001b[1;32m    518\u001b[0m \u001b[0;34m\u001b[0m\u001b[0m\n",
      "\u001b[0;32m/home/yu/anaconda3/lib/python3.5/site-packages/theano/compile/function.py\u001b[0m in \u001b[0;36mfunction\u001b[0;34m(inputs, outputs, mode, updates, givens, no_default_updates, accept_inplace, name, rebuild_strict, allow_input_downcast, profile, on_unused_input)\u001b[0m\n\u001b[1;32m    324\u001b[0m                    \u001b[0mon_unused_input\u001b[0m\u001b[0;34m=\u001b[0m\u001b[0mon_unused_input\u001b[0m\u001b[0;34m,\u001b[0m\u001b[0;34m\u001b[0m\u001b[0m\n\u001b[1;32m    325\u001b[0m                    \u001b[0mprofile\u001b[0m\u001b[0;34m=\u001b[0m\u001b[0mprofile\u001b[0m\u001b[0;34m,\u001b[0m\u001b[0;34m\u001b[0m\u001b[0m\n\u001b[0;32m--> 326\u001b[0;31m                    output_keys=output_keys)\n\u001b[0m\u001b[1;32m    327\u001b[0m     \u001b[0;31m# We need to add the flag check_aliased inputs if we have any mutable or\u001b[0m\u001b[0;34m\u001b[0m\u001b[0;34m\u001b[0m\u001b[0m\n\u001b[1;32m    328\u001b[0m     \u001b[0;31m# borrowed used defined inputs\u001b[0m\u001b[0;34m\u001b[0m\u001b[0;34m\u001b[0m\u001b[0m\n",
      "\u001b[0;32m/home/yu/anaconda3/lib/python3.5/site-packages/theano/compile/pfunc.py\u001b[0m in \u001b[0;36mpfunc\u001b[0;34m(params, outputs, mode, updates, givens, no_default_updates, accept_inplace, name, rebuild_strict, allow_input_downcast, profile, on_unused_input, output_keys)\u001b[0m\n\u001b[1;32m    484\u001b[0m                          \u001b[0maccept_inplace\u001b[0m\u001b[0;34m=\u001b[0m\u001b[0maccept_inplace\u001b[0m\u001b[0;34m,\u001b[0m \u001b[0mname\u001b[0m\u001b[0;34m=\u001b[0m\u001b[0mname\u001b[0m\u001b[0;34m,\u001b[0m\u001b[0;34m\u001b[0m\u001b[0m\n\u001b[1;32m    485\u001b[0m                          \u001b[0mprofile\u001b[0m\u001b[0;34m=\u001b[0m\u001b[0mprofile\u001b[0m\u001b[0;34m,\u001b[0m \u001b[0mon_unused_input\u001b[0m\u001b[0;34m=\u001b[0m\u001b[0mon_unused_input\u001b[0m\u001b[0;34m,\u001b[0m\u001b[0;34m\u001b[0m\u001b[0m\n\u001b[0;32m--> 486\u001b[0;31m                          output_keys=output_keys)\n\u001b[0m\u001b[1;32m    487\u001b[0m \u001b[0;34m\u001b[0m\u001b[0m\n\u001b[1;32m    488\u001b[0m \u001b[0;34m\u001b[0m\u001b[0m\n",
      "\u001b[0;32m/home/yu/anaconda3/lib/python3.5/site-packages/theano/compile/function_module.py\u001b[0m in \u001b[0;36morig_function\u001b[0;34m(inputs, outputs, mode, accept_inplace, name, profile, on_unused_input, output_keys)\u001b[0m\n\u001b[1;32m   1792\u001b[0m                    \u001b[0mprofile\u001b[0m\u001b[0;34m=\u001b[0m\u001b[0mprofile\u001b[0m\u001b[0;34m,\u001b[0m\u001b[0;34m\u001b[0m\u001b[0m\n\u001b[1;32m   1793\u001b[0m                    \u001b[0mon_unused_input\u001b[0m\u001b[0;34m=\u001b[0m\u001b[0mon_unused_input\u001b[0m\u001b[0;34m,\u001b[0m\u001b[0;34m\u001b[0m\u001b[0m\n\u001b[0;32m-> 1794\u001b[0;31m                    \u001b[0moutput_keys\u001b[0m\u001b[0;34m=\u001b[0m\u001b[0moutput_keys\u001b[0m\u001b[0;34m)\u001b[0m\u001b[0;34m.\u001b[0m\u001b[0mcreate\u001b[0m\u001b[0;34m(\u001b[0m\u001b[0;34m\u001b[0m\u001b[0m\n\u001b[0m\u001b[1;32m   1795\u001b[0m             defaults)\n\u001b[1;32m   1796\u001b[0m \u001b[0;34m\u001b[0m\u001b[0m\n",
      "\u001b[0;32m/home/yu/anaconda3/lib/python3.5/site-packages/theano/compile/function_module.py\u001b[0m in \u001b[0;36m__init__\u001b[0;34m(self, inputs, outputs, mode, accept_inplace, function_builder, profile, on_unused_input, fgraph, output_keys)\u001b[0m\n\u001b[1;32m   1444\u001b[0m             \u001b[0;31m# OUTPUT VARIABLES)\u001b[0m\u001b[0;34m\u001b[0m\u001b[0;34m\u001b[0m\u001b[0m\n\u001b[1;32m   1445\u001b[0m             fgraph, additional_outputs = std_fgraph(inputs, outputs,\n\u001b[0;32m-> 1446\u001b[0;31m                                                     accept_inplace)\n\u001b[0m\u001b[1;32m   1447\u001b[0m             \u001b[0mfgraph\u001b[0m\u001b[0;34m.\u001b[0m\u001b[0mprofile\u001b[0m \u001b[0;34m=\u001b[0m \u001b[0mprofile\u001b[0m\u001b[0;34m\u001b[0m\u001b[0m\n\u001b[1;32m   1448\u001b[0m         \u001b[0;32melse\u001b[0m\u001b[0;34m:\u001b[0m\u001b[0;34m\u001b[0m\u001b[0m\n",
      "\u001b[0;32m/home/yu/anaconda3/lib/python3.5/site-packages/theano/compile/function_module.py\u001b[0m in \u001b[0;36mstd_fgraph\u001b[0;34m(input_specs, output_specs, accept_inplace)\u001b[0m\n\u001b[1;32m    175\u001b[0m \u001b[0;34m\u001b[0m\u001b[0m\n\u001b[1;32m    176\u001b[0m     fgraph = gof.fg.FunctionGraph(orig_inputs, orig_outputs,\n\u001b[0;32m--> 177\u001b[0;31m                                   update_mapping=update_mapping)\n\u001b[0m\u001b[1;32m    178\u001b[0m \u001b[0;34m\u001b[0m\u001b[0m\n\u001b[1;32m    179\u001b[0m     \u001b[0;32mfor\u001b[0m \u001b[0mnode\u001b[0m \u001b[0;32min\u001b[0m \u001b[0mfgraph\u001b[0m\u001b[0;34m.\u001b[0m\u001b[0mapply_nodes\u001b[0m\u001b[0;34m:\u001b[0m\u001b[0;34m\u001b[0m\u001b[0m\n",
      "\u001b[0;32m/home/yu/anaconda3/lib/python3.5/site-packages/theano/gof/fg.py\u001b[0m in \u001b[0;36m__init__\u001b[0;34m(self, inputs, outputs, features, clone, update_mapping)\u001b[0m\n\u001b[1;32m    178\u001b[0m \u001b[0;34m\u001b[0m\u001b[0m\n\u001b[1;32m    179\u001b[0m         \u001b[0;32mfor\u001b[0m \u001b[0moutput\u001b[0m \u001b[0;32min\u001b[0m \u001b[0moutputs\u001b[0m\u001b[0;34m:\u001b[0m\u001b[0;34m\u001b[0m\u001b[0m\n\u001b[0;32m--> 180\u001b[0;31m             \u001b[0mself\u001b[0m\u001b[0;34m.\u001b[0m\u001b[0m__import_r__\u001b[0m\u001b[0;34m(\u001b[0m\u001b[0moutput\u001b[0m\u001b[0;34m,\u001b[0m \u001b[0mreason\u001b[0m\u001b[0;34m=\u001b[0m\u001b[0;34m\"init\"\u001b[0m\u001b[0;34m)\u001b[0m\u001b[0;34m\u001b[0m\u001b[0m\n\u001b[0m\u001b[1;32m    181\u001b[0m         \u001b[0;32mfor\u001b[0m \u001b[0mi\u001b[0m\u001b[0;34m,\u001b[0m \u001b[0moutput\u001b[0m \u001b[0;32min\u001b[0m \u001b[0menumerate\u001b[0m\u001b[0;34m(\u001b[0m\u001b[0moutputs\u001b[0m\u001b[0;34m)\u001b[0m\u001b[0;34m:\u001b[0m\u001b[0;34m\u001b[0m\u001b[0m\n\u001b[1;32m    182\u001b[0m             \u001b[0moutput\u001b[0m\u001b[0;34m.\u001b[0m\u001b[0mclients\u001b[0m\u001b[0;34m.\u001b[0m\u001b[0mappend\u001b[0m\u001b[0;34m(\u001b[0m\u001b[0;34m(\u001b[0m\u001b[0;34m'output'\u001b[0m\u001b[0;34m,\u001b[0m \u001b[0mi\u001b[0m\u001b[0;34m)\u001b[0m\u001b[0;34m)\u001b[0m\u001b[0;34m\u001b[0m\u001b[0m\n",
      "\u001b[0;32m/home/yu/anaconda3/lib/python3.5/site-packages/theano/gof/fg.py\u001b[0m in \u001b[0;36m__import_r__\u001b[0;34m(self, variable, reason)\u001b[0m\n\u001b[1;32m    349\u001b[0m         \u001b[0;31m# Imports the owners of the variables\u001b[0m\u001b[0;34m\u001b[0m\u001b[0;34m\u001b[0m\u001b[0m\n\u001b[1;32m    350\u001b[0m         \u001b[0;32mif\u001b[0m \u001b[0mvariable\u001b[0m\u001b[0;34m.\u001b[0m\u001b[0mowner\u001b[0m \u001b[0;32mand\u001b[0m \u001b[0mvariable\u001b[0m\u001b[0;34m.\u001b[0m\u001b[0mowner\u001b[0m \u001b[0;32mnot\u001b[0m \u001b[0;32min\u001b[0m \u001b[0mself\u001b[0m\u001b[0;34m.\u001b[0m\u001b[0mapply_nodes\u001b[0m\u001b[0;34m:\u001b[0m\u001b[0;34m\u001b[0m\u001b[0m\n\u001b[0;32m--> 351\u001b[0;31m                 \u001b[0mself\u001b[0m\u001b[0;34m.\u001b[0m\u001b[0m__import__\u001b[0m\u001b[0;34m(\u001b[0m\u001b[0mvariable\u001b[0m\u001b[0;34m.\u001b[0m\u001b[0mowner\u001b[0m\u001b[0;34m,\u001b[0m \u001b[0mreason\u001b[0m\u001b[0;34m=\u001b[0m\u001b[0mreason\u001b[0m\u001b[0;34m)\u001b[0m\u001b[0;34m\u001b[0m\u001b[0m\n\u001b[0m\u001b[1;32m    352\u001b[0m         elif (variable.owner is None and\n\u001b[1;32m    353\u001b[0m                 \u001b[0;32mnot\u001b[0m \u001b[0misinstance\u001b[0m\u001b[0;34m(\u001b[0m\u001b[0mvariable\u001b[0m\u001b[0;34m,\u001b[0m \u001b[0mgraph\u001b[0m\u001b[0;34m.\u001b[0m\u001b[0mConstant\u001b[0m\u001b[0;34m)\u001b[0m \u001b[0;32mand\u001b[0m\u001b[0;34m\u001b[0m\u001b[0m\n",
      "\u001b[0;32m/home/yu/anaconda3/lib/python3.5/site-packages/theano/gof/fg.py\u001b[0m in \u001b[0;36m__import__\u001b[0;34m(self, apply_node, check, reason)\u001b[0m\n\u001b[1;32m    395\u001b[0m                                      % (node.inputs.index(r), str(node)))\n\u001b[1;32m    396\u001b[0m                         \u001b[0merror_msg\u001b[0m \u001b[0;34m+=\u001b[0m \u001b[0mget_variable_trace_string\u001b[0m\u001b[0;34m(\u001b[0m\u001b[0mr\u001b[0m\u001b[0;34m)\u001b[0m\u001b[0;34m\u001b[0m\u001b[0m\n\u001b[0;32m--> 397\u001b[0;31m                         \u001b[0;32mraise\u001b[0m \u001b[0mMissingInputError\u001b[0m\u001b[0;34m(\u001b[0m\u001b[0merror_msg\u001b[0m\u001b[0;34m,\u001b[0m \u001b[0mvariable\u001b[0m\u001b[0;34m=\u001b[0m\u001b[0mr\u001b[0m\u001b[0;34m)\u001b[0m\u001b[0;34m\u001b[0m\u001b[0m\n\u001b[0m\u001b[1;32m    398\u001b[0m \u001b[0;34m\u001b[0m\u001b[0m\n\u001b[1;32m    399\u001b[0m         \u001b[0;32mfor\u001b[0m \u001b[0mnode\u001b[0m \u001b[0;32min\u001b[0m \u001b[0mnew_nodes\u001b[0m\u001b[0;34m:\u001b[0m\u001b[0;34m\u001b[0m\u001b[0m\n",
      "\u001b[0;31mMissingInputError\u001b[0m: Input 0 of the graph (indices start from 0), used to compute Elemwise{mul,no_inplace}(y, Elemwise{log,no_inplace}.0), was not provided and not given a value. Use the Theano flag exception_verbosity='high', for more information on this error. \nBacktrace when that variable is created:\n\n  File \"/home/yu/anaconda3/lib/python3.5/site-packages/ipykernel/kernelbase.py\", line 399, in execute_request\n    user_expressions, allow_stdin)\n  File \"/home/yu/anaconda3/lib/python3.5/site-packages/ipykernel/ipkernel.py\", line 196, in do_execute\n    res = shell.run_cell(code, store_history=store_history, silent=silent)\n  File \"/home/yu/anaconda3/lib/python3.5/site-packages/ipykernel/zmqshell.py\", line 533, in run_cell\n    return super(ZMQInteractiveShell, self).run_cell(*args, **kwargs)\n  File \"/home/yu/anaconda3/lib/python3.5/site-packages/IPython/core/interactiveshell.py\", line 2683, in run_cell\n    interactivity=interactivity, compiler=compiler, result=result)\n  File \"/home/yu/anaconda3/lib/python3.5/site-packages/IPython/core/interactiveshell.py\", line 2787, in run_ast_nodes\n    if self.run_code(code, result):\n  File \"/home/yu/anaconda3/lib/python3.5/site-packages/IPython/core/interactiveshell.py\", line 2847, in run_code\n    exec(code_obj, self.user_global_ns, self.user_ns)\n  File \"<ipython-input-2-2293143216a8>\", line 6, in <module>\n    o.set_variables()\n  File \"/home/yu/jupyter/Optimizer_with_theano/src/Optimizer.py\", line 112, in set_variables\n    self.y = T.matrix(\"y\")\n\n\nBacktrace when the variable is created:\n  File \"/home/yu/anaconda3/lib/python3.5/site-packages/ipykernel/kernelbase.py\", line 399, in execute_request\n    user_expressions, allow_stdin)\n  File \"/home/yu/anaconda3/lib/python3.5/site-packages/ipykernel/ipkernel.py\", line 196, in do_execute\n    res = shell.run_cell(code, store_history=store_history, silent=silent)\n  File \"/home/yu/anaconda3/lib/python3.5/site-packages/ipykernel/zmqshell.py\", line 533, in run_cell\n    return super(ZMQInteractiveShell, self).run_cell(*args, **kwargs)\n  File \"/home/yu/anaconda3/lib/python3.5/site-packages/IPython/core/interactiveshell.py\", line 2683, in run_cell\n    interactivity=interactivity, compiler=compiler, result=result)\n  File \"/home/yu/anaconda3/lib/python3.5/site-packages/IPython/core/interactiveshell.py\", line 2787, in run_ast_nodes\n    if self.run_code(code, result):\n  File \"/home/yu/anaconda3/lib/python3.5/site-packages/IPython/core/interactiveshell.py\", line 2847, in run_code\n    exec(code_obj, self.user_global_ns, self.user_ns)\n  File \"<ipython-input-2-2293143216a8>\", line 6, in <module>\n    o.set_variables()\n  File \"/home/yu/jupyter/Optimizer_with_theano/src/Optimizer.py\", line 112, in set_variables\n    self.y = T.matrix(\"y\")\n"
     ]
    }
   ],
   "source": [
    "o.loss.eval({o.x:o.x_train_arr})"
   ]
  },
  {
   "cell_type": "code",
   "execution_count": null,
   "metadata": {
    "collapsed": true
   },
   "outputs": [],
   "source": []
  },
  {
   "cell_type": "code",
   "execution_count": 18,
   "metadata": {},
   "outputs": [
    {
     "ename": "UnusedInputError",
     "evalue": "theano.function was asked to create a function computing outputs given certain inputs, but the provided input variable at index 0 is not part of the computational graph needed to compute the outputs: InplaceDimShuffle{0,x}.0.\nTo make this error into a warning, you can pass the parameter on_unused_input='warn' to theano.function. To disable it completely, use on_unused_input='ignore'.",
     "output_type": "error",
     "traceback": [
      "\u001b[0;31m---------------------------------------------------------------------------\u001b[0m",
      "\u001b[0;31mUnusedInputError\u001b[0m                          Traceback (most recent call last)",
      "\u001b[0;32m<ipython-input-18-6794f98d8612>\u001b[0m in \u001b[0;36m<module>\u001b[0;34m()\u001b[0m\n\u001b[0;32m----> 1\u001b[0;31m \u001b[0mo\u001b[0m\u001b[0;34m.\u001b[0m\u001b[0mloss\u001b[0m\u001b[0;34m.\u001b[0m\u001b[0meval\u001b[0m\u001b[0;34m(\u001b[0m\u001b[0;34m{\u001b[0m\u001b[0mo\u001b[0m\u001b[0;34m.\u001b[0m\u001b[0my\u001b[0m\u001b[0;34m:\u001b[0m\u001b[0mo\u001b[0m\u001b[0;34m.\u001b[0m\u001b[0my_train_arr\u001b[0m\u001b[0;34m}\u001b[0m\u001b[0;34m)\u001b[0m\u001b[0;34m\u001b[0m\u001b[0m\n\u001b[0m",
      "\u001b[0;32m/home/yu/anaconda3/lib/python3.5/site-packages/theano/gof/graph.py\u001b[0m in \u001b[0;36meval\u001b[0;34m(self, inputs_to_values)\u001b[0m\n\u001b[1;32m    514\u001b[0m         \u001b[0minputs\u001b[0m \u001b[0;34m=\u001b[0m \u001b[0mtuple\u001b[0m\u001b[0;34m(\u001b[0m\u001b[0msorted\u001b[0m\u001b[0;34m(\u001b[0m\u001b[0minputs_to_values\u001b[0m\u001b[0;34m.\u001b[0m\u001b[0mkeys\u001b[0m\u001b[0;34m(\u001b[0m\u001b[0;34m)\u001b[0m\u001b[0;34m,\u001b[0m \u001b[0mkey\u001b[0m\u001b[0;34m=\u001b[0m\u001b[0mid\u001b[0m\u001b[0;34m)\u001b[0m\u001b[0;34m)\u001b[0m\u001b[0;34m\u001b[0m\u001b[0m\n\u001b[1;32m    515\u001b[0m         \u001b[0;32mif\u001b[0m \u001b[0minputs\u001b[0m \u001b[0;32mnot\u001b[0m \u001b[0;32min\u001b[0m \u001b[0mself\u001b[0m\u001b[0;34m.\u001b[0m\u001b[0m_fn_cache\u001b[0m\u001b[0;34m:\u001b[0m\u001b[0;34m\u001b[0m\u001b[0m\n\u001b[0;32m--> 516\u001b[0;31m             \u001b[0mself\u001b[0m\u001b[0;34m.\u001b[0m\u001b[0m_fn_cache\u001b[0m\u001b[0;34m[\u001b[0m\u001b[0minputs\u001b[0m\u001b[0;34m]\u001b[0m \u001b[0;34m=\u001b[0m \u001b[0mtheano\u001b[0m\u001b[0;34m.\u001b[0m\u001b[0mfunction\u001b[0m\u001b[0;34m(\u001b[0m\u001b[0minputs\u001b[0m\u001b[0;34m,\u001b[0m \u001b[0mself\u001b[0m\u001b[0;34m)\u001b[0m\u001b[0;34m\u001b[0m\u001b[0m\n\u001b[0m\u001b[1;32m    517\u001b[0m         \u001b[0margs\u001b[0m \u001b[0;34m=\u001b[0m \u001b[0;34m[\u001b[0m\u001b[0minputs_to_values\u001b[0m\u001b[0;34m[\u001b[0m\u001b[0mparam\u001b[0m\u001b[0;34m]\u001b[0m \u001b[0;32mfor\u001b[0m \u001b[0mparam\u001b[0m \u001b[0;32min\u001b[0m \u001b[0minputs\u001b[0m\u001b[0;34m]\u001b[0m\u001b[0;34m\u001b[0m\u001b[0m\n\u001b[1;32m    518\u001b[0m \u001b[0;34m\u001b[0m\u001b[0m\n",
      "\u001b[0;32m/home/yu/anaconda3/lib/python3.5/site-packages/theano/compile/function.py\u001b[0m in \u001b[0;36mfunction\u001b[0;34m(inputs, outputs, mode, updates, givens, no_default_updates, accept_inplace, name, rebuild_strict, allow_input_downcast, profile, on_unused_input)\u001b[0m\n\u001b[1;32m    324\u001b[0m                    \u001b[0mon_unused_input\u001b[0m\u001b[0;34m=\u001b[0m\u001b[0mon_unused_input\u001b[0m\u001b[0;34m,\u001b[0m\u001b[0;34m\u001b[0m\u001b[0m\n\u001b[1;32m    325\u001b[0m                    \u001b[0mprofile\u001b[0m\u001b[0;34m=\u001b[0m\u001b[0mprofile\u001b[0m\u001b[0;34m,\u001b[0m\u001b[0;34m\u001b[0m\u001b[0m\n\u001b[0;32m--> 326\u001b[0;31m                    output_keys=output_keys)\n\u001b[0m\u001b[1;32m    327\u001b[0m     \u001b[0;31m# We need to add the flag check_aliased inputs if we have any mutable or\u001b[0m\u001b[0;34m\u001b[0m\u001b[0;34m\u001b[0m\u001b[0m\n\u001b[1;32m    328\u001b[0m     \u001b[0;31m# borrowed used defined inputs\u001b[0m\u001b[0;34m\u001b[0m\u001b[0;34m\u001b[0m\u001b[0m\n",
      "\u001b[0;32m/home/yu/anaconda3/lib/python3.5/site-packages/theano/compile/pfunc.py\u001b[0m in \u001b[0;36mpfunc\u001b[0;34m(params, outputs, mode, updates, givens, no_default_updates, accept_inplace, name, rebuild_strict, allow_input_downcast, profile, on_unused_input, output_keys)\u001b[0m\n\u001b[1;32m    484\u001b[0m                          \u001b[0maccept_inplace\u001b[0m\u001b[0;34m=\u001b[0m\u001b[0maccept_inplace\u001b[0m\u001b[0;34m,\u001b[0m \u001b[0mname\u001b[0m\u001b[0;34m=\u001b[0m\u001b[0mname\u001b[0m\u001b[0;34m,\u001b[0m\u001b[0;34m\u001b[0m\u001b[0m\n\u001b[1;32m    485\u001b[0m                          \u001b[0mprofile\u001b[0m\u001b[0;34m=\u001b[0m\u001b[0mprofile\u001b[0m\u001b[0;34m,\u001b[0m \u001b[0mon_unused_input\u001b[0m\u001b[0;34m=\u001b[0m\u001b[0mon_unused_input\u001b[0m\u001b[0;34m,\u001b[0m\u001b[0;34m\u001b[0m\u001b[0m\n\u001b[0;32m--> 486\u001b[0;31m                          output_keys=output_keys)\n\u001b[0m\u001b[1;32m    487\u001b[0m \u001b[0;34m\u001b[0m\u001b[0m\n\u001b[1;32m    488\u001b[0m \u001b[0;34m\u001b[0m\u001b[0m\n",
      "\u001b[0;32m/home/yu/anaconda3/lib/python3.5/site-packages/theano/compile/function_module.py\u001b[0m in \u001b[0;36morig_function\u001b[0;34m(inputs, outputs, mode, accept_inplace, name, profile, on_unused_input, output_keys)\u001b[0m\n\u001b[1;32m   1792\u001b[0m                    \u001b[0mprofile\u001b[0m\u001b[0;34m=\u001b[0m\u001b[0mprofile\u001b[0m\u001b[0;34m,\u001b[0m\u001b[0;34m\u001b[0m\u001b[0m\n\u001b[1;32m   1793\u001b[0m                    \u001b[0mon_unused_input\u001b[0m\u001b[0;34m=\u001b[0m\u001b[0mon_unused_input\u001b[0m\u001b[0;34m,\u001b[0m\u001b[0;34m\u001b[0m\u001b[0m\n\u001b[0;32m-> 1794\u001b[0;31m                    \u001b[0moutput_keys\u001b[0m\u001b[0;34m=\u001b[0m\u001b[0moutput_keys\u001b[0m\u001b[0;34m)\u001b[0m\u001b[0;34m.\u001b[0m\u001b[0mcreate\u001b[0m\u001b[0;34m(\u001b[0m\u001b[0;34m\u001b[0m\u001b[0m\n\u001b[0m\u001b[1;32m   1795\u001b[0m             defaults)\n\u001b[1;32m   1796\u001b[0m \u001b[0;34m\u001b[0m\u001b[0m\n",
      "\u001b[0;32m/home/yu/anaconda3/lib/python3.5/site-packages/theano/compile/function_module.py\u001b[0m in \u001b[0;36m__init__\u001b[0;34m(self, inputs, outputs, mode, accept_inplace, function_builder, profile, on_unused_input, fgraph, output_keys)\u001b[0m\n\u001b[1;32m   1431\u001b[0m \u001b[0;34m\u001b[0m\u001b[0m\n\u001b[1;32m   1432\u001b[0m         \u001b[0;31m# Check if some input variables are unused\u001b[0m\u001b[0;34m\u001b[0m\u001b[0;34m\u001b[0m\u001b[0m\n\u001b[0;32m-> 1433\u001b[0;31m         \u001b[0mself\u001b[0m\u001b[0;34m.\u001b[0m\u001b[0m_check_unused_inputs\u001b[0m\u001b[0;34m(\u001b[0m\u001b[0minputs\u001b[0m\u001b[0;34m,\u001b[0m \u001b[0moutputs\u001b[0m\u001b[0;34m,\u001b[0m \u001b[0mon_unused_input\u001b[0m\u001b[0;34m)\u001b[0m\u001b[0;34m\u001b[0m\u001b[0m\n\u001b[0m\u001b[1;32m   1434\u001b[0m \u001b[0;34m\u001b[0m\u001b[0m\n\u001b[1;32m   1435\u001b[0m         \u001b[0;31m# Make a list of (SymbolicInput|SymblicInputKits, indices,\u001b[0m\u001b[0;34m\u001b[0m\u001b[0;34m\u001b[0m\u001b[0m\n",
      "\u001b[0;32m/home/yu/anaconda3/lib/python3.5/site-packages/theano/compile/function_module.py\u001b[0m in \u001b[0;36m_check_unused_inputs\u001b[0;34m(self, inputs, outputs, on_unused_input)\u001b[0m\n\u001b[1;32m   1571\u001b[0m                 \u001b[0;32melif\u001b[0m \u001b[0mon_unused_input\u001b[0m \u001b[0;34m==\u001b[0m \u001b[0;34m'raise'\u001b[0m\u001b[0;34m:\u001b[0m\u001b[0;34m\u001b[0m\u001b[0m\n\u001b[1;32m   1572\u001b[0m                     raise UnusedInputError(msg % (inputs.index(i),\n\u001b[0;32m-> 1573\u001b[0;31m                                                   i.variable, err_msg))\n\u001b[0m\u001b[1;32m   1574\u001b[0m                 \u001b[0;32melse\u001b[0m\u001b[0;34m:\u001b[0m\u001b[0;34m\u001b[0m\u001b[0m\n\u001b[1;32m   1575\u001b[0m                     raise ValueError(\"Invalid value for keyword \"\n",
      "\u001b[0;31mUnusedInputError\u001b[0m: theano.function was asked to create a function computing outputs given certain inputs, but the provided input variable at index 0 is not part of the computational graph needed to compute the outputs: InplaceDimShuffle{0,x}.0.\nTo make this error into a warning, you can pass the parameter on_unused_input='warn' to theano.function. To disable it completely, use on_unused_input='ignore'."
     ]
    }
   ],
   "source": [
    "o.loss.eval({o.y:o.y_train_arr})"
   ]
  },
  {
   "cell_type": "code",
   "execution_count": null,
   "metadata": {
    "collapsed": true
   },
   "outputs": [],
   "source": []
  }
 ],
 "metadata": {
  "anaconda-cloud": {},
  "kernelspec": {
   "display_name": "Python 3",
   "language": "python",
   "name": "python3"
  },
  "language_info": {
   "codemirror_mode": {
    "name": "ipython",
    "version": 3
   },
   "file_extension": ".py",
   "mimetype": "text/x-python",
   "name": "python",
   "nbconvert_exporter": "python",
   "pygments_lexer": "ipython3",
   "version": "3.5.2"
  }
 },
 "nbformat": 4,
 "nbformat_minor": 2
}
